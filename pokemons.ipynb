{
 "cells": [
  {
   "cell_type": "markdown",
   "id": "62b9654d",
   "metadata": {},
   "source": [
    "##### Pokémmons: Franquia centrada em criaturas ficcionais que os seres humanos capturam e os treinam para lutarem entre si com seus ataques de diversos tipos. Criada em 1995\n",
    "\n",
    "###### Poke = Pocket | Mon = Monster | Pocket Monster \n",
    "\n",
    "###### Jogos, Cartas Colecionáveis, Série de televisão, filmes, mangás e Brinquedos\n",
    "\n",
    "###### Segunda maior franquia de mídia de jogos mais bem sucedida da história\n",
    "\n",
    "###### Pertence a Nintendo\n",
    "\n",
    "###### Objetivos dos treinadores Pokemon: 1- Colecionar todas as espécies de pokemon| 2- Treinar a melhor equipe de pokemons para se tornar o treinador mais forte\n",
    "\n",
    "###### (Pré-suposto que os nossos adversários são apenas as equipes do geração caldeira, as análises foram baseadas em equipes de pokemons em nível inicial)\n",
    "\n",
    "###### Speed: Característica mais importante , against equilibrado, ataque e defesa\n",
    "\n",
    "###### Cada jogo apresenta um caminho linear através de uma região específica do mundo Pokémon para o Treinador viajar, competindo em eventos e batalhando contra oponentes ao longo do caminho"
   ]
  },
  {
   "cell_type": "code",
   "execution_count": 1,
   "id": "d76b0f21",
   "metadata": {},
   "outputs": [
    {
     "data": {
      "text/html": [
       "<div>\n",
       "<style scoped>\n",
       "    .dataframe tbody tr th:only-of-type {\n",
       "        vertical-align: middle;\n",
       "    }\n",
       "\n",
       "    .dataframe tbody tr th {\n",
       "        vertical-align: top;\n",
       "    }\n",
       "\n",
       "    .dataframe thead th {\n",
       "        text-align: right;\n",
       "    }\n",
       "</style>\n",
       "<table border=\"1\" class=\"dataframe\">\n",
       "  <thead>\n",
       "    <tr style=\"text-align: right;\">\n",
       "      <th></th>\n",
       "      <th>Unnamed: 0</th>\n",
       "      <th>pokedex_number</th>\n",
       "      <th>name</th>\n",
       "      <th>generation</th>\n",
       "      <th>status</th>\n",
       "      <th>species</th>\n",
       "      <th>type_number</th>\n",
       "      <th>type_1</th>\n",
       "      <th>hp</th>\n",
       "      <th>attack</th>\n",
       "      <th>...</th>\n",
       "      <th>against_ground</th>\n",
       "      <th>against_flying</th>\n",
       "      <th>against_psychic</th>\n",
       "      <th>against_bug</th>\n",
       "      <th>against_rock</th>\n",
       "      <th>against_ghost</th>\n",
       "      <th>against_dragon</th>\n",
       "      <th>against_dark</th>\n",
       "      <th>against_steel</th>\n",
       "      <th>against_fairy</th>\n",
       "    </tr>\n",
       "  </thead>\n",
       "  <tbody>\n",
       "    <tr>\n",
       "      <th>0</th>\n",
       "      <td>0</td>\n",
       "      <td>1</td>\n",
       "      <td>Bulbasaur</td>\n",
       "      <td>1</td>\n",
       "      <td>Normal</td>\n",
       "      <td>Seed Pokémon</td>\n",
       "      <td>2</td>\n",
       "      <td>Grass</td>\n",
       "      <td>45.0</td>\n",
       "      <td>49.0</td>\n",
       "      <td>...</td>\n",
       "      <td>1.0</td>\n",
       "      <td>2.0</td>\n",
       "      <td>2.0</td>\n",
       "      <td>1.0</td>\n",
       "      <td>1.0</td>\n",
       "      <td>1.0</td>\n",
       "      <td>1.0</td>\n",
       "      <td>1.0</td>\n",
       "      <td>1.0</td>\n",
       "      <td>0.5</td>\n",
       "    </tr>\n",
       "    <tr>\n",
       "      <th>1</th>\n",
       "      <td>1</td>\n",
       "      <td>2</td>\n",
       "      <td>Ivysaur</td>\n",
       "      <td>1</td>\n",
       "      <td>Normal</td>\n",
       "      <td>Seed Pokémon</td>\n",
       "      <td>2</td>\n",
       "      <td>Grass</td>\n",
       "      <td>60.0</td>\n",
       "      <td>62.0</td>\n",
       "      <td>...</td>\n",
       "      <td>1.0</td>\n",
       "      <td>2.0</td>\n",
       "      <td>2.0</td>\n",
       "      <td>1.0</td>\n",
       "      <td>1.0</td>\n",
       "      <td>1.0</td>\n",
       "      <td>1.0</td>\n",
       "      <td>1.0</td>\n",
       "      <td>1.0</td>\n",
       "      <td>0.5</td>\n",
       "    </tr>\n",
       "    <tr>\n",
       "      <th>2</th>\n",
       "      <td>2</td>\n",
       "      <td>3</td>\n",
       "      <td>Venusaur</td>\n",
       "      <td>1</td>\n",
       "      <td>Normal</td>\n",
       "      <td>Seed Pokémon</td>\n",
       "      <td>2</td>\n",
       "      <td>Grass</td>\n",
       "      <td>80.0</td>\n",
       "      <td>82.0</td>\n",
       "      <td>...</td>\n",
       "      <td>1.0</td>\n",
       "      <td>2.0</td>\n",
       "      <td>2.0</td>\n",
       "      <td>1.0</td>\n",
       "      <td>1.0</td>\n",
       "      <td>1.0</td>\n",
       "      <td>1.0</td>\n",
       "      <td>1.0</td>\n",
       "      <td>1.0</td>\n",
       "      <td>0.5</td>\n",
       "    </tr>\n",
       "    <tr>\n",
       "      <th>3</th>\n",
       "      <td>4</td>\n",
       "      <td>4</td>\n",
       "      <td>Charmander</td>\n",
       "      <td>1</td>\n",
       "      <td>Normal</td>\n",
       "      <td>Lizard Pokémon</td>\n",
       "      <td>1</td>\n",
       "      <td>Fire</td>\n",
       "      <td>39.0</td>\n",
       "      <td>52.0</td>\n",
       "      <td>...</td>\n",
       "      <td>2.0</td>\n",
       "      <td>1.0</td>\n",
       "      <td>1.0</td>\n",
       "      <td>0.5</td>\n",
       "      <td>2.0</td>\n",
       "      <td>1.0</td>\n",
       "      <td>1.0</td>\n",
       "      <td>1.0</td>\n",
       "      <td>0.5</td>\n",
       "      <td>0.5</td>\n",
       "    </tr>\n",
       "    <tr>\n",
       "      <th>4</th>\n",
       "      <td>5</td>\n",
       "      <td>5</td>\n",
       "      <td>Charmeleon</td>\n",
       "      <td>1</td>\n",
       "      <td>Normal</td>\n",
       "      <td>Flame Pokémon</td>\n",
       "      <td>1</td>\n",
       "      <td>Fire</td>\n",
       "      <td>58.0</td>\n",
       "      <td>64.0</td>\n",
       "      <td>...</td>\n",
       "      <td>2.0</td>\n",
       "      <td>1.0</td>\n",
       "      <td>1.0</td>\n",
       "      <td>0.5</td>\n",
       "      <td>2.0</td>\n",
       "      <td>1.0</td>\n",
       "      <td>1.0</td>\n",
       "      <td>1.0</td>\n",
       "      <td>0.5</td>\n",
       "      <td>0.5</td>\n",
       "    </tr>\n",
       "    <tr>\n",
       "      <th>...</th>\n",
       "      <td>...</td>\n",
       "      <td>...</td>\n",
       "      <td>...</td>\n",
       "      <td>...</td>\n",
       "      <td>...</td>\n",
       "      <td>...</td>\n",
       "      <td>...</td>\n",
       "      <td>...</td>\n",
       "      <td>...</td>\n",
       "      <td>...</td>\n",
       "      <td>...</td>\n",
       "      <td>...</td>\n",
       "      <td>...</td>\n",
       "      <td>...</td>\n",
       "      <td>...</td>\n",
       "      <td>...</td>\n",
       "      <td>...</td>\n",
       "      <td>...</td>\n",
       "      <td>...</td>\n",
       "      <td>...</td>\n",
       "      <td>...</td>\n",
       "    </tr>\n",
       "    <tr>\n",
       "      <th>867</th>\n",
       "      <td>1017</td>\n",
       "      <td>883</td>\n",
       "      <td>Arctovish</td>\n",
       "      <td>8</td>\n",
       "      <td>Normal</td>\n",
       "      <td>Fossil Pokémon</td>\n",
       "      <td>2</td>\n",
       "      <td>Water</td>\n",
       "      <td>90.0</td>\n",
       "      <td>90.0</td>\n",
       "      <td>...</td>\n",
       "      <td>1.0</td>\n",
       "      <td>1.0</td>\n",
       "      <td>1.0</td>\n",
       "      <td>1.0</td>\n",
       "      <td>2.0</td>\n",
       "      <td>1.0</td>\n",
       "      <td>1.0</td>\n",
       "      <td>1.0</td>\n",
       "      <td>1.0</td>\n",
       "      <td>1.0</td>\n",
       "    </tr>\n",
       "    <tr>\n",
       "      <th>868</th>\n",
       "      <td>1018</td>\n",
       "      <td>884</td>\n",
       "      <td>Duraludon</td>\n",
       "      <td>8</td>\n",
       "      <td>Normal</td>\n",
       "      <td>Alloy Pokémon</td>\n",
       "      <td>2</td>\n",
       "      <td>Steel</td>\n",
       "      <td>70.0</td>\n",
       "      <td>95.0</td>\n",
       "      <td>...</td>\n",
       "      <td>2.0</td>\n",
       "      <td>0.5</td>\n",
       "      <td>0.5</td>\n",
       "      <td>0.5</td>\n",
       "      <td>0.5</td>\n",
       "      <td>1.0</td>\n",
       "      <td>1.0</td>\n",
       "      <td>1.0</td>\n",
       "      <td>0.5</td>\n",
       "      <td>1.0</td>\n",
       "    </tr>\n",
       "    <tr>\n",
       "      <th>869</th>\n",
       "      <td>1019</td>\n",
       "      <td>885</td>\n",
       "      <td>Dreepy</td>\n",
       "      <td>8</td>\n",
       "      <td>Normal</td>\n",
       "      <td>Lingering Pokémon</td>\n",
       "      <td>2</td>\n",
       "      <td>Dragon</td>\n",
       "      <td>28.0</td>\n",
       "      <td>60.0</td>\n",
       "      <td>...</td>\n",
       "      <td>1.0</td>\n",
       "      <td>1.0</td>\n",
       "      <td>1.0</td>\n",
       "      <td>0.5</td>\n",
       "      <td>1.0</td>\n",
       "      <td>2.0</td>\n",
       "      <td>2.0</td>\n",
       "      <td>2.0</td>\n",
       "      <td>1.0</td>\n",
       "      <td>2.0</td>\n",
       "    </tr>\n",
       "    <tr>\n",
       "      <th>870</th>\n",
       "      <td>1020</td>\n",
       "      <td>886</td>\n",
       "      <td>Drakloak</td>\n",
       "      <td>8</td>\n",
       "      <td>Normal</td>\n",
       "      <td>Caretaker Pokémon</td>\n",
       "      <td>2</td>\n",
       "      <td>Dragon</td>\n",
       "      <td>68.0</td>\n",
       "      <td>80.0</td>\n",
       "      <td>...</td>\n",
       "      <td>1.0</td>\n",
       "      <td>1.0</td>\n",
       "      <td>1.0</td>\n",
       "      <td>0.5</td>\n",
       "      <td>1.0</td>\n",
       "      <td>2.0</td>\n",
       "      <td>2.0</td>\n",
       "      <td>2.0</td>\n",
       "      <td>1.0</td>\n",
       "      <td>2.0</td>\n",
       "    </tr>\n",
       "    <tr>\n",
       "      <th>871</th>\n",
       "      <td>1021</td>\n",
       "      <td>887</td>\n",
       "      <td>Dragapult</td>\n",
       "      <td>8</td>\n",
       "      <td>Normal</td>\n",
       "      <td>Stealth Pokémon</td>\n",
       "      <td>2</td>\n",
       "      <td>Dragon</td>\n",
       "      <td>88.0</td>\n",
       "      <td>120.0</td>\n",
       "      <td>...</td>\n",
       "      <td>1.0</td>\n",
       "      <td>1.0</td>\n",
       "      <td>1.0</td>\n",
       "      <td>0.5</td>\n",
       "      <td>1.0</td>\n",
       "      <td>2.0</td>\n",
       "      <td>2.0</td>\n",
       "      <td>2.0</td>\n",
       "      <td>1.0</td>\n",
       "      <td>2.0</td>\n",
       "    </tr>\n",
       "  </tbody>\n",
       "</table>\n",
       "<p>872 rows × 30 columns</p>\n",
       "</div>"
      ],
      "text/plain": [
       "     Unnamed: 0  pokedex_number        name  generation  status  \\\n",
       "0             0               1   Bulbasaur           1  Normal   \n",
       "1             1               2     Ivysaur           1  Normal   \n",
       "2             2               3    Venusaur           1  Normal   \n",
       "3             4               4  Charmander           1  Normal   \n",
       "4             5               5  Charmeleon           1  Normal   \n",
       "..          ...             ...         ...         ...     ...   \n",
       "867        1017             883   Arctovish           8  Normal   \n",
       "868        1018             884   Duraludon           8  Normal   \n",
       "869        1019             885      Dreepy           8  Normal   \n",
       "870        1020             886    Drakloak           8  Normal   \n",
       "871        1021             887   Dragapult           8  Normal   \n",
       "\n",
       "               species  type_number  type_1    hp  attack  ...  \\\n",
       "0         Seed Pokémon            2   Grass  45.0    49.0  ...   \n",
       "1         Seed Pokémon            2   Grass  60.0    62.0  ...   \n",
       "2         Seed Pokémon            2   Grass  80.0    82.0  ...   \n",
       "3       Lizard Pokémon            1    Fire  39.0    52.0  ...   \n",
       "4        Flame Pokémon            1    Fire  58.0    64.0  ...   \n",
       "..                 ...          ...     ...   ...     ...  ...   \n",
       "867     Fossil Pokémon            2   Water  90.0    90.0  ...   \n",
       "868      Alloy Pokémon            2   Steel  70.0    95.0  ...   \n",
       "869  Lingering Pokémon            2  Dragon  28.0    60.0  ...   \n",
       "870  Caretaker Pokémon            2  Dragon  68.0    80.0  ...   \n",
       "871    Stealth Pokémon            2  Dragon  88.0   120.0  ...   \n",
       "\n",
       "     against_ground  against_flying  against_psychic  against_bug  \\\n",
       "0               1.0             2.0              2.0          1.0   \n",
       "1               1.0             2.0              2.0          1.0   \n",
       "2               1.0             2.0              2.0          1.0   \n",
       "3               2.0             1.0              1.0          0.5   \n",
       "4               2.0             1.0              1.0          0.5   \n",
       "..              ...             ...              ...          ...   \n",
       "867             1.0             1.0              1.0          1.0   \n",
       "868             2.0             0.5              0.5          0.5   \n",
       "869             1.0             1.0              1.0          0.5   \n",
       "870             1.0             1.0              1.0          0.5   \n",
       "871             1.0             1.0              1.0          0.5   \n",
       "\n",
       "     against_rock  against_ghost  against_dragon  against_dark  against_steel  \\\n",
       "0             1.0            1.0             1.0           1.0            1.0   \n",
       "1             1.0            1.0             1.0           1.0            1.0   \n",
       "2             1.0            1.0             1.0           1.0            1.0   \n",
       "3             2.0            1.0             1.0           1.0            0.5   \n",
       "4             2.0            1.0             1.0           1.0            0.5   \n",
       "..            ...            ...             ...           ...            ...   \n",
       "867           2.0            1.0             1.0           1.0            1.0   \n",
       "868           0.5            1.0             1.0           1.0            0.5   \n",
       "869           1.0            2.0             2.0           2.0            1.0   \n",
       "870           1.0            2.0             2.0           2.0            1.0   \n",
       "871           1.0            2.0             2.0           2.0            1.0   \n",
       "\n",
       "     against_fairy  \n",
       "0              0.5  \n",
       "1              0.5  \n",
       "2              0.5  \n",
       "3              0.5  \n",
       "4              0.5  \n",
       "..             ...  \n",
       "867            1.0  \n",
       "868            1.0  \n",
       "869            2.0  \n",
       "870            2.0  \n",
       "871            2.0  \n",
       "\n",
       "[872 rows x 30 columns]"
      ]
     },
     "execution_count": 1,
     "metadata": {},
     "output_type": "execute_result"
    }
   ],
   "source": [
    "#Metódos utilizados: exploração e visualização de tabelas através de gráficos, ferramentas de seleção de atributos aleatória e ferramentas de re-escala de valores\n",
    "\n",
    "#importando dataset e visualizando\n",
    "import pandas as pd\n",
    "import matplotlib.pyplot as plt\n",
    "import plotly.express as px\n",
    "import plotly.graph_objects as go\n",
    "import random\n",
    "from sklearn.preprocessing import MinMaxScaler\n",
    "import seaborn as sns\n",
    "\n",
    "df_boss_2 = pd.read_csv('df_boss_2.csv')\n",
    "df_boss_2"
   ]
  },
  {
   "cell_type": "code",
   "execution_count": 2,
   "id": "b7f5badd",
   "metadata": {},
   "outputs": [
    {
     "name": "stdout",
     "output_type": "stream",
     "text": [
      "<class 'pandas.core.frame.DataFrame'>\n",
      "RangeIndex: 872 entries, 0 to 871\n",
      "Data columns (total 30 columns):\n",
      " #   Column            Non-Null Count  Dtype  \n",
      "---  ------            --------------  -----  \n",
      " 0   Unnamed: 0        872 non-null    int64  \n",
      " 1   pokedex_number    872 non-null    int64  \n",
      " 2   name              872 non-null    object \n",
      " 3   generation        872 non-null    int64  \n",
      " 4   status            872 non-null    object \n",
      " 5   species           872 non-null    object \n",
      " 6   type_number       872 non-null    int64  \n",
      " 7   type_1            872 non-null    object \n",
      " 8   hp                872 non-null    float64\n",
      " 9   attack            872 non-null    float64\n",
      " 10  defense           872 non-null    float64\n",
      " 11  speed             872 non-null    float64\n",
      " 12  against_normal    872 non-null    float64\n",
      " 13  against_fire      872 non-null    float64\n",
      " 14  against_water     872 non-null    float64\n",
      " 15  against_electric  872 non-null    float64\n",
      " 16  against_grass     872 non-null    float64\n",
      " 17  against_ice       872 non-null    float64\n",
      " 18  against_fight     872 non-null    float64\n",
      " 19  against_poison    872 non-null    float64\n",
      " 20  against_ground    872 non-null    float64\n",
      " 21  against_flying    872 non-null    float64\n",
      " 22  against_psychic   872 non-null    float64\n",
      " 23  against_bug       872 non-null    float64\n",
      " 24  against_rock      872 non-null    float64\n",
      " 25  against_ghost     872 non-null    float64\n",
      " 26  against_dragon    872 non-null    float64\n",
      " 27  against_dark      872 non-null    float64\n",
      " 28  against_steel     872 non-null    float64\n",
      " 29  against_fairy     872 non-null    float64\n",
      "dtypes: float64(22), int64(4), object(4)\n",
      "memory usage: 204.5+ KB\n"
     ]
    }
   ],
   "source": [
    "df_boss_2.info()"
   ]
  },
  {
   "cell_type": "code",
   "execution_count": 3,
   "id": "9210b0af",
   "metadata": {},
   "outputs": [
    {
     "data": {
      "text/html": [
       "<div>\n",
       "<style scoped>\n",
       "    .dataframe tbody tr th:only-of-type {\n",
       "        vertical-align: middle;\n",
       "    }\n",
       "\n",
       "    .dataframe tbody tr th {\n",
       "        vertical-align: top;\n",
       "    }\n",
       "\n",
       "    .dataframe thead th {\n",
       "        text-align: right;\n",
       "    }\n",
       "</style>\n",
       "<table border=\"1\" class=\"dataframe\">\n",
       "  <thead>\n",
       "    <tr style=\"text-align: right;\">\n",
       "      <th></th>\n",
       "      <th>Unnamed: 0</th>\n",
       "      <th>pokedex_number</th>\n",
       "      <th>generation</th>\n",
       "      <th>type_number</th>\n",
       "      <th>hp</th>\n",
       "      <th>attack</th>\n",
       "      <th>defense</th>\n",
       "      <th>speed</th>\n",
       "      <th>against_normal</th>\n",
       "      <th>against_fire</th>\n",
       "      <th>...</th>\n",
       "      <th>against_ground</th>\n",
       "      <th>against_flying</th>\n",
       "      <th>against_psychic</th>\n",
       "      <th>against_bug</th>\n",
       "      <th>against_rock</th>\n",
       "      <th>against_ghost</th>\n",
       "      <th>against_dragon</th>\n",
       "      <th>against_dark</th>\n",
       "      <th>against_steel</th>\n",
       "      <th>against_fairy</th>\n",
       "    </tr>\n",
       "  </thead>\n",
       "  <tbody>\n",
       "    <tr>\n",
       "      <th>count</th>\n",
       "      <td>872.000000</td>\n",
       "      <td>872.000000</td>\n",
       "      <td>872.000000</td>\n",
       "      <td>872.000000</td>\n",
       "      <td>872.000000</td>\n",
       "      <td>872.000000</td>\n",
       "      <td>872.000000</td>\n",
       "      <td>872.000000</td>\n",
       "      <td>872.000000</td>\n",
       "      <td>872.000000</td>\n",
       "      <td>...</td>\n",
       "      <td>872.000000</td>\n",
       "      <td>872.000000</td>\n",
       "      <td>872.000000</td>\n",
       "      <td>872.000000</td>\n",
       "      <td>872.000000</td>\n",
       "      <td>872.000000</td>\n",
       "      <td>872.000000</td>\n",
       "      <td>872.000000</td>\n",
       "      <td>872.000000</td>\n",
       "      <td>872.000000</td>\n",
       "    </tr>\n",
       "    <tr>\n",
       "      <th>mean</th>\n",
       "      <td>502.268349</td>\n",
       "      <td>428.016055</td>\n",
       "      <td>4.001147</td>\n",
       "      <td>1.500000</td>\n",
       "      <td>65.989679</td>\n",
       "      <td>73.941514</td>\n",
       "      <td>69.592890</td>\n",
       "      <td>63.684633</td>\n",
       "      <td>0.873280</td>\n",
       "      <td>1.135894</td>\n",
       "      <td>...</td>\n",
       "      <td>1.081995</td>\n",
       "      <td>1.178039</td>\n",
       "      <td>0.993406</td>\n",
       "      <td>0.992546</td>\n",
       "      <td>1.256881</td>\n",
       "      <td>0.975917</td>\n",
       "      <td>0.966743</td>\n",
       "      <td>1.049885</td>\n",
       "      <td>0.979071</td>\n",
       "      <td>1.064794</td>\n",
       "    </tr>\n",
       "    <tr>\n",
       "      <th>std</th>\n",
       "      <td>297.710578</td>\n",
       "      <td>260.050816</td>\n",
       "      <td>2.257021</td>\n",
       "      <td>0.500287</td>\n",
       "      <td>24.151714</td>\n",
       "      <td>28.189982</td>\n",
       "      <td>28.036193</td>\n",
       "      <td>27.009210</td>\n",
       "      <td>0.284245</td>\n",
       "      <td>0.716499</td>\n",
       "      <td>...</td>\n",
       "      <td>0.783009</td>\n",
       "      <td>0.584601</td>\n",
       "      <td>0.494255</td>\n",
       "      <td>0.583156</td>\n",
       "      <td>0.696542</td>\n",
       "      <td>0.534133</td>\n",
       "      <td>0.339743</td>\n",
       "      <td>0.412498</td>\n",
       "      <td>0.490355</td>\n",
       "      <td>0.512153</td>\n",
       "    </tr>\n",
       "    <tr>\n",
       "      <th>min</th>\n",
       "      <td>0.000000</td>\n",
       "      <td>1.000000</td>\n",
       "      <td>1.000000</td>\n",
       "      <td>1.000000</td>\n",
       "      <td>1.000000</td>\n",
       "      <td>5.000000</td>\n",
       "      <td>5.000000</td>\n",
       "      <td>5.000000</td>\n",
       "      <td>0.000000</td>\n",
       "      <td>0.000000</td>\n",
       "      <td>...</td>\n",
       "      <td>0.000000</td>\n",
       "      <td>0.250000</td>\n",
       "      <td>0.000000</td>\n",
       "      <td>0.000000</td>\n",
       "      <td>0.250000</td>\n",
       "      <td>0.000000</td>\n",
       "      <td>0.000000</td>\n",
       "      <td>0.250000</td>\n",
       "      <td>0.000000</td>\n",
       "      <td>0.000000</td>\n",
       "    </tr>\n",
       "    <tr>\n",
       "      <th>25%</th>\n",
       "      <td>239.750000</td>\n",
       "      <td>198.750000</td>\n",
       "      <td>2.000000</td>\n",
       "      <td>1.000000</td>\n",
       "      <td>50.000000</td>\n",
       "      <td>55.000000</td>\n",
       "      <td>50.000000</td>\n",
       "      <td>43.000000</td>\n",
       "      <td>1.000000</td>\n",
       "      <td>0.500000</td>\n",
       "      <td>...</td>\n",
       "      <td>0.500000</td>\n",
       "      <td>1.000000</td>\n",
       "      <td>1.000000</td>\n",
       "      <td>0.500000</td>\n",
       "      <td>1.000000</td>\n",
       "      <td>1.000000</td>\n",
       "      <td>1.000000</td>\n",
       "      <td>1.000000</td>\n",
       "      <td>0.500000</td>\n",
       "      <td>1.000000</td>\n",
       "    </tr>\n",
       "    <tr>\n",
       "      <th>50%</th>\n",
       "      <td>503.500000</td>\n",
       "      <td>424.500000</td>\n",
       "      <td>4.000000</td>\n",
       "      <td>1.500000</td>\n",
       "      <td>65.000000</td>\n",
       "      <td>70.000000</td>\n",
       "      <td>65.000000</td>\n",
       "      <td>60.000000</td>\n",
       "      <td>1.000000</td>\n",
       "      <td>1.000000</td>\n",
       "      <td>...</td>\n",
       "      <td>1.000000</td>\n",
       "      <td>1.000000</td>\n",
       "      <td>1.000000</td>\n",
       "      <td>1.000000</td>\n",
       "      <td>1.000000</td>\n",
       "      <td>1.000000</td>\n",
       "      <td>1.000000</td>\n",
       "      <td>1.000000</td>\n",
       "      <td>1.000000</td>\n",
       "      <td>1.000000</td>\n",
       "    </tr>\n",
       "    <tr>\n",
       "      <th>75%</th>\n",
       "      <td>763.250000</td>\n",
       "      <td>657.250000</td>\n",
       "      <td>6.000000</td>\n",
       "      <td>2.000000</td>\n",
       "      <td>76.000000</td>\n",
       "      <td>92.000000</td>\n",
       "      <td>85.000000</td>\n",
       "      <td>83.250000</td>\n",
       "      <td>1.000000</td>\n",
       "      <td>2.000000</td>\n",
       "      <td>...</td>\n",
       "      <td>1.000000</td>\n",
       "      <td>1.000000</td>\n",
       "      <td>1.000000</td>\n",
       "      <td>1.000000</td>\n",
       "      <td>2.000000</td>\n",
       "      <td>1.000000</td>\n",
       "      <td>1.000000</td>\n",
       "      <td>1.000000</td>\n",
       "      <td>1.000000</td>\n",
       "      <td>1.000000</td>\n",
       "    </tr>\n",
       "    <tr>\n",
       "      <th>max</th>\n",
       "      <td>1021.000000</td>\n",
       "      <td>887.000000</td>\n",
       "      <td>8.000000</td>\n",
       "      <td>2.000000</td>\n",
       "      <td>255.000000</td>\n",
       "      <td>165.000000</td>\n",
       "      <td>230.000000</td>\n",
       "      <td>160.000000</td>\n",
       "      <td>1.000000</td>\n",
       "      <td>4.000000</td>\n",
       "      <td>...</td>\n",
       "      <td>4.000000</td>\n",
       "      <td>4.000000</td>\n",
       "      <td>4.000000</td>\n",
       "      <td>4.000000</td>\n",
       "      <td>4.000000</td>\n",
       "      <td>2.000000</td>\n",
       "      <td>2.000000</td>\n",
       "      <td>2.000000</td>\n",
       "      <td>4.000000</td>\n",
       "      <td>4.000000</td>\n",
       "    </tr>\n",
       "  </tbody>\n",
       "</table>\n",
       "<p>8 rows × 26 columns</p>\n",
       "</div>"
      ],
      "text/plain": [
       "        Unnamed: 0  pokedex_number  generation  type_number          hp  \\\n",
       "count   872.000000      872.000000  872.000000   872.000000  872.000000   \n",
       "mean    502.268349      428.016055    4.001147     1.500000   65.989679   \n",
       "std     297.710578      260.050816    2.257021     0.500287   24.151714   \n",
       "min       0.000000        1.000000    1.000000     1.000000    1.000000   \n",
       "25%     239.750000      198.750000    2.000000     1.000000   50.000000   \n",
       "50%     503.500000      424.500000    4.000000     1.500000   65.000000   \n",
       "75%     763.250000      657.250000    6.000000     2.000000   76.000000   \n",
       "max    1021.000000      887.000000    8.000000     2.000000  255.000000   \n",
       "\n",
       "           attack     defense       speed  against_normal  against_fire  ...  \\\n",
       "count  872.000000  872.000000  872.000000      872.000000    872.000000  ...   \n",
       "mean    73.941514   69.592890   63.684633        0.873280      1.135894  ...   \n",
       "std     28.189982   28.036193   27.009210        0.284245      0.716499  ...   \n",
       "min      5.000000    5.000000    5.000000        0.000000      0.000000  ...   \n",
       "25%     55.000000   50.000000   43.000000        1.000000      0.500000  ...   \n",
       "50%     70.000000   65.000000   60.000000        1.000000      1.000000  ...   \n",
       "75%     92.000000   85.000000   83.250000        1.000000      2.000000  ...   \n",
       "max    165.000000  230.000000  160.000000        1.000000      4.000000  ...   \n",
       "\n",
       "       against_ground  against_flying  against_psychic  against_bug  \\\n",
       "count      872.000000      872.000000       872.000000   872.000000   \n",
       "mean         1.081995        1.178039         0.993406     0.992546   \n",
       "std          0.783009        0.584601         0.494255     0.583156   \n",
       "min          0.000000        0.250000         0.000000     0.000000   \n",
       "25%          0.500000        1.000000         1.000000     0.500000   \n",
       "50%          1.000000        1.000000         1.000000     1.000000   \n",
       "75%          1.000000        1.000000         1.000000     1.000000   \n",
       "max          4.000000        4.000000         4.000000     4.000000   \n",
       "\n",
       "       against_rock  against_ghost  against_dragon  against_dark  \\\n",
       "count    872.000000     872.000000      872.000000    872.000000   \n",
       "mean       1.256881       0.975917        0.966743      1.049885   \n",
       "std        0.696542       0.534133        0.339743      0.412498   \n",
       "min        0.250000       0.000000        0.000000      0.250000   \n",
       "25%        1.000000       1.000000        1.000000      1.000000   \n",
       "50%        1.000000       1.000000        1.000000      1.000000   \n",
       "75%        2.000000       1.000000        1.000000      1.000000   \n",
       "max        4.000000       2.000000        2.000000      2.000000   \n",
       "\n",
       "       against_steel  against_fairy  \n",
       "count     872.000000     872.000000  \n",
       "mean        0.979071       1.064794  \n",
       "std         0.490355       0.512153  \n",
       "min         0.000000       0.000000  \n",
       "25%         0.500000       1.000000  \n",
       "50%         1.000000       1.000000  \n",
       "75%         1.000000       1.000000  \n",
       "max         4.000000       4.000000  \n",
       "\n",
       "[8 rows x 26 columns]"
      ]
     },
     "execution_count": 3,
     "metadata": {},
     "output_type": "execute_result"
    }
   ],
   "source": [
    "#872 pokemons analisados\n",
    "#          hp\t     attack\t     defense\t  speed\n",
    "# Media:65.989679\t73.941514\t69.592890\t63.684633\t\n",
    "df_boss_2.describe()"
   ]
  },
  {
   "cell_type": "code",
   "execution_count": 4,
   "id": "f1580ede",
   "metadata": {},
   "outputs": [
    {
     "data": {
      "text/plain": [
       "generation\n",
       "1    172\n",
       "5    150\n",
       "3    130\n",
       "4    100\n",
       "2     94\n",
       "8     82\n",
       "6     75\n",
       "7     69\n",
       "Name: count, dtype: int64"
      ]
     },
     "execution_count": 4,
     "metadata": {},
     "output_type": "execute_result"
    }
   ],
   "source": [
    "df_boss_2['generation'].value_counts()"
   ]
  },
  {
   "cell_type": "code",
   "execution_count": 5,
   "id": "ff0777db",
   "metadata": {},
   "outputs": [],
   "source": [
    "# Utilizado os métodos de re-escala nos atributos de ataque, defesa e velocidade. Para assim haver uma comparação mais justa entre cada atributo, levando em conta que todos possuem o mesmo peso para análise\n",
    "\n",
    "\n",
    "scaler = MinMaxScaler()\n",
    "\n",
    "df_boss_2[['attack']] = scaler.fit_transform(df_boss_2[['attack']]) * 100\n",
    "df_boss_2[['defense']] = scaler.fit_transform(df_boss_2[['defense']]) * 100\n",
    "df_boss_2[['speed']] = scaler.fit_transform(df_boss_2[['speed']]) * 100"
   ]
  },
  {
   "cell_type": "markdown",
   "id": "a43b4df8",
   "metadata": {},
   "source": [
    "##### Podemos notar que apesar de algumas gerações se sobressairem sobre as outras em algumas características. Os pokemons ao longo das gerações sempre foram bem balanciados, isso se dá \n",
    "##### por conta dos desenvolvedores e criadores da franquia, que tem o intuito de manter os pokemons mais antigos vivos e utilizáveis ao longo do tempo. Por isso, mesmo com pokemons mais novos,\n",
    "##### A escolha de um pokemon das primeiras gerações ainda é válida. Assim mantendo um ecossistema grande de pokemons"
   ]
  },
  {
   "cell_type": "code",
   "execution_count": 6,
   "id": "41e6d1d7",
   "metadata": {},
   "outputs": [
    {
     "data": {
      "application/vnd.plotly.v1+json": {
       "config": {
        "plotlyServerURL": "https://plot.ly"
       },
       "data": [
        {
         "marker": {
          "color": [
           "red",
           "blue",
           "green",
           "purple",
           "orange",
           "brown",
           "pink",
           "gray"
          ]
         },
         "showlegend": false,
         "type": "bar",
         "x": [
          "1",
          "2",
          "3",
          "4",
          "5",
          "6",
          "7",
          "8"
         ],
         "y": [
          172,
          94,
          130,
          100,
          150,
          75,
          69,
          82
         ]
        },
        {
         "line": {
          "color": "black"
         },
         "name": "Ataque",
         "type": "scatter",
         "x": [
          "1",
          "2",
          "3",
          "4",
          "5",
          "6",
          "7",
          "8"
         ],
         "y": [
          42.174418604651166,
          37.648936170212764,
          40.33076923076923,
          43.98,
          45.9,
          41.093333333333334,
          45.79710144927536,
          44.31707317073171
         ]
        },
        {
         "name": "Defesa",
         "type": "scatter",
         "x": [
          "1",
          "2",
          "3",
          "4",
          "5",
          "6",
          "7",
          "8"
         ],
         "y": [
          27.6046511627907,
          27.52127659574468,
          26.5,
          29.83,
          28.24,
          30.186666666666667,
          29.55072463768116,
          28.658536585365855
         ]
        },
        {
         "name": "Velocidade",
         "type": "scatter",
         "x": [
          "1",
          "2",
          "3",
          "4",
          "5",
          "6",
          "7",
          "8"
         ],
         "y": [
          40.41860465116279,
          34.02127659574468,
          34.97692307692308,
          38.78,
          37.46666666666667,
          38.48,
          35.57971014492754,
          37.353658536585364
         ]
        }
       ],
       "layout": {
        "height": 550,
        "legend": {
         "font": {
          "size": 15,
          "weight": "bold"
         }
        },
        "template": {
         "data": {
          "bar": [
           {
            "error_x": {
             "color": "#2a3f5f"
            },
            "error_y": {
             "color": "#2a3f5f"
            },
            "marker": {
             "line": {
              "color": "#E5ECF6",
              "width": 0.5
             },
             "pattern": {
              "fillmode": "overlay",
              "size": 10,
              "solidity": 0.2
             }
            },
            "type": "bar"
           }
          ],
          "barpolar": [
           {
            "marker": {
             "line": {
              "color": "#E5ECF6",
              "width": 0.5
             },
             "pattern": {
              "fillmode": "overlay",
              "size": 10,
              "solidity": 0.2
             }
            },
            "type": "barpolar"
           }
          ],
          "carpet": [
           {
            "aaxis": {
             "endlinecolor": "#2a3f5f",
             "gridcolor": "white",
             "linecolor": "white",
             "minorgridcolor": "white",
             "startlinecolor": "#2a3f5f"
            },
            "baxis": {
             "endlinecolor": "#2a3f5f",
             "gridcolor": "white",
             "linecolor": "white",
             "minorgridcolor": "white",
             "startlinecolor": "#2a3f5f"
            },
            "type": "carpet"
           }
          ],
          "choropleth": [
           {
            "colorbar": {
             "outlinewidth": 0,
             "ticks": ""
            },
            "type": "choropleth"
           }
          ],
          "contour": [
           {
            "colorbar": {
             "outlinewidth": 0,
             "ticks": ""
            },
            "colorscale": [
             [
              0,
              "#0d0887"
             ],
             [
              0.1111111111111111,
              "#46039f"
             ],
             [
              0.2222222222222222,
              "#7201a8"
             ],
             [
              0.3333333333333333,
              "#9c179e"
             ],
             [
              0.4444444444444444,
              "#bd3786"
             ],
             [
              0.5555555555555556,
              "#d8576b"
             ],
             [
              0.6666666666666666,
              "#ed7953"
             ],
             [
              0.7777777777777778,
              "#fb9f3a"
             ],
             [
              0.8888888888888888,
              "#fdca26"
             ],
             [
              1,
              "#f0f921"
             ]
            ],
            "type": "contour"
           }
          ],
          "contourcarpet": [
           {
            "colorbar": {
             "outlinewidth": 0,
             "ticks": ""
            },
            "type": "contourcarpet"
           }
          ],
          "heatmap": [
           {
            "colorbar": {
             "outlinewidth": 0,
             "ticks": ""
            },
            "colorscale": [
             [
              0,
              "#0d0887"
             ],
             [
              0.1111111111111111,
              "#46039f"
             ],
             [
              0.2222222222222222,
              "#7201a8"
             ],
             [
              0.3333333333333333,
              "#9c179e"
             ],
             [
              0.4444444444444444,
              "#bd3786"
             ],
             [
              0.5555555555555556,
              "#d8576b"
             ],
             [
              0.6666666666666666,
              "#ed7953"
             ],
             [
              0.7777777777777778,
              "#fb9f3a"
             ],
             [
              0.8888888888888888,
              "#fdca26"
             ],
             [
              1,
              "#f0f921"
             ]
            ],
            "type": "heatmap"
           }
          ],
          "heatmapgl": [
           {
            "colorbar": {
             "outlinewidth": 0,
             "ticks": ""
            },
            "colorscale": [
             [
              0,
              "#0d0887"
             ],
             [
              0.1111111111111111,
              "#46039f"
             ],
             [
              0.2222222222222222,
              "#7201a8"
             ],
             [
              0.3333333333333333,
              "#9c179e"
             ],
             [
              0.4444444444444444,
              "#bd3786"
             ],
             [
              0.5555555555555556,
              "#d8576b"
             ],
             [
              0.6666666666666666,
              "#ed7953"
             ],
             [
              0.7777777777777778,
              "#fb9f3a"
             ],
             [
              0.8888888888888888,
              "#fdca26"
             ],
             [
              1,
              "#f0f921"
             ]
            ],
            "type": "heatmapgl"
           }
          ],
          "histogram": [
           {
            "marker": {
             "pattern": {
              "fillmode": "overlay",
              "size": 10,
              "solidity": 0.2
             }
            },
            "type": "histogram"
           }
          ],
          "histogram2d": [
           {
            "colorbar": {
             "outlinewidth": 0,
             "ticks": ""
            },
            "colorscale": [
             [
              0,
              "#0d0887"
             ],
             [
              0.1111111111111111,
              "#46039f"
             ],
             [
              0.2222222222222222,
              "#7201a8"
             ],
             [
              0.3333333333333333,
              "#9c179e"
             ],
             [
              0.4444444444444444,
              "#bd3786"
             ],
             [
              0.5555555555555556,
              "#d8576b"
             ],
             [
              0.6666666666666666,
              "#ed7953"
             ],
             [
              0.7777777777777778,
              "#fb9f3a"
             ],
             [
              0.8888888888888888,
              "#fdca26"
             ],
             [
              1,
              "#f0f921"
             ]
            ],
            "type": "histogram2d"
           }
          ],
          "histogram2dcontour": [
           {
            "colorbar": {
             "outlinewidth": 0,
             "ticks": ""
            },
            "colorscale": [
             [
              0,
              "#0d0887"
             ],
             [
              0.1111111111111111,
              "#46039f"
             ],
             [
              0.2222222222222222,
              "#7201a8"
             ],
             [
              0.3333333333333333,
              "#9c179e"
             ],
             [
              0.4444444444444444,
              "#bd3786"
             ],
             [
              0.5555555555555556,
              "#d8576b"
             ],
             [
              0.6666666666666666,
              "#ed7953"
             ],
             [
              0.7777777777777778,
              "#fb9f3a"
             ],
             [
              0.8888888888888888,
              "#fdca26"
             ],
             [
              1,
              "#f0f921"
             ]
            ],
            "type": "histogram2dcontour"
           }
          ],
          "mesh3d": [
           {
            "colorbar": {
             "outlinewidth": 0,
             "ticks": ""
            },
            "type": "mesh3d"
           }
          ],
          "parcoords": [
           {
            "line": {
             "colorbar": {
              "outlinewidth": 0,
              "ticks": ""
             }
            },
            "type": "parcoords"
           }
          ],
          "pie": [
           {
            "automargin": true,
            "type": "pie"
           }
          ],
          "scatter": [
           {
            "fillpattern": {
             "fillmode": "overlay",
             "size": 10,
             "solidity": 0.2
            },
            "type": "scatter"
           }
          ],
          "scatter3d": [
           {
            "line": {
             "colorbar": {
              "outlinewidth": 0,
              "ticks": ""
             }
            },
            "marker": {
             "colorbar": {
              "outlinewidth": 0,
              "ticks": ""
             }
            },
            "type": "scatter3d"
           }
          ],
          "scattercarpet": [
           {
            "marker": {
             "colorbar": {
              "outlinewidth": 0,
              "ticks": ""
             }
            },
            "type": "scattercarpet"
           }
          ],
          "scattergeo": [
           {
            "marker": {
             "colorbar": {
              "outlinewidth": 0,
              "ticks": ""
             }
            },
            "type": "scattergeo"
           }
          ],
          "scattergl": [
           {
            "marker": {
             "colorbar": {
              "outlinewidth": 0,
              "ticks": ""
             }
            },
            "type": "scattergl"
           }
          ],
          "scattermapbox": [
           {
            "marker": {
             "colorbar": {
              "outlinewidth": 0,
              "ticks": ""
             }
            },
            "type": "scattermapbox"
           }
          ],
          "scatterpolar": [
           {
            "marker": {
             "colorbar": {
              "outlinewidth": 0,
              "ticks": ""
             }
            },
            "type": "scatterpolar"
           }
          ],
          "scatterpolargl": [
           {
            "marker": {
             "colorbar": {
              "outlinewidth": 0,
              "ticks": ""
             }
            },
            "type": "scatterpolargl"
           }
          ],
          "scatterternary": [
           {
            "marker": {
             "colorbar": {
              "outlinewidth": 0,
              "ticks": ""
             }
            },
            "type": "scatterternary"
           }
          ],
          "surface": [
           {
            "colorbar": {
             "outlinewidth": 0,
             "ticks": ""
            },
            "colorscale": [
             [
              0,
              "#0d0887"
             ],
             [
              0.1111111111111111,
              "#46039f"
             ],
             [
              0.2222222222222222,
              "#7201a8"
             ],
             [
              0.3333333333333333,
              "#9c179e"
             ],
             [
              0.4444444444444444,
              "#bd3786"
             ],
             [
              0.5555555555555556,
              "#d8576b"
             ],
             [
              0.6666666666666666,
              "#ed7953"
             ],
             [
              0.7777777777777778,
              "#fb9f3a"
             ],
             [
              0.8888888888888888,
              "#fdca26"
             ],
             [
              1,
              "#f0f921"
             ]
            ],
            "type": "surface"
           }
          ],
          "table": [
           {
            "cells": {
             "fill": {
              "color": "#EBF0F8"
             },
             "line": {
              "color": "white"
             }
            },
            "header": {
             "fill": {
              "color": "#C8D4E3"
             },
             "line": {
              "color": "white"
             }
            },
            "type": "table"
           }
          ]
         },
         "layout": {
          "annotationdefaults": {
           "arrowcolor": "#2a3f5f",
           "arrowhead": 0,
           "arrowwidth": 1
          },
          "autotypenumbers": "strict",
          "coloraxis": {
           "colorbar": {
            "outlinewidth": 0,
            "ticks": ""
           }
          },
          "colorscale": {
           "diverging": [
            [
             0,
             "#8e0152"
            ],
            [
             0.1,
             "#c51b7d"
            ],
            [
             0.2,
             "#de77ae"
            ],
            [
             0.3,
             "#f1b6da"
            ],
            [
             0.4,
             "#fde0ef"
            ],
            [
             0.5,
             "#f7f7f7"
            ],
            [
             0.6,
             "#e6f5d0"
            ],
            [
             0.7,
             "#b8e186"
            ],
            [
             0.8,
             "#7fbc41"
            ],
            [
             0.9,
             "#4d9221"
            ],
            [
             1,
             "#276419"
            ]
           ],
           "sequential": [
            [
             0,
             "#0d0887"
            ],
            [
             0.1111111111111111,
             "#46039f"
            ],
            [
             0.2222222222222222,
             "#7201a8"
            ],
            [
             0.3333333333333333,
             "#9c179e"
            ],
            [
             0.4444444444444444,
             "#bd3786"
            ],
            [
             0.5555555555555556,
             "#d8576b"
            ],
            [
             0.6666666666666666,
             "#ed7953"
            ],
            [
             0.7777777777777778,
             "#fb9f3a"
            ],
            [
             0.8888888888888888,
             "#fdca26"
            ],
            [
             1,
             "#f0f921"
            ]
           ],
           "sequentialminus": [
            [
             0,
             "#0d0887"
            ],
            [
             0.1111111111111111,
             "#46039f"
            ],
            [
             0.2222222222222222,
             "#7201a8"
            ],
            [
             0.3333333333333333,
             "#9c179e"
            ],
            [
             0.4444444444444444,
             "#bd3786"
            ],
            [
             0.5555555555555556,
             "#d8576b"
            ],
            [
             0.6666666666666666,
             "#ed7953"
            ],
            [
             0.7777777777777778,
             "#fb9f3a"
            ],
            [
             0.8888888888888888,
             "#fdca26"
            ],
            [
             1,
             "#f0f921"
            ]
           ]
          },
          "colorway": [
           "#636efa",
           "#EF553B",
           "#00cc96",
           "#ab63fa",
           "#FFA15A",
           "#19d3f3",
           "#FF6692",
           "#B6E880",
           "#FF97FF",
           "#FECB52"
          ],
          "font": {
           "color": "#2a3f5f"
          },
          "geo": {
           "bgcolor": "white",
           "lakecolor": "white",
           "landcolor": "#E5ECF6",
           "showlakes": true,
           "showland": true,
           "subunitcolor": "white"
          },
          "hoverlabel": {
           "align": "left"
          },
          "hovermode": "closest",
          "mapbox": {
           "style": "light"
          },
          "paper_bgcolor": "white",
          "plot_bgcolor": "#E5ECF6",
          "polar": {
           "angularaxis": {
            "gridcolor": "white",
            "linecolor": "white",
            "ticks": ""
           },
           "bgcolor": "#E5ECF6",
           "radialaxis": {
            "gridcolor": "white",
            "linecolor": "white",
            "ticks": ""
           }
          },
          "scene": {
           "xaxis": {
            "backgroundcolor": "#E5ECF6",
            "gridcolor": "white",
            "gridwidth": 2,
            "linecolor": "white",
            "showbackground": true,
            "ticks": "",
            "zerolinecolor": "white"
           },
           "yaxis": {
            "backgroundcolor": "#E5ECF6",
            "gridcolor": "white",
            "gridwidth": 2,
            "linecolor": "white",
            "showbackground": true,
            "ticks": "",
            "zerolinecolor": "white"
           },
           "zaxis": {
            "backgroundcolor": "#E5ECF6",
            "gridcolor": "white",
            "gridwidth": 2,
            "linecolor": "white",
            "showbackground": true,
            "ticks": "",
            "zerolinecolor": "white"
           }
          },
          "shapedefaults": {
           "line": {
            "color": "#2a3f5f"
           }
          },
          "ternary": {
           "aaxis": {
            "gridcolor": "white",
            "linecolor": "white",
            "ticks": ""
           },
           "baxis": {
            "gridcolor": "white",
            "linecolor": "white",
            "ticks": ""
           },
           "bgcolor": "#E5ECF6",
           "caxis": {
            "gridcolor": "white",
            "linecolor": "white",
            "ticks": ""
           }
          },
          "title": {
           "x": 0.05
          },
          "xaxis": {
           "automargin": true,
           "gridcolor": "white",
           "linecolor": "white",
           "ticks": "",
           "title": {
            "standoff": 15
           },
           "zerolinecolor": "white",
           "zerolinewidth": 2
          },
          "yaxis": {
           "automargin": true,
           "gridcolor": "white",
           "linecolor": "white",
           "ticks": "",
           "title": {
            "standoff": 15
           },
           "zerolinecolor": "white",
           "zerolinewidth": 2
          }
         }
        },
        "title": {
         "font": {
          "color": "black",
          "family": "Arial",
          "size": 35
         },
         "text": "Atributos das gerações de pokemon"
        },
        "width": 700,
        "xaxis": {
         "title": {
          "font": {
           "color": "black",
           "family": "Arial",
           "size": 26
          },
          "text": "Geração do Pokemon"
         }
        },
        "yaxis": {
         "title": {
          "font": {
           "color": "black",
           "family": "Arial",
           "size": 26
          },
          "text": "Quantidade de pokemons"
         }
        }
       }
      }
     },
     "metadata": {},
     "output_type": "display_data"
    }
   ],
   "source": [
    "fig = go.Figure()\n",
    "\n",
    "df_boss_2[['attack','defense','speed']] = df_boss_2[['attack','defense','speed']].astype(int)\n",
    "df_boss_2['generation'] = df_boss_2['generation'].astype(str)\n",
    "media_atributos = df_boss_2.groupby('generation')[['attack', 'defense', 'speed']].mean().reset_index()\n",
    "media_atributos = media_atributos.set_index(media_atributos['generation'])\n",
    "media_atributos['contagem_valores'] = df_boss_2['generation'].value_counts()\n",
    "media_atributos = media_atributos.reset_index(drop=True)\n",
    "geracao = media_atributos['generation']\n",
    "colors = ['red', 'blue', 'green', 'purple', 'orange', 'brown', 'pink', 'gray']\n",
    "media_atributos\n",
    "fig.add_trace(go.Bar(x=media_atributos['generation'],y=media_atributos['contagem_valores'],marker=dict(color=colors), showlegend=False))\n",
    "fig.add_trace(go.Scatter(x=media_atributos['generation'],y=media_atributos['attack'], name='Ataque', line=dict(color='black')))\n",
    "fig.add_trace(go.Scatter(x=media_atributos['generation'],y=media_atributos['defense'], name='Defesa'))\n",
    "fig.add_trace(go.Scatter(x=media_atributos['generation'],y=media_atributos['speed'], name= 'Velocidade'))\n",
    "\n",
    "fig.update_layout(title='Atributos das gerações de pokemon', yaxis_title = 'Quantidade de pokemons',xaxis_title = 'Geração do Pokemon')\n",
    "fig.update_layout( \n",
    "    title={\n",
    "        'text': 'Atributos das gerações de pokemon',\n",
    "        'font': {'size': 35, 'family': 'Arial', 'color': 'black'}\n",
    "    },\n",
    "    xaxis_title={\n",
    "        'text': 'Geração do Pokemon',\n",
    "        'font': {'size': 26, 'family': 'Arial', 'color': 'black'}\n",
    "    },\n",
    "    yaxis_title={\n",
    "        'text': 'Quantidade de pokemons',\n",
    "        'font': {'size': 26, 'family': 'Arial', 'color': 'black'}\n",
    "    },\n",
    "    legend=dict(font={'size': 15, 'weight': 'bold'}),\n",
    "    width=700,\n",
    "    height=550,\n",
    ")\n",
    "# Primeira e Quinta geração possuem as maiores adições de pokemons\n",
    "#Quinta e sétima geração possui pokemons com maior media de ataque\n",
    "#Primeira geração possui os pokemons mais rapidos\n",
    "#Sexta geração possui as melhores defesas  "
   ]
  },
  {
   "cell_type": "code",
   "execution_count": 7,
   "id": "122941b4",
   "metadata": {},
   "outputs": [
    {
     "data": {
      "text/plain": [
       "type_1\n",
       "Water       120\n",
       "Normal      105\n",
       "Grass        82\n",
       "Bug          74\n",
       "Fire         55\n",
       "Electric     52\n",
       "Rock         52\n",
       "Psychic      47\n",
       "Dark         38\n",
       "Ground       37\n",
       "Ghost        37\n",
       "Poison       35\n",
       "Ice          33\n",
       "Fighting     33\n",
       "Steel        24\n",
       "Dragon       23\n",
       "Fairy        19\n",
       "Flying        6\n",
       "Name: count, dtype: int64"
      ]
     },
     "execution_count": 7,
     "metadata": {},
     "output_type": "execute_result"
    }
   ],
   "source": [
    "#Pokemons do tipo Water são os mais comuns\n",
    "#Pokemons do tipo Normal são os segundos mais comuns\n",
    "#Pokemons do tipo Flying são os pokemons mais raros\n",
    "\n",
    "df_boss_2['type_1'].value_counts()"
   ]
  },
  {
   "cell_type": "code",
   "execution_count": 8,
   "id": "a58e9900",
   "metadata": {},
   "outputs": [
    {
     "data": {
      "application/vnd.plotly.v1+json": {
       "config": {
        "plotlyServerURL": "https://plot.ly"
       },
       "data": [
        {
         "alignmentgroup": "True",
         "hovertemplate": "Tipo de Pókemon=%{x}<br>Valor de Ataque=%{y}<extra></extra>",
         "legendgroup": "Grass",
         "marker": {
          "color": "#636efa"
         },
         "name": "Grass",
         "notched": false,
         "offsetgroup": "Grass",
         "orientation": "v",
         "showlegend": true,
         "type": "box",
         "x": [
          "Grass",
          "Grass",
          "Grass",
          "Grass",
          "Grass",
          "Grass",
          "Grass",
          "Grass",
          "Grass",
          "Grass",
          "Grass",
          "Grass",
          "Grass",
          "Grass",
          "Grass",
          "Grass",
          "Grass",
          "Grass",
          "Grass",
          "Grass",
          "Grass",
          "Grass",
          "Grass",
          "Grass",
          "Grass",
          "Grass",
          "Grass",
          "Grass",
          "Grass",
          "Grass",
          "Grass",
          "Grass",
          "Grass",
          "Grass",
          "Grass",
          "Grass",
          "Grass",
          "Grass",
          "Grass",
          "Grass",
          "Grass",
          "Grass",
          "Grass",
          "Grass",
          "Grass",
          "Grass",
          "Grass",
          "Grass",
          "Grass",
          "Grass",
          "Grass",
          "Grass",
          "Grass",
          "Grass",
          "Grass",
          "Grass",
          "Grass",
          "Grass",
          "Grass",
          "Grass",
          "Grass",
          "Grass",
          "Grass",
          "Grass",
          "Grass",
          "Grass",
          "Grass",
          "Grass",
          "Grass",
          "Grass",
          "Grass",
          "Grass",
          "Grass",
          "Grass",
          "Grass",
          "Grass",
          "Grass",
          "Grass",
          "Grass",
          "Grass",
          "Grass",
          "Grass"
         ],
         "x0": " ",
         "xaxis": "x",
         "y": [
          27,
          35,
          48,
          28,
          37,
          46,
          43,
          53,
          62,
          21,
          56,
          62,
          31,
          27,
          35,
          46,
          18,
          25,
          31,
          15,
          43,
          25,
          37,
          50,
          21,
          40,
          59,
          21,
          78,
          34,
          50,
          68,
          39,
          39,
          52,
          65,
          15,
          40,
          18,
          34,
          59,
          35,
          54,
          59,
          65,
          25,
          34,
          43,
          30,
          58,
          13,
          38,
          18,
          34,
          50,
          31,
          50,
          28,
          55,
          35,
          45,
          63,
          37,
          59,
          31,
          43,
          63,
          31,
          62,
          18,
          25,
          15,
          21,
          71,
          37,
          50,
          75,
          21,
          28,
          21,
          65,
          50
         ],
         "y0": " ",
         "yaxis": "y"
        },
        {
         "alignmentgroup": "True",
         "hovertemplate": "Tipo de Pókemon=%{x}<br>Valor de Ataque=%{y}<extra></extra>",
         "legendgroup": "Fire",
         "marker": {
          "color": "#EF553B"
         },
         "name": "Fire",
         "notched": false,
         "offsetgroup": "Fire",
         "orientation": "v",
         "showlegend": true,
         "type": "box",
         "x": [
          "Fire",
          "Fire",
          "Fire",
          "Fire",
          "Fire",
          "Fire",
          "Fire",
          "Fire",
          "Fire",
          "Fire",
          "Fire",
          "Fire",
          "Fire",
          "Fire",
          "Fire",
          "Fire",
          "Fire",
          "Fire",
          "Fire",
          "Fire",
          "Fire",
          "Fire",
          "Fire",
          "Fire",
          "Fire",
          "Fire",
          "Fire",
          "Fire",
          "Fire",
          "Fire",
          "Fire",
          "Fire",
          "Fire",
          "Fire",
          "Fire",
          "Fire",
          "Fire",
          "Fire",
          "Fire",
          "Fire",
          "Fire",
          "Fire",
          "Fire",
          "Fire",
          "Fire",
          "Fire",
          "Fire",
          "Fire",
          "Fire",
          "Fire",
          "Fire",
          "Fire",
          "Fire",
          "Fire",
          "Fire"
         ],
         "x0": " ",
         "xaxis": "x",
         "y": [
          29,
          36,
          49,
          22,
          44,
          40,
          65,
          50,
          59,
          46,
          56,
          78,
          29,
          36,
          49,
          21,
          28,
          43,
          34,
          50,
          71,
          34,
          59,
          50,
          40,
          33,
          45,
          61,
          56,
          36,
          55,
          73,
          30,
          58,
          53,
          84,
          15,
          57,
          25,
          33,
          40,
          42,
          47,
          28,
          39,
          37,
          50,
          68,
          40,
          45,
          41,
          50,
          69,
          37,
          68
         ],
         "y0": " ",
         "yaxis": "y"
        },
        {
         "alignmentgroup": "True",
         "hovertemplate": "Tipo de Pókemon=%{x}<br>Valor de Ataque=%{y}<extra></extra>",
         "legendgroup": "Water",
         "marker": {
          "color": "#00cc96"
         },
         "name": "Water",
         "notched": false,
         "offsetgroup": "Water",
         "orientation": "v",
         "showlegend": true,
         "type": "box",
         "x": [
          "Water",
          "Water",
          "Water",
          "Water",
          "Water",
          "Water",
          "Water",
          "Water",
          "Water",
          "Water",
          "Water",
          "Water",
          "Water",
          "Water",
          "Water",
          "Water",
          "Water",
          "Water",
          "Water",
          "Water",
          "Water",
          "Water",
          "Water",
          "Water",
          "Water",
          "Water",
          "Water",
          "Water",
          "Water",
          "Water",
          "Water",
          "Water",
          "Water",
          "Water",
          "Water",
          "Water",
          "Water",
          "Water",
          "Water",
          "Water",
          "Water",
          "Water",
          "Water",
          "Water",
          "Water",
          "Water",
          "Water",
          "Water",
          "Water",
          "Water",
          "Water",
          "Water",
          "Water",
          "Water",
          "Water",
          "Water",
          "Water",
          "Water",
          "Water",
          "Water",
          "Water",
          "Water",
          "Water",
          "Water",
          "Water",
          "Water",
          "Water",
          "Water",
          "Water",
          "Water",
          "Water",
          "Water",
          "Water",
          "Water",
          "Water",
          "Water",
          "Water",
          "Water",
          "Water",
          "Water",
          "Water",
          "Water",
          "Water",
          "Water",
          "Water",
          "Water",
          "Water",
          "Water",
          "Water",
          "Water",
          "Water",
          "Water",
          "Water",
          "Water",
          "Water",
          "Water",
          "Water",
          "Water",
          "Water",
          "Water",
          "Water",
          "Water",
          "Water",
          "Water",
          "Water",
          "Water",
          "Water",
          "Water",
          "Water",
          "Water",
          "Water",
          "Water",
          "Water",
          "Water",
          "Water",
          "Water",
          "Water",
          "Water",
          "Water",
          "Water"
         ],
         "x0": " ",
         "xaxis": "x",
         "y": [
          26,
          36,
          48,
          29,
          48,
          28,
          37,
          56,
          21,
          40,
          37,
          43,
          25,
          40,
          37,
          56,
          62,
          78,
          21,
          37,
          38,
          54,
          25,
          43,
          3,
          75,
          50,
          37,
          37,
          46,
          62,
          20,
          33,
          9,
          28,
          43,
          25,
          50,
          43,
          56,
          31,
          37,
          62,
          21,
          56,
          40,
          50,
          65,
          15,
          28,
          40,
          15,
          28,
          53,
          71,
          40,
          53,
          26,
          45,
          46,
          71,
          6,
          34,
          40,
          36,
          61,
          49,
          53,
          15,
          28,
          38,
          50,
          37,
          62,
          26,
          48,
          27,
          40,
          9,
          31,
          43,
          59,
          30,
          58,
          28,
          37,
          56,
          54,
          54,
          45,
          64,
          24,
          51,
          21,
          34,
          43,
          31,
          36,
          56,
          87,
          30,
          42,
          30,
          40,
          43,
          9,
          84,
          21,
          40,
          34,
          62,
          21,
          34,
          50,
          36,
          68,
          36,
          73,
          53,
          53
         ],
         "y0": " ",
         "yaxis": "y"
        },
        {
         "alignmentgroup": "True",
         "hovertemplate": "Tipo de Pókemon=%{x}<br>Valor de Ataque=%{y}<extra></extra>",
         "legendgroup": "Bug",
         "marker": {
          "color": "#ab63fa"
         },
         "name": "Bug",
         "notched": false,
         "offsetgroup": "Bug",
         "orientation": "v",
         "showlegend": true,
         "type": "box",
         "x": [
          "Bug",
          "Bug",
          "Bug",
          "Bug",
          "Bug",
          "Bug",
          "Bug",
          "Bug",
          "Bug",
          "Bug",
          "Bug",
          "Bug",
          "Bug",
          "Bug",
          "Bug",
          "Bug",
          "Bug",
          "Bug",
          "Bug",
          "Bug",
          "Bug",
          "Bug",
          "Bug",
          "Bug",
          "Bug",
          "Bug",
          "Bug",
          "Bug",
          "Bug",
          "Bug",
          "Bug",
          "Bug",
          "Bug",
          "Bug",
          "Bug",
          "Bug",
          "Bug",
          "Bug",
          "Bug",
          "Bug",
          "Bug",
          "Bug",
          "Bug",
          "Bug",
          "Bug",
          "Bug",
          "Bug",
          "Bug",
          "Bug",
          "Bug",
          "Bug",
          "Bug",
          "Bug",
          "Bug",
          "Bug",
          "Bug",
          "Bug",
          "Bug",
          "Bug",
          "Bug",
          "Bug",
          "Bug",
          "Bug",
          "Bug",
          "Bug",
          "Bug",
          "Bug",
          "Bug",
          "Bug",
          "Bug",
          "Bug",
          "Bug",
          "Bug",
          "Bug"
         ],
         "x0": " ",
         "xaxis": "x",
         "y": [
          15,
          9,
          25,
          18,
          12,
          53,
          40,
          56,
          31,
          37,
          65,
          75,
          9,
          18,
          34,
          53,
          37,
          37,
          53,
          78,
          3,
          75,
          25,
          18,
          40,
          18,
          28,
          15,
          34,
          25,
          53,
          53,
          42,
          26,
          12,
          50,
          15,
          33,
          46,
          40,
          55,
          15,
          46,
          44,
          30,
          36,
          61,
          25,
          31,
          59,
          37,
          62,
          43,
          81,
          26,
          45,
          21,
          40,
          65,
          50,
          34,
          18,
          10,
          29,
          35,
          48,
          40,
          25,
          31,
          18,
          75,
          9,
          18,
          25
         ],
         "y0": " ",
         "yaxis": "y"
        },
        {
         "alignmentgroup": "True",
         "hovertemplate": "Tipo de Pókemon=%{x}<br>Valor de Ataque=%{y}<extra></extra>",
         "legendgroup": "Normal",
         "marker": {
          "color": "#FFA15A"
         },
         "name": "Normal",
         "notched": false,
         "offsetgroup": "Normal",
         "orientation": "v",
         "showlegend": true,
         "type": "box",
         "x": [
          "Normal",
          "Normal",
          "Normal",
          "Normal",
          "Normal",
          "Normal",
          "Normal",
          "Normal",
          "Normal",
          "Normal",
          "Normal",
          "Normal",
          "Normal",
          "Normal",
          "Normal",
          "Normal",
          "Normal",
          "Normal",
          "Normal",
          "Normal",
          "Normal",
          "Normal",
          "Normal",
          "Normal",
          "Normal",
          "Normal",
          "Normal",
          "Normal",
          "Normal",
          "Normal",
          "Normal",
          "Normal",
          "Normal",
          "Normal",
          "Normal",
          "Normal",
          "Normal",
          "Normal",
          "Normal",
          "Normal",
          "Normal",
          "Normal",
          "Normal",
          "Normal",
          "Normal",
          "Normal",
          "Normal",
          "Normal",
          "Normal",
          "Normal",
          "Normal",
          "Normal",
          "Normal",
          "Normal",
          "Normal",
          "Normal",
          "Normal",
          "Normal",
          "Normal",
          "Normal",
          "Normal",
          "Normal",
          "Normal",
          "Normal",
          "Normal",
          "Normal",
          "Normal",
          "Normal",
          "Normal",
          "Normal",
          "Normal",
          "Normal",
          "Normal",
          "Normal",
          "Normal",
          "Normal",
          "Normal",
          "Normal",
          "Normal",
          "Normal",
          "Normal",
          "Normal",
          "Normal",
          "Normal",
          "Normal",
          "Normal",
          "Normal",
          "Normal",
          "Normal",
          "Normal",
          "Normal",
          "Normal",
          "Normal",
          "Normal",
          "Normal",
          "Normal",
          "Normal",
          "Normal",
          "Normal",
          "Normal",
          "Normal",
          "Normal",
          "Normal",
          "Normal",
          "Normal"
         ],
         "x0": " ",
         "xaxis": "x",
         "y": [
          25,
          34,
          46,
          31,
          47,
          34,
          53,
          25,
          40,
          25,
          40,
          53,
          50,
          65,
          31,
          0,
          56,
          59,
          26,
          31,
          43,
          34,
          65,
          25,
          44,
          15,
          28,
          15,
          40,
          46,
          40,
          46,
          78,
          46,
          56,
          9,
          46,
          3,
          15,
          40,
          31,
          50,
          34,
          46,
          96,
          28,
          41,
          53,
          9,
          25,
          37,
          34,
          21,
          68,
          40,
          53,
          31,
          43,
          71,
          25,
          50,
          59,
          38,
          44,
          31,
          48,
          0,
          37,
          50,
          50,
          46,
          31,
          50,
          34,
          46,
          65,
          31,
          45,
          68,
          34,
          28,
          56,
          34,
          59,
          65,
          48,
          73,
          19,
          31,
          28,
          46,
          43,
          50,
          71,
          40,
          65,
          43,
          75,
          34,
          68,
          34,
          31,
          56,
          21,
          46
         ],
         "y0": " ",
         "yaxis": "y"
        },
        {
         "alignmentgroup": "True",
         "hovertemplate": "Tipo de Pókemon=%{x}<br>Valor de Ataque=%{y}<extra></extra>",
         "legendgroup": "Dark",
         "marker": {
          "color": "#19d3f3"
         },
         "name": "Dark",
         "notched": false,
         "offsetgroup": "Dark",
         "orientation": "v",
         "showlegend": true,
         "type": "box",
         "x": [
          "Dark",
          "Dark",
          "Dark",
          "Dark",
          "Dark",
          "Dark",
          "Dark",
          "Dark",
          "Dark",
          "Dark",
          "Dark",
          "Dark",
          "Dark",
          "Dark",
          "Dark",
          "Dark",
          "Dark",
          "Dark",
          "Dark",
          "Dark",
          "Dark",
          "Dark",
          "Dark",
          "Dark",
          "Dark",
          "Dark",
          "Dark",
          "Dark",
          "Dark",
          "Dark",
          "Dark",
          "Dark",
          "Dark",
          "Dark",
          "Dark",
          "Dark",
          "Dark",
          "Dark"
         ],
         "x0": " ",
         "xaxis": "x",
         "y": [
          31,
          41,
          18,
          34,
          37,
          50,
          56,
          34,
          53,
          31,
          53,
          15,
          40,
          43,
          78,
          75,
          71,
          28,
          51,
          43,
          53,
          37,
          62,
          50,
          75,
          31,
          37,
          37,
          50,
          62,
          30,
          54,
          14,
          33,
          25,
          34,
          71,
          53
         ],
         "y0": " ",
         "yaxis": "y"
        },
        {
         "alignmentgroup": "True",
         "hovertemplate": "Tipo de Pókemon=%{x}<br>Valor de Ataque=%{y}<extra></extra>",
         "legendgroup": "Poison",
         "marker": {
          "color": "#FF6692"
         },
         "name": "Poison",
         "notched": false,
         "offsetgroup": "Poison",
         "orientation": "v",
         "showlegend": true,
         "type": "box",
         "x": [
          "Poison",
          "Poison",
          "Poison",
          "Poison",
          "Poison",
          "Poison",
          "Poison",
          "Poison",
          "Poison",
          "Poison",
          "Poison",
          "Poison",
          "Poison",
          "Poison",
          "Poison",
          "Poison",
          "Poison",
          "Poison",
          "Poison",
          "Poison",
          "Poison",
          "Poison",
          "Poison",
          "Poison",
          "Poison",
          "Poison",
          "Poison",
          "Poison",
          "Poison",
          "Poison",
          "Poison",
          "Poison",
          "Poison",
          "Poison",
          "Poison"
         ],
         "x0": " ",
         "xaxis": "x",
         "y": [
          34,
          56,
          26,
          35,
          54,
          32,
          41,
          60,
          25,
          46,
          46,
          46,
          62,
          62,
          37,
          53,
          53,
          53,
          23,
          42,
          59,
          36,
          55,
          28,
          53,
          35,
          63,
          28,
          56,
          34,
          43,
          30,
          36,
          24,
          36
         ],
         "y0": " ",
         "yaxis": "y"
        },
        {
         "alignmentgroup": "True",
         "hovertemplate": "Tipo de Pókemon=%{x}<br>Valor de Ataque=%{y}<extra></extra>",
         "legendgroup": "Electric",
         "marker": {
          "color": "#B6E880"
         },
         "name": "Electric",
         "notched": false,
         "offsetgroup": "Electric",
         "orientation": "v",
         "showlegend": true,
         "type": "box",
         "x": [
          "Electric",
          "Electric",
          "Electric",
          "Electric",
          "Electric",
          "Electric",
          "Electric",
          "Electric",
          "Electric",
          "Electric",
          "Electric",
          "Electric",
          "Electric",
          "Electric",
          "Electric",
          "Electric",
          "Electric",
          "Electric",
          "Electric",
          "Electric",
          "Electric",
          "Electric",
          "Electric",
          "Electric",
          "Electric",
          "Electric",
          "Electric",
          "Electric",
          "Electric",
          "Electric",
          "Electric",
          "Electric",
          "Electric",
          "Electric",
          "Electric",
          "Electric",
          "Electric",
          "Electric",
          "Electric",
          "Electric",
          "Electric",
          "Electric",
          "Electric",
          "Electric",
          "Electric",
          "Electric",
          "Electric",
          "Electric",
          "Electric",
          "Electric",
          "Electric",
          "Electric"
         ],
         "x0": " ",
         "xaxis": "x",
         "y": [
          31,
          46,
          53,
          50,
          18,
          34,
          15,
          28,
          48,
          37,
          21,
          21,
          31,
          43,
          36,
          25,
          43,
          28,
          21,
          37,
          50,
          71,
          25,
          40,
          73,
          28,
          37,
          37,
          37,
          37,
          37,
          34,
          59,
          43,
          31,
          50,
          68,
          20,
          31,
          33,
          40,
          58,
          25,
          53,
          20,
          58,
          58,
          60,
          56,
          56,
          59,
          59
         ],
         "y0": " ",
         "yaxis": "y"
        },
        {
         "alignmentgroup": "True",
         "hovertemplate": "Tipo de Pókemon=%{x}<br>Valor de Ataque=%{y}<extra></extra>",
         "legendgroup": "Ground",
         "marker": {
          "color": "#FF97FF"
         },
         "name": "Ground",
         "notched": false,
         "offsetgroup": "Ground",
         "orientation": "v",
         "showlegend": true,
         "type": "box",
         "x": [
          "Ground",
          "Ground",
          "Ground",
          "Ground",
          "Ground",
          "Ground",
          "Ground",
          "Ground",
          "Ground",
          "Ground",
          "Ground",
          "Ground",
          "Ground",
          "Ground",
          "Ground",
          "Ground",
          "Ground",
          "Ground",
          "Ground",
          "Ground",
          "Ground",
          "Ground",
          "Ground",
          "Ground",
          "Ground",
          "Ground",
          "Ground",
          "Ground",
          "Ground",
          "Ground",
          "Ground",
          "Ground",
          "Ground",
          "Ground",
          "Ground",
          "Ground",
          "Ground"
         ],
         "x0": " ",
         "xaxis": "x",
         "y": [
          43,
          59,
          31,
          31,
          59,
          59,
          28,
          46,
          50,
          78,
          43,
          34,
          71,
          59,
          40,
          59,
          21,
          40,
          41,
          66,
          84,
          56,
          50,
          81,
          41,
          48,
          70,
          31,
          38,
          47,
          43,
          74,
          59,
          75,
          32,
          63,
          56
         ],
         "y0": " ",
         "yaxis": "y"
        },
        {
         "alignmentgroup": "True",
         "hovertemplate": "Tipo de Pókemon=%{x}<br>Valor de Ataque=%{y}<extra></extra>",
         "legendgroup": "Ice",
         "marker": {
          "color": "#FECB52"
         },
         "name": "Ice",
         "notched": false,
         "offsetgroup": "Ice",
         "orientation": "v",
         "showlegend": true,
         "type": "box",
         "x": [
          "Ice",
          "Ice",
          "Ice",
          "Ice",
          "Ice",
          "Ice",
          "Ice",
          "Ice",
          "Ice",
          "Ice",
          "Ice",
          "Ice",
          "Ice",
          "Ice",
          "Ice",
          "Ice",
          "Ice",
          "Ice",
          "Ice",
          "Ice",
          "Ice",
          "Ice",
          "Ice",
          "Ice",
          "Ice",
          "Ice",
          "Ice",
          "Ice",
          "Ice",
          "Ice",
          "Ice",
          "Ice",
          "Ice"
         ],
         "x0": " ",
         "xaxis": "x",
         "y": [
          43,
          59,
          22,
          38,
          28,
          28,
          59,
          31,
          15,
          40,
          28,
          46,
          21,
          34,
          46,
          34,
          78,
          46,
          53,
          84,
          96,
          28,
          37,
          56,
          40,
          78,
          28,
          40,
          70,
          12,
          37,
          46,
          46
         ],
         "y0": " ",
         "yaxis": "y"
        },
        {
         "alignmentgroup": "True",
         "hovertemplate": "Tipo de Pókemon=%{x}<br>Valor de Ataque=%{y}<extra></extra>",
         "legendgroup": "Fairy",
         "marker": {
          "color": "#636efa"
         },
         "name": "Fairy",
         "notched": false,
         "offsetgroup": "Fairy",
         "orientation": "v",
         "showlegend": true,
         "type": "box",
         "x": [
          "Fairy",
          "Fairy",
          "Fairy",
          "Fairy",
          "Fairy",
          "Fairy",
          "Fairy",
          "Fairy",
          "Fairy",
          "Fairy",
          "Fairy",
          "Fairy",
          "Fairy",
          "Fairy",
          "Fairy",
          "Fairy",
          "Fairy",
          "Fairy",
          "Fairy"
         ],
         "x0": " ",
         "xaxis": "x",
         "y": [
          25,
          40,
          12,
          9,
          21,
          46,
          71,
          28,
          20,
          25,
          37,
          29,
          41,
          26,
          46,
          37,
          29,
          21,
          34
         ],
         "y0": " ",
         "yaxis": "y"
        },
        {
         "alignmentgroup": "True",
         "hovertemplate": "Tipo de Pókemon=%{x}<br>Valor de Ataque=%{y}<extra></extra>",
         "legendgroup": "Steel",
         "marker": {
          "color": "#EF553B"
         },
         "name": "Steel",
         "notched": false,
         "offsetgroup": "Steel",
         "orientation": "v",
         "showlegend": true,
         "type": "box",
         "x": [
          "Steel",
          "Steel",
          "Steel",
          "Steel",
          "Steel",
          "Steel",
          "Steel",
          "Steel",
          "Steel",
          "Steel",
          "Steel",
          "Steel",
          "Steel",
          "Steel",
          "Steel",
          "Steel",
          "Steel",
          "Steel",
          "Steel",
          "Steel",
          "Steel",
          "Steel",
          "Steel",
          "Steel"
         ],
         "x0": " ",
         "xaxis": "x",
         "y": [
          37,
          50,
          46,
          50,
          40,
          53,
          65,
          31,
          43,
          81,
          11,
          52,
          31,
          46,
          59,
          46,
          65,
          90,
          28,
          46,
          65,
          46,
          78,
          56
         ],
         "y0": " ",
         "yaxis": "y"
        },
        {
         "alignmentgroup": "True",
         "hovertemplate": "Tipo de Pókemon=%{x}<br>Valor de Ataque=%{y}<extra></extra>",
         "legendgroup": "Fighting",
         "marker": {
          "color": "#00cc96"
         },
         "name": "Fighting",
         "notched": false,
         "offsetgroup": "Fighting",
         "orientation": "v",
         "showlegend": true,
         "type": "box",
         "x": [
          "Fighting",
          "Fighting",
          "Fighting",
          "Fighting",
          "Fighting",
          "Fighting",
          "Fighting",
          "Fighting",
          "Fighting",
          "Fighting",
          "Fighting",
          "Fighting",
          "Fighting",
          "Fighting",
          "Fighting",
          "Fighting",
          "Fighting",
          "Fighting",
          "Fighting",
          "Fighting",
          "Fighting",
          "Fighting",
          "Fighting",
          "Fighting",
          "Fighting",
          "Fighting",
          "Fighting",
          "Fighting",
          "Fighting",
          "Fighting",
          "Fighting",
          "Fighting",
          "Fighting"
         ],
         "x0": " ",
         "xaxis": "x",
         "y": [
          46,
          62,
          46,
          59,
          78,
          56,
          71,
          62,
          18,
          56,
          34,
          71,
          21,
          34,
          40,
          65,
          46,
          62,
          84,
          59,
          75,
          50,
          75,
          48,
          74,
          54,
          48,
          79,
          71,
          39,
          70,
          81,
          59
         ],
         "y0": " ",
         "yaxis": "y"
        },
        {
         "alignmentgroup": "True",
         "hovertemplate": "Tipo de Pókemon=%{x}<br>Valor de Ataque=%{y}<extra></extra>",
         "legendgroup": "Psychic",
         "marker": {
          "color": "#ab63fa"
         },
         "name": "Psychic",
         "notched": false,
         "offsetgroup": "Psychic",
         "orientation": "v",
         "showlegend": true,
         "type": "box",
         "x": [
          "Psychic",
          "Psychic",
          "Psychic",
          "Psychic",
          "Psychic",
          "Psychic",
          "Psychic",
          "Psychic",
          "Psychic",
          "Psychic",
          "Psychic",
          "Psychic",
          "Psychic",
          "Psychic",
          "Psychic",
          "Psychic",
          "Psychic",
          "Psychic",
          "Psychic",
          "Psychic",
          "Psychic",
          "Psychic",
          "Psychic",
          "Psychic",
          "Psychic",
          "Psychic",
          "Psychic",
          "Psychic",
          "Psychic",
          "Psychic",
          "Psychic",
          "Psychic",
          "Psychic",
          "Psychic",
          "Psychic",
          "Psychic",
          "Psychic",
          "Psychic",
          "Psychic",
          "Psychic",
          "Psychic",
          "Psychic",
          "Psychic",
          "Psychic",
          "Psychic",
          "Psychic",
          "Psychic"
         ],
         "x0": " ",
         "xaxis": "x",
         "y": [
          9,
          18,
          28,
          50,
          59,
          26,
          42,
          25,
          37,
          28,
          43,
          37,
          41,
          17,
          12,
          18,
          37,
          12,
          25,
          28,
          11,
          15,
          12,
          75,
          12,
          31,
          25,
          32,
          33,
          15,
          25,
          31,
          15,
          21,
          37,
          31,
          43,
          26,
          26,
          26,
          40,
          15,
          21,
          53,
          50,
          37,
          31
         ],
         "y0": " ",
         "yaxis": "y"
        },
        {
         "alignmentgroup": "True",
         "hovertemplate": "Tipo de Pókemon=%{x}<br>Valor de Ataque=%{y}<extra></extra>",
         "legendgroup": "Rock",
         "marker": {
          "color": "#FFA15A"
         },
         "name": "Rock",
         "notched": false,
         "offsetgroup": "Rock",
         "orientation": "v",
         "showlegend": true,
         "type": "box",
         "x": [
          "Rock",
          "Rock",
          "Rock",
          "Rock",
          "Rock",
          "Rock",
          "Rock",
          "Rock",
          "Rock",
          "Rock",
          "Rock",
          "Rock",
          "Rock",
          "Rock",
          "Rock",
          "Rock",
          "Rock",
          "Rock",
          "Rock",
          "Rock",
          "Rock",
          "Rock",
          "Rock",
          "Rock",
          "Rock",
          "Rock",
          "Rock",
          "Rock",
          "Rock",
          "Rock",
          "Rock",
          "Rock",
          "Rock",
          "Rock",
          "Rock",
          "Rock",
          "Rock",
          "Rock",
          "Rock",
          "Rock",
          "Rock",
          "Rock",
          "Rock",
          "Rock",
          "Rock",
          "Rock",
          "Rock",
          "Rock",
          "Rock",
          "Rock",
          "Rock",
          "Rock"
         ],
         "x0": " ",
         "xaxis": "x",
         "y": [
          46,
          46,
          56,
          56,
          71,
          71,
          25,
          21,
          34,
          46,
          68,
          62,
          59,
          36,
          49,
          80,
          25,
          31,
          56,
          22,
          47,
          56,
          75,
          75,
          100,
          23,
          29,
          46,
          31,
          43,
          62,
          81,
          66,
          84,
          29,
          62,
          52,
          72,
          33,
          45,
          28,
          37,
          37,
          68,
          68,
          70,
          34,
          59,
          21,
          34,
          46,
          75
         ],
         "y0": " ",
         "yaxis": "y"
        },
        {
         "alignmentgroup": "True",
         "hovertemplate": "Tipo de Pókemon=%{x}<br>Valor de Ataque=%{y}<extra></extra>",
         "legendgroup": "Ghost",
         "marker": {
          "color": "#19d3f3"
         },
         "name": "Ghost",
         "notched": false,
         "offsetgroup": "Ghost",
         "orientation": "v",
         "showlegend": true,
         "type": "box",
         "x": [
          "Ghost",
          "Ghost",
          "Ghost",
          "Ghost",
          "Ghost",
          "Ghost",
          "Ghost",
          "Ghost",
          "Ghost",
          "Ghost",
          "Ghost",
          "Ghost",
          "Ghost",
          "Ghost",
          "Ghost",
          "Ghost",
          "Ghost",
          "Ghost",
          "Ghost",
          "Ghost",
          "Ghost",
          "Ghost",
          "Ghost",
          "Ghost",
          "Ghost",
          "Ghost",
          "Ghost",
          "Ghost",
          "Ghost",
          "Ghost",
          "Ghost",
          "Ghost",
          "Ghost",
          "Ghost",
          "Ghost",
          "Ghost",
          "Ghost"
         ],
         "x0": " ",
         "xaxis": "x",
         "y": [
          18,
          28,
          37,
          34,
          31,
          43,
          68,
          21,
          40,
          28,
          46,
          34,
          54,
          59,
          15,
          28,
          15,
          21,
          31,
          40,
          65,
          38,
          38,
          38,
          38,
          53,
          50,
          56,
          59,
          40,
          31,
          43,
          53,
          78,
          25,
          37,
          56
         ],
         "y0": " ",
         "yaxis": "y"
        },
        {
         "alignmentgroup": "True",
         "hovertemplate": "Tipo de Pókemon=%{x}<br>Valor de Ataque=%{y}<extra></extra>",
         "legendgroup": "Dragon",
         "marker": {
          "color": "#FF6692"
         },
         "name": "Dragon",
         "notched": false,
         "offsetgroup": "Dragon",
         "orientation": "v",
         "showlegend": true,
         "type": "box",
         "x": [
          "Dragon",
          "Dragon",
          "Dragon",
          "Dragon",
          "Dragon",
          "Dragon",
          "Dragon",
          "Dragon",
          "Dragon",
          "Dragon",
          "Dragon",
          "Dragon",
          "Dragon",
          "Dragon",
          "Dragon",
          "Dragon",
          "Dragon",
          "Dragon",
          "Dragon",
          "Dragon",
          "Dragon",
          "Dragon",
          "Dragon"
         ],
         "x0": " ",
         "xaxis": "x",
         "y": [
          36,
          49,
          80,
          40,
          43,
          56,
          81,
          40,
          53,
          78,
          51,
          70,
          88,
          71,
          28,
          43,
          59,
          31,
          43,
          65,
          34,
          46,
          71
         ],
         "y0": " ",
         "yaxis": "y"
        },
        {
         "alignmentgroup": "True",
         "hovertemplate": "Tipo de Pókemon=%{x}<br>Valor de Ataque=%{y}<extra></extra>",
         "legendgroup": "Flying",
         "marker": {
          "color": "#B6E880"
         },
         "name": "Flying",
         "notched": false,
         "offsetgroup": "Flying",
         "orientation": "v",
         "showlegend": true,
         "type": "box",
         "x": [
          "Flying",
          "Flying",
          "Flying",
          "Flying",
          "Flying",
          "Flying"
         ],
         "x0": " ",
         "xaxis": "x",
         "y": [
          15,
          40,
          26,
          38,
          51,
          50
         ],
         "y0": " ",
         "yaxis": "y"
        }
       ],
       "layout": {
        "boxmode": "overlay",
        "legend": {
         "font": {
          "size": 15,
          "weight": "bold"
         },
         "title": {
          "text": "Tipo de Pókemon"
         },
         "tracegroupgap": 0
        },
        "template": {
         "data": {
          "bar": [
           {
            "error_x": {
             "color": "#2a3f5f"
            },
            "error_y": {
             "color": "#2a3f5f"
            },
            "marker": {
             "line": {
              "color": "#E5ECF6",
              "width": 0.5
             },
             "pattern": {
              "fillmode": "overlay",
              "size": 10,
              "solidity": 0.2
             }
            },
            "type": "bar"
           }
          ],
          "barpolar": [
           {
            "marker": {
             "line": {
              "color": "#E5ECF6",
              "width": 0.5
             },
             "pattern": {
              "fillmode": "overlay",
              "size": 10,
              "solidity": 0.2
             }
            },
            "type": "barpolar"
           }
          ],
          "carpet": [
           {
            "aaxis": {
             "endlinecolor": "#2a3f5f",
             "gridcolor": "white",
             "linecolor": "white",
             "minorgridcolor": "white",
             "startlinecolor": "#2a3f5f"
            },
            "baxis": {
             "endlinecolor": "#2a3f5f",
             "gridcolor": "white",
             "linecolor": "white",
             "minorgridcolor": "white",
             "startlinecolor": "#2a3f5f"
            },
            "type": "carpet"
           }
          ],
          "choropleth": [
           {
            "colorbar": {
             "outlinewidth": 0,
             "ticks": ""
            },
            "type": "choropleth"
           }
          ],
          "contour": [
           {
            "colorbar": {
             "outlinewidth": 0,
             "ticks": ""
            },
            "colorscale": [
             [
              0,
              "#0d0887"
             ],
             [
              0.1111111111111111,
              "#46039f"
             ],
             [
              0.2222222222222222,
              "#7201a8"
             ],
             [
              0.3333333333333333,
              "#9c179e"
             ],
             [
              0.4444444444444444,
              "#bd3786"
             ],
             [
              0.5555555555555556,
              "#d8576b"
             ],
             [
              0.6666666666666666,
              "#ed7953"
             ],
             [
              0.7777777777777778,
              "#fb9f3a"
             ],
             [
              0.8888888888888888,
              "#fdca26"
             ],
             [
              1,
              "#f0f921"
             ]
            ],
            "type": "contour"
           }
          ],
          "contourcarpet": [
           {
            "colorbar": {
             "outlinewidth": 0,
             "ticks": ""
            },
            "type": "contourcarpet"
           }
          ],
          "heatmap": [
           {
            "colorbar": {
             "outlinewidth": 0,
             "ticks": ""
            },
            "colorscale": [
             [
              0,
              "#0d0887"
             ],
             [
              0.1111111111111111,
              "#46039f"
             ],
             [
              0.2222222222222222,
              "#7201a8"
             ],
             [
              0.3333333333333333,
              "#9c179e"
             ],
             [
              0.4444444444444444,
              "#bd3786"
             ],
             [
              0.5555555555555556,
              "#d8576b"
             ],
             [
              0.6666666666666666,
              "#ed7953"
             ],
             [
              0.7777777777777778,
              "#fb9f3a"
             ],
             [
              0.8888888888888888,
              "#fdca26"
             ],
             [
              1,
              "#f0f921"
             ]
            ],
            "type": "heatmap"
           }
          ],
          "heatmapgl": [
           {
            "colorbar": {
             "outlinewidth": 0,
             "ticks": ""
            },
            "colorscale": [
             [
              0,
              "#0d0887"
             ],
             [
              0.1111111111111111,
              "#46039f"
             ],
             [
              0.2222222222222222,
              "#7201a8"
             ],
             [
              0.3333333333333333,
              "#9c179e"
             ],
             [
              0.4444444444444444,
              "#bd3786"
             ],
             [
              0.5555555555555556,
              "#d8576b"
             ],
             [
              0.6666666666666666,
              "#ed7953"
             ],
             [
              0.7777777777777778,
              "#fb9f3a"
             ],
             [
              0.8888888888888888,
              "#fdca26"
             ],
             [
              1,
              "#f0f921"
             ]
            ],
            "type": "heatmapgl"
           }
          ],
          "histogram": [
           {
            "marker": {
             "pattern": {
              "fillmode": "overlay",
              "size": 10,
              "solidity": 0.2
             }
            },
            "type": "histogram"
           }
          ],
          "histogram2d": [
           {
            "colorbar": {
             "outlinewidth": 0,
             "ticks": ""
            },
            "colorscale": [
             [
              0,
              "#0d0887"
             ],
             [
              0.1111111111111111,
              "#46039f"
             ],
             [
              0.2222222222222222,
              "#7201a8"
             ],
             [
              0.3333333333333333,
              "#9c179e"
             ],
             [
              0.4444444444444444,
              "#bd3786"
             ],
             [
              0.5555555555555556,
              "#d8576b"
             ],
             [
              0.6666666666666666,
              "#ed7953"
             ],
             [
              0.7777777777777778,
              "#fb9f3a"
             ],
             [
              0.8888888888888888,
              "#fdca26"
             ],
             [
              1,
              "#f0f921"
             ]
            ],
            "type": "histogram2d"
           }
          ],
          "histogram2dcontour": [
           {
            "colorbar": {
             "outlinewidth": 0,
             "ticks": ""
            },
            "colorscale": [
             [
              0,
              "#0d0887"
             ],
             [
              0.1111111111111111,
              "#46039f"
             ],
             [
              0.2222222222222222,
              "#7201a8"
             ],
             [
              0.3333333333333333,
              "#9c179e"
             ],
             [
              0.4444444444444444,
              "#bd3786"
             ],
             [
              0.5555555555555556,
              "#d8576b"
             ],
             [
              0.6666666666666666,
              "#ed7953"
             ],
             [
              0.7777777777777778,
              "#fb9f3a"
             ],
             [
              0.8888888888888888,
              "#fdca26"
             ],
             [
              1,
              "#f0f921"
             ]
            ],
            "type": "histogram2dcontour"
           }
          ],
          "mesh3d": [
           {
            "colorbar": {
             "outlinewidth": 0,
             "ticks": ""
            },
            "type": "mesh3d"
           }
          ],
          "parcoords": [
           {
            "line": {
             "colorbar": {
              "outlinewidth": 0,
              "ticks": ""
             }
            },
            "type": "parcoords"
           }
          ],
          "pie": [
           {
            "automargin": true,
            "type": "pie"
           }
          ],
          "scatter": [
           {
            "fillpattern": {
             "fillmode": "overlay",
             "size": 10,
             "solidity": 0.2
            },
            "type": "scatter"
           }
          ],
          "scatter3d": [
           {
            "line": {
             "colorbar": {
              "outlinewidth": 0,
              "ticks": ""
             }
            },
            "marker": {
             "colorbar": {
              "outlinewidth": 0,
              "ticks": ""
             }
            },
            "type": "scatter3d"
           }
          ],
          "scattercarpet": [
           {
            "marker": {
             "colorbar": {
              "outlinewidth": 0,
              "ticks": ""
             }
            },
            "type": "scattercarpet"
           }
          ],
          "scattergeo": [
           {
            "marker": {
             "colorbar": {
              "outlinewidth": 0,
              "ticks": ""
             }
            },
            "type": "scattergeo"
           }
          ],
          "scattergl": [
           {
            "marker": {
             "colorbar": {
              "outlinewidth": 0,
              "ticks": ""
             }
            },
            "type": "scattergl"
           }
          ],
          "scattermapbox": [
           {
            "marker": {
             "colorbar": {
              "outlinewidth": 0,
              "ticks": ""
             }
            },
            "type": "scattermapbox"
           }
          ],
          "scatterpolar": [
           {
            "marker": {
             "colorbar": {
              "outlinewidth": 0,
              "ticks": ""
             }
            },
            "type": "scatterpolar"
           }
          ],
          "scatterpolargl": [
           {
            "marker": {
             "colorbar": {
              "outlinewidth": 0,
              "ticks": ""
             }
            },
            "type": "scatterpolargl"
           }
          ],
          "scatterternary": [
           {
            "marker": {
             "colorbar": {
              "outlinewidth": 0,
              "ticks": ""
             }
            },
            "type": "scatterternary"
           }
          ],
          "surface": [
           {
            "colorbar": {
             "outlinewidth": 0,
             "ticks": ""
            },
            "colorscale": [
             [
              0,
              "#0d0887"
             ],
             [
              0.1111111111111111,
              "#46039f"
             ],
             [
              0.2222222222222222,
              "#7201a8"
             ],
             [
              0.3333333333333333,
              "#9c179e"
             ],
             [
              0.4444444444444444,
              "#bd3786"
             ],
             [
              0.5555555555555556,
              "#d8576b"
             ],
             [
              0.6666666666666666,
              "#ed7953"
             ],
             [
              0.7777777777777778,
              "#fb9f3a"
             ],
             [
              0.8888888888888888,
              "#fdca26"
             ],
             [
              1,
              "#f0f921"
             ]
            ],
            "type": "surface"
           }
          ],
          "table": [
           {
            "cells": {
             "fill": {
              "color": "#EBF0F8"
             },
             "line": {
              "color": "white"
             }
            },
            "header": {
             "fill": {
              "color": "#C8D4E3"
             },
             "line": {
              "color": "white"
             }
            },
            "type": "table"
           }
          ]
         },
         "layout": {
          "annotationdefaults": {
           "arrowcolor": "#2a3f5f",
           "arrowhead": 0,
           "arrowwidth": 1
          },
          "autotypenumbers": "strict",
          "coloraxis": {
           "colorbar": {
            "outlinewidth": 0,
            "ticks": ""
           }
          },
          "colorscale": {
           "diverging": [
            [
             0,
             "#8e0152"
            ],
            [
             0.1,
             "#c51b7d"
            ],
            [
             0.2,
             "#de77ae"
            ],
            [
             0.3,
             "#f1b6da"
            ],
            [
             0.4,
             "#fde0ef"
            ],
            [
             0.5,
             "#f7f7f7"
            ],
            [
             0.6,
             "#e6f5d0"
            ],
            [
             0.7,
             "#b8e186"
            ],
            [
             0.8,
             "#7fbc41"
            ],
            [
             0.9,
             "#4d9221"
            ],
            [
             1,
             "#276419"
            ]
           ],
           "sequential": [
            [
             0,
             "#0d0887"
            ],
            [
             0.1111111111111111,
             "#46039f"
            ],
            [
             0.2222222222222222,
             "#7201a8"
            ],
            [
             0.3333333333333333,
             "#9c179e"
            ],
            [
             0.4444444444444444,
             "#bd3786"
            ],
            [
             0.5555555555555556,
             "#d8576b"
            ],
            [
             0.6666666666666666,
             "#ed7953"
            ],
            [
             0.7777777777777778,
             "#fb9f3a"
            ],
            [
             0.8888888888888888,
             "#fdca26"
            ],
            [
             1,
             "#f0f921"
            ]
           ],
           "sequentialminus": [
            [
             0,
             "#0d0887"
            ],
            [
             0.1111111111111111,
             "#46039f"
            ],
            [
             0.2222222222222222,
             "#7201a8"
            ],
            [
             0.3333333333333333,
             "#9c179e"
            ],
            [
             0.4444444444444444,
             "#bd3786"
            ],
            [
             0.5555555555555556,
             "#d8576b"
            ],
            [
             0.6666666666666666,
             "#ed7953"
            ],
            [
             0.7777777777777778,
             "#fb9f3a"
            ],
            [
             0.8888888888888888,
             "#fdca26"
            ],
            [
             1,
             "#f0f921"
            ]
           ]
          },
          "colorway": [
           "#636efa",
           "#EF553B",
           "#00cc96",
           "#ab63fa",
           "#FFA15A",
           "#19d3f3",
           "#FF6692",
           "#B6E880",
           "#FF97FF",
           "#FECB52"
          ],
          "font": {
           "color": "#2a3f5f"
          },
          "geo": {
           "bgcolor": "white",
           "lakecolor": "white",
           "landcolor": "#E5ECF6",
           "showlakes": true,
           "showland": true,
           "subunitcolor": "white"
          },
          "hoverlabel": {
           "align": "left"
          },
          "hovermode": "closest",
          "mapbox": {
           "style": "light"
          },
          "paper_bgcolor": "white",
          "plot_bgcolor": "#E5ECF6",
          "polar": {
           "angularaxis": {
            "gridcolor": "white",
            "linecolor": "white",
            "ticks": ""
           },
           "bgcolor": "#E5ECF6",
           "radialaxis": {
            "gridcolor": "white",
            "linecolor": "white",
            "ticks": ""
           }
          },
          "scene": {
           "xaxis": {
            "backgroundcolor": "#E5ECF6",
            "gridcolor": "white",
            "gridwidth": 2,
            "linecolor": "white",
            "showbackground": true,
            "ticks": "",
            "zerolinecolor": "white"
           },
           "yaxis": {
            "backgroundcolor": "#E5ECF6",
            "gridcolor": "white",
            "gridwidth": 2,
            "linecolor": "white",
            "showbackground": true,
            "ticks": "",
            "zerolinecolor": "white"
           },
           "zaxis": {
            "backgroundcolor": "#E5ECF6",
            "gridcolor": "white",
            "gridwidth": 2,
            "linecolor": "white",
            "showbackground": true,
            "ticks": "",
            "zerolinecolor": "white"
           }
          },
          "shapedefaults": {
           "line": {
            "color": "#2a3f5f"
           }
          },
          "ternary": {
           "aaxis": {
            "gridcolor": "white",
            "linecolor": "white",
            "ticks": ""
           },
           "baxis": {
            "gridcolor": "white",
            "linecolor": "white",
            "ticks": ""
           },
           "bgcolor": "#E5ECF6",
           "caxis": {
            "gridcolor": "white",
            "linecolor": "white",
            "ticks": ""
           }
          },
          "title": {
           "x": 0.05
          },
          "xaxis": {
           "automargin": true,
           "gridcolor": "white",
           "linecolor": "white",
           "ticks": "",
           "title": {
            "standoff": 15
           },
           "zerolinecolor": "white",
           "zerolinewidth": 2
          },
          "yaxis": {
           "automargin": true,
           "gridcolor": "white",
           "linecolor": "white",
           "ticks": "",
           "title": {
            "standoff": 15
           },
           "zerolinecolor": "white",
           "zerolinewidth": 2
          }
         }
        },
        "title": {
         "font": {
          "color": "black",
          "family": "Arial",
          "size": 35
         },
         "text": "Diferentes tipo de Pókemons e seu Ataque"
        },
        "xaxis": {
         "anchor": "y",
         "categoryarray": [
          "Grass",
          "Fire",
          "Water",
          "Bug",
          "Normal",
          "Dark",
          "Poison",
          "Electric",
          "Ground",
          "Ice",
          "Fairy",
          "Steel",
          "Fighting",
          "Psychic",
          "Rock",
          "Ghost",
          "Dragon",
          "Flying"
         ],
         "categoryorder": "array",
         "domain": [
          0,
          1
         ],
         "tickfont": {
          "size": 15
         },
         "title": {
          "font": {
           "color": "black",
           "family": "Arial",
           "size": 26
          },
          "text": "Tipo de Pokémon"
         }
        },
        "yaxis": {
         "anchor": "x",
         "domain": [
          0,
          1
         ],
         "tickfont": {
          "size": 15
         },
         "title": {
          "font": {
           "color": "black",
           "family": "Arial",
           "size": 26
          },
          "text": "Valor de Ataque"
         }
        }
       }
      }
     },
     "metadata": {},
     "output_type": "display_data"
    }
   ],
   "source": [
    "# Podemos observar que o tipo Fighting e Dragon possuem os atributos de ataque muito acima da média dos demais tipos \n",
    "# O tipo Rock possui o pokemon com maior ataque (100)\n",
    "# Os tipos normal e ice possuem os pokemons com segundo maior ataque (96)\n",
    "# O tipo normal possui um pokemon que não ataca\n",
    "\n",
    "fig_box1 = px.box(df_boss_2, x='type_1', y='attack', title='Diferentes tipo de Pókemons e seu Ataque',color='type_1', labels={\n",
    "    'type_1': 'Tipo de Pókemon',\n",
    "    'attack': 'Valor de Ataque'\n",
    "})\n",
    "fig_box1.update_layout( \n",
    "    title={\n",
    "        'text': 'Diferentes tipo de Pókemons e seu Ataque',\n",
    "        'font': {'size': 35, 'family': 'Arial', 'color': 'black'}\n",
    "    },\n",
    "    xaxis_title={\n",
    "        'text': 'Tipo de Pokémon',\n",
    "        'font': {'size': 26, 'family': 'Arial', 'color': 'black'}\n",
    "    },\n",
    "    yaxis_title={\n",
    "        'text': 'Valor de Ataque',\n",
    "        'font': {'size': 26, 'family': 'Arial', 'color': 'black'}\n",
    "    },\n",
    "    legend=dict(font={'size': 15, 'weight': 'bold'}),\n",
    ")\n",
    "fig_box1.update_xaxes(tickfont=dict(size=15))\n",
    "fig_box1.update_yaxes(tickfont=dict(size=15))"
   ]
  },
  {
   "cell_type": "code",
   "execution_count": 9,
   "id": "4cc04a21",
   "metadata": {},
   "outputs": [
    {
     "data": {
      "application/vnd.plotly.v1+json": {
       "config": {
        "plotlyServerURL": "https://plot.ly"
       },
       "data": [
        {
         "alignmentgroup": "True",
         "hovertemplate": "Tipo de Pókemon=%{x}<br>Valor de Defesa=%{y}<extra></extra>",
         "legendgroup": "Grass",
         "marker": {
          "color": "#636efa"
         },
         "name": "Grass",
         "notched": false,
         "offsetgroup": "Grass",
         "orientation": "v",
         "showlegend": true,
         "type": "box",
         "x": [
          "Grass",
          "Grass",
          "Grass",
          "Grass",
          "Grass",
          "Grass",
          "Grass",
          "Grass",
          "Grass",
          "Grass",
          "Grass",
          "Grass",
          "Grass",
          "Grass",
          "Grass",
          "Grass",
          "Grass",
          "Grass",
          "Grass",
          "Grass",
          "Grass",
          "Grass",
          "Grass",
          "Grass",
          "Grass",
          "Grass",
          "Grass",
          "Grass",
          "Grass",
          "Grass",
          "Grass",
          "Grass",
          "Grass",
          "Grass",
          "Grass",
          "Grass",
          "Grass",
          "Grass",
          "Grass",
          "Grass",
          "Grass",
          "Grass",
          "Grass",
          "Grass",
          "Grass",
          "Grass",
          "Grass",
          "Grass",
          "Grass",
          "Grass",
          "Grass",
          "Grass",
          "Grass",
          "Grass",
          "Grass",
          "Grass",
          "Grass",
          "Grass",
          "Grass",
          "Grass",
          "Grass",
          "Grass",
          "Grass",
          "Grass",
          "Grass",
          "Grass",
          "Grass",
          "Grass",
          "Grass",
          "Grass",
          "Grass",
          "Grass",
          "Grass",
          "Grass",
          "Grass",
          "Grass",
          "Grass",
          "Grass",
          "Grass",
          "Grass",
          "Grass",
          "Grass"
         ],
         "x0": " ",
         "xaxis": "x",
         "y": [
          19,
          25,
          34,
          22,
          28,
          35,
          13,
          20,
          26,
          33,
          35,
          35,
          48,
          26,
          33,
          40,
          15,
          20,
          28,
          11,
          22,
          13,
          17,
          26,
          20,
          15,
          24,
          24,
          33,
          17,
          15,
          24,
          34,
          26,
          35,
          44,
          13,
          26,
          17,
          28,
          29,
          20,
          31,
          53,
          55,
          22,
          31,
          40,
          19,
          25,
          24,
          35,
          20,
          31,
          27,
          17,
          28,
          38,
          55,
          26,
          40,
          52,
          19,
          25,
          22,
          31,
          31,
          13,
          37,
          22,
          33,
          14,
          19,
          41,
          20,
          28,
          37,
          24,
          37,
          33,
          33,
          33
         ],
         "y0": " ",
         "yaxis": "y"
        },
        {
         "alignmentgroup": "True",
         "hovertemplate": "Tipo de Pókemon=%{x}<br>Valor de Defesa=%{y}<extra></extra>",
         "legendgroup": "Fire",
         "marker": {
          "color": "#EF553B"
         },
         "name": "Fire",
         "notched": false,
         "offsetgroup": "Fire",
         "orientation": "v",
         "showlegend": true,
         "type": "box",
         "x": [
          "Fire",
          "Fire",
          "Fire",
          "Fire",
          "Fire",
          "Fire",
          "Fire",
          "Fire",
          "Fire",
          "Fire",
          "Fire",
          "Fire",
          "Fire",
          "Fire",
          "Fire",
          "Fire",
          "Fire",
          "Fire",
          "Fire",
          "Fire",
          "Fire",
          "Fire",
          "Fire",
          "Fire",
          "Fire",
          "Fire",
          "Fire",
          "Fire",
          "Fire",
          "Fire",
          "Fire",
          "Fire",
          "Fire",
          "Fire",
          "Fire",
          "Fire",
          "Fire",
          "Fire",
          "Fire",
          "Fire",
          "Fire",
          "Fire",
          "Fire",
          "Fire",
          "Fire",
          "Fire",
          "Fire",
          "Fire",
          "Fire",
          "Fire",
          "Fire",
          "Fire",
          "Fire",
          "Fire",
          "Fire"
         ],
         "x0": " ",
         "xaxis": "x",
         "y": [
          16,
          23,
          32,
          15,
          31,
          17,
          33,
          22,
          28,
          46,
          23,
          24,
          16,
          23,
          32,
          15,
          51,
          14,
          15,
          24,
          28,
          15,
          28,
          60,
          28,
          17,
          20,
          29,
          27,
          17,
          22,
          26,
          19,
          25,
          17,
          22,
          44,
          27,
          15,
          23,
          29,
          22,
          29,
          23,
          29,
          15,
          20,
          37,
          28,
          57,
          15,
          24,
          31,
          17,
          26
         ],
         "y0": " ",
         "yaxis": "y"
        },
        {
         "alignmentgroup": "True",
         "hovertemplate": "Tipo de Pókemon=%{x}<br>Valor de Defesa=%{y}<extra></extra>",
         "legendgroup": "Water",
         "marker": {
          "color": "#00cc96"
         },
         "name": "Water",
         "notched": false,
         "offsetgroup": "Water",
         "orientation": "v",
         "showlegend": true,
         "type": "box",
         "x": [
          "Water",
          "Water",
          "Water",
          "Water",
          "Water",
          "Water",
          "Water",
          "Water",
          "Water",
          "Water",
          "Water",
          "Water",
          "Water",
          "Water",
          "Water",
          "Water",
          "Water",
          "Water",
          "Water",
          "Water",
          "Water",
          "Water",
          "Water",
          "Water",
          "Water",
          "Water",
          "Water",
          "Water",
          "Water",
          "Water",
          "Water",
          "Water",
          "Water",
          "Water",
          "Water",
          "Water",
          "Water",
          "Water",
          "Water",
          "Water",
          "Water",
          "Water",
          "Water",
          "Water",
          "Water",
          "Water",
          "Water",
          "Water",
          "Water",
          "Water",
          "Water",
          "Water",
          "Water",
          "Water",
          "Water",
          "Water",
          "Water",
          "Water",
          "Water",
          "Water",
          "Water",
          "Water",
          "Water",
          "Water",
          "Water",
          "Water",
          "Water",
          "Water",
          "Water",
          "Water",
          "Water",
          "Water",
          "Water",
          "Water",
          "Water",
          "Water",
          "Water",
          "Water",
          "Water",
          "Water",
          "Water",
          "Water",
          "Water",
          "Water",
          "Water",
          "Water",
          "Water",
          "Water",
          "Water",
          "Water",
          "Water",
          "Water",
          "Water",
          "Water",
          "Water",
          "Water",
          "Water",
          "Water",
          "Water",
          "Water",
          "Water",
          "Water",
          "Water",
          "Water",
          "Water",
          "Water",
          "Water",
          "Water",
          "Water",
          "Water",
          "Water",
          "Water",
          "Water",
          "Water",
          "Water",
          "Water",
          "Water",
          "Water",
          "Water",
          "Water"
         ],
         "x0": " ",
         "xaxis": "x",
         "y": [
          26,
          33,
          42,
          19,
          32,
          15,
          26,
          40,
          13,
          26,
          26,
          46,
          22,
          33,
          42,
          77,
          37,
          48,
          28,
          40,
          24,
          26,
          22,
          35,
          22,
          32,
          33,
          24,
          26,
          33,
          42,
          14,
          23,
          20,
          33,
          31,
          17,
          35,
          33,
          35,
          40,
          13,
          31,
          28,
          40,
          20,
          28,
          37,
          11,
          20,
          28,
          11,
          42,
          6,
          15,
          13,
          17,
          16,
          30,
          26,
          35,
          6,
          32,
          28,
          35,
          44,
          44,
          55,
          22,
          21,
          28,
          36,
          13,
          22,
          19,
          28,
          22,
          31,
          20,
          17,
          24,
          35,
          19,
          25,
          15,
          22,
          31,
          26,
          26,
          43,
          56,
          20,
          25,
          20,
          28,
          33,
          15,
          20,
          27,
          27,
          25,
          36,
          21,
          28,
          30,
          6,
          55,
          20,
          38,
          55,
          28,
          15,
          22,
          26,
          20,
          37,
          15,
          24,
          42,
          42
         ],
         "y0": " ",
         "yaxis": "y"
        },
        {
         "alignmentgroup": "True",
         "hovertemplate": "Tipo de Pókemon=%{x}<br>Valor de Defesa=%{y}<extra></extra>",
         "legendgroup": "Bug",
         "marker": {
          "color": "#ab63fa"
         },
         "name": "Bug",
         "notched": false,
         "offsetgroup": "Bug",
         "orientation": "v",
         "showlegend": true,
         "type": "box",
         "x": [
          "Bug",
          "Bug",
          "Bug",
          "Bug",
          "Bug",
          "Bug",
          "Bug",
          "Bug",
          "Bug",
          "Bug",
          "Bug",
          "Bug",
          "Bug",
          "Bug",
          "Bug",
          "Bug",
          "Bug",
          "Bug",
          "Bug",
          "Bug",
          "Bug",
          "Bug",
          "Bug",
          "Bug",
          "Bug",
          "Bug",
          "Bug",
          "Bug",
          "Bug",
          "Bug",
          "Bug",
          "Bug",
          "Bug",
          "Bug",
          "Bug",
          "Bug",
          "Bug",
          "Bug",
          "Bug",
          "Bug",
          "Bug",
          "Bug",
          "Bug",
          "Bug",
          "Bug",
          "Bug",
          "Bug",
          "Bug",
          "Bug",
          "Bug",
          "Bug",
          "Bug",
          "Bug",
          "Bug",
          "Bug",
          "Bug",
          "Bug",
          "Bug",
          "Bug",
          "Bug",
          "Bug",
          "Bug",
          "Bug",
          "Bug",
          "Bug",
          "Bug",
          "Bug",
          "Bug",
          "Bug",
          "Bug",
          "Bug",
          "Bug",
          "Bug",
          "Bug"
         ],
         "x0": " ",
         "xaxis": "x",
         "y": [
          13,
          22,
          20,
          11,
          20,
          15,
          22,
          33,
          20,
          24,
          33,
          42,
          11,
          20,
          15,
          28,
          17,
          37,
          60,
          42,
          99,
          31,
          13,
          22,
          20,
          22,
          28,
          12,
          25,
          37,
          17,
          17,
          31,
          31,
          16,
          20,
          17,
          35,
          44,
          40,
          20,
          16,
          43,
          36,
          28,
          37,
          33,
          24,
          41,
          37,
          35,
          53,
          17,
          44,
          20,
          24,
          35,
          15,
          47,
          22,
          26,
          15,
          24,
          20,
          17,
          40,
          37,
          15,
          24,
          15,
          60,
          6,
          33,
          46
         ],
         "y0": " ",
         "yaxis": "y"
        },
        {
         "alignmentgroup": "True",
         "hovertemplate": "Tipo de Pókemon=%{x}<br>Valor de Defesa=%{y}<extra></extra>",
         "legendgroup": "Normal",
         "marker": {
          "color": "#FFA15A"
         },
         "name": "Normal",
         "notched": false,
         "offsetgroup": "Normal",
         "orientation": "v",
         "showlegend": true,
         "type": "box",
         "x": [
          "Normal",
          "Normal",
          "Normal",
          "Normal",
          "Normal",
          "Normal",
          "Normal",
          "Normal",
          "Normal",
          "Normal",
          "Normal",
          "Normal",
          "Normal",
          "Normal",
          "Normal",
          "Normal",
          "Normal",
          "Normal",
          "Normal",
          "Normal",
          "Normal",
          "Normal",
          "Normal",
          "Normal",
          "Normal",
          "Normal",
          "Normal",
          "Normal",
          "Normal",
          "Normal",
          "Normal",
          "Normal",
          "Normal",
          "Normal",
          "Normal",
          "Normal",
          "Normal",
          "Normal",
          "Normal",
          "Normal",
          "Normal",
          "Normal",
          "Normal",
          "Normal",
          "Normal",
          "Normal",
          "Normal",
          "Normal",
          "Normal",
          "Normal",
          "Normal",
          "Normal",
          "Normal",
          "Normal",
          "Normal",
          "Normal",
          "Normal",
          "Normal",
          "Normal",
          "Normal",
          "Normal",
          "Normal",
          "Normal",
          "Normal",
          "Normal",
          "Normal",
          "Normal",
          "Normal",
          "Normal",
          "Normal",
          "Normal",
          "Normal",
          "Normal",
          "Normal",
          "Normal",
          "Normal",
          "Normal",
          "Normal",
          "Normal",
          "Normal",
          "Normal",
          "Normal",
          "Normal",
          "Normal",
          "Normal",
          "Normal",
          "Normal",
          "Normal",
          "Normal",
          "Normal",
          "Normal",
          "Normal",
          "Normal",
          "Normal",
          "Normal",
          "Normal",
          "Normal",
          "Normal",
          "Normal",
          "Normal",
          "Normal",
          "Normal",
          "Normal",
          "Normal",
          "Normal"
         ],
         "x0": " ",
         "xaxis": "x",
         "y": [
          15,
          22,
          31,
          13,
          24,
          11,
          26,
          6,
          17,
          13,
          24,
          22,
          17,
          28,
          31,
          0,
          33,
          40,
          19,
          20,
          28,
          28,
          26,
          12,
          26,
          11,
          20,
          4,
          22,
          26,
          28,
          20,
          31,
          37,
          25,
          13,
          44,
          2,
          16,
          24,
          11,
          24,
          24,
          33,
          42,
          8,
          16,
          25,
          15,
          17,
          26,
          24,
          24,
          24,
          28,
          28,
          11,
          20,
          28,
          15,
          24,
          27,
          17,
          35,
          16,
          26,
          0,
          17,
          15,
          40,
          28,
          15,
          28,
          17,
          26,
          37,
          20,
          25,
          33,
          36,
          15,
          24,
          20,
          28,
          40,
          20,
          31,
          14,
          32,
          16,
          24,
          11,
          20,
          31,
          11,
          24,
          20,
          33,
          33,
          26,
          35,
          22,
          40,
          22,
          42
         ],
         "y0": " ",
         "yaxis": "y"
        },
        {
         "alignmentgroup": "True",
         "hovertemplate": "Tipo de Pókemon=%{x}<br>Valor de Defesa=%{y}<extra></extra>",
         "legendgroup": "Dark",
         "marker": {
          "color": "#19d3f3"
         },
         "name": "Dark",
         "notched": false,
         "offsetgroup": "Dark",
         "orientation": "v",
         "showlegend": true,
         "type": "box",
         "x": [
          "Dark",
          "Dark",
          "Dark",
          "Dark",
          "Dark",
          "Dark",
          "Dark",
          "Dark",
          "Dark",
          "Dark",
          "Dark",
          "Dark",
          "Dark",
          "Dark",
          "Dark",
          "Dark",
          "Dark",
          "Dark",
          "Dark",
          "Dark",
          "Dark",
          "Dark",
          "Dark",
          "Dark",
          "Dark",
          "Dark",
          "Dark",
          "Dark",
          "Dark",
          "Dark",
          "Dark",
          "Dark",
          "Dark",
          "Dark",
          "Dark",
          "Dark",
          "Dark",
          "Dark"
         ],
         "x0": " ",
         "xaxis": "x",
         "y": [
          13,
          28,
          13,
          24,
          46,
          16,
          22,
          11,
          20,
          13,
          28,
          16,
          24,
          31,
          24,
          20,
          26,
          14,
          20,
          28,
          48,
          15,
          24,
          28,
          42,
          31,
          44,
          20,
          28,
          37,
          21,
          36,
          10,
          23,
          11,
          17,
          26,
          42
         ],
         "y0": " ",
         "yaxis": "y"
        },
        {
         "alignmentgroup": "True",
         "hovertemplate": "Tipo de Pókemon=%{x}<br>Valor de Defesa=%{y}<extra></extra>",
         "legendgroup": "Poison",
         "marker": {
          "color": "#FF6692"
         },
         "name": "Poison",
         "notched": false,
         "offsetgroup": "Poison",
         "orientation": "v",
         "showlegend": true,
         "type": "box",
         "x": [
          "Poison",
          "Poison",
          "Poison",
          "Poison",
          "Poison",
          "Poison",
          "Poison",
          "Poison",
          "Poison",
          "Poison",
          "Poison",
          "Poison",
          "Poison",
          "Poison",
          "Poison",
          "Poison",
          "Poison",
          "Poison",
          "Poison",
          "Poison",
          "Poison",
          "Poison",
          "Poison",
          "Poison",
          "Poison",
          "Poison",
          "Poison",
          "Poison",
          "Poison",
          "Poison",
          "Poison",
          "Poison",
          "Poison",
          "Poison",
          "Poison"
         ],
         "x0": " ",
         "xaxis": "x",
         "y": [
          17,
          28,
          20,
          27,
          36,
          15,
          23,
          32,
          13,
          28,
          20,
          20,
          31,
          31,
          40,
          51,
          51,
          33,
          21,
          34,
          24,
          18,
          27,
          37,
          46,
          15,
          26,
          25,
          34,
          24,
          37,
          25,
          65,
          15,
          24
         ],
         "y0": " ",
         "yaxis": "y"
        },
        {
         "alignmentgroup": "True",
         "hovertemplate": "Tipo de Pókemon=%{x}<br>Valor de Defesa=%{y}<extra></extra>",
         "legendgroup": "Electric",
         "marker": {
          "color": "#B6E880"
         },
         "name": "Electric",
         "notched": false,
         "offsetgroup": "Electric",
         "orientation": "v",
         "showlegend": true,
         "type": "box",
         "x": [
          "Electric",
          "Electric",
          "Electric",
          "Electric",
          "Electric",
          "Electric",
          "Electric",
          "Electric",
          "Electric",
          "Electric",
          "Electric",
          "Electric",
          "Electric",
          "Electric",
          "Electric",
          "Electric",
          "Electric",
          "Electric",
          "Electric",
          "Electric",
          "Electric",
          "Electric",
          "Electric",
          "Electric",
          "Electric",
          "Electric",
          "Electric",
          "Electric",
          "Electric",
          "Electric",
          "Electric",
          "Electric",
          "Electric",
          "Electric",
          "Electric",
          "Electric",
          "Electric",
          "Electric",
          "Electric",
          "Electric",
          "Electric",
          "Electric",
          "Electric",
          "Electric",
          "Electric",
          "Electric",
          "Electric",
          "Electric",
          "Electric",
          "Electric",
          "Electric",
          "Electric"
         ],
         "x0": " ",
         "xaxis": "x",
         "y": [
          15,
          20,
          22,
          20,
          28,
          40,
          20,
          28,
          23,
          24,
          4,
          15,
          22,
          35,
          14,
          15,
          24,
          15,
          20,
          12,
          19,
          32,
          28,
          48,
          27,
          32,
          45,
          45,
          45,
          45,
          45,
          12,
          25,
          24,
          15,
          28,
          33,
          12,
          20,
          23,
          28,
          25,
          20,
          24,
          13,
          28,
          28,
          40,
          23,
          23,
          37,
          37
         ],
         "y0": " ",
         "yaxis": "y"
        },
        {
         "alignmentgroup": "True",
         "hovertemplate": "Tipo de Pókemon=%{x}<br>Valor de Defesa=%{y}<extra></extra>",
         "legendgroup": "Ground",
         "marker": {
          "color": "#FF97FF"
         },
         "name": "Ground",
         "notched": false,
         "offsetgroup": "Ground",
         "orientation": "v",
         "showlegend": true,
         "type": "box",
         "x": [
          "Ground",
          "Ground",
          "Ground",
          "Ground",
          "Ground",
          "Ground",
          "Ground",
          "Ground",
          "Ground",
          "Ground",
          "Ground",
          "Ground",
          "Ground",
          "Ground",
          "Ground",
          "Ground",
          "Ground",
          "Ground",
          "Ground",
          "Ground",
          "Ground",
          "Ground",
          "Ground",
          "Ground",
          "Ground",
          "Ground",
          "Ground",
          "Ground",
          "Ground",
          "Ground",
          "Ground",
          "Ground",
          "Ground",
          "Ground",
          "Ground",
          "Ground",
          "Ground"
         ],
         "x0": " ",
         "xaxis": "x",
         "y": [
          35,
          46,
          8,
          11,
          20,
          24,
          40,
          46,
          40,
          51,
          44,
          24,
          51,
          17,
          20,
          33,
          22,
          44,
          32,
          50,
          55,
          53,
          15,
          24,
          13,
          17,
          33,
          35,
          35,
          41,
          20,
          33,
          28,
          42,
          31,
          53,
          62
         ],
         "y0": " ",
         "yaxis": "y"
        },
        {
         "alignmentgroup": "True",
         "hovertemplate": "Tipo de Pókemon=%{x}<br>Valor de Defesa=%{y}<extra></extra>",
         "legendgroup": "Ice",
         "marker": {
          "color": "#FECB52"
         },
         "name": "Ice",
         "notched": false,
         "offsetgroup": "Ice",
         "orientation": "v",
         "showlegend": true,
         "type": "box",
         "x": [
          "Ice",
          "Ice",
          "Ice",
          "Ice",
          "Ice",
          "Ice",
          "Ice",
          "Ice",
          "Ice",
          "Ice",
          "Ice",
          "Ice",
          "Ice",
          "Ice",
          "Ice",
          "Ice",
          "Ice",
          "Ice",
          "Ice",
          "Ice",
          "Ice",
          "Ice",
          "Ice",
          "Ice",
          "Ice",
          "Ice",
          "Ice",
          "Ice",
          "Ice",
          "Ice",
          "Ice",
          "Ice",
          "Ice"
         ],
         "x0": " ",
         "xaxis": "x",
         "y": [
          37,
          51,
          15,
          31,
          13,
          15,
          33,
          17,
          4,
          28,
          20,
          33,
          20,
          28,
          37,
          46,
          33,
          28,
          17,
          22,
          22,
          20,
          26,
          35,
          15,
          33,
          20,
          35,
          79,
          13,
          24,
          46,
          28
         ],
         "y0": " ",
         "yaxis": "y"
        },
        {
         "alignmentgroup": "True",
         "hovertemplate": "Tipo de Pókemon=%{x}<br>Valor de Defesa=%{y}<extra></extra>",
         "legendgroup": "Fairy",
         "marker": {
          "color": "#636efa"
         },
         "name": "Fairy",
         "notched": false,
         "offsetgroup": "Fairy",
         "orientation": "v",
         "showlegend": true,
         "type": "box",
         "x": [
          "Fairy",
          "Fairy",
          "Fairy",
          "Fairy",
          "Fairy",
          "Fairy",
          "Fairy",
          "Fairy",
          "Fairy",
          "Fairy",
          "Fairy",
          "Fairy",
          "Fairy",
          "Fairy",
          "Fairy",
          "Fairy",
          "Fairy",
          "Fairy",
          "Fairy"
         ],
         "x0": " ",
         "xaxis": "x",
         "y": [
          19,
          30,
          10,
          26,
          35,
          20,
          31,
          40,
          15,
          18,
          28,
          24,
          29,
          27,
          36,
          26,
          37,
          15,
          31
         ],
         "y0": " ",
         "yaxis": "y"
        },
        {
         "alignmentgroup": "True",
         "hovertemplate": "Tipo de Pókemon=%{x}<br>Valor de Defesa=%{y}<extra></extra>",
         "legendgroup": "Steel",
         "marker": {
          "color": "#EF553B"
         },
         "name": "Steel",
         "notched": false,
         "offsetgroup": "Steel",
         "orientation": "v",
         "showlegend": true,
         "type": "box",
         "x": [
          "Steel",
          "Steel",
          "Steel",
          "Steel",
          "Steel",
          "Steel",
          "Steel",
          "Steel",
          "Steel",
          "Steel",
          "Steel",
          "Steel",
          "Steel",
          "Steel",
          "Steel",
          "Steel",
          "Steel",
          "Steel",
          "Steel",
          "Steel",
          "Steel",
          "Steel",
          "Steel",
          "Steel"
         ],
         "x0": " ",
         "xaxis": "x",
         "y": [
          22,
          86,
          60,
          35,
          42,
          60,
          77,
          33,
          42,
          55,
          36,
          49,
          28,
          40,
          48,
          42,
          64,
          20,
          64,
          38,
          42,
          19,
          28,
          48
         ],
         "y0": " ",
         "yaxis": "y"
        },
        {
         "alignmentgroup": "True",
         "hovertemplate": "Tipo de Pókemon=%{x}<br>Valor de Defesa=%{y}<extra></extra>",
         "legendgroup": "Fighting",
         "marker": {
          "color": "#00cc96"
         },
         "name": "Fighting",
         "notched": false,
         "offsetgroup": "Fighting",
         "orientation": "v",
         "showlegend": true,
         "type": "box",
         "x": [
          "Fighting",
          "Fighting",
          "Fighting",
          "Fighting",
          "Fighting",
          "Fighting",
          "Fighting",
          "Fighting",
          "Fighting",
          "Fighting",
          "Fighting",
          "Fighting",
          "Fighting",
          "Fighting",
          "Fighting",
          "Fighting",
          "Fighting",
          "Fighting",
          "Fighting",
          "Fighting",
          "Fighting",
          "Fighting",
          "Fighting",
          "Fighting",
          "Fighting",
          "Fighting",
          "Fighting",
          "Fighting",
          "Fighting",
          "Fighting",
          "Fighting",
          "Fighting",
          "Fighting"
         ],
         "x0": " ",
         "xaxis": "x",
         "y": [
          13,
          24,
          20,
          28,
          33,
          22,
          21,
          32,
          13,
          40,
          11,
          24,
          22,
          31,
          15,
          28,
          22,
          35,
          40,
          35,
          31,
          20,
          24,
          25,
          32,
          31,
          23,
          32,
          37,
          24,
          37,
          40,
          42
         ],
         "y0": " ",
         "yaxis": "y"
        },
        {
         "alignmentgroup": "True",
         "hovertemplate": "Tipo de Pókemon=%{x}<br>Valor de Defesa=%{y}<extra></extra>",
         "legendgroup": "Psychic",
         "marker": {
          "color": "#ab63fa"
         },
         "name": "Psychic",
         "notched": false,
         "offsetgroup": "Psychic",
         "orientation": "v",
         "showlegend": true,
         "type": "box",
         "x": [
          "Psychic",
          "Psychic",
          "Psychic",
          "Psychic",
          "Psychic",
          "Psychic",
          "Psychic",
          "Psychic",
          "Psychic",
          "Psychic",
          "Psychic",
          "Psychic",
          "Psychic",
          "Psychic",
          "Psychic",
          "Psychic",
          "Psychic",
          "Psychic",
          "Psychic",
          "Psychic",
          "Psychic",
          "Psychic",
          "Psychic",
          "Psychic",
          "Psychic",
          "Psychic",
          "Psychic",
          "Psychic",
          "Psychic",
          "Psychic",
          "Psychic",
          "Psychic",
          "Psychic",
          "Psychic",
          "Psychic",
          "Psychic",
          "Psychic",
          "Psychic",
          "Psychic",
          "Psychic",
          "Psychic",
          "Psychic",
          "Psychic",
          "Psychic",
          "Psychic",
          "Psychic",
          "Psychic"
         ],
         "x0": " ",
         "xaxis": "x",
         "y": [
          4,
          11,
          17,
          22,
          28,
          17,
          28,
          26,
          26,
          17,
          28,
          24,
          19,
          23,
          8,
          13,
          26,
          13,
          26,
          33,
          19,
          20,
          17,
          26,
          17,
          35,
          16,
          22,
          33,
          20,
          28,
          40,
          15,
          20,
          31,
          22,
          31,
          21,
          31,
          31,
          28,
          17,
          26,
          40,
          31,
          22,
          26
         ],
         "y0": " ",
         "yaxis": "y"
        },
        {
         "alignmentgroup": "True",
         "hovertemplate": "Tipo de Pókemon=%{x}<br>Valor de Defesa=%{y}<extra></extra>",
         "legendgroup": "Rock",
         "marker": {
          "color": "#FFA15A"
         },
         "name": "Rock",
         "notched": false,
         "offsetgroup": "Rock",
         "orientation": "v",
         "showlegend": true,
         "type": "box",
         "x": [
          "Rock",
          "Rock",
          "Rock",
          "Rock",
          "Rock",
          "Rock",
          "Rock",
          "Rock",
          "Rock",
          "Rock",
          "Rock",
          "Rock",
          "Rock",
          "Rock",
          "Rock",
          "Rock",
          "Rock",
          "Rock",
          "Rock",
          "Rock",
          "Rock",
          "Rock",
          "Rock",
          "Rock",
          "Rock",
          "Rock",
          "Rock",
          "Rock",
          "Rock",
          "Rock",
          "Rock",
          "Rock",
          "Rock",
          "Rock",
          "Rock",
          "Rock",
          "Rock",
          "Rock",
          "Rock",
          "Rock",
          "Rock",
          "Rock",
          "Rock",
          "Rock",
          "Rock",
          "Rock",
          "Rock",
          "Rock",
          "Rock",
          "Rock",
          "Rock",
          "Rock"
         ],
         "x0": " ",
         "xaxis": "x",
         "y": [
          42,
          42,
          48,
          48,
          55,
          55,
          68,
          42,
          53,
          37,
          44,
          26,
          48,
          20,
          28,
          46,
          57,
          26,
          35,
          32,
          40,
          20,
          42,
          15,
          24,
          50,
          72,
          40,
          62,
          35,
          44,
          55,
          17,
          26,
          27,
          48,
          32,
          50,
          20,
          29,
          64,
          15,
          15,
          26,
          31,
          26,
          42,
          24,
          20,
          37,
          51,
          57
         ],
         "y0": " ",
         "yaxis": "y"
        },
        {
         "alignmentgroup": "True",
         "hovertemplate": "Tipo de Pókemon=%{x}<br>Valor de Defesa=%{y}<extra></extra>",
         "legendgroup": "Ghost",
         "marker": {
          "color": "#19d3f3"
         },
         "name": "Ghost",
         "notched": false,
         "offsetgroup": "Ghost",
         "orientation": "v",
         "showlegend": true,
         "type": "box",
         "x": [
          "Ghost",
          "Ghost",
          "Ghost",
          "Ghost",
          "Ghost",
          "Ghost",
          "Ghost",
          "Ghost",
          "Ghost",
          "Ghost",
          "Ghost",
          "Ghost",
          "Ghost",
          "Ghost",
          "Ghost",
          "Ghost",
          "Ghost",
          "Ghost",
          "Ghost",
          "Ghost",
          "Ghost",
          "Ghost",
          "Ghost",
          "Ghost",
          "Ghost",
          "Ghost",
          "Ghost",
          "Ghost",
          "Ghost",
          "Ghost",
          "Ghost",
          "Ghost",
          "Ghost",
          "Ghost",
          "Ghost",
          "Ghost",
          "Ghost"
         ],
         "x0": " ",
         "xaxis": "x",
         "y": [
          11,
          17,
          24,
          24,
          42,
          13,
          26,
          37,
          55,
          12,
          17,
          24,
          45,
          57,
          35,
          62,
          22,
          24,
          37,
          19,
          31,
          28,
          28,
          28,
          28,
          52,
          52,
          52,
          52,
          28,
          33,
          46,
          33,
          42,
          17,
          26,
          20
         ],
         "y0": " ",
         "yaxis": "y"
        },
        {
         "alignmentgroup": "True",
         "hovertemplate": "Tipo de Pókemon=%{x}<br>Valor de Defesa=%{y}<extra></extra>",
         "legendgroup": "Dragon",
         "marker": {
          "color": "#FF6692"
         },
         "name": "Dragon",
         "notched": false,
         "offsetgroup": "Dragon",
         "orientation": "v",
         "showlegend": true,
         "type": "box",
         "x": [
          "Dragon",
          "Dragon",
          "Dragon",
          "Dragon",
          "Dragon",
          "Dragon",
          "Dragon",
          "Dragon",
          "Dragon",
          "Dragon",
          "Dragon",
          "Dragon",
          "Dragon",
          "Dragon",
          "Dragon",
          "Dragon",
          "Dragon",
          "Dragon",
          "Dragon",
          "Dragon",
          "Dragon",
          "Dragon",
          "Dragon"
         ],
         "x0": " ",
         "xaxis": "x",
         "y": [
          17,
          26,
          40,
          37,
          24,
          42,
          33,
          17,
          26,
          40,
          24,
          28,
          37,
          37,
          13,
          21,
          28,
          26,
          37,
          53,
          11,
          20,
          31
         ],
         "y0": " ",
         "yaxis": "y"
        },
        {
         "alignmentgroup": "True",
         "hovertemplate": "Tipo de Pókemon=%{x}<br>Valor de Defesa=%{y}<extra></extra>",
         "legendgroup": "Flying",
         "marker": {
          "color": "#B6E880"
         },
         "name": "Flying",
         "notched": false,
         "offsetgroup": "Flying",
         "orientation": "v",
         "showlegend": true,
         "type": "box",
         "x": [
          "Flying",
          "Flying",
          "Flying",
          "Flying",
          "Flying",
          "Flying"
         ],
         "x0": " ",
         "xaxis": "x",
         "y": [
          13,
          33,
          13,
          22,
          44,
          22
         ],
         "y0": " ",
         "yaxis": "y"
        }
       ],
       "layout": {
        "boxmode": "overlay",
        "legend": {
         "font": {
          "size": 15,
          "weight": "bold"
         },
         "title": {
          "text": "Tipo de Pókemon"
         },
         "tracegroupgap": 0
        },
        "template": {
         "data": {
          "bar": [
           {
            "error_x": {
             "color": "#2a3f5f"
            },
            "error_y": {
             "color": "#2a3f5f"
            },
            "marker": {
             "line": {
              "color": "#E5ECF6",
              "width": 0.5
             },
             "pattern": {
              "fillmode": "overlay",
              "size": 10,
              "solidity": 0.2
             }
            },
            "type": "bar"
           }
          ],
          "barpolar": [
           {
            "marker": {
             "line": {
              "color": "#E5ECF6",
              "width": 0.5
             },
             "pattern": {
              "fillmode": "overlay",
              "size": 10,
              "solidity": 0.2
             }
            },
            "type": "barpolar"
           }
          ],
          "carpet": [
           {
            "aaxis": {
             "endlinecolor": "#2a3f5f",
             "gridcolor": "white",
             "linecolor": "white",
             "minorgridcolor": "white",
             "startlinecolor": "#2a3f5f"
            },
            "baxis": {
             "endlinecolor": "#2a3f5f",
             "gridcolor": "white",
             "linecolor": "white",
             "minorgridcolor": "white",
             "startlinecolor": "#2a3f5f"
            },
            "type": "carpet"
           }
          ],
          "choropleth": [
           {
            "colorbar": {
             "outlinewidth": 0,
             "ticks": ""
            },
            "type": "choropleth"
           }
          ],
          "contour": [
           {
            "colorbar": {
             "outlinewidth": 0,
             "ticks": ""
            },
            "colorscale": [
             [
              0,
              "#0d0887"
             ],
             [
              0.1111111111111111,
              "#46039f"
             ],
             [
              0.2222222222222222,
              "#7201a8"
             ],
             [
              0.3333333333333333,
              "#9c179e"
             ],
             [
              0.4444444444444444,
              "#bd3786"
             ],
             [
              0.5555555555555556,
              "#d8576b"
             ],
             [
              0.6666666666666666,
              "#ed7953"
             ],
             [
              0.7777777777777778,
              "#fb9f3a"
             ],
             [
              0.8888888888888888,
              "#fdca26"
             ],
             [
              1,
              "#f0f921"
             ]
            ],
            "type": "contour"
           }
          ],
          "contourcarpet": [
           {
            "colorbar": {
             "outlinewidth": 0,
             "ticks": ""
            },
            "type": "contourcarpet"
           }
          ],
          "heatmap": [
           {
            "colorbar": {
             "outlinewidth": 0,
             "ticks": ""
            },
            "colorscale": [
             [
              0,
              "#0d0887"
             ],
             [
              0.1111111111111111,
              "#46039f"
             ],
             [
              0.2222222222222222,
              "#7201a8"
             ],
             [
              0.3333333333333333,
              "#9c179e"
             ],
             [
              0.4444444444444444,
              "#bd3786"
             ],
             [
              0.5555555555555556,
              "#d8576b"
             ],
             [
              0.6666666666666666,
              "#ed7953"
             ],
             [
              0.7777777777777778,
              "#fb9f3a"
             ],
             [
              0.8888888888888888,
              "#fdca26"
             ],
             [
              1,
              "#f0f921"
             ]
            ],
            "type": "heatmap"
           }
          ],
          "heatmapgl": [
           {
            "colorbar": {
             "outlinewidth": 0,
             "ticks": ""
            },
            "colorscale": [
             [
              0,
              "#0d0887"
             ],
             [
              0.1111111111111111,
              "#46039f"
             ],
             [
              0.2222222222222222,
              "#7201a8"
             ],
             [
              0.3333333333333333,
              "#9c179e"
             ],
             [
              0.4444444444444444,
              "#bd3786"
             ],
             [
              0.5555555555555556,
              "#d8576b"
             ],
             [
              0.6666666666666666,
              "#ed7953"
             ],
             [
              0.7777777777777778,
              "#fb9f3a"
             ],
             [
              0.8888888888888888,
              "#fdca26"
             ],
             [
              1,
              "#f0f921"
             ]
            ],
            "type": "heatmapgl"
           }
          ],
          "histogram": [
           {
            "marker": {
             "pattern": {
              "fillmode": "overlay",
              "size": 10,
              "solidity": 0.2
             }
            },
            "type": "histogram"
           }
          ],
          "histogram2d": [
           {
            "colorbar": {
             "outlinewidth": 0,
             "ticks": ""
            },
            "colorscale": [
             [
              0,
              "#0d0887"
             ],
             [
              0.1111111111111111,
              "#46039f"
             ],
             [
              0.2222222222222222,
              "#7201a8"
             ],
             [
              0.3333333333333333,
              "#9c179e"
             ],
             [
              0.4444444444444444,
              "#bd3786"
             ],
             [
              0.5555555555555556,
              "#d8576b"
             ],
             [
              0.6666666666666666,
              "#ed7953"
             ],
             [
              0.7777777777777778,
              "#fb9f3a"
             ],
             [
              0.8888888888888888,
              "#fdca26"
             ],
             [
              1,
              "#f0f921"
             ]
            ],
            "type": "histogram2d"
           }
          ],
          "histogram2dcontour": [
           {
            "colorbar": {
             "outlinewidth": 0,
             "ticks": ""
            },
            "colorscale": [
             [
              0,
              "#0d0887"
             ],
             [
              0.1111111111111111,
              "#46039f"
             ],
             [
              0.2222222222222222,
              "#7201a8"
             ],
             [
              0.3333333333333333,
              "#9c179e"
             ],
             [
              0.4444444444444444,
              "#bd3786"
             ],
             [
              0.5555555555555556,
              "#d8576b"
             ],
             [
              0.6666666666666666,
              "#ed7953"
             ],
             [
              0.7777777777777778,
              "#fb9f3a"
             ],
             [
              0.8888888888888888,
              "#fdca26"
             ],
             [
              1,
              "#f0f921"
             ]
            ],
            "type": "histogram2dcontour"
           }
          ],
          "mesh3d": [
           {
            "colorbar": {
             "outlinewidth": 0,
             "ticks": ""
            },
            "type": "mesh3d"
           }
          ],
          "parcoords": [
           {
            "line": {
             "colorbar": {
              "outlinewidth": 0,
              "ticks": ""
             }
            },
            "type": "parcoords"
           }
          ],
          "pie": [
           {
            "automargin": true,
            "type": "pie"
           }
          ],
          "scatter": [
           {
            "fillpattern": {
             "fillmode": "overlay",
             "size": 10,
             "solidity": 0.2
            },
            "type": "scatter"
           }
          ],
          "scatter3d": [
           {
            "line": {
             "colorbar": {
              "outlinewidth": 0,
              "ticks": ""
             }
            },
            "marker": {
             "colorbar": {
              "outlinewidth": 0,
              "ticks": ""
             }
            },
            "type": "scatter3d"
           }
          ],
          "scattercarpet": [
           {
            "marker": {
             "colorbar": {
              "outlinewidth": 0,
              "ticks": ""
             }
            },
            "type": "scattercarpet"
           }
          ],
          "scattergeo": [
           {
            "marker": {
             "colorbar": {
              "outlinewidth": 0,
              "ticks": ""
             }
            },
            "type": "scattergeo"
           }
          ],
          "scattergl": [
           {
            "marker": {
             "colorbar": {
              "outlinewidth": 0,
              "ticks": ""
             }
            },
            "type": "scattergl"
           }
          ],
          "scattermapbox": [
           {
            "marker": {
             "colorbar": {
              "outlinewidth": 0,
              "ticks": ""
             }
            },
            "type": "scattermapbox"
           }
          ],
          "scatterpolar": [
           {
            "marker": {
             "colorbar": {
              "outlinewidth": 0,
              "ticks": ""
             }
            },
            "type": "scatterpolar"
           }
          ],
          "scatterpolargl": [
           {
            "marker": {
             "colorbar": {
              "outlinewidth": 0,
              "ticks": ""
             }
            },
            "type": "scatterpolargl"
           }
          ],
          "scatterternary": [
           {
            "marker": {
             "colorbar": {
              "outlinewidth": 0,
              "ticks": ""
             }
            },
            "type": "scatterternary"
           }
          ],
          "surface": [
           {
            "colorbar": {
             "outlinewidth": 0,
             "ticks": ""
            },
            "colorscale": [
             [
              0,
              "#0d0887"
             ],
             [
              0.1111111111111111,
              "#46039f"
             ],
             [
              0.2222222222222222,
              "#7201a8"
             ],
             [
              0.3333333333333333,
              "#9c179e"
             ],
             [
              0.4444444444444444,
              "#bd3786"
             ],
             [
              0.5555555555555556,
              "#d8576b"
             ],
             [
              0.6666666666666666,
              "#ed7953"
             ],
             [
              0.7777777777777778,
              "#fb9f3a"
             ],
             [
              0.8888888888888888,
              "#fdca26"
             ],
             [
              1,
              "#f0f921"
             ]
            ],
            "type": "surface"
           }
          ],
          "table": [
           {
            "cells": {
             "fill": {
              "color": "#EBF0F8"
             },
             "line": {
              "color": "white"
             }
            },
            "header": {
             "fill": {
              "color": "#C8D4E3"
             },
             "line": {
              "color": "white"
             }
            },
            "type": "table"
           }
          ]
         },
         "layout": {
          "annotationdefaults": {
           "arrowcolor": "#2a3f5f",
           "arrowhead": 0,
           "arrowwidth": 1
          },
          "autotypenumbers": "strict",
          "coloraxis": {
           "colorbar": {
            "outlinewidth": 0,
            "ticks": ""
           }
          },
          "colorscale": {
           "diverging": [
            [
             0,
             "#8e0152"
            ],
            [
             0.1,
             "#c51b7d"
            ],
            [
             0.2,
             "#de77ae"
            ],
            [
             0.3,
             "#f1b6da"
            ],
            [
             0.4,
             "#fde0ef"
            ],
            [
             0.5,
             "#f7f7f7"
            ],
            [
             0.6,
             "#e6f5d0"
            ],
            [
             0.7,
             "#b8e186"
            ],
            [
             0.8,
             "#7fbc41"
            ],
            [
             0.9,
             "#4d9221"
            ],
            [
             1,
             "#276419"
            ]
           ],
           "sequential": [
            [
             0,
             "#0d0887"
            ],
            [
             0.1111111111111111,
             "#46039f"
            ],
            [
             0.2222222222222222,
             "#7201a8"
            ],
            [
             0.3333333333333333,
             "#9c179e"
            ],
            [
             0.4444444444444444,
             "#bd3786"
            ],
            [
             0.5555555555555556,
             "#d8576b"
            ],
            [
             0.6666666666666666,
             "#ed7953"
            ],
            [
             0.7777777777777778,
             "#fb9f3a"
            ],
            [
             0.8888888888888888,
             "#fdca26"
            ],
            [
             1,
             "#f0f921"
            ]
           ],
           "sequentialminus": [
            [
             0,
             "#0d0887"
            ],
            [
             0.1111111111111111,
             "#46039f"
            ],
            [
             0.2222222222222222,
             "#7201a8"
            ],
            [
             0.3333333333333333,
             "#9c179e"
            ],
            [
             0.4444444444444444,
             "#bd3786"
            ],
            [
             0.5555555555555556,
             "#d8576b"
            ],
            [
             0.6666666666666666,
             "#ed7953"
            ],
            [
             0.7777777777777778,
             "#fb9f3a"
            ],
            [
             0.8888888888888888,
             "#fdca26"
            ],
            [
             1,
             "#f0f921"
            ]
           ]
          },
          "colorway": [
           "#636efa",
           "#EF553B",
           "#00cc96",
           "#ab63fa",
           "#FFA15A",
           "#19d3f3",
           "#FF6692",
           "#B6E880",
           "#FF97FF",
           "#FECB52"
          ],
          "font": {
           "color": "#2a3f5f"
          },
          "geo": {
           "bgcolor": "white",
           "lakecolor": "white",
           "landcolor": "#E5ECF6",
           "showlakes": true,
           "showland": true,
           "subunitcolor": "white"
          },
          "hoverlabel": {
           "align": "left"
          },
          "hovermode": "closest",
          "mapbox": {
           "style": "light"
          },
          "paper_bgcolor": "white",
          "plot_bgcolor": "#E5ECF6",
          "polar": {
           "angularaxis": {
            "gridcolor": "white",
            "linecolor": "white",
            "ticks": ""
           },
           "bgcolor": "#E5ECF6",
           "radialaxis": {
            "gridcolor": "white",
            "linecolor": "white",
            "ticks": ""
           }
          },
          "scene": {
           "xaxis": {
            "backgroundcolor": "#E5ECF6",
            "gridcolor": "white",
            "gridwidth": 2,
            "linecolor": "white",
            "showbackground": true,
            "ticks": "",
            "zerolinecolor": "white"
           },
           "yaxis": {
            "backgroundcolor": "#E5ECF6",
            "gridcolor": "white",
            "gridwidth": 2,
            "linecolor": "white",
            "showbackground": true,
            "ticks": "",
            "zerolinecolor": "white"
           },
           "zaxis": {
            "backgroundcolor": "#E5ECF6",
            "gridcolor": "white",
            "gridwidth": 2,
            "linecolor": "white",
            "showbackground": true,
            "ticks": "",
            "zerolinecolor": "white"
           }
          },
          "shapedefaults": {
           "line": {
            "color": "#2a3f5f"
           }
          },
          "ternary": {
           "aaxis": {
            "gridcolor": "white",
            "linecolor": "white",
            "ticks": ""
           },
           "baxis": {
            "gridcolor": "white",
            "linecolor": "white",
            "ticks": ""
           },
           "bgcolor": "#E5ECF6",
           "caxis": {
            "gridcolor": "white",
            "linecolor": "white",
            "ticks": ""
           }
          },
          "title": {
           "x": 0.05
          },
          "xaxis": {
           "automargin": true,
           "gridcolor": "white",
           "linecolor": "white",
           "ticks": "",
           "title": {
            "standoff": 15
           },
           "zerolinecolor": "white",
           "zerolinewidth": 2
          },
          "yaxis": {
           "automargin": true,
           "gridcolor": "white",
           "linecolor": "white",
           "ticks": "",
           "title": {
            "standoff": 15
           },
           "zerolinecolor": "white",
           "zerolinewidth": 2
          }
         }
        },
        "title": {
         "font": {
          "color": "black",
          "family": "Arial",
          "size": 35
         },
         "text": "Diferentes tipo de Pókemons e sua Defesa"
        },
        "xaxis": {
         "anchor": "y",
         "categoryarray": [
          "Grass",
          "Fire",
          "Water",
          "Bug",
          "Normal",
          "Dark",
          "Poison",
          "Electric",
          "Ground",
          "Ice",
          "Fairy",
          "Steel",
          "Fighting",
          "Psychic",
          "Rock",
          "Ghost",
          "Dragon",
          "Flying"
         ],
         "categoryorder": "array",
         "domain": [
          0,
          1
         ],
         "tickfont": {
          "size": 15
         },
         "title": {
          "font": {
           "color": "black",
           "family": "Arial",
           "size": 26
          },
          "text": "Tipo de Pokémon"
         }
        },
        "yaxis": {
         "anchor": "x",
         "domain": [
          0,
          1
         ],
         "tickfont": {
          "size": 15
         },
         "title": {
          "font": {
           "color": "black",
           "family": "Arial",
           "size": 26
          },
          "text": "Valor de Defesa"
         }
        }
       }
      }
     },
     "metadata": {},
     "output_type": "display_data"
    }
   ],
   "source": [
    "#O tipo steel possui pokemons com defesas acima da maior parte do pokemons\n",
    "#O tipo bug possui o pokemon com melhor defesa(99)\n",
    "\n",
    "\n",
    "fig_box2 = px.box(df_boss_2, x='type_1', y='defense', title='Diferentes tipo de Pókemons e sua Defesa', color= 'type_1',labels={\n",
    "    'type_1': 'Tipo de Pókemon',\n",
    "    'defense': 'Valor de Defesa'\n",
    "})\n",
    "fig_box2.update_layout( \n",
    "    title={\n",
    "        'text': 'Diferentes tipo de Pókemons e sua Defesa',\n",
    "        'font': {'size': 35, 'family': 'Arial', 'color': 'black'}\n",
    "    },\n",
    "    xaxis_title={\n",
    "        'text': 'Tipo de Pokémon',\n",
    "        'font': {'size': 26, 'family': 'Arial', 'color': 'black'}\n",
    "    },\n",
    "    yaxis_title={\n",
    "        'text': 'Valor de Defesa',\n",
    "        'font': {'size': 26, 'family': 'Arial', 'color': 'black'}\n",
    "    },\n",
    "    legend=dict(font={'size': 15, 'weight': 'bold'})\n",
    ")\n",
    "fig_box2.update_xaxes(tickfont=dict(size=15))\n",
    "fig_box2.update_yaxes(tickfont=dict(size=15))"
   ]
  },
  {
   "cell_type": "code",
   "execution_count": 10,
   "id": "580ef6d9",
   "metadata": {},
   "outputs": [
    {
     "data": {
      "application/vnd.plotly.v1+json": {
       "config": {
        "plotlyServerURL": "https://plot.ly"
       },
       "data": [
        {
         "alignmentgroup": "True",
         "hovertemplate": "Tipo de Pókemon=%{x}<br>Valor de Valocidade=%{y}<extra></extra>",
         "legendgroup": "Grass",
         "marker": {
          "color": "#636efa"
         },
         "name": "Grass",
         "notched": false,
         "offsetgroup": "Grass",
         "orientation": "v",
         "showlegend": true,
         "type": "box",
         "x": [
          "Grass",
          "Grass",
          "Grass",
          "Grass",
          "Grass",
          "Grass",
          "Grass",
          "Grass",
          "Grass",
          "Grass",
          "Grass",
          "Grass",
          "Grass",
          "Grass",
          "Grass",
          "Grass",
          "Grass",
          "Grass",
          "Grass",
          "Grass",
          "Grass",
          "Grass",
          "Grass",
          "Grass",
          "Grass",
          "Grass",
          "Grass",
          "Grass",
          "Grass",
          "Grass",
          "Grass",
          "Grass",
          "Grass",
          "Grass",
          "Grass",
          "Grass",
          "Grass",
          "Grass",
          "Grass",
          "Grass",
          "Grass",
          "Grass",
          "Grass",
          "Grass",
          "Grass",
          "Grass",
          "Grass",
          "Grass",
          "Grass",
          "Grass",
          "Grass",
          "Grass",
          "Grass",
          "Grass",
          "Grass",
          "Grass",
          "Grass",
          "Grass",
          "Grass",
          "Grass",
          "Grass",
          "Grass",
          "Grass",
          "Grass",
          "Grass",
          "Grass",
          "Grass",
          "Grass",
          "Grass",
          "Grass",
          "Grass",
          "Grass",
          "Grass",
          "Grass",
          "Grass",
          "Grass",
          "Grass",
          "Grass",
          "Grass",
          "Grass",
          "Grass",
          "Grass"
         ],
         "x0": " ",
         "xaxis": "x",
         "y": [
          25,
          35,
          48,
          16,
          22,
          29,
          22,
          32,
          41,
          22,
          32,
          25,
          35,
          25,
          35,
          29,
          29,
          48,
          67,
          16,
          16,
          41,
          58,
          74,
          16,
          35,
          48,
          19,
          41,
          38,
          19,
          32,
          29,
          16,
          20,
          32,
          32,
          54,
          19,
          51,
          26,
          22,
          35,
          29,
          58,
          37,
          50,
          69,
          38,
          61,
          39,
          71,
          16,
          54,
          35,
          6,
          16,
          3,
          9,
          21,
          33,
          38,
          30,
          40,
          23,
          30,
          41,
          19,
          25,
          6,
          16,
          17,
          36,
          43,
          38,
          48,
          51,
          3,
          35,
          9,
          41,
          16
         ],
         "y0": " ",
         "yaxis": "y"
        },
        {
         "alignmentgroup": "True",
         "hovertemplate": "Tipo de Pókemon=%{x}<br>Valor de Valocidade=%{y}<extra></extra>",
         "legendgroup": "Fire",
         "marker": {
          "color": "#EF553B"
         },
         "name": "Fire",
         "notched": false,
         "offsetgroup": "Fire",
         "orientation": "v",
         "showlegend": true,
         "type": "box",
         "x": [
          "Fire",
          "Fire",
          "Fire",
          "Fire",
          "Fire",
          "Fire",
          "Fire",
          "Fire",
          "Fire",
          "Fire",
          "Fire",
          "Fire",
          "Fire",
          "Fire",
          "Fire",
          "Fire",
          "Fire",
          "Fire",
          "Fire",
          "Fire",
          "Fire",
          "Fire",
          "Fire",
          "Fire",
          "Fire",
          "Fire",
          "Fire",
          "Fire",
          "Fire",
          "Fire",
          "Fire",
          "Fire",
          "Fire",
          "Fire",
          "Fire",
          "Fire",
          "Fire",
          "Fire",
          "Fire",
          "Fire",
          "Fire",
          "Fire",
          "Fire",
          "Fire",
          "Fire",
          "Fire",
          "Fire",
          "Fire",
          "Fire",
          "Fire",
          "Fire",
          "Fire",
          "Fire",
          "Fire",
          "Fire"
         ],
         "x0": " ",
         "xaxis": "x",
         "y": [
          38,
          48,
          61,
          38,
          61,
          35,
          58,
          54,
          64,
          25,
          56,
          38,
          38,
          48,
          61,
          9,
          16,
          50,
          25,
          32,
          48,
          19,
          22,
          9,
          41,
          36,
          49,
          66,
          50,
          25,
          32,
          38,
          38,
          61,
          29,
          58,
          32,
          38,
          35,
          43,
          63,
          50,
          78,
          43,
          65,
          41,
          54,
          35,
          56,
          20,
          41,
          57,
          73,
          25,
          38
         ],
         "y0": " ",
         "yaxis": "y"
        },
        {
         "alignmentgroup": "True",
         "hovertemplate": "Tipo de Pókemon=%{x}<br>Valor de Valocidade=%{y}<extra></extra>",
         "legendgroup": "Water",
         "marker": {
          "color": "#00cc96"
         },
         "name": "Water",
         "notched": false,
         "offsetgroup": "Water",
         "orientation": "v",
         "showlegend": true,
         "type": "box",
         "x": [
          "Water",
          "Water",
          "Water",
          "Water",
          "Water",
          "Water",
          "Water",
          "Water",
          "Water",
          "Water",
          "Water",
          "Water",
          "Water",
          "Water",
          "Water",
          "Water",
          "Water",
          "Water",
          "Water",
          "Water",
          "Water",
          "Water",
          "Water",
          "Water",
          "Water",
          "Water",
          "Water",
          "Water",
          "Water",
          "Water",
          "Water",
          "Water",
          "Water",
          "Water",
          "Water",
          "Water",
          "Water",
          "Water",
          "Water",
          "Water",
          "Water",
          "Water",
          "Water",
          "Water",
          "Water",
          "Water",
          "Water",
          "Water",
          "Water",
          "Water",
          "Water",
          "Water",
          "Water",
          "Water",
          "Water",
          "Water",
          "Water",
          "Water",
          "Water",
          "Water",
          "Water",
          "Water",
          "Water",
          "Water",
          "Water",
          "Water",
          "Water",
          "Water",
          "Water",
          "Water",
          "Water",
          "Water",
          "Water",
          "Water",
          "Water",
          "Water",
          "Water",
          "Water",
          "Water",
          "Water",
          "Water",
          "Water",
          "Water",
          "Water",
          "Water",
          "Water",
          "Water",
          "Water",
          "Water",
          "Water",
          "Water",
          "Water",
          "Water",
          "Water",
          "Water",
          "Water",
          "Water",
          "Water",
          "Water",
          "Water",
          "Water",
          "Water",
          "Water",
          "Water",
          "Water",
          "Water",
          "Water",
          "Water",
          "Water",
          "Water",
          "Water",
          "Water",
          "Water",
          "Water",
          "Water",
          "Water",
          "Water",
          "Water",
          "Water",
          "Water"
         ],
         "x0": " ",
         "xaxis": "x",
         "y": [
          24,
          34,
          47,
          32,
          51,
          54,
          54,
          41,
          41,
          61,
          6,
          16,
          25,
          41,
          22,
          41,
          29,
          45,
          35,
          51,
          37,
          40,
          51,
          70,
          48,
          49,
          35,
          38,
          24,
          34,
          47,
          40,
          40,
          22,
          29,
          41,
          6,
          19,
          16,
          51,
          19,
          38,
          25,
          41,
          51,
          22,
          29,
          35,
          16,
          29,
          41,
          51,
          38,
          38,
          58,
          35,
          35,
          35,
          35,
          19,
          32,
          48,
          49,
          41,
          17,
          30,
          30,
          32,
          59,
          22,
          29,
          35,
          51,
          70,
          18,
          21,
          39,
          55,
          29,
          25,
          35,
          41,
          38,
          61,
          38,
          41,
          44,
          60,
          60,
          10,
          17,
          32,
          60,
          22,
          35,
          38,
          42,
          59,
          75,
          81,
          25,
          34,
          22,
          29,
          35,
          22,
          16,
          14,
          23,
          0,
          56,
          41,
          54,
          74,
          25,
          44,
          39,
          84,
          45,
          32
         ],
         "y0": " ",
         "yaxis": "y"
        },
        {
         "alignmentgroup": "True",
         "hovertemplate": "Tipo de Pókemon=%{x}<br>Valor de Valocidade=%{y}<extra></extra>",
         "legendgroup": "Bug",
         "marker": {
          "color": "#ab63fa"
         },
         "name": "Bug",
         "notched": false,
         "offsetgroup": "Bug",
         "orientation": "v",
         "showlegend": true,
         "type": "box",
         "x": [
          "Bug",
          "Bug",
          "Bug",
          "Bug",
          "Bug",
          "Bug",
          "Bug",
          "Bug",
          "Bug",
          "Bug",
          "Bug",
          "Bug",
          "Bug",
          "Bug",
          "Bug",
          "Bug",
          "Bug",
          "Bug",
          "Bug",
          "Bug",
          "Bug",
          "Bug",
          "Bug",
          "Bug",
          "Bug",
          "Bug",
          "Bug",
          "Bug",
          "Bug",
          "Bug",
          "Bug",
          "Bug",
          "Bug",
          "Bug",
          "Bug",
          "Bug",
          "Bug",
          "Bug",
          "Bug",
          "Bug",
          "Bug",
          "Bug",
          "Bug",
          "Bug",
          "Bug",
          "Bug",
          "Bug",
          "Bug",
          "Bug",
          "Bug",
          "Bug",
          "Bug",
          "Bug",
          "Bug",
          "Bug",
          "Bug",
          "Bug",
          "Bug",
          "Bug",
          "Bug",
          "Bug",
          "Bug",
          "Bug",
          "Bug",
          "Bug",
          "Bug",
          "Bug",
          "Bug",
          "Bug",
          "Bug",
          "Bug",
          "Bug",
          "Bug",
          "Bug"
         ],
         "x0": " ",
         "xaxis": "x",
         "y": [
          25,
          16,
          41,
          29,
          19,
          45,
          12,
          16,
          25,
          54,
          64,
          51,
          32,
          51,
          16,
          22,
          58,
          6,
          22,
          38,
          0,
          51,
          9,
          6,
          38,
          6,
          38,
          38,
          48,
          22,
          100,
          22,
          51,
          51,
          12,
          38,
          20,
          20,
          20,
          20,
          39,
          41,
          22,
          58,
          23,
          23,
          56,
          33,
          27,
          69,
          32,
          25,
          35,
          9,
          38,
          66,
          12,
          90,
          67,
          35,
          61,
          19,
          15,
          54,
          26,
          20,
          24,
          50,
          76,
          48,
          22,
          25,
          16,
          54
         ],
         "y0": " ",
         "yaxis": "y"
        },
        {
         "alignmentgroup": "True",
         "hovertemplate": "Tipo de Pókemon=%{x}<br>Valor de Valocidade=%{y}<extra></extra>",
         "legendgroup": "Normal",
         "marker": {
          "color": "#FFA15A"
         },
         "name": "Normal",
         "notched": false,
         "offsetgroup": "Normal",
         "orientation": "v",
         "showlegend": true,
         "type": "box",
         "x": [
          "Normal",
          "Normal",
          "Normal",
          "Normal",
          "Normal",
          "Normal",
          "Normal",
          "Normal",
          "Normal",
          "Normal",
          "Normal",
          "Normal",
          "Normal",
          "Normal",
          "Normal",
          "Normal",
          "Normal",
          "Normal",
          "Normal",
          "Normal",
          "Normal",
          "Normal",
          "Normal",
          "Normal",
          "Normal",
          "Normal",
          "Normal",
          "Normal",
          "Normal",
          "Normal",
          "Normal",
          "Normal",
          "Normal",
          "Normal",
          "Normal",
          "Normal",
          "Normal",
          "Normal",
          "Normal",
          "Normal",
          "Normal",
          "Normal",
          "Normal",
          "Normal",
          "Normal",
          "Normal",
          "Normal",
          "Normal",
          "Normal",
          "Normal",
          "Normal",
          "Normal",
          "Normal",
          "Normal",
          "Normal",
          "Normal",
          "Normal",
          "Normal",
          "Normal",
          "Normal",
          "Normal",
          "Normal",
          "Normal",
          "Normal",
          "Normal",
          "Normal",
          "Normal",
          "Normal",
          "Normal",
          "Normal",
          "Normal",
          "Normal",
          "Normal",
          "Normal",
          "Normal",
          "Normal",
          "Normal",
          "Normal",
          "Normal",
          "Normal",
          "Normal",
          "Normal",
          "Normal",
          "Normal",
          "Normal",
          "Normal",
          "Normal",
          "Normal",
          "Normal",
          "Normal",
          "Normal",
          "Normal",
          "Normal",
          "Normal",
          "Normal",
          "Normal",
          "Normal",
          "Normal",
          "Normal",
          "Normal",
          "Normal",
          "Normal",
          "Normal",
          "Normal",
          "Normal"
         ],
         "x0": " ",
         "xaxis": "x",
         "y": [
          32,
          42,
          61,
          43,
          59,
          41,
          61,
          9,
          25,
          54,
          70,
          35,
          45,
          67,
          16,
          29,
          54,
          67,
          27,
          32,
          45,
          22,
          16,
          9,
          54,
          29,
          41,
          6,
          51,
          51,
          25,
          22,
          32,
          35,
          51,
          45,
          61,
          32,
          35,
          61,
          51,
          77,
          16,
          54,
          61,
          14,
          27,
          40,
          9,
          29,
          54,
          35,
          29,
          54,
          41,
          22,
          35,
          48,
          61,
          16,
          42,
          70,
          51,
          64,
          51,
          69,
          16,
          55,
          0,
          29,
          54,
          23,
          46,
          32,
          35,
          48,
          24,
          38,
          56,
          29,
          45,
          70,
          45,
          58,
          32,
          35,
          48,
          33,
          47,
          36,
          62,
          38,
          45,
          35,
          25,
          25,
          29,
          35,
          35,
          38,
          20,
          12,
          9,
          27,
          53
         ],
         "y0": " ",
         "yaxis": "y"
        },
        {
         "alignmentgroup": "True",
         "hovertemplate": "Tipo de Pókemon=%{x}<br>Valor de Valocidade=%{y}<extra></extra>",
         "legendgroup": "Dark",
         "marker": {
          "color": "#19d3f3"
         },
         "name": "Dark",
         "notched": false,
         "offsetgroup": "Dark",
         "orientation": "v",
         "showlegend": true,
         "type": "box",
         "x": [
          "Dark",
          "Dark",
          "Dark",
          "Dark",
          "Dark",
          "Dark",
          "Dark",
          "Dark",
          "Dark",
          "Dark",
          "Dark",
          "Dark",
          "Dark",
          "Dark",
          "Dark",
          "Dark",
          "Dark",
          "Dark",
          "Dark",
          "Dark",
          "Dark",
          "Dark",
          "Dark",
          "Dark",
          "Dark",
          "Dark",
          "Dark",
          "Dark",
          "Dark",
          "Dark",
          "Dark",
          "Dark",
          "Dark",
          "Dark",
          "Dark",
          "Dark",
          "Dark",
          "Dark"
         ],
         "x0": " ",
         "xaxis": "x",
         "y": [
          43,
          46,
          54,
          70,
          38,
          55,
          70,
          38,
          58,
          19,
          41,
          35,
          61,
          29,
          45,
          42,
          77,
          39,
          65,
          27,
          34,
          38,
          64,
          35,
          41,
          35,
          48,
          21,
          34,
          60,
          25,
          43,
          29,
          54,
          29,
          41,
          35,
          58
         ],
         "y0": " ",
         "yaxis": "y"
        },
        {
         "alignmentgroup": "True",
         "hovertemplate": "Tipo de Pókemon=%{x}<br>Valor de Valocidade=%{y}<extra></extra>",
         "legendgroup": "Poison",
         "marker": {
          "color": "#FF6692"
         },
         "name": "Poison",
         "notched": false,
         "offsetgroup": "Poison",
         "orientation": "v",
         "showlegend": true,
         "type": "box",
         "x": [
          "Poison",
          "Poison",
          "Poison",
          "Poison",
          "Poison",
          "Poison",
          "Poison",
          "Poison",
          "Poison",
          "Poison",
          "Poison",
          "Poison",
          "Poison",
          "Poison",
          "Poison",
          "Poison",
          "Poison",
          "Poison",
          "Poison",
          "Poison",
          "Poison",
          "Poison",
          "Poison",
          "Poison",
          "Poison",
          "Poison",
          "Poison",
          "Poison",
          "Poison",
          "Poison",
          "Poison",
          "Poison",
          "Poison",
          "Poison",
          "Poison"
         ],
         "x0": " ",
         "xaxis": "x",
         "y": [
          32,
          48,
          23,
          32,
          45,
          29,
          38,
          51,
          32,
          54,
          12,
          12,
          29,
          29,
          19,
          35,
          35,
          80,
          22,
          32,
          38,
          44,
          50,
          38,
          58,
          29,
          51,
          38,
          45,
          16,
          25,
          25,
          19,
          46,
          72
         ],
         "y0": " ",
         "yaxis": "y"
        },
        {
         "alignmentgroup": "True",
         "hovertemplate": "Tipo de Pókemon=%{x}<br>Valor de Valocidade=%{y}<extra></extra>",
         "legendgroup": "Electric",
         "marker": {
          "color": "#B6E880"
         },
         "name": "Electric",
         "notched": false,
         "offsetgroup": "Electric",
         "orientation": "v",
         "showlegend": true,
         "type": "box",
         "x": [
          "Electric",
          "Electric",
          "Electric",
          "Electric",
          "Electric",
          "Electric",
          "Electric",
          "Electric",
          "Electric",
          "Electric",
          "Electric",
          "Electric",
          "Electric",
          "Electric",
          "Electric",
          "Electric",
          "Electric",
          "Electric",
          "Electric",
          "Electric",
          "Electric",
          "Electric",
          "Electric",
          "Electric",
          "Electric",
          "Electric",
          "Electric",
          "Electric",
          "Electric",
          "Electric",
          "Electric",
          "Electric",
          "Electric",
          "Electric",
          "Electric",
          "Electric",
          "Electric",
          "Electric",
          "Electric",
          "Electric",
          "Electric",
          "Electric",
          "Electric",
          "Electric",
          "Electric",
          "Electric",
          "Electric",
          "Electric",
          "Electric",
          "Electric",
          "Electric",
          "Electric"
         ],
         "x0": " ",
         "xaxis": "x",
         "y": [
          54,
          74,
          67,
          67,
          25,
          41,
          61,
          93,
          64,
          80,
          35,
          19,
          25,
          32,
          58,
          38,
          64,
          58,
          58,
          25,
          35,
          41,
          58,
          35,
          58,
          55,
          52,
          52,
          52,
          52,
          52,
          45,
          71,
          63,
          35,
          22,
          29,
          41,
          67,
          61,
          56,
          58,
          13,
          74,
          22,
          45,
          45,
          6,
          59,
          59,
          45,
          32
         ],
         "y0": " ",
         "yaxis": "y"
        },
        {
         "alignmentgroup": "True",
         "hovertemplate": "Tipo de Pókemon=%{x}<br>Valor de Valocidade=%{y}<extra></extra>",
         "legendgroup": "Ground",
         "marker": {
          "color": "#FF97FF"
         },
         "name": "Ground",
         "notched": false,
         "offsetgroup": "Ground",
         "orientation": "v",
         "showlegend": true,
         "type": "box",
         "x": [
          "Ground",
          "Ground",
          "Ground",
          "Ground",
          "Ground",
          "Ground",
          "Ground",
          "Ground",
          "Ground",
          "Ground",
          "Ground",
          "Ground",
          "Ground",
          "Ground",
          "Ground",
          "Ground",
          "Ground",
          "Ground",
          "Ground",
          "Ground",
          "Ground",
          "Ground",
          "Ground",
          "Ground",
          "Ground",
          "Ground",
          "Ground",
          "Ground",
          "Ground",
          "Ground",
          "Ground",
          "Ground",
          "Ground",
          "Ground",
          "Ground",
          "Ground",
          "Ground"
         ],
         "x0": " ",
         "xaxis": "x",
         "y": [
          22,
          38,
          58,
          54,
          74,
          67,
          19,
          25,
          12,
          22,
          51,
          22,
          29,
          3,
          41,
          61,
          32,
          45,
          17,
          27,
          22,
          58,
          40,
          53,
          38,
          44,
          56,
          16,
          17,
          17,
          19,
          32,
          25,
          19,
          26,
          42,
          16
         ],
         "y0": " ",
         "yaxis": "y"
        },
        {
         "alignmentgroup": "True",
         "hovertemplate": "Tipo de Pókemon=%{x}<br>Valor de Valocidade=%{y}<extra></extra>",
         "legendgroup": "Ice",
         "marker": {
          "color": "#FECB52"
         },
         "name": "Ice",
         "notched": false,
         "offsetgroup": "Ice",
         "orientation": "v",
         "showlegend": true,
         "type": "box",
         "x": [
          "Ice",
          "Ice",
          "Ice",
          "Ice",
          "Ice",
          "Ice",
          "Ice",
          "Ice",
          "Ice",
          "Ice",
          "Ice",
          "Ice",
          "Ice",
          "Ice",
          "Ice",
          "Ice",
          "Ice",
          "Ice",
          "Ice",
          "Ice",
          "Ice",
          "Ice",
          "Ice",
          "Ice",
          "Ice",
          "Ice",
          "Ice",
          "Ice",
          "Ice",
          "Ice",
          "Ice",
          "Ice",
          "Ice"
         ],
         "x0": " ",
         "xaxis": "x",
         "y": [
          22,
          38,
          38,
          67,
          58,
          29,
          29,
          45,
          38,
          41,
          29,
          48,
          12,
          25,
          38,
          38,
          48,
          67,
          29,
          58,
          83,
          25,
          34,
          47,
          22,
          29,
          64,
          14,
          14,
          9,
          38,
          29,
          80
         ],
         "y0": " ",
         "yaxis": "y"
        },
        {
         "alignmentgroup": "True",
         "hovertemplate": "Tipo de Pókemon=%{x}<br>Valor de Valocidade=%{y}<extra></extra>",
         "legendgroup": "Fairy",
         "marker": {
          "color": "#636efa"
         },
         "name": "Fairy",
         "notched": false,
         "offsetgroup": "Fairy",
         "orientation": "v",
         "showlegend": true,
         "type": "box",
         "x": [
          "Fairy",
          "Fairy",
          "Fairy",
          "Fairy",
          "Fairy",
          "Fairy",
          "Fairy",
          "Fairy",
          "Fairy",
          "Fairy",
          "Fairy",
          "Fairy",
          "Fairy",
          "Fairy",
          "Fairy",
          "Fairy",
          "Fairy",
          "Fairy",
          "Fairy"
         ],
         "x0": " ",
         "xaxis": "x",
         "y": [
          19,
          35,
          6,
          9,
          22,
          16,
          25,
          48,
          23,
          30,
          45,
          11,
          15,
          28,
          43,
          35,
          61,
          18,
          38
         ],
         "y0": " ",
         "yaxis": "y"
        },
        {
         "alignmentgroup": "True",
         "hovertemplate": "Tipo de Pókemon=%{x}<br>Valor de Valocidade=%{y}<extra></extra>",
         "legendgroup": "Steel",
         "marker": {
          "color": "#EF553B"
         },
         "name": "Steel",
         "notched": false,
         "offsetgroup": "Steel",
         "orientation": "v",
         "showlegend": true,
         "type": "box",
         "x": [
          "Steel",
          "Steel",
          "Steel",
          "Steel",
          "Steel",
          "Steel",
          "Steel",
          "Steel",
          "Steel",
          "Steel",
          "Steel",
          "Steel",
          "Steel",
          "Steel",
          "Steel",
          "Steel",
          "Steel",
          "Steel",
          "Steel",
          "Steel",
          "Steel",
          "Steel",
          "Steel",
          "Steel"
         ],
         "x0": " ",
         "xaxis": "x",
         "y": [
          22,
          16,
          41,
          29,
          16,
          22,
          29,
          16,
          29,
          41,
          11,
          18,
          16,
          29,
          54,
          14,
          19,
          35,
          35,
          45,
          29,
          22,
          16,
          51
         ],
         "y0": " ",
         "yaxis": "y"
        },
        {
         "alignmentgroup": "True",
         "hovertemplate": "Tipo de Pókemon=%{x}<br>Valor de Valocidade=%{y}<extra></extra>",
         "legendgroup": "Fighting",
         "marker": {
          "color": "#00cc96"
         },
         "name": "Fighting",
         "notched": false,
         "offsetgroup": "Fighting",
         "orientation": "v",
         "showlegend": true,
         "type": "box",
         "x": [
          "Fighting",
          "Fighting",
          "Fighting",
          "Fighting",
          "Fighting",
          "Fighting",
          "Fighting",
          "Fighting",
          "Fighting",
          "Fighting",
          "Fighting",
          "Fighting",
          "Fighting",
          "Fighting",
          "Fighting",
          "Fighting",
          "Fighting",
          "Fighting",
          "Fighting",
          "Fighting",
          "Fighting",
          "Fighting",
          "Fighting",
          "Fighting",
          "Fighting",
          "Fighting",
          "Fighting",
          "Fighting",
          "Fighting",
          "Fighting",
          "Fighting",
          "Fighting",
          "Fighting"
         ],
         "x0": " ",
         "xaxis": "x",
         "y": [
          41,
          58,
          19,
          25,
          32,
          32,
          52,
          45,
          19,
          41,
          12,
          29,
          35,
          48,
          35,
          54,
          19,
          22,
          25,
          25,
          51,
          38,
          64,
          24,
          34,
          72,
          37,
          24,
          48,
          17,
          23,
          38,
          45
         ],
         "y0": " ",
         "yaxis": "y"
        },
        {
         "alignmentgroup": "True",
         "hovertemplate": "Tipo de Pókemon=%{x}<br>Valor de Valocidade=%{y}<extra></extra>",
         "legendgroup": "Psychic",
         "marker": {
          "color": "#ab63fa"
         },
         "name": "Psychic",
         "notched": false,
         "offsetgroup": "Psychic",
         "orientation": "v",
         "showlegend": true,
         "type": "box",
         "x": [
          "Psychic",
          "Psychic",
          "Psychic",
          "Psychic",
          "Psychic",
          "Psychic",
          "Psychic",
          "Psychic",
          "Psychic",
          "Psychic",
          "Psychic",
          "Psychic",
          "Psychic",
          "Psychic",
          "Psychic",
          "Psychic",
          "Psychic",
          "Psychic",
          "Psychic",
          "Psychic",
          "Psychic",
          "Psychic",
          "Psychic",
          "Psychic",
          "Psychic",
          "Psychic",
          "Psychic",
          "Psychic",
          "Psychic",
          "Psychic",
          "Psychic",
          "Psychic",
          "Psychic",
          "Psychic",
          "Psychic",
          "Psychic",
          "Psychic",
          "Psychic",
          "Psychic",
          "Psychic",
          "Psychic",
          "Psychic",
          "Psychic",
          "Psychic",
          "Psychic",
          "Psychic",
          "Psychic"
         ],
         "x0": " ",
         "xaxis": "x",
         "y": [
          54,
          64,
          74,
          54,
          64,
          23,
          40,
          54,
          61,
          41,
          58,
          67,
          27,
          18,
          22,
          29,
          48,
          35,
          48,
          38,
          11,
          25,
          35,
          48,
          12,
          15,
          43,
          70,
          59,
          25,
          32,
          38,
          9,
          16,
          16,
          16,
          22,
          40,
          63,
          63,
          56,
          21,
          28,
          15,
          41,
          58,
          51
         ],
         "y0": " ",
         "yaxis": "y"
        },
        {
         "alignmentgroup": "True",
         "hovertemplate": "Tipo de Pókemon=%{x}<br>Valor de Valocidade=%{y}<extra></extra>",
         "legendgroup": "Rock",
         "marker": {
          "color": "#FFA15A"
         },
         "name": "Rock",
         "notched": false,
         "offsetgroup": "Rock",
         "orientation": "v",
         "showlegend": true,
         "type": "box",
         "x": [
          "Rock",
          "Rock",
          "Rock",
          "Rock",
          "Rock",
          "Rock",
          "Rock",
          "Rock",
          "Rock",
          "Rock",
          "Rock",
          "Rock",
          "Rock",
          "Rock",
          "Rock",
          "Rock",
          "Rock",
          "Rock",
          "Rock",
          "Rock",
          "Rock",
          "Rock",
          "Rock",
          "Rock",
          "Rock",
          "Rock",
          "Rock",
          "Rock",
          "Rock",
          "Rock",
          "Rock",
          "Rock",
          "Rock",
          "Rock",
          "Rock",
          "Rock",
          "Rock",
          "Rock",
          "Rock",
          "Rock",
          "Rock",
          "Rock",
          "Rock",
          "Rock",
          "Rock",
          "Rock",
          "Rock",
          "Rock",
          "Rock",
          "Rock",
          "Rock",
          "Rock"
         ],
         "x0": " ",
         "xaxis": "x",
         "y": [
          9,
          9,
          19,
          19,
          25,
          25,
          41,
          19,
          32,
          32,
          48,
          80,
          16,
          23,
          29,
          36,
          16,
          41,
          41,
          11,
          24,
          45,
          25,
          34,
          34,
          16,
          16,
          3,
          22,
          6,
          9,
          12,
          41,
          67,
          29,
          40,
          27,
          42,
          26,
          34,
          29,
          35,
          35,
          69,
          49,
          67,
          35,
          74,
          16,
          29,
          16,
          41
         ],
         "y0": " ",
         "yaxis": "y"
        },
        {
         "alignmentgroup": "True",
         "hovertemplate": "Tipo de Pókemon=%{x}<br>Valor de Valocidade=%{y}<extra></extra>",
         "legendgroup": "Ghost",
         "marker": {
          "color": "#19d3f3"
         },
         "name": "Ghost",
         "notched": false,
         "offsetgroup": "Ghost",
         "orientation": "v",
         "showlegend": true,
         "type": "box",
         "x": [
          "Ghost",
          "Ghost",
          "Ghost",
          "Ghost",
          "Ghost",
          "Ghost",
          "Ghost",
          "Ghost",
          "Ghost",
          "Ghost",
          "Ghost",
          "Ghost",
          "Ghost",
          "Ghost",
          "Ghost",
          "Ghost",
          "Ghost",
          "Ghost",
          "Ghost",
          "Ghost",
          "Ghost",
          "Ghost",
          "Ghost",
          "Ghost",
          "Ghost",
          "Ghost",
          "Ghost",
          "Ghost",
          "Ghost",
          "Ghost",
          "Ghost",
          "Ghost",
          "Ghost",
          "Ghost",
          "Ghost",
          "Ghost",
          "Ghost"
         ],
         "x0": " ",
         "xaxis": "x",
         "y": [
          48,
          58,
          67,
          51,
          16,
          25,
          38,
          12,
          12,
          41,
          48,
          64,
          19,
          25,
          16,
          16,
          9,
          32,
          48,
          21,
          32,
          29,
          32,
          26,
          23,
          50,
          60,
          41,
          31,
          56,
          6,
          19,
          58,
          22,
          29,
          41,
          16
         ],
         "y0": " ",
         "yaxis": "y"
        },
        {
         "alignmentgroup": "True",
         "hovertemplate": "Tipo de Pókemon=%{x}<br>Valor de Valocidade=%{y}<extra></extra>",
         "legendgroup": "Dragon",
         "marker": {
          "color": "#FF6692"
         },
         "name": "Dragon",
         "notched": false,
         "offsetgroup": "Dragon",
         "orientation": "v",
         "showlegend": true,
         "type": "box",
         "x": [
          "Dragon",
          "Dragon",
          "Dragon",
          "Dragon",
          "Dragon",
          "Dragon",
          "Dragon",
          "Dragon",
          "Dragon",
          "Dragon",
          "Dragon",
          "Dragon",
          "Dragon",
          "Dragon",
          "Dragon",
          "Dragon",
          "Dragon",
          "Dragon",
          "Dragon",
          "Dragon",
          "Dragon",
          "Dragon",
          "Dragon"
         ],
         "x0": " ",
         "xaxis": "x",
         "y": [
          29,
          41,
          48,
          48,
          29,
          29,
          61,
          23,
          49,
          62,
          33,
          40,
          59,
          27,
          22,
          35,
          48,
          25,
          38,
          51,
          49,
          62,
          88
         ],
         "y0": " ",
         "yaxis": "y"
        },
        {
         "alignmentgroup": "True",
         "hovertemplate": "Tipo de Pókemon=%{x}<br>Valor de Valocidade=%{y}<extra></extra>",
         "legendgroup": "Flying",
         "marker": {
          "color": "#B6E880"
         },
         "name": "Flying",
         "notched": false,
         "offsetgroup": "Flying",
         "orientation": "v",
         "showlegend": true,
         "type": "box",
         "x": [
          "Flying",
          "Flying",
          "Flying",
          "Flying",
          "Flying",
          "Flying"
         ],
         "x0": " ",
         "xaxis": "x",
         "y": [
          32,
          76,
          33,
          46,
          40,
          51
         ],
         "y0": " ",
         "yaxis": "y"
        }
       ],
       "layout": {
        "boxmode": "overlay",
        "legend": {
         "font": {
          "size": 15,
          "weight": "bold"
         },
         "title": {
          "text": "Tipo de Pókemon"
         },
         "tracegroupgap": 0
        },
        "template": {
         "data": {
          "bar": [
           {
            "error_x": {
             "color": "#2a3f5f"
            },
            "error_y": {
             "color": "#2a3f5f"
            },
            "marker": {
             "line": {
              "color": "#E5ECF6",
              "width": 0.5
             },
             "pattern": {
              "fillmode": "overlay",
              "size": 10,
              "solidity": 0.2
             }
            },
            "type": "bar"
           }
          ],
          "barpolar": [
           {
            "marker": {
             "line": {
              "color": "#E5ECF6",
              "width": 0.5
             },
             "pattern": {
              "fillmode": "overlay",
              "size": 10,
              "solidity": 0.2
             }
            },
            "type": "barpolar"
           }
          ],
          "carpet": [
           {
            "aaxis": {
             "endlinecolor": "#2a3f5f",
             "gridcolor": "white",
             "linecolor": "white",
             "minorgridcolor": "white",
             "startlinecolor": "#2a3f5f"
            },
            "baxis": {
             "endlinecolor": "#2a3f5f",
             "gridcolor": "white",
             "linecolor": "white",
             "minorgridcolor": "white",
             "startlinecolor": "#2a3f5f"
            },
            "type": "carpet"
           }
          ],
          "choropleth": [
           {
            "colorbar": {
             "outlinewidth": 0,
             "ticks": ""
            },
            "type": "choropleth"
           }
          ],
          "contour": [
           {
            "colorbar": {
             "outlinewidth": 0,
             "ticks": ""
            },
            "colorscale": [
             [
              0,
              "#0d0887"
             ],
             [
              0.1111111111111111,
              "#46039f"
             ],
             [
              0.2222222222222222,
              "#7201a8"
             ],
             [
              0.3333333333333333,
              "#9c179e"
             ],
             [
              0.4444444444444444,
              "#bd3786"
             ],
             [
              0.5555555555555556,
              "#d8576b"
             ],
             [
              0.6666666666666666,
              "#ed7953"
             ],
             [
              0.7777777777777778,
              "#fb9f3a"
             ],
             [
              0.8888888888888888,
              "#fdca26"
             ],
             [
              1,
              "#f0f921"
             ]
            ],
            "type": "contour"
           }
          ],
          "contourcarpet": [
           {
            "colorbar": {
             "outlinewidth": 0,
             "ticks": ""
            },
            "type": "contourcarpet"
           }
          ],
          "heatmap": [
           {
            "colorbar": {
             "outlinewidth": 0,
             "ticks": ""
            },
            "colorscale": [
             [
              0,
              "#0d0887"
             ],
             [
              0.1111111111111111,
              "#46039f"
             ],
             [
              0.2222222222222222,
              "#7201a8"
             ],
             [
              0.3333333333333333,
              "#9c179e"
             ],
             [
              0.4444444444444444,
              "#bd3786"
             ],
             [
              0.5555555555555556,
              "#d8576b"
             ],
             [
              0.6666666666666666,
              "#ed7953"
             ],
             [
              0.7777777777777778,
              "#fb9f3a"
             ],
             [
              0.8888888888888888,
              "#fdca26"
             ],
             [
              1,
              "#f0f921"
             ]
            ],
            "type": "heatmap"
           }
          ],
          "heatmapgl": [
           {
            "colorbar": {
             "outlinewidth": 0,
             "ticks": ""
            },
            "colorscale": [
             [
              0,
              "#0d0887"
             ],
             [
              0.1111111111111111,
              "#46039f"
             ],
             [
              0.2222222222222222,
              "#7201a8"
             ],
             [
              0.3333333333333333,
              "#9c179e"
             ],
             [
              0.4444444444444444,
              "#bd3786"
             ],
             [
              0.5555555555555556,
              "#d8576b"
             ],
             [
              0.6666666666666666,
              "#ed7953"
             ],
             [
              0.7777777777777778,
              "#fb9f3a"
             ],
             [
              0.8888888888888888,
              "#fdca26"
             ],
             [
              1,
              "#f0f921"
             ]
            ],
            "type": "heatmapgl"
           }
          ],
          "histogram": [
           {
            "marker": {
             "pattern": {
              "fillmode": "overlay",
              "size": 10,
              "solidity": 0.2
             }
            },
            "type": "histogram"
           }
          ],
          "histogram2d": [
           {
            "colorbar": {
             "outlinewidth": 0,
             "ticks": ""
            },
            "colorscale": [
             [
              0,
              "#0d0887"
             ],
             [
              0.1111111111111111,
              "#46039f"
             ],
             [
              0.2222222222222222,
              "#7201a8"
             ],
             [
              0.3333333333333333,
              "#9c179e"
             ],
             [
              0.4444444444444444,
              "#bd3786"
             ],
             [
              0.5555555555555556,
              "#d8576b"
             ],
             [
              0.6666666666666666,
              "#ed7953"
             ],
             [
              0.7777777777777778,
              "#fb9f3a"
             ],
             [
              0.8888888888888888,
              "#fdca26"
             ],
             [
              1,
              "#f0f921"
             ]
            ],
            "type": "histogram2d"
           }
          ],
          "histogram2dcontour": [
           {
            "colorbar": {
             "outlinewidth": 0,
             "ticks": ""
            },
            "colorscale": [
             [
              0,
              "#0d0887"
             ],
             [
              0.1111111111111111,
              "#46039f"
             ],
             [
              0.2222222222222222,
              "#7201a8"
             ],
             [
              0.3333333333333333,
              "#9c179e"
             ],
             [
              0.4444444444444444,
              "#bd3786"
             ],
             [
              0.5555555555555556,
              "#d8576b"
             ],
             [
              0.6666666666666666,
              "#ed7953"
             ],
             [
              0.7777777777777778,
              "#fb9f3a"
             ],
             [
              0.8888888888888888,
              "#fdca26"
             ],
             [
              1,
              "#f0f921"
             ]
            ],
            "type": "histogram2dcontour"
           }
          ],
          "mesh3d": [
           {
            "colorbar": {
             "outlinewidth": 0,
             "ticks": ""
            },
            "type": "mesh3d"
           }
          ],
          "parcoords": [
           {
            "line": {
             "colorbar": {
              "outlinewidth": 0,
              "ticks": ""
             }
            },
            "type": "parcoords"
           }
          ],
          "pie": [
           {
            "automargin": true,
            "type": "pie"
           }
          ],
          "scatter": [
           {
            "fillpattern": {
             "fillmode": "overlay",
             "size": 10,
             "solidity": 0.2
            },
            "type": "scatter"
           }
          ],
          "scatter3d": [
           {
            "line": {
             "colorbar": {
              "outlinewidth": 0,
              "ticks": ""
             }
            },
            "marker": {
             "colorbar": {
              "outlinewidth": 0,
              "ticks": ""
             }
            },
            "type": "scatter3d"
           }
          ],
          "scattercarpet": [
           {
            "marker": {
             "colorbar": {
              "outlinewidth": 0,
              "ticks": ""
             }
            },
            "type": "scattercarpet"
           }
          ],
          "scattergeo": [
           {
            "marker": {
             "colorbar": {
              "outlinewidth": 0,
              "ticks": ""
             }
            },
            "type": "scattergeo"
           }
          ],
          "scattergl": [
           {
            "marker": {
             "colorbar": {
              "outlinewidth": 0,
              "ticks": ""
             }
            },
            "type": "scattergl"
           }
          ],
          "scattermapbox": [
           {
            "marker": {
             "colorbar": {
              "outlinewidth": 0,
              "ticks": ""
             }
            },
            "type": "scattermapbox"
           }
          ],
          "scatterpolar": [
           {
            "marker": {
             "colorbar": {
              "outlinewidth": 0,
              "ticks": ""
             }
            },
            "type": "scatterpolar"
           }
          ],
          "scatterpolargl": [
           {
            "marker": {
             "colorbar": {
              "outlinewidth": 0,
              "ticks": ""
             }
            },
            "type": "scatterpolargl"
           }
          ],
          "scatterternary": [
           {
            "marker": {
             "colorbar": {
              "outlinewidth": 0,
              "ticks": ""
             }
            },
            "type": "scatterternary"
           }
          ],
          "surface": [
           {
            "colorbar": {
             "outlinewidth": 0,
             "ticks": ""
            },
            "colorscale": [
             [
              0,
              "#0d0887"
             ],
             [
              0.1111111111111111,
              "#46039f"
             ],
             [
              0.2222222222222222,
              "#7201a8"
             ],
             [
              0.3333333333333333,
              "#9c179e"
             ],
             [
              0.4444444444444444,
              "#bd3786"
             ],
             [
              0.5555555555555556,
              "#d8576b"
             ],
             [
              0.6666666666666666,
              "#ed7953"
             ],
             [
              0.7777777777777778,
              "#fb9f3a"
             ],
             [
              0.8888888888888888,
              "#fdca26"
             ],
             [
              1,
              "#f0f921"
             ]
            ],
            "type": "surface"
           }
          ],
          "table": [
           {
            "cells": {
             "fill": {
              "color": "#EBF0F8"
             },
             "line": {
              "color": "white"
             }
            },
            "header": {
             "fill": {
              "color": "#C8D4E3"
             },
             "line": {
              "color": "white"
             }
            },
            "type": "table"
           }
          ]
         },
         "layout": {
          "annotationdefaults": {
           "arrowcolor": "#2a3f5f",
           "arrowhead": 0,
           "arrowwidth": 1
          },
          "autotypenumbers": "strict",
          "coloraxis": {
           "colorbar": {
            "outlinewidth": 0,
            "ticks": ""
           }
          },
          "colorscale": {
           "diverging": [
            [
             0,
             "#8e0152"
            ],
            [
             0.1,
             "#c51b7d"
            ],
            [
             0.2,
             "#de77ae"
            ],
            [
             0.3,
             "#f1b6da"
            ],
            [
             0.4,
             "#fde0ef"
            ],
            [
             0.5,
             "#f7f7f7"
            ],
            [
             0.6,
             "#e6f5d0"
            ],
            [
             0.7,
             "#b8e186"
            ],
            [
             0.8,
             "#7fbc41"
            ],
            [
             0.9,
             "#4d9221"
            ],
            [
             1,
             "#276419"
            ]
           ],
           "sequential": [
            [
             0,
             "#0d0887"
            ],
            [
             0.1111111111111111,
             "#46039f"
            ],
            [
             0.2222222222222222,
             "#7201a8"
            ],
            [
             0.3333333333333333,
             "#9c179e"
            ],
            [
             0.4444444444444444,
             "#bd3786"
            ],
            [
             0.5555555555555556,
             "#d8576b"
            ],
            [
             0.6666666666666666,
             "#ed7953"
            ],
            [
             0.7777777777777778,
             "#fb9f3a"
            ],
            [
             0.8888888888888888,
             "#fdca26"
            ],
            [
             1,
             "#f0f921"
            ]
           ],
           "sequentialminus": [
            [
             0,
             "#0d0887"
            ],
            [
             0.1111111111111111,
             "#46039f"
            ],
            [
             0.2222222222222222,
             "#7201a8"
            ],
            [
             0.3333333333333333,
             "#9c179e"
            ],
            [
             0.4444444444444444,
             "#bd3786"
            ],
            [
             0.5555555555555556,
             "#d8576b"
            ],
            [
             0.6666666666666666,
             "#ed7953"
            ],
            [
             0.7777777777777778,
             "#fb9f3a"
            ],
            [
             0.8888888888888888,
             "#fdca26"
            ],
            [
             1,
             "#f0f921"
            ]
           ]
          },
          "colorway": [
           "#636efa",
           "#EF553B",
           "#00cc96",
           "#ab63fa",
           "#FFA15A",
           "#19d3f3",
           "#FF6692",
           "#B6E880",
           "#FF97FF",
           "#FECB52"
          ],
          "font": {
           "color": "#2a3f5f"
          },
          "geo": {
           "bgcolor": "white",
           "lakecolor": "white",
           "landcolor": "#E5ECF6",
           "showlakes": true,
           "showland": true,
           "subunitcolor": "white"
          },
          "hoverlabel": {
           "align": "left"
          },
          "hovermode": "closest",
          "mapbox": {
           "style": "light"
          },
          "paper_bgcolor": "white",
          "plot_bgcolor": "#E5ECF6",
          "polar": {
           "angularaxis": {
            "gridcolor": "white",
            "linecolor": "white",
            "ticks": ""
           },
           "bgcolor": "#E5ECF6",
           "radialaxis": {
            "gridcolor": "white",
            "linecolor": "white",
            "ticks": ""
           }
          },
          "scene": {
           "xaxis": {
            "backgroundcolor": "#E5ECF6",
            "gridcolor": "white",
            "gridwidth": 2,
            "linecolor": "white",
            "showbackground": true,
            "ticks": "",
            "zerolinecolor": "white"
           },
           "yaxis": {
            "backgroundcolor": "#E5ECF6",
            "gridcolor": "white",
            "gridwidth": 2,
            "linecolor": "white",
            "showbackground": true,
            "ticks": "",
            "zerolinecolor": "white"
           },
           "zaxis": {
            "backgroundcolor": "#E5ECF6",
            "gridcolor": "white",
            "gridwidth": 2,
            "linecolor": "white",
            "showbackground": true,
            "ticks": "",
            "zerolinecolor": "white"
           }
          },
          "shapedefaults": {
           "line": {
            "color": "#2a3f5f"
           }
          },
          "ternary": {
           "aaxis": {
            "gridcolor": "white",
            "linecolor": "white",
            "ticks": ""
           },
           "baxis": {
            "gridcolor": "white",
            "linecolor": "white",
            "ticks": ""
           },
           "bgcolor": "#E5ECF6",
           "caxis": {
            "gridcolor": "white",
            "linecolor": "white",
            "ticks": ""
           }
          },
          "title": {
           "x": 0.05
          },
          "xaxis": {
           "automargin": true,
           "gridcolor": "white",
           "linecolor": "white",
           "ticks": "",
           "title": {
            "standoff": 15
           },
           "zerolinecolor": "white",
           "zerolinewidth": 2
          },
          "yaxis": {
           "automargin": true,
           "gridcolor": "white",
           "linecolor": "white",
           "ticks": "",
           "title": {
            "standoff": 15
           },
           "zerolinecolor": "white",
           "zerolinewidth": 2
          }
         }
        },
        "title": {
         "font": {
          "color": "black",
          "family": "Arial",
          "size": 35
         },
         "text": "Diferentes tipo de Pókemons e sua Velocidade"
        },
        "xaxis": {
         "anchor": "y",
         "categoryarray": [
          "Grass",
          "Fire",
          "Water",
          "Bug",
          "Normal",
          "Dark",
          "Poison",
          "Electric",
          "Ground",
          "Ice",
          "Fairy",
          "Steel",
          "Fighting",
          "Psychic",
          "Rock",
          "Ghost",
          "Dragon",
          "Flying"
         ],
         "categoryorder": "array",
         "domain": [
          0,
          1
         ],
         "tickfont": {
          "size": 15
         },
         "title": {
          "font": {
           "color": "black",
           "family": "Arial",
           "size": 26
          },
          "text": "Tipo de Pokémon"
         }
        },
        "yaxis": {
         "anchor": "x",
         "domain": [
          0,
          1
         ],
         "tickfont": {
          "size": 15
         },
         "title": {
          "font": {
           "color": "black",
           "family": "Arial",
           "size": 26
          },
          "text": "Valor da Velocidade"
         }
        }
       }
      }
     },
     "metadata": {},
     "output_type": "display_data"
    }
   ],
   "source": [
    "#Ponto crucial para nossa analise\n",
    "#Tipo bug possui o pokemon com maior velocidade\n",
    "#Eletric e Fire possuem a maior parte de seus pokemons acima da média geral de velocidade\n",
    "\n",
    "\n",
    "fig_box3 = px.box(df_boss_2, x='type_1', y='speed', title='Diferentes tipo de Pókemons e sua Velocidade', color='type_1', labels={\n",
    "    'type_1': 'Tipo de Pókemon',\n",
    "    'speed': 'Valor de Valocidade'\n",
    "})\n",
    "fig_box3.update_layout( \n",
    "    title={\n",
    "        'text': 'Diferentes tipo de Pókemons e sua Velocidade',\n",
    "        'font': {'size': 35, 'family': 'Arial', 'color': 'black'}\n",
    "    },\n",
    "    xaxis_title={\n",
    "        'text': 'Tipo de Pokémon',\n",
    "        'font': {'size': 26, 'family': 'Arial', 'color': 'black'}\n",
    "    },\n",
    "    yaxis_title={\n",
    "        'text': 'Valor da Velocidade',\n",
    "        'font': {'size': 26, 'family': 'Arial', 'color': 'black'}\n",
    "    },\n",
    "    legend=dict(font={'size': 15, 'weight': 'bold'})\n",
    ")\n",
    "fig_box3.update_xaxes(tickfont=dict(size=15))\n",
    "fig_box3.update_yaxes(tickfont=dict(size=15))"
   ]
  },
  {
   "cell_type": "code",
   "execution_count": 11,
   "id": "d6f84103-c679-4110-8320-fa9f679e6608",
   "metadata": {},
   "outputs": [
    {
     "data": {
      "text/html": [
       "<div>\n",
       "<style scoped>\n",
       "    .dataframe tbody tr th:only-of-type {\n",
       "        vertical-align: middle;\n",
       "    }\n",
       "\n",
       "    .dataframe tbody tr th {\n",
       "        vertical-align: top;\n",
       "    }\n",
       "\n",
       "    .dataframe thead th {\n",
       "        text-align: right;\n",
       "    }\n",
       "</style>\n",
       "<table border=\"1\" class=\"dataframe\">\n",
       "  <thead>\n",
       "    <tr style=\"text-align: right;\">\n",
       "      <th></th>\n",
       "      <th>Unnamed: 0</th>\n",
       "      <th>pokedex_number</th>\n",
       "      <th>name</th>\n",
       "      <th>generation</th>\n",
       "      <th>status</th>\n",
       "      <th>species</th>\n",
       "      <th>type_number</th>\n",
       "      <th>type_1</th>\n",
       "      <th>hp</th>\n",
       "      <th>attack</th>\n",
       "      <th>...</th>\n",
       "      <th>against_flying</th>\n",
       "      <th>against_psychic</th>\n",
       "      <th>against_bug</th>\n",
       "      <th>against_rock</th>\n",
       "      <th>against_ghost</th>\n",
       "      <th>against_dragon</th>\n",
       "      <th>against_dark</th>\n",
       "      <th>against_steel</th>\n",
       "      <th>against_fairy</th>\n",
       "      <th>against</th>\n",
       "    </tr>\n",
       "  </thead>\n",
       "  <tbody>\n",
       "    <tr>\n",
       "      <th>458</th>\n",
       "      <td>528</td>\n",
       "      <td>447</td>\n",
       "      <td>Riolu</td>\n",
       "      <td>4</td>\n",
       "      <td>Normal</td>\n",
       "      <td>Emanation Pokémon</td>\n",
       "      <td>1</td>\n",
       "      <td>Fighting</td>\n",
       "      <td>40.0</td>\n",
       "      <td>0.413333</td>\n",
       "      <td>...</td>\n",
       "      <td>2.0</td>\n",
       "      <td>2.0</td>\n",
       "      <td>0.50</td>\n",
       "      <td>0.50</td>\n",
       "      <td>1.0</td>\n",
       "      <td>1.0</td>\n",
       "      <td>0.5</td>\n",
       "      <td>1.0</td>\n",
       "      <td>2.0</td>\n",
       "      <td>0.581395</td>\n",
       "    </tr>\n",
       "    <tr>\n",
       "      <th>539</th>\n",
       "      <td>630</td>\n",
       "      <td>538</td>\n",
       "      <td>Throh</td>\n",
       "      <td>5</td>\n",
       "      <td>Normal</td>\n",
       "      <td>Judo Pokémon</td>\n",
       "      <td>1</td>\n",
       "      <td>Fighting</td>\n",
       "      <td>120.0</td>\n",
       "      <td>0.666667</td>\n",
       "      <td>...</td>\n",
       "      <td>2.0</td>\n",
       "      <td>2.0</td>\n",
       "      <td>0.50</td>\n",
       "      <td>0.50</td>\n",
       "      <td>1.0</td>\n",
       "      <td>1.0</td>\n",
       "      <td>0.5</td>\n",
       "      <td>1.0</td>\n",
       "      <td>2.0</td>\n",
       "      <td>0.581395</td>\n",
       "    </tr>\n",
       "    <tr>\n",
       "      <th>79</th>\n",
       "      <td>86</td>\n",
       "      <td>67</td>\n",
       "      <td>Machoke</td>\n",
       "      <td>1</td>\n",
       "      <td>Normal</td>\n",
       "      <td>Superpower Pokémon</td>\n",
       "      <td>1</td>\n",
       "      <td>Fighting</td>\n",
       "      <td>80.0</td>\n",
       "      <td>0.666667</td>\n",
       "      <td>...</td>\n",
       "      <td>2.0</td>\n",
       "      <td>2.0</td>\n",
       "      <td>0.50</td>\n",
       "      <td>0.50</td>\n",
       "      <td>1.0</td>\n",
       "      <td>1.0</td>\n",
       "      <td>0.5</td>\n",
       "      <td>1.0</td>\n",
       "      <td>2.0</td>\n",
       "      <td>0.581395</td>\n",
       "    </tr>\n",
       "    <tr>\n",
       "      <th>114</th>\n",
       "      <td>122</td>\n",
       "      <td>94</td>\n",
       "      <td>Gengar</td>\n",
       "      <td>1</td>\n",
       "      <td>Normal</td>\n",
       "      <td>Shadow Pokémon</td>\n",
       "      <td>2</td>\n",
       "      <td>Ghost</td>\n",
       "      <td>60.0</td>\n",
       "      <td>0.373333</td>\n",
       "      <td>...</td>\n",
       "      <td>1.0</td>\n",
       "      <td>2.0</td>\n",
       "      <td>0.25</td>\n",
       "      <td>1.00</td>\n",
       "      <td>2.0</td>\n",
       "      <td>1.0</td>\n",
       "      <td>2.0</td>\n",
       "      <td>1.0</td>\n",
       "      <td>0.5</td>\n",
       "      <td>0.395349</td>\n",
       "    </tr>\n",
       "    <tr>\n",
       "      <th>743</th>\n",
       "      <td>863</td>\n",
       "      <td>741</td>\n",
       "      <td>Oricorio Sensu Style</td>\n",
       "      <td>7</td>\n",
       "      <td>Normal</td>\n",
       "      <td>Dancing Pokémon</td>\n",
       "      <td>2</td>\n",
       "      <td>Ghost</td>\n",
       "      <td>75.0</td>\n",
       "      <td>0.413333</td>\n",
       "      <td>...</td>\n",
       "      <td>1.0</td>\n",
       "      <td>1.0</td>\n",
       "      <td>0.25</td>\n",
       "      <td>2.00</td>\n",
       "      <td>2.0</td>\n",
       "      <td>1.0</td>\n",
       "      <td>2.0</td>\n",
       "      <td>1.0</td>\n",
       "      <td>1.0</td>\n",
       "      <td>0.465116</td>\n",
       "    </tr>\n",
       "    <tr>\n",
       "      <th>219</th>\n",
       "      <td>241</td>\n",
       "      <td>200</td>\n",
       "      <td>Misdreavus</td>\n",
       "      <td>2</td>\n",
       "      <td>Normal</td>\n",
       "      <td>Screech Pokémon</td>\n",
       "      <td>1</td>\n",
       "      <td>Ghost</td>\n",
       "      <td>60.0</td>\n",
       "      <td>0.333333</td>\n",
       "      <td>...</td>\n",
       "      <td>1.0</td>\n",
       "      <td>1.0</td>\n",
       "      <td>0.50</td>\n",
       "      <td>1.00</td>\n",
       "      <td>2.0</td>\n",
       "      <td>1.0</td>\n",
       "      <td>2.0</td>\n",
       "      <td>1.0</td>\n",
       "      <td>1.0</td>\n",
       "      <td>0.255814</td>\n",
       "    </tr>\n",
       "    <tr>\n",
       "      <th>231</th>\n",
       "      <td>254</td>\n",
       "      <td>212</td>\n",
       "      <td>Scizor</td>\n",
       "      <td>2</td>\n",
       "      <td>Normal</td>\n",
       "      <td>Pincer Pokémon</td>\n",
       "      <td>2</td>\n",
       "      <td>Bug</td>\n",
       "      <td>70.0</td>\n",
       "      <td>0.920000</td>\n",
       "      <td>...</td>\n",
       "      <td>1.0</td>\n",
       "      <td>0.5</td>\n",
       "      <td>0.50</td>\n",
       "      <td>1.00</td>\n",
       "      <td>1.0</td>\n",
       "      <td>0.5</td>\n",
       "      <td>1.0</td>\n",
       "      <td>0.5</td>\n",
       "      <td>0.5</td>\n",
       "      <td>0.232558</td>\n",
       "    </tr>\n",
       "    <tr>\n",
       "      <th>603</th>\n",
       "      <td>694</td>\n",
       "      <td>596</td>\n",
       "      <td>Galvantula</td>\n",
       "      <td>5</td>\n",
       "      <td>Normal</td>\n",
       "      <td>EleSpider Pokémon</td>\n",
       "      <td>2</td>\n",
       "      <td>Bug</td>\n",
       "      <td>70.0</td>\n",
       "      <td>0.480000</td>\n",
       "      <td>...</td>\n",
       "      <td>1.0</td>\n",
       "      <td>1.0</td>\n",
       "      <td>1.00</td>\n",
       "      <td>2.00</td>\n",
       "      <td>1.0</td>\n",
       "      <td>1.0</td>\n",
       "      <td>1.0</td>\n",
       "      <td>0.5</td>\n",
       "      <td>1.0</td>\n",
       "      <td>0.441860</td>\n",
       "    </tr>\n",
       "    <tr>\n",
       "      <th>147</th>\n",
       "      <td>157</td>\n",
       "      <td>123</td>\n",
       "      <td>Scyther</td>\n",
       "      <td>1</td>\n",
       "      <td>Normal</td>\n",
       "      <td>Mantis Pokémon</td>\n",
       "      <td>2</td>\n",
       "      <td>Bug</td>\n",
       "      <td>70.0</td>\n",
       "      <td>0.746667</td>\n",
       "      <td>...</td>\n",
       "      <td>2.0</td>\n",
       "      <td>1.0</td>\n",
       "      <td>0.50</td>\n",
       "      <td>4.00</td>\n",
       "      <td>1.0</td>\n",
       "      <td>1.0</td>\n",
       "      <td>1.0</td>\n",
       "      <td>1.0</td>\n",
       "      <td>1.0</td>\n",
       "      <td>0.813953</td>\n",
       "    </tr>\n",
       "    <tr>\n",
       "      <th>123</th>\n",
       "      <td>132</td>\n",
       "      <td>103</td>\n",
       "      <td>Exeggutor</td>\n",
       "      <td>1</td>\n",
       "      <td>Normal</td>\n",
       "      <td>Coconut Pokémon</td>\n",
       "      <td>2</td>\n",
       "      <td>Grass</td>\n",
       "      <td>95.0</td>\n",
       "      <td>0.626667</td>\n",
       "      <td>...</td>\n",
       "      <td>2.0</td>\n",
       "      <td>0.5</td>\n",
       "      <td>4.00</td>\n",
       "      <td>1.00</td>\n",
       "      <td>2.0</td>\n",
       "      <td>1.0</td>\n",
       "      <td>2.0</td>\n",
       "      <td>1.0</td>\n",
       "      <td>1.0</td>\n",
       "      <td>1.000000</td>\n",
       "    </tr>\n",
       "    <tr>\n",
       "      <th>762</th>\n",
       "      <td>882</td>\n",
       "      <td>756</td>\n",
       "      <td>Shiinotic</td>\n",
       "      <td>7</td>\n",
       "      <td>Normal</td>\n",
       "      <td>Illuminating Pokémon</td>\n",
       "      <td>2</td>\n",
       "      <td>Grass</td>\n",
       "      <td>60.0</td>\n",
       "      <td>0.213333</td>\n",
       "      <td>...</td>\n",
       "      <td>2.0</td>\n",
       "      <td>1.0</td>\n",
       "      <td>1.00</td>\n",
       "      <td>1.00</td>\n",
       "      <td>1.0</td>\n",
       "      <td>0.0</td>\n",
       "      <td>0.5</td>\n",
       "      <td>2.0</td>\n",
       "      <td>1.0</td>\n",
       "      <td>0.720930</td>\n",
       "    </tr>\n",
       "    <tr>\n",
       "      <th>498</th>\n",
       "      <td>588</td>\n",
       "      <td>497</td>\n",
       "      <td>Serperior</td>\n",
       "      <td>5</td>\n",
       "      <td>Normal</td>\n",
       "      <td>Regal Pokémon</td>\n",
       "      <td>1</td>\n",
       "      <td>Grass</td>\n",
       "      <td>75.0</td>\n",
       "      <td>0.453333</td>\n",
       "      <td>...</td>\n",
       "      <td>2.0</td>\n",
       "      <td>1.0</td>\n",
       "      <td>2.00</td>\n",
       "      <td>1.00</td>\n",
       "      <td>1.0</td>\n",
       "      <td>1.0</td>\n",
       "      <td>1.0</td>\n",
       "      <td>1.0</td>\n",
       "      <td>1.0</td>\n",
       "      <td>0.720930</td>\n",
       "    </tr>\n",
       "    <tr>\n",
       "      <th>443</th>\n",
       "      <td>512</td>\n",
       "      <td>432</td>\n",
       "      <td>Purugly</td>\n",
       "      <td>4</td>\n",
       "      <td>Normal</td>\n",
       "      <td>Tiger Cat Pokémon</td>\n",
       "      <td>1</td>\n",
       "      <td>Normal</td>\n",
       "      <td>71.0</td>\n",
       "      <td>0.520000</td>\n",
       "      <td>...</td>\n",
       "      <td>1.0</td>\n",
       "      <td>1.0</td>\n",
       "      <td>1.00</td>\n",
       "      <td>1.00</td>\n",
       "      <td>0.0</td>\n",
       "      <td>1.0</td>\n",
       "      <td>1.0</td>\n",
       "      <td>1.0</td>\n",
       "      <td>1.0</td>\n",
       "      <td>0.348837</td>\n",
       "    </tr>\n",
       "    <tr>\n",
       "      <th>255</th>\n",
       "      <td>281</td>\n",
       "      <td>235</td>\n",
       "      <td>Smeargle</td>\n",
       "      <td>2</td>\n",
       "      <td>Normal</td>\n",
       "      <td>Painter Pokémon</td>\n",
       "      <td>1</td>\n",
       "      <td>Normal</td>\n",
       "      <td>55.0</td>\n",
       "      <td>0.000000</td>\n",
       "      <td>...</td>\n",
       "      <td>1.0</td>\n",
       "      <td>1.0</td>\n",
       "      <td>1.00</td>\n",
       "      <td>1.00</td>\n",
       "      <td>0.0</td>\n",
       "      <td>1.0</td>\n",
       "      <td>1.0</td>\n",
       "      <td>1.0</td>\n",
       "      <td>1.0</td>\n",
       "      <td>0.441860</td>\n",
       "    </tr>\n",
       "    <tr>\n",
       "      <th>303</th>\n",
       "      <td>340</td>\n",
       "      <td>287</td>\n",
       "      <td>Slakoth</td>\n",
       "      <td>3</td>\n",
       "      <td>Normal</td>\n",
       "      <td>Slacker Pokémon</td>\n",
       "      <td>1</td>\n",
       "      <td>Normal</td>\n",
       "      <td>60.0</td>\n",
       "      <td>0.333333</td>\n",
       "      <td>...</td>\n",
       "      <td>1.0</td>\n",
       "      <td>1.0</td>\n",
       "      <td>1.00</td>\n",
       "      <td>1.00</td>\n",
       "      <td>0.0</td>\n",
       "      <td>1.0</td>\n",
       "      <td>1.0</td>\n",
       "      <td>1.0</td>\n",
       "      <td>1.0</td>\n",
       "      <td>0.441860</td>\n",
       "    </tr>\n",
       "    <tr>\n",
       "      <th>801</th>\n",
       "      <td>951</td>\n",
       "      <td>821</td>\n",
       "      <td>Rookidee</td>\n",
       "      <td>8</td>\n",
       "      <td>Normal</td>\n",
       "      <td>Tiny Bird Pokémon</td>\n",
       "      <td>1</td>\n",
       "      <td>Flying</td>\n",
       "      <td>38.0</td>\n",
       "      <td>0.226667</td>\n",
       "      <td>...</td>\n",
       "      <td>1.0</td>\n",
       "      <td>1.0</td>\n",
       "      <td>0.50</td>\n",
       "      <td>2.00</td>\n",
       "      <td>1.0</td>\n",
       "      <td>1.0</td>\n",
       "      <td>1.0</td>\n",
       "      <td>1.0</td>\n",
       "      <td>1.0</td>\n",
       "      <td>0.488372</td>\n",
       "    </tr>\n",
       "    <tr>\n",
       "      <th>720</th>\n",
       "      <td>830</td>\n",
       "      <td>715</td>\n",
       "      <td>Noivern</td>\n",
       "      <td>6</td>\n",
       "      <td>Normal</td>\n",
       "      <td>Sound Wave Pokémon</td>\n",
       "      <td>2</td>\n",
       "      <td>Flying</td>\n",
       "      <td>85.0</td>\n",
       "      <td>0.413333</td>\n",
       "      <td>...</td>\n",
       "      <td>1.0</td>\n",
       "      <td>1.0</td>\n",
       "      <td>0.50</td>\n",
       "      <td>2.00</td>\n",
       "      <td>1.0</td>\n",
       "      <td>2.0</td>\n",
       "      <td>1.0</td>\n",
       "      <td>1.0</td>\n",
       "      <td>2.0</td>\n",
       "      <td>0.651163</td>\n",
       "    </tr>\n",
       "    <tr>\n",
       "      <th>803</th>\n",
       "      <td>953</td>\n",
       "      <td>823</td>\n",
       "      <td>Corviknight</td>\n",
       "      <td>8</td>\n",
       "      <td>Normal</td>\n",
       "      <td>Raven Pokémon</td>\n",
       "      <td>2</td>\n",
       "      <td>Flying</td>\n",
       "      <td>98.0</td>\n",
       "      <td>0.560000</td>\n",
       "      <td>...</td>\n",
       "      <td>0.5</td>\n",
       "      <td>0.5</td>\n",
       "      <td>0.25</td>\n",
       "      <td>1.00</td>\n",
       "      <td>1.0</td>\n",
       "      <td>0.5</td>\n",
       "      <td>1.0</td>\n",
       "      <td>0.5</td>\n",
       "      <td>0.5</td>\n",
       "      <td>0.023256</td>\n",
       "    </tr>\n",
       "    <tr>\n",
       "      <th>607</th>\n",
       "      <td>698</td>\n",
       "      <td>600</td>\n",
       "      <td>Klang</td>\n",
       "      <td>5</td>\n",
       "      <td>Normal</td>\n",
       "      <td>Gear Pokémon</td>\n",
       "      <td>1</td>\n",
       "      <td>Steel</td>\n",
       "      <td>60.0</td>\n",
       "      <td>0.493333</td>\n",
       "      <td>...</td>\n",
       "      <td>0.5</td>\n",
       "      <td>0.5</td>\n",
       "      <td>0.50</td>\n",
       "      <td>0.50</td>\n",
       "      <td>1.0</td>\n",
       "      <td>0.5</td>\n",
       "      <td>1.0</td>\n",
       "      <td>0.5</td>\n",
       "      <td>0.5</td>\n",
       "      <td>0.162791</td>\n",
       "    </tr>\n",
       "    <tr>\n",
       "      <th>680</th>\n",
       "      <td>790</td>\n",
       "      <td>681</td>\n",
       "      <td>Aegislash Shield Forme</td>\n",
       "      <td>6</td>\n",
       "      <td>Normal</td>\n",
       "      <td>Royal Sword Pokémon</td>\n",
       "      <td>2</td>\n",
       "      <td>Steel</td>\n",
       "      <td>60.0</td>\n",
       "      <td>0.253333</td>\n",
       "      <td>...</td>\n",
       "      <td>0.5</td>\n",
       "      <td>0.5</td>\n",
       "      <td>0.25</td>\n",
       "      <td>0.50</td>\n",
       "      <td>2.0</td>\n",
       "      <td>0.5</td>\n",
       "      <td>2.0</td>\n",
       "      <td>0.5</td>\n",
       "      <td>0.5</td>\n",
       "      <td>0.093023</td>\n",
       "    </tr>\n",
       "    <tr>\n",
       "      <th>319</th>\n",
       "      <td>357</td>\n",
       "      <td>303</td>\n",
       "      <td>Mawile</td>\n",
       "      <td>3</td>\n",
       "      <td>Normal</td>\n",
       "      <td>Deceiver Pokémon</td>\n",
       "      <td>2</td>\n",
       "      <td>Steel</td>\n",
       "      <td>50.0</td>\n",
       "      <td>0.546667</td>\n",
       "      <td>...</td>\n",
       "      <td>0.5</td>\n",
       "      <td>0.5</td>\n",
       "      <td>0.25</td>\n",
       "      <td>0.50</td>\n",
       "      <td>1.0</td>\n",
       "      <td>0.0</td>\n",
       "      <td>0.5</td>\n",
       "      <td>1.0</td>\n",
       "      <td>0.5</td>\n",
       "      <td>0.000000</td>\n",
       "    </tr>\n",
       "    <tr>\n",
       "      <th>500</th>\n",
       "      <td>590</td>\n",
       "      <td>499</td>\n",
       "      <td>Pignite</td>\n",
       "      <td>5</td>\n",
       "      <td>Normal</td>\n",
       "      <td>Fire Pig Pokémon</td>\n",
       "      <td>2</td>\n",
       "      <td>Fire</td>\n",
       "      <td>90.0</td>\n",
       "      <td>0.613333</td>\n",
       "      <td>...</td>\n",
       "      <td>2.0</td>\n",
       "      <td>2.0</td>\n",
       "      <td>0.25</td>\n",
       "      <td>1.00</td>\n",
       "      <td>1.0</td>\n",
       "      <td>1.0</td>\n",
       "      <td>0.5</td>\n",
       "      <td>0.5</td>\n",
       "      <td>1.0</td>\n",
       "      <td>0.511628</td>\n",
       "    </tr>\n",
       "    <tr>\n",
       "      <th>5</th>\n",
       "      <td>6</td>\n",
       "      <td>6</td>\n",
       "      <td>Charizard</td>\n",
       "      <td>1</td>\n",
       "      <td>Normal</td>\n",
       "      <td>Flame Pokémon</td>\n",
       "      <td>2</td>\n",
       "      <td>Fire</td>\n",
       "      <td>78.0</td>\n",
       "      <td>0.533333</td>\n",
       "      <td>...</td>\n",
       "      <td>1.0</td>\n",
       "      <td>1.0</td>\n",
       "      <td>0.25</td>\n",
       "      <td>4.00</td>\n",
       "      <td>1.0</td>\n",
       "      <td>1.0</td>\n",
       "      <td>1.0</td>\n",
       "      <td>0.5</td>\n",
       "      <td>0.5</td>\n",
       "      <td>0.488372</td>\n",
       "    </tr>\n",
       "    <tr>\n",
       "      <th>400</th>\n",
       "      <td>468</td>\n",
       "      <td>391</td>\n",
       "      <td>Monferno</td>\n",
       "      <td>4</td>\n",
       "      <td>Normal</td>\n",
       "      <td>Playful Pokémon</td>\n",
       "      <td>2</td>\n",
       "      <td>Fire</td>\n",
       "      <td>64.0</td>\n",
       "      <td>0.480000</td>\n",
       "      <td>...</td>\n",
       "      <td>2.0</td>\n",
       "      <td>2.0</td>\n",
       "      <td>0.25</td>\n",
       "      <td>1.00</td>\n",
       "      <td>1.0</td>\n",
       "      <td>1.0</td>\n",
       "      <td>0.5</td>\n",
       "      <td>0.5</td>\n",
       "      <td>1.0</td>\n",
       "      <td>0.511628</td>\n",
       "    </tr>\n",
       "    <tr>\n",
       "      <th>57</th>\n",
       "      <td>63</td>\n",
       "      <td>50</td>\n",
       "      <td>Diglett</td>\n",
       "      <td>1</td>\n",
       "      <td>Normal</td>\n",
       "      <td>Mole Pokémon</td>\n",
       "      <td>1</td>\n",
       "      <td>Ground</td>\n",
       "      <td>10.0</td>\n",
       "      <td>0.293333</td>\n",
       "      <td>...</td>\n",
       "      <td>1.0</td>\n",
       "      <td>1.0</td>\n",
       "      <td>1.00</td>\n",
       "      <td>0.50</td>\n",
       "      <td>1.0</td>\n",
       "      <td>1.0</td>\n",
       "      <td>1.0</td>\n",
       "      <td>1.0</td>\n",
       "      <td>1.0</td>\n",
       "      <td>0.534884</td>\n",
       "    </tr>\n",
       "    <tr>\n",
       "      <th>626</th>\n",
       "      <td>717</td>\n",
       "      <td>618</td>\n",
       "      <td>Galarian Stunfisk</td>\n",
       "      <td>5</td>\n",
       "      <td>Normal</td>\n",
       "      <td>Trap Pokémon</td>\n",
       "      <td>2</td>\n",
       "      <td>Ground</td>\n",
       "      <td>109.0</td>\n",
       "      <td>0.506667</td>\n",
       "      <td>...</td>\n",
       "      <td>0.5</td>\n",
       "      <td>0.5</td>\n",
       "      <td>0.50</td>\n",
       "      <td>0.25</td>\n",
       "      <td>1.0</td>\n",
       "      <td>0.5</td>\n",
       "      <td>1.0</td>\n",
       "      <td>0.5</td>\n",
       "      <td>0.5</td>\n",
       "      <td>0.232558</td>\n",
       "    </tr>\n",
       "    <tr>\n",
       "      <th>58</th>\n",
       "      <td>64</td>\n",
       "      <td>50</td>\n",
       "      <td>Alolan Diglett</td>\n",
       "      <td>1</td>\n",
       "      <td>Normal</td>\n",
       "      <td>Mole Pokémon</td>\n",
       "      <td>2</td>\n",
       "      <td>Ground</td>\n",
       "      <td>10.0</td>\n",
       "      <td>0.293333</td>\n",
       "      <td>...</td>\n",
       "      <td>0.5</td>\n",
       "      <td>0.5</td>\n",
       "      <td>0.50</td>\n",
       "      <td>0.25</td>\n",
       "      <td>1.0</td>\n",
       "      <td>0.5</td>\n",
       "      <td>1.0</td>\n",
       "      <td>0.5</td>\n",
       "      <td>0.5</td>\n",
       "      <td>0.232558</td>\n",
       "    </tr>\n",
       "    <tr>\n",
       "      <th>384</th>\n",
       "      <td>432</td>\n",
       "      <td>365</td>\n",
       "      <td>Walrein</td>\n",
       "      <td>3</td>\n",
       "      <td>Normal</td>\n",
       "      <td>Ice Break Pokémon</td>\n",
       "      <td>2</td>\n",
       "      <td>Ice</td>\n",
       "      <td>110.0</td>\n",
       "      <td>0.493333</td>\n",
       "      <td>...</td>\n",
       "      <td>1.0</td>\n",
       "      <td>1.0</td>\n",
       "      <td>1.00</td>\n",
       "      <td>2.00</td>\n",
       "      <td>1.0</td>\n",
       "      <td>1.0</td>\n",
       "      <td>1.0</td>\n",
       "      <td>1.0</td>\n",
       "      <td>1.0</td>\n",
       "      <td>0.639535</td>\n",
       "    </tr>\n",
       "    <tr>\n",
       "      <th>560</th>\n",
       "      <td>651</td>\n",
       "      <td>555</td>\n",
       "      <td>Darmanitan Galarian Standard Mode</td>\n",
       "      <td>5</td>\n",
       "      <td>Normal</td>\n",
       "      <td>Zen Charm Pokémon</td>\n",
       "      <td>1</td>\n",
       "      <td>Ice</td>\n",
       "      <td>105.0</td>\n",
       "      <td>1.000000</td>\n",
       "      <td>...</td>\n",
       "      <td>1.0</td>\n",
       "      <td>1.0</td>\n",
       "      <td>1.00</td>\n",
       "      <td>2.00</td>\n",
       "      <td>1.0</td>\n",
       "      <td>1.0</td>\n",
       "      <td>1.0</td>\n",
       "      <td>2.0</td>\n",
       "      <td>1.0</td>\n",
       "      <td>0.767442</td>\n",
       "    </tr>\n",
       "    <tr>\n",
       "      <th>45</th>\n",
       "      <td>51</td>\n",
       "      <td>38</td>\n",
       "      <td>Alolan Ninetales</td>\n",
       "      <td>1</td>\n",
       "      <td>Normal</td>\n",
       "      <td>Fox Pokémon</td>\n",
       "      <td>2</td>\n",
       "      <td>Ice</td>\n",
       "      <td>73.0</td>\n",
       "      <td>0.386667</td>\n",
       "      <td>...</td>\n",
       "      <td>1.0</td>\n",
       "      <td>1.0</td>\n",
       "      <td>0.50</td>\n",
       "      <td>2.00</td>\n",
       "      <td>1.0</td>\n",
       "      <td>1.0</td>\n",
       "      <td>1.0</td>\n",
       "      <td>0.5</td>\n",
       "      <td>0.5</td>\n",
       "      <td>0.441860</td>\n",
       "    </tr>\n",
       "  </tbody>\n",
       "</table>\n",
       "<p>30 rows × 31 columns</p>\n",
       "</div>"
      ],
      "text/plain": [
       "     Unnamed: 0  pokedex_number                               name generation  \\\n",
       "458         528             447                              Riolu          4   \n",
       "539         630             538                              Throh          5   \n",
       "79           86              67                            Machoke          1   \n",
       "114         122              94                             Gengar          1   \n",
       "743         863             741               Oricorio Sensu Style          7   \n",
       "219         241             200                         Misdreavus          2   \n",
       "231         254             212                             Scizor          2   \n",
       "603         694             596                         Galvantula          5   \n",
       "147         157             123                            Scyther          1   \n",
       "123         132             103                          Exeggutor          1   \n",
       "762         882             756                          Shiinotic          7   \n",
       "498         588             497                          Serperior          5   \n",
       "443         512             432                            Purugly          4   \n",
       "255         281             235                           Smeargle          2   \n",
       "303         340             287                            Slakoth          3   \n",
       "801         951             821                           Rookidee          8   \n",
       "720         830             715                            Noivern          6   \n",
       "803         953             823                        Corviknight          8   \n",
       "607         698             600                              Klang          5   \n",
       "680         790             681             Aegislash Shield Forme          6   \n",
       "319         357             303                             Mawile          3   \n",
       "500         590             499                            Pignite          5   \n",
       "5             6               6                          Charizard          1   \n",
       "400         468             391                           Monferno          4   \n",
       "57           63              50                            Diglett          1   \n",
       "626         717             618                  Galarian Stunfisk          5   \n",
       "58           64              50                     Alolan Diglett          1   \n",
       "384         432             365                            Walrein          3   \n",
       "560         651             555  Darmanitan Galarian Standard Mode          5   \n",
       "45           51              38                   Alolan Ninetales          1   \n",
       "\n",
       "     status               species  type_number    type_1     hp    attack  \\\n",
       "458  Normal     Emanation Pokémon            1  Fighting   40.0  0.413333   \n",
       "539  Normal          Judo Pokémon            1  Fighting  120.0  0.666667   \n",
       "79   Normal    Superpower Pokémon            1  Fighting   80.0  0.666667   \n",
       "114  Normal        Shadow Pokémon            2     Ghost   60.0  0.373333   \n",
       "743  Normal       Dancing Pokémon            2     Ghost   75.0  0.413333   \n",
       "219  Normal       Screech Pokémon            1     Ghost   60.0  0.333333   \n",
       "231  Normal        Pincer Pokémon            2       Bug   70.0  0.920000   \n",
       "603  Normal     EleSpider Pokémon            2       Bug   70.0  0.480000   \n",
       "147  Normal        Mantis Pokémon            2       Bug   70.0  0.746667   \n",
       "123  Normal       Coconut Pokémon            2     Grass   95.0  0.626667   \n",
       "762  Normal  Illuminating Pokémon            2     Grass   60.0  0.213333   \n",
       "498  Normal         Regal Pokémon            1     Grass   75.0  0.453333   \n",
       "443  Normal     Tiger Cat Pokémon            1    Normal   71.0  0.520000   \n",
       "255  Normal       Painter Pokémon            1    Normal   55.0  0.000000   \n",
       "303  Normal       Slacker Pokémon            1    Normal   60.0  0.333333   \n",
       "801  Normal     Tiny Bird Pokémon            1    Flying   38.0  0.226667   \n",
       "720  Normal    Sound Wave Pokémon            2    Flying   85.0  0.413333   \n",
       "803  Normal         Raven Pokémon            2    Flying   98.0  0.560000   \n",
       "607  Normal          Gear Pokémon            1     Steel   60.0  0.493333   \n",
       "680  Normal   Royal Sword Pokémon            2     Steel   60.0  0.253333   \n",
       "319  Normal      Deceiver Pokémon            2     Steel   50.0  0.546667   \n",
       "500  Normal      Fire Pig Pokémon            2      Fire   90.0  0.613333   \n",
       "5    Normal         Flame Pokémon            2      Fire   78.0  0.533333   \n",
       "400  Normal       Playful Pokémon            2      Fire   64.0  0.480000   \n",
       "57   Normal          Mole Pokémon            1    Ground   10.0  0.293333   \n",
       "626  Normal          Trap Pokémon            2    Ground  109.0  0.506667   \n",
       "58   Normal          Mole Pokémon            2    Ground   10.0  0.293333   \n",
       "384  Normal     Ice Break Pokémon            2       Ice  110.0  0.493333   \n",
       "560  Normal     Zen Charm Pokémon            1       Ice  105.0  1.000000   \n",
       "45   Normal           Fox Pokémon            2       Ice   73.0  0.386667   \n",
       "\n",
       "     ...  against_flying  against_psychic  against_bug  against_rock  \\\n",
       "458  ...             2.0              2.0         0.50          0.50   \n",
       "539  ...             2.0              2.0         0.50          0.50   \n",
       "79   ...             2.0              2.0         0.50          0.50   \n",
       "114  ...             1.0              2.0         0.25          1.00   \n",
       "743  ...             1.0              1.0         0.25          2.00   \n",
       "219  ...             1.0              1.0         0.50          1.00   \n",
       "231  ...             1.0              0.5         0.50          1.00   \n",
       "603  ...             1.0              1.0         1.00          2.00   \n",
       "147  ...             2.0              1.0         0.50          4.00   \n",
       "123  ...             2.0              0.5         4.00          1.00   \n",
       "762  ...             2.0              1.0         1.00          1.00   \n",
       "498  ...             2.0              1.0         2.00          1.00   \n",
       "443  ...             1.0              1.0         1.00          1.00   \n",
       "255  ...             1.0              1.0         1.00          1.00   \n",
       "303  ...             1.0              1.0         1.00          1.00   \n",
       "801  ...             1.0              1.0         0.50          2.00   \n",
       "720  ...             1.0              1.0         0.50          2.00   \n",
       "803  ...             0.5              0.5         0.25          1.00   \n",
       "607  ...             0.5              0.5         0.50          0.50   \n",
       "680  ...             0.5              0.5         0.25          0.50   \n",
       "319  ...             0.5              0.5         0.25          0.50   \n",
       "500  ...             2.0              2.0         0.25          1.00   \n",
       "5    ...             1.0              1.0         0.25          4.00   \n",
       "400  ...             2.0              2.0         0.25          1.00   \n",
       "57   ...             1.0              1.0         1.00          0.50   \n",
       "626  ...             0.5              0.5         0.50          0.25   \n",
       "58   ...             0.5              0.5         0.50          0.25   \n",
       "384  ...             1.0              1.0         1.00          2.00   \n",
       "560  ...             1.0              1.0         1.00          2.00   \n",
       "45   ...             1.0              1.0         0.50          2.00   \n",
       "\n",
       "     against_ghost  against_dragon  against_dark  against_steel  \\\n",
       "458            1.0             1.0           0.5            1.0   \n",
       "539            1.0             1.0           0.5            1.0   \n",
       "79             1.0             1.0           0.5            1.0   \n",
       "114            2.0             1.0           2.0            1.0   \n",
       "743            2.0             1.0           2.0            1.0   \n",
       "219            2.0             1.0           2.0            1.0   \n",
       "231            1.0             0.5           1.0            0.5   \n",
       "603            1.0             1.0           1.0            0.5   \n",
       "147            1.0             1.0           1.0            1.0   \n",
       "123            2.0             1.0           2.0            1.0   \n",
       "762            1.0             0.0           0.5            2.0   \n",
       "498            1.0             1.0           1.0            1.0   \n",
       "443            0.0             1.0           1.0            1.0   \n",
       "255            0.0             1.0           1.0            1.0   \n",
       "303            0.0             1.0           1.0            1.0   \n",
       "801            1.0             1.0           1.0            1.0   \n",
       "720            1.0             2.0           1.0            1.0   \n",
       "803            1.0             0.5           1.0            0.5   \n",
       "607            1.0             0.5           1.0            0.5   \n",
       "680            2.0             0.5           2.0            0.5   \n",
       "319            1.0             0.0           0.5            1.0   \n",
       "500            1.0             1.0           0.5            0.5   \n",
       "5              1.0             1.0           1.0            0.5   \n",
       "400            1.0             1.0           0.5            0.5   \n",
       "57             1.0             1.0           1.0            1.0   \n",
       "626            1.0             0.5           1.0            0.5   \n",
       "58             1.0             0.5           1.0            0.5   \n",
       "384            1.0             1.0           1.0            1.0   \n",
       "560            1.0             1.0           1.0            2.0   \n",
       "45             1.0             1.0           1.0            0.5   \n",
       "\n",
       "     against_fairy   against  \n",
       "458            2.0  0.581395  \n",
       "539            2.0  0.581395  \n",
       "79             2.0  0.581395  \n",
       "114            0.5  0.395349  \n",
       "743            1.0  0.465116  \n",
       "219            1.0  0.255814  \n",
       "231            0.5  0.232558  \n",
       "603            1.0  0.441860  \n",
       "147            1.0  0.813953  \n",
       "123            1.0  1.000000  \n",
       "762            1.0  0.720930  \n",
       "498            1.0  0.720930  \n",
       "443            1.0  0.348837  \n",
       "255            1.0  0.441860  \n",
       "303            1.0  0.441860  \n",
       "801            1.0  0.488372  \n",
       "720            2.0  0.651163  \n",
       "803            0.5  0.023256  \n",
       "607            0.5  0.162791  \n",
       "680            0.5  0.093023  \n",
       "319            0.5  0.000000  \n",
       "500            1.0  0.511628  \n",
       "5              0.5  0.488372  \n",
       "400            1.0  0.511628  \n",
       "57             1.0  0.534884  \n",
       "626            0.5  0.232558  \n",
       "58             0.5  0.232558  \n",
       "384            1.0  0.639535  \n",
       "560            1.0  0.767442  \n",
       "45             0.5  0.441860  \n",
       "\n",
       "[30 rows x 31 columns]"
      ]
     },
     "execution_count": 11,
     "metadata": {},
     "output_type": "execute_result"
    }
   ],
   "source": [
    "# Selecionamos 10 tipos aleatórios de pokemons toda vez que desejamos selecionar uma nova equipe\n",
    "# O intuito do nosso algoritimo é que independente dos pokemons disponíveis no momento, ele nos retorne os pokemons mais proximos das características que buscamos\n",
    "\n",
    "# Cada tipo de pokemon possui vantagens contra certos tipos e desvantagens contra outros. Isso é informado pela característica against\n",
    "# Em seguida criamos uma média para o against de cada pokemon, que diz o quao forte ele é contra a variedade de tipos de pokemons. Sendo que quanto maior o valor, melhor ele se sai contra a diversidade de tipos de pokemons\n",
    "# O intuito é encontrar o pokemons que possuem mais vantagens e menos desvantagens em relação aos outros\n",
    "\n",
    "# Fizemos uma análise e concluímos que o atributo mais importante é a velocidade, pois com ela, um pokemon tem a capacidade de desviar de ataques do oponente, independente do tipo e possui a capacidade de atacar mais rapido\n",
    "# Assim fazendo a diferença tanto no ataque quanto na defesa de um pokemon\n",
    "\n",
    "\n",
    "# O segundo atributo mais importante é a média do against\n",
    "# Pois é ele que vai determinar o quão bem o pokemon vai se sair em relação aos outros pokemons, e como buscamos uma equipe para vencer o campeonato regional é crucial termos uma equipe equilibrada para bater de frente contra qualquer tipo de pokemon\n",
    "\n",
    "# Utilizamos uma métrica ponderada para definir o peso de cada atributo na nossa escolha\n",
    "# reescala da media do against, para que ele possua pesos iguais aos outros atributos, e que apenas a nossa métrica ponderada possa interferir no peso de uma característica\n",
    "\n",
    "tipos_aleatorios = random.sample(df_boss_2['type_1'].unique().tolist(), 10)\n",
    "\n",
    "lista_tipos = []\n",
    "\n",
    "for tipo in tipos_aleatorios:\n",
    "    pokemons_do_tipo = df_boss_2[df_boss_2['type_1'] == tipo].sample(n=3,random_state=1)\n",
    "    lista_tipos.append(pokemons_do_tipo)\n",
    "\n",
    "resultado = pd.concat(lista_tipos)\n",
    "resultado.sort_values('type_1')\n",
    "\n",
    "colunas_against = [colunas for colunas in resultado.columns if 'against' in colunas]\n",
    "\n",
    "resultado['against'] = resultado[colunas_against].mean(axis=1)\n",
    "\n",
    "pesos = {'attack':0.15,'defense':0.15,'speed':0.40,'against':0.30}\n",
    "\n",
    "scaler = MinMaxScaler()\n",
    "\n",
    "resultado[['attack']] = scaler.fit_transform(resultado[['attack']])\n",
    "resultado[['defense']] = scaler.fit_transform(resultado[['defense']])\n",
    "resultado[['speed']] = scaler.fit_transform(resultado[['speed']])\n",
    "resultado[['against']] = scaler.fit_transform(resultado[['against']])\n",
    "\n",
    "resultado"
   ]
  },
  {
   "cell_type": "code",
   "execution_count": 12,
   "id": "ad22c523",
   "metadata": {},
   "outputs": [
    {
     "data": {
      "text/html": [
       "<div>\n",
       "<style scoped>\n",
       "    .dataframe tbody tr th:only-of-type {\n",
       "        vertical-align: middle;\n",
       "    }\n",
       "\n",
       "    .dataframe tbody tr th {\n",
       "        vertical-align: top;\n",
       "    }\n",
       "\n",
       "    .dataframe thead th {\n",
       "        text-align: right;\n",
       "    }\n",
       "</style>\n",
       "<table border=\"1\" class=\"dataframe\">\n",
       "  <thead>\n",
       "    <tr style=\"text-align: right;\">\n",
       "      <th></th>\n",
       "      <th>Unnamed: 0</th>\n",
       "      <th>pokedex_number</th>\n",
       "      <th>name</th>\n",
       "      <th>generation</th>\n",
       "      <th>status</th>\n",
       "      <th>species</th>\n",
       "      <th>type_number</th>\n",
       "      <th>type_1</th>\n",
       "      <th>hp</th>\n",
       "      <th>attack</th>\n",
       "      <th>...</th>\n",
       "      <th>against_psychic</th>\n",
       "      <th>against_bug</th>\n",
       "      <th>against_rock</th>\n",
       "      <th>against_ghost</th>\n",
       "      <th>against_dragon</th>\n",
       "      <th>against_dark</th>\n",
       "      <th>against_steel</th>\n",
       "      <th>against_fairy</th>\n",
       "      <th>against</th>\n",
       "      <th>score</th>\n",
       "    </tr>\n",
       "  </thead>\n",
       "  <tbody>\n",
       "    <tr>\n",
       "      <th>123</th>\n",
       "      <td>132</td>\n",
       "      <td>103</td>\n",
       "      <td>Exeggutor</td>\n",
       "      <td>1</td>\n",
       "      <td>Normal</td>\n",
       "      <td>Coconut Pokémon</td>\n",
       "      <td>2</td>\n",
       "      <td>Grass</td>\n",
       "      <td>95.0</td>\n",
       "      <td>0.626667</td>\n",
       "      <td>...</td>\n",
       "      <td>0.5</td>\n",
       "      <td>4.00</td>\n",
       "      <td>1.00</td>\n",
       "      <td>2.0</td>\n",
       "      <td>1.0</td>\n",
       "      <td>2.0</td>\n",
       "      <td>1.0</td>\n",
       "      <td>1.0</td>\n",
       "      <td>1.000000</td>\n",
       "      <td>30.272988</td>\n",
       "    </tr>\n",
       "    <tr>\n",
       "      <th>147</th>\n",
       "      <td>157</td>\n",
       "      <td>123</td>\n",
       "      <td>Scyther</td>\n",
       "      <td>1</td>\n",
       "      <td>Normal</td>\n",
       "      <td>Mantis Pokémon</td>\n",
       "      <td>2</td>\n",
       "      <td>Bug</td>\n",
       "      <td>70.0</td>\n",
       "      <td>0.746667</td>\n",
       "      <td>...</td>\n",
       "      <td>1.0</td>\n",
       "      <td>0.50</td>\n",
       "      <td>4.00</td>\n",
       "      <td>1.0</td>\n",
       "      <td>1.0</td>\n",
       "      <td>1.0</td>\n",
       "      <td>1.0</td>\n",
       "      <td>1.0</td>\n",
       "      <td>0.813953</td>\n",
       "      <td>24.917569</td>\n",
       "    </tr>\n",
       "    <tr>\n",
       "      <th>560</th>\n",
       "      <td>651</td>\n",
       "      <td>555</td>\n",
       "      <td>Darmanitan Galarian Standard Mode</td>\n",
       "      <td>5</td>\n",
       "      <td>Normal</td>\n",
       "      <td>Zen Charm Pokémon</td>\n",
       "      <td>1</td>\n",
       "      <td>Ice</td>\n",
       "      <td>105.0</td>\n",
       "      <td>1.000000</td>\n",
       "      <td>...</td>\n",
       "      <td>1.0</td>\n",
       "      <td>1.00</td>\n",
       "      <td>2.00</td>\n",
       "      <td>1.0</td>\n",
       "      <td>1.0</td>\n",
       "      <td>1.0</td>\n",
       "      <td>2.0</td>\n",
       "      <td>1.0</td>\n",
       "      <td>0.767442</td>\n",
       "      <td>23.490756</td>\n",
       "    </tr>\n",
       "    <tr>\n",
       "      <th>498</th>\n",
       "      <td>588</td>\n",
       "      <td>497</td>\n",
       "      <td>Serperior</td>\n",
       "      <td>5</td>\n",
       "      <td>Normal</td>\n",
       "      <td>Regal Pokémon</td>\n",
       "      <td>1</td>\n",
       "      <td>Grass</td>\n",
       "      <td>75.0</td>\n",
       "      <td>0.453333</td>\n",
       "      <td>...</td>\n",
       "      <td>1.0</td>\n",
       "      <td>2.00</td>\n",
       "      <td>1.00</td>\n",
       "      <td>1.0</td>\n",
       "      <td>1.0</td>\n",
       "      <td>1.0</td>\n",
       "      <td>1.0</td>\n",
       "      <td>1.0</td>\n",
       "      <td>0.720930</td>\n",
       "      <td>22.134955</td>\n",
       "    </tr>\n",
       "    <tr>\n",
       "      <th>762</th>\n",
       "      <td>882</td>\n",
       "      <td>756</td>\n",
       "      <td>Shiinotic</td>\n",
       "      <td>7</td>\n",
       "      <td>Normal</td>\n",
       "      <td>Illuminating Pokémon</td>\n",
       "      <td>2</td>\n",
       "      <td>Grass</td>\n",
       "      <td>60.0</td>\n",
       "      <td>0.213333</td>\n",
       "      <td>...</td>\n",
       "      <td>1.0</td>\n",
       "      <td>1.00</td>\n",
       "      <td>1.00</td>\n",
       "      <td>1.0</td>\n",
       "      <td>0.0</td>\n",
       "      <td>0.5</td>\n",
       "      <td>2.0</td>\n",
       "      <td>1.0</td>\n",
       "      <td>0.720930</td>\n",
       "      <td>21.726871</td>\n",
       "    </tr>\n",
       "    <tr>\n",
       "      <th>720</th>\n",
       "      <td>830</td>\n",
       "      <td>715</td>\n",
       "      <td>Noivern</td>\n",
       "      <td>6</td>\n",
       "      <td>Normal</td>\n",
       "      <td>Sound Wave Pokémon</td>\n",
       "      <td>2</td>\n",
       "      <td>Flying</td>\n",
       "      <td>85.0</td>\n",
       "      <td>0.413333</td>\n",
       "      <td>...</td>\n",
       "      <td>1.0</td>\n",
       "      <td>0.50</td>\n",
       "      <td>2.00</td>\n",
       "      <td>1.0</td>\n",
       "      <td>2.0</td>\n",
       "      <td>1.0</td>\n",
       "      <td>1.0</td>\n",
       "      <td>2.0</td>\n",
       "      <td>0.651163</td>\n",
       "      <td>20.063848</td>\n",
       "    </tr>\n",
       "    <tr>\n",
       "      <th>384</th>\n",
       "      <td>432</td>\n",
       "      <td>365</td>\n",
       "      <td>Walrein</td>\n",
       "      <td>3</td>\n",
       "      <td>Normal</td>\n",
       "      <td>Ice Break Pokémon</td>\n",
       "      <td>2</td>\n",
       "      <td>Ice</td>\n",
       "      <td>110.0</td>\n",
       "      <td>0.493333</td>\n",
       "      <td>...</td>\n",
       "      <td>1.0</td>\n",
       "      <td>1.00</td>\n",
       "      <td>2.00</td>\n",
       "      <td>1.0</td>\n",
       "      <td>1.0</td>\n",
       "      <td>1.0</td>\n",
       "      <td>1.0</td>\n",
       "      <td>1.0</td>\n",
       "      <td>0.639535</td>\n",
       "      <td>19.484392</td>\n",
       "    </tr>\n",
       "    <tr>\n",
       "      <th>539</th>\n",
       "      <td>630</td>\n",
       "      <td>538</td>\n",
       "      <td>Throh</td>\n",
       "      <td>5</td>\n",
       "      <td>Normal</td>\n",
       "      <td>Judo Pokémon</td>\n",
       "      <td>1</td>\n",
       "      <td>Fighting</td>\n",
       "      <td>120.0</td>\n",
       "      <td>0.666667</td>\n",
       "      <td>...</td>\n",
       "      <td>2.0</td>\n",
       "      <td>0.50</td>\n",
       "      <td>0.50</td>\n",
       "      <td>1.0</td>\n",
       "      <td>1.0</td>\n",
       "      <td>0.5</td>\n",
       "      <td>1.0</td>\n",
       "      <td>2.0</td>\n",
       "      <td>0.581395</td>\n",
       "      <td>17.674182</td>\n",
       "    </tr>\n",
       "    <tr>\n",
       "      <th>79</th>\n",
       "      <td>86</td>\n",
       "      <td>67</td>\n",
       "      <td>Machoke</td>\n",
       "      <td>1</td>\n",
       "      <td>Normal</td>\n",
       "      <td>Superpower Pokémon</td>\n",
       "      <td>1</td>\n",
       "      <td>Fighting</td>\n",
       "      <td>80.0</td>\n",
       "      <td>0.666667</td>\n",
       "      <td>...</td>\n",
       "      <td>2.0</td>\n",
       "      <td>0.50</td>\n",
       "      <td>0.50</td>\n",
       "      <td>1.0</td>\n",
       "      <td>1.0</td>\n",
       "      <td>0.5</td>\n",
       "      <td>1.0</td>\n",
       "      <td>2.0</td>\n",
       "      <td>0.581395</td>\n",
       "      <td>17.655432</td>\n",
       "    </tr>\n",
       "    <tr>\n",
       "      <th>458</th>\n",
       "      <td>528</td>\n",
       "      <td>447</td>\n",
       "      <td>Riolu</td>\n",
       "      <td>4</td>\n",
       "      <td>Normal</td>\n",
       "      <td>Emanation Pokémon</td>\n",
       "      <td>1</td>\n",
       "      <td>Fighting</td>\n",
       "      <td>40.0</td>\n",
       "      <td>0.413333</td>\n",
       "      <td>...</td>\n",
       "      <td>2.0</td>\n",
       "      <td>0.50</td>\n",
       "      <td>0.50</td>\n",
       "      <td>1.0</td>\n",
       "      <td>1.0</td>\n",
       "      <td>0.5</td>\n",
       "      <td>1.0</td>\n",
       "      <td>2.0</td>\n",
       "      <td>0.581395</td>\n",
       "      <td>17.649277</td>\n",
       "    </tr>\n",
       "    <tr>\n",
       "      <th>57</th>\n",
       "      <td>63</td>\n",
       "      <td>50</td>\n",
       "      <td>Diglett</td>\n",
       "      <td>1</td>\n",
       "      <td>Normal</td>\n",
       "      <td>Mole Pokémon</td>\n",
       "      <td>1</td>\n",
       "      <td>Ground</td>\n",
       "      <td>10.0</td>\n",
       "      <td>0.293333</td>\n",
       "      <td>...</td>\n",
       "      <td>1.0</td>\n",
       "      <td>1.00</td>\n",
       "      <td>0.50</td>\n",
       "      <td>1.0</td>\n",
       "      <td>1.0</td>\n",
       "      <td>1.0</td>\n",
       "      <td>1.0</td>\n",
       "      <td>1.0</td>\n",
       "      <td>0.534884</td>\n",
       "      <td>16.370512</td>\n",
       "    </tr>\n",
       "    <tr>\n",
       "      <th>400</th>\n",
       "      <td>468</td>\n",
       "      <td>391</td>\n",
       "      <td>Monferno</td>\n",
       "      <td>4</td>\n",
       "      <td>Normal</td>\n",
       "      <td>Playful Pokémon</td>\n",
       "      <td>2</td>\n",
       "      <td>Fire</td>\n",
       "      <td>64.0</td>\n",
       "      <td>0.480000</td>\n",
       "      <td>...</td>\n",
       "      <td>2.0</td>\n",
       "      <td>0.25</td>\n",
       "      <td>1.00</td>\n",
       "      <td>1.0</td>\n",
       "      <td>1.0</td>\n",
       "      <td>0.5</td>\n",
       "      <td>0.5</td>\n",
       "      <td>1.0</td>\n",
       "      <td>0.511628</td>\n",
       "      <td>15.672980</td>\n",
       "    </tr>\n",
       "    <tr>\n",
       "      <th>500</th>\n",
       "      <td>590</td>\n",
       "      <td>499</td>\n",
       "      <td>Pignite</td>\n",
       "      <td>5</td>\n",
       "      <td>Normal</td>\n",
       "      <td>Fire Pig Pokémon</td>\n",
       "      <td>2</td>\n",
       "      <td>Fire</td>\n",
       "      <td>90.0</td>\n",
       "      <td>0.613333</td>\n",
       "      <td>...</td>\n",
       "      <td>2.0</td>\n",
       "      <td>0.25</td>\n",
       "      <td>1.00</td>\n",
       "      <td>1.0</td>\n",
       "      <td>1.0</td>\n",
       "      <td>0.5</td>\n",
       "      <td>0.5</td>\n",
       "      <td>1.0</td>\n",
       "      <td>0.511628</td>\n",
       "      <td>15.585004</td>\n",
       "    </tr>\n",
       "    <tr>\n",
       "      <th>5</th>\n",
       "      <td>6</td>\n",
       "      <td>6</td>\n",
       "      <td>Charizard</td>\n",
       "      <td>1</td>\n",
       "      <td>Normal</td>\n",
       "      <td>Flame Pokémon</td>\n",
       "      <td>2</td>\n",
       "      <td>Fire</td>\n",
       "      <td>78.0</td>\n",
       "      <td>0.533333</td>\n",
       "      <td>...</td>\n",
       "      <td>1.0</td>\n",
       "      <td>0.25</td>\n",
       "      <td>4.00</td>\n",
       "      <td>1.0</td>\n",
       "      <td>1.0</td>\n",
       "      <td>1.0</td>\n",
       "      <td>0.5</td>\n",
       "      <td>0.5</td>\n",
       "      <td>0.488372</td>\n",
       "      <td>15.095449</td>\n",
       "    </tr>\n",
       "    <tr>\n",
       "      <th>801</th>\n",
       "      <td>951</td>\n",
       "      <td>821</td>\n",
       "      <td>Rookidee</td>\n",
       "      <td>8</td>\n",
       "      <td>Normal</td>\n",
       "      <td>Tiny Bird Pokémon</td>\n",
       "      <td>1</td>\n",
       "      <td>Flying</td>\n",
       "      <td>38.0</td>\n",
       "      <td>0.226667</td>\n",
       "      <td>...</td>\n",
       "      <td>1.0</td>\n",
       "      <td>0.50</td>\n",
       "      <td>2.00</td>\n",
       "      <td>1.0</td>\n",
       "      <td>1.0</td>\n",
       "      <td>1.0</td>\n",
       "      <td>1.0</td>\n",
       "      <td>1.0</td>\n",
       "      <td>0.488372</td>\n",
       "      <td>14.811889</td>\n",
       "    </tr>\n",
       "    <tr>\n",
       "      <th>743</th>\n",
       "      <td>863</td>\n",
       "      <td>741</td>\n",
       "      <td>Oricorio Sensu Style</td>\n",
       "      <td>7</td>\n",
       "      <td>Normal</td>\n",
       "      <td>Dancing Pokémon</td>\n",
       "      <td>2</td>\n",
       "      <td>Ghost</td>\n",
       "      <td>75.0</td>\n",
       "      <td>0.413333</td>\n",
       "      <td>...</td>\n",
       "      <td>1.0</td>\n",
       "      <td>0.25</td>\n",
       "      <td>2.00</td>\n",
       "      <td>2.0</td>\n",
       "      <td>1.0</td>\n",
       "      <td>2.0</td>\n",
       "      <td>1.0</td>\n",
       "      <td>1.0</td>\n",
       "      <td>0.465116</td>\n",
       "      <td>14.335726</td>\n",
       "    </tr>\n",
       "    <tr>\n",
       "      <th>45</th>\n",
       "      <td>51</td>\n",
       "      <td>38</td>\n",
       "      <td>Alolan Ninetales</td>\n",
       "      <td>1</td>\n",
       "      <td>Normal</td>\n",
       "      <td>Fox Pokémon</td>\n",
       "      <td>2</td>\n",
       "      <td>Ice</td>\n",
       "      <td>73.0</td>\n",
       "      <td>0.386667</td>\n",
       "      <td>...</td>\n",
       "      <td>1.0</td>\n",
       "      <td>0.50</td>\n",
       "      <td>2.00</td>\n",
       "      <td>1.0</td>\n",
       "      <td>1.0</td>\n",
       "      <td>1.0</td>\n",
       "      <td>0.5</td>\n",
       "      <td>0.5</td>\n",
       "      <td>0.441860</td>\n",
       "      <td>13.715421</td>\n",
       "    </tr>\n",
       "    <tr>\n",
       "      <th>603</th>\n",
       "      <td>694</td>\n",
       "      <td>596</td>\n",
       "      <td>Galvantula</td>\n",
       "      <td>5</td>\n",
       "      <td>Normal</td>\n",
       "      <td>EleSpider Pokémon</td>\n",
       "      <td>2</td>\n",
       "      <td>Bug</td>\n",
       "      <td>70.0</td>\n",
       "      <td>0.480000</td>\n",
       "      <td>...</td>\n",
       "      <td>1.0</td>\n",
       "      <td>1.00</td>\n",
       "      <td>2.00</td>\n",
       "      <td>1.0</td>\n",
       "      <td>1.0</td>\n",
       "      <td>1.0</td>\n",
       "      <td>0.5</td>\n",
       "      <td>1.0</td>\n",
       "      <td>0.441860</td>\n",
       "      <td>13.704004</td>\n",
       "    </tr>\n",
       "    <tr>\n",
       "      <th>255</th>\n",
       "      <td>281</td>\n",
       "      <td>235</td>\n",
       "      <td>Smeargle</td>\n",
       "      <td>2</td>\n",
       "      <td>Normal</td>\n",
       "      <td>Painter Pokémon</td>\n",
       "      <td>1</td>\n",
       "      <td>Normal</td>\n",
       "      <td>55.0</td>\n",
       "      <td>0.000000</td>\n",
       "      <td>...</td>\n",
       "      <td>1.0</td>\n",
       "      <td>1.00</td>\n",
       "      <td>1.00</td>\n",
       "      <td>0.0</td>\n",
       "      <td>1.0</td>\n",
       "      <td>1.0</td>\n",
       "      <td>1.0</td>\n",
       "      <td>1.0</td>\n",
       "      <td>0.441860</td>\n",
       "      <td>13.462540</td>\n",
       "    </tr>\n",
       "    <tr>\n",
       "      <th>303</th>\n",
       "      <td>340</td>\n",
       "      <td>287</td>\n",
       "      <td>Slakoth</td>\n",
       "      <td>3</td>\n",
       "      <td>Normal</td>\n",
       "      <td>Slacker Pokémon</td>\n",
       "      <td>1</td>\n",
       "      <td>Normal</td>\n",
       "      <td>60.0</td>\n",
       "      <td>0.333333</td>\n",
       "      <td>...</td>\n",
       "      <td>1.0</td>\n",
       "      <td>1.00</td>\n",
       "      <td>1.00</td>\n",
       "      <td>0.0</td>\n",
       "      <td>1.0</td>\n",
       "      <td>1.0</td>\n",
       "      <td>1.0</td>\n",
       "      <td>1.0</td>\n",
       "      <td>0.441860</td>\n",
       "      <td>13.348671</td>\n",
       "    </tr>\n",
       "    <tr>\n",
       "      <th>114</th>\n",
       "      <td>122</td>\n",
       "      <td>94</td>\n",
       "      <td>Gengar</td>\n",
       "      <td>1</td>\n",
       "      <td>Normal</td>\n",
       "      <td>Shadow Pokémon</td>\n",
       "      <td>2</td>\n",
       "      <td>Ghost</td>\n",
       "      <td>60.0</td>\n",
       "      <td>0.373333</td>\n",
       "      <td>...</td>\n",
       "      <td>2.0</td>\n",
       "      <td>0.25</td>\n",
       "      <td>1.00</td>\n",
       "      <td>2.0</td>\n",
       "      <td>1.0</td>\n",
       "      <td>2.0</td>\n",
       "      <td>1.0</td>\n",
       "      <td>0.5</td>\n",
       "      <td>0.395349</td>\n",
       "      <td>12.299322</td>\n",
       "    </tr>\n",
       "    <tr>\n",
       "      <th>443</th>\n",
       "      <td>512</td>\n",
       "      <td>432</td>\n",
       "      <td>Purugly</td>\n",
       "      <td>4</td>\n",
       "      <td>Normal</td>\n",
       "      <td>Tiger Cat Pokémon</td>\n",
       "      <td>1</td>\n",
       "      <td>Normal</td>\n",
       "      <td>71.0</td>\n",
       "      <td>0.520000</td>\n",
       "      <td>...</td>\n",
       "      <td>1.0</td>\n",
       "      <td>1.00</td>\n",
       "      <td>1.00</td>\n",
       "      <td>0.0</td>\n",
       "      <td>1.0</td>\n",
       "      <td>1.0</td>\n",
       "      <td>1.0</td>\n",
       "      <td>1.0</td>\n",
       "      <td>0.348837</td>\n",
       "      <td>10.944664</td>\n",
       "    </tr>\n",
       "    <tr>\n",
       "      <th>219</th>\n",
       "      <td>241</td>\n",
       "      <td>200</td>\n",
       "      <td>Misdreavus</td>\n",
       "      <td>2</td>\n",
       "      <td>Normal</td>\n",
       "      <td>Screech Pokémon</td>\n",
       "      <td>1</td>\n",
       "      <td>Ghost</td>\n",
       "      <td>60.0</td>\n",
       "      <td>0.333333</td>\n",
       "      <td>...</td>\n",
       "      <td>1.0</td>\n",
       "      <td>0.50</td>\n",
       "      <td>1.00</td>\n",
       "      <td>2.0</td>\n",
       "      <td>1.0</td>\n",
       "      <td>2.0</td>\n",
       "      <td>1.0</td>\n",
       "      <td>1.0</td>\n",
       "      <td>0.255814</td>\n",
       "      <td>8.000609</td>\n",
       "    </tr>\n",
       "    <tr>\n",
       "      <th>231</th>\n",
       "      <td>254</td>\n",
       "      <td>212</td>\n",
       "      <td>Scizor</td>\n",
       "      <td>2</td>\n",
       "      <td>Normal</td>\n",
       "      <td>Pincer Pokémon</td>\n",
       "      <td>2</td>\n",
       "      <td>Bug</td>\n",
       "      <td>70.0</td>\n",
       "      <td>0.920000</td>\n",
       "      <td>...</td>\n",
       "      <td>0.5</td>\n",
       "      <td>0.50</td>\n",
       "      <td>1.00</td>\n",
       "      <td>1.0</td>\n",
       "      <td>0.5</td>\n",
       "      <td>1.0</td>\n",
       "      <td>0.5</td>\n",
       "      <td>0.5</td>\n",
       "      <td>0.232558</td>\n",
       "      <td>7.352482</td>\n",
       "    </tr>\n",
       "    <tr>\n",
       "      <th>58</th>\n",
       "      <td>64</td>\n",
       "      <td>50</td>\n",
       "      <td>Alolan Diglett</td>\n",
       "      <td>1</td>\n",
       "      <td>Normal</td>\n",
       "      <td>Mole Pokémon</td>\n",
       "      <td>2</td>\n",
       "      <td>Ground</td>\n",
       "      <td>10.0</td>\n",
       "      <td>0.293333</td>\n",
       "      <td>...</td>\n",
       "      <td>0.5</td>\n",
       "      <td>0.50</td>\n",
       "      <td>0.25</td>\n",
       "      <td>1.0</td>\n",
       "      <td>0.5</td>\n",
       "      <td>1.0</td>\n",
       "      <td>0.5</td>\n",
       "      <td>0.5</td>\n",
       "      <td>0.232558</td>\n",
       "      <td>7.282113</td>\n",
       "    </tr>\n",
       "    <tr>\n",
       "      <th>626</th>\n",
       "      <td>717</td>\n",
       "      <td>618</td>\n",
       "      <td>Galarian Stunfisk</td>\n",
       "      <td>5</td>\n",
       "      <td>Normal</td>\n",
       "      <td>Trap Pokémon</td>\n",
       "      <td>2</td>\n",
       "      <td>Ground</td>\n",
       "      <td>109.0</td>\n",
       "      <td>0.506667</td>\n",
       "      <td>...</td>\n",
       "      <td>0.5</td>\n",
       "      <td>0.50</td>\n",
       "      <td>0.25</td>\n",
       "      <td>1.0</td>\n",
       "      <td>0.5</td>\n",
       "      <td>1.0</td>\n",
       "      <td>0.5</td>\n",
       "      <td>0.5</td>\n",
       "      <td>0.232558</td>\n",
       "      <td>7.147804</td>\n",
       "    </tr>\n",
       "    <tr>\n",
       "      <th>607</th>\n",
       "      <td>698</td>\n",
       "      <td>600</td>\n",
       "      <td>Klang</td>\n",
       "      <td>5</td>\n",
       "      <td>Normal</td>\n",
       "      <td>Gear Pokémon</td>\n",
       "      <td>1</td>\n",
       "      <td>Steel</td>\n",
       "      <td>60.0</td>\n",
       "      <td>0.493333</td>\n",
       "      <td>...</td>\n",
       "      <td>0.5</td>\n",
       "      <td>0.50</td>\n",
       "      <td>0.50</td>\n",
       "      <td>1.0</td>\n",
       "      <td>0.5</td>\n",
       "      <td>1.0</td>\n",
       "      <td>0.5</td>\n",
       "      <td>0.5</td>\n",
       "      <td>0.162791</td>\n",
       "      <td>5.130102</td>\n",
       "    </tr>\n",
       "    <tr>\n",
       "      <th>680</th>\n",
       "      <td>790</td>\n",
       "      <td>681</td>\n",
       "      <td>Aegislash Shield Forme</td>\n",
       "      <td>6</td>\n",
       "      <td>Normal</td>\n",
       "      <td>Royal Sword Pokémon</td>\n",
       "      <td>2</td>\n",
       "      <td>Steel</td>\n",
       "      <td>60.0</td>\n",
       "      <td>0.253333</td>\n",
       "      <td>...</td>\n",
       "      <td>0.5</td>\n",
       "      <td>0.25</td>\n",
       "      <td>0.50</td>\n",
       "      <td>2.0</td>\n",
       "      <td>0.5</td>\n",
       "      <td>2.0</td>\n",
       "      <td>0.5</td>\n",
       "      <td>0.5</td>\n",
       "      <td>0.093023</td>\n",
       "      <td>3.105364</td>\n",
       "    </tr>\n",
       "    <tr>\n",
       "      <th>803</th>\n",
       "      <td>953</td>\n",
       "      <td>823</td>\n",
       "      <td>Corviknight</td>\n",
       "      <td>8</td>\n",
       "      <td>Normal</td>\n",
       "      <td>Raven Pokémon</td>\n",
       "      <td>2</td>\n",
       "      <td>Flying</td>\n",
       "      <td>98.0</td>\n",
       "      <td>0.560000</td>\n",
       "      <td>...</td>\n",
       "      <td>0.5</td>\n",
       "      <td>0.25</td>\n",
       "      <td>1.00</td>\n",
       "      <td>1.0</td>\n",
       "      <td>0.5</td>\n",
       "      <td>1.0</td>\n",
       "      <td>0.5</td>\n",
       "      <td>0.5</td>\n",
       "      <td>0.023256</td>\n",
       "      <td>1.038103</td>\n",
       "    </tr>\n",
       "    <tr>\n",
       "      <th>319</th>\n",
       "      <td>357</td>\n",
       "      <td>303</td>\n",
       "      <td>Mawile</td>\n",
       "      <td>3</td>\n",
       "      <td>Normal</td>\n",
       "      <td>Deceiver Pokémon</td>\n",
       "      <td>2</td>\n",
       "      <td>Steel</td>\n",
       "      <td>50.0</td>\n",
       "      <td>0.546667</td>\n",
       "      <td>...</td>\n",
       "      <td>0.5</td>\n",
       "      <td>0.25</td>\n",
       "      <td>0.50</td>\n",
       "      <td>1.0</td>\n",
       "      <td>0.0</td>\n",
       "      <td>0.5</td>\n",
       "      <td>1.0</td>\n",
       "      <td>0.5</td>\n",
       "      <td>0.000000</td>\n",
       "      <td>0.240988</td>\n",
       "    </tr>\n",
       "  </tbody>\n",
       "</table>\n",
       "<p>30 rows × 32 columns</p>\n",
       "</div>"
      ],
      "text/plain": [
       "     Unnamed: 0  pokedex_number                               name generation  \\\n",
       "123         132             103                          Exeggutor          1   \n",
       "147         157             123                            Scyther          1   \n",
       "560         651             555  Darmanitan Galarian Standard Mode          5   \n",
       "498         588             497                          Serperior          5   \n",
       "762         882             756                          Shiinotic          7   \n",
       "720         830             715                            Noivern          6   \n",
       "384         432             365                            Walrein          3   \n",
       "539         630             538                              Throh          5   \n",
       "79           86              67                            Machoke          1   \n",
       "458         528             447                              Riolu          4   \n",
       "57           63              50                            Diglett          1   \n",
       "400         468             391                           Monferno          4   \n",
       "500         590             499                            Pignite          5   \n",
       "5             6               6                          Charizard          1   \n",
       "801         951             821                           Rookidee          8   \n",
       "743         863             741               Oricorio Sensu Style          7   \n",
       "45           51              38                   Alolan Ninetales          1   \n",
       "603         694             596                         Galvantula          5   \n",
       "255         281             235                           Smeargle          2   \n",
       "303         340             287                            Slakoth          3   \n",
       "114         122              94                             Gengar          1   \n",
       "443         512             432                            Purugly          4   \n",
       "219         241             200                         Misdreavus          2   \n",
       "231         254             212                             Scizor          2   \n",
       "58           64              50                     Alolan Diglett          1   \n",
       "626         717             618                  Galarian Stunfisk          5   \n",
       "607         698             600                              Klang          5   \n",
       "680         790             681             Aegislash Shield Forme          6   \n",
       "803         953             823                        Corviknight          8   \n",
       "319         357             303                             Mawile          3   \n",
       "\n",
       "     status               species  type_number    type_1     hp    attack  \\\n",
       "123  Normal       Coconut Pokémon            2     Grass   95.0  0.626667   \n",
       "147  Normal        Mantis Pokémon            2       Bug   70.0  0.746667   \n",
       "560  Normal     Zen Charm Pokémon            1       Ice  105.0  1.000000   \n",
       "498  Normal         Regal Pokémon            1     Grass   75.0  0.453333   \n",
       "762  Normal  Illuminating Pokémon            2     Grass   60.0  0.213333   \n",
       "720  Normal    Sound Wave Pokémon            2    Flying   85.0  0.413333   \n",
       "384  Normal     Ice Break Pokémon            2       Ice  110.0  0.493333   \n",
       "539  Normal          Judo Pokémon            1  Fighting  120.0  0.666667   \n",
       "79   Normal    Superpower Pokémon            1  Fighting   80.0  0.666667   \n",
       "458  Normal     Emanation Pokémon            1  Fighting   40.0  0.413333   \n",
       "57   Normal          Mole Pokémon            1    Ground   10.0  0.293333   \n",
       "400  Normal       Playful Pokémon            2      Fire   64.0  0.480000   \n",
       "500  Normal      Fire Pig Pokémon            2      Fire   90.0  0.613333   \n",
       "5    Normal         Flame Pokémon            2      Fire   78.0  0.533333   \n",
       "801  Normal     Tiny Bird Pokémon            1    Flying   38.0  0.226667   \n",
       "743  Normal       Dancing Pokémon            2     Ghost   75.0  0.413333   \n",
       "45   Normal           Fox Pokémon            2       Ice   73.0  0.386667   \n",
       "603  Normal     EleSpider Pokémon            2       Bug   70.0  0.480000   \n",
       "255  Normal       Painter Pokémon            1    Normal   55.0  0.000000   \n",
       "303  Normal       Slacker Pokémon            1    Normal   60.0  0.333333   \n",
       "114  Normal        Shadow Pokémon            2     Ghost   60.0  0.373333   \n",
       "443  Normal     Tiger Cat Pokémon            1    Normal   71.0  0.520000   \n",
       "219  Normal       Screech Pokémon            1     Ghost   60.0  0.333333   \n",
       "231  Normal        Pincer Pokémon            2       Bug   70.0  0.920000   \n",
       "58   Normal          Mole Pokémon            2    Ground   10.0  0.293333   \n",
       "626  Normal          Trap Pokémon            2    Ground  109.0  0.506667   \n",
       "607  Normal          Gear Pokémon            1     Steel   60.0  0.493333   \n",
       "680  Normal   Royal Sword Pokémon            2     Steel   60.0  0.253333   \n",
       "803  Normal         Raven Pokémon            2    Flying   98.0  0.560000   \n",
       "319  Normal      Deceiver Pokémon            2     Steel   50.0  0.546667   \n",
       "\n",
       "     ...  against_psychic  against_bug  against_rock  against_ghost  \\\n",
       "123  ...              0.5         4.00          1.00            2.0   \n",
       "147  ...              1.0         0.50          4.00            1.0   \n",
       "560  ...              1.0         1.00          2.00            1.0   \n",
       "498  ...              1.0         2.00          1.00            1.0   \n",
       "762  ...              1.0         1.00          1.00            1.0   \n",
       "720  ...              1.0         0.50          2.00            1.0   \n",
       "384  ...              1.0         1.00          2.00            1.0   \n",
       "539  ...              2.0         0.50          0.50            1.0   \n",
       "79   ...              2.0         0.50          0.50            1.0   \n",
       "458  ...              2.0         0.50          0.50            1.0   \n",
       "57   ...              1.0         1.00          0.50            1.0   \n",
       "400  ...              2.0         0.25          1.00            1.0   \n",
       "500  ...              2.0         0.25          1.00            1.0   \n",
       "5    ...              1.0         0.25          4.00            1.0   \n",
       "801  ...              1.0         0.50          2.00            1.0   \n",
       "743  ...              1.0         0.25          2.00            2.0   \n",
       "45   ...              1.0         0.50          2.00            1.0   \n",
       "603  ...              1.0         1.00          2.00            1.0   \n",
       "255  ...              1.0         1.00          1.00            0.0   \n",
       "303  ...              1.0         1.00          1.00            0.0   \n",
       "114  ...              2.0         0.25          1.00            2.0   \n",
       "443  ...              1.0         1.00          1.00            0.0   \n",
       "219  ...              1.0         0.50          1.00            2.0   \n",
       "231  ...              0.5         0.50          1.00            1.0   \n",
       "58   ...              0.5         0.50          0.25            1.0   \n",
       "626  ...              0.5         0.50          0.25            1.0   \n",
       "607  ...              0.5         0.50          0.50            1.0   \n",
       "680  ...              0.5         0.25          0.50            2.0   \n",
       "803  ...              0.5         0.25          1.00            1.0   \n",
       "319  ...              0.5         0.25          0.50            1.0   \n",
       "\n",
       "     against_dragon  against_dark  against_steel  against_fairy   against  \\\n",
       "123             1.0           2.0            1.0            1.0  1.000000   \n",
       "147             1.0           1.0            1.0            1.0  0.813953   \n",
       "560             1.0           1.0            2.0            1.0  0.767442   \n",
       "498             1.0           1.0            1.0            1.0  0.720930   \n",
       "762             0.0           0.5            2.0            1.0  0.720930   \n",
       "720             2.0           1.0            1.0            2.0  0.651163   \n",
       "384             1.0           1.0            1.0            1.0  0.639535   \n",
       "539             1.0           0.5            1.0            2.0  0.581395   \n",
       "79              1.0           0.5            1.0            2.0  0.581395   \n",
       "458             1.0           0.5            1.0            2.0  0.581395   \n",
       "57              1.0           1.0            1.0            1.0  0.534884   \n",
       "400             1.0           0.5            0.5            1.0  0.511628   \n",
       "500             1.0           0.5            0.5            1.0  0.511628   \n",
       "5               1.0           1.0            0.5            0.5  0.488372   \n",
       "801             1.0           1.0            1.0            1.0  0.488372   \n",
       "743             1.0           2.0            1.0            1.0  0.465116   \n",
       "45              1.0           1.0            0.5            0.5  0.441860   \n",
       "603             1.0           1.0            0.5            1.0  0.441860   \n",
       "255             1.0           1.0            1.0            1.0  0.441860   \n",
       "303             1.0           1.0            1.0            1.0  0.441860   \n",
       "114             1.0           2.0            1.0            0.5  0.395349   \n",
       "443             1.0           1.0            1.0            1.0  0.348837   \n",
       "219             1.0           2.0            1.0            1.0  0.255814   \n",
       "231             0.5           1.0            0.5            0.5  0.232558   \n",
       "58              0.5           1.0            0.5            0.5  0.232558   \n",
       "626             0.5           1.0            0.5            0.5  0.232558   \n",
       "607             0.5           1.0            0.5            0.5  0.162791   \n",
       "680             0.5           2.0            0.5            0.5  0.093023   \n",
       "803             0.5           1.0            0.5            0.5  0.023256   \n",
       "319             0.0           0.5            1.0            0.5  0.000000   \n",
       "\n",
       "         score  \n",
       "123  30.272988  \n",
       "147  24.917569  \n",
       "560  23.490756  \n",
       "498  22.134955  \n",
       "762  21.726871  \n",
       "720  20.063848  \n",
       "384  19.484392  \n",
       "539  17.674182  \n",
       "79   17.655432  \n",
       "458  17.649277  \n",
       "57   16.370512  \n",
       "400  15.672980  \n",
       "500  15.585004  \n",
       "5    15.095449  \n",
       "801  14.811889  \n",
       "743  14.335726  \n",
       "45   13.715421  \n",
       "603  13.704004  \n",
       "255  13.462540  \n",
       "303  13.348671  \n",
       "114  12.299322  \n",
       "443  10.944664  \n",
       "219   8.000609  \n",
       "231   7.352482  \n",
       "58    7.282113  \n",
       "626   7.147804  \n",
       "607   5.130102  \n",
       "680   3.105364  \n",
       "803   1.038103  \n",
       "319   0.240988  \n",
       "\n",
       "[30 rows x 32 columns]"
      ]
     },
     "execution_count": 12,
     "metadata": {},
     "output_type": "execute_result"
    }
   ],
   "source": [
    "# Com todos as características sendo medidas de maneira igualitária, sendo interferidas apenas pela nossa métrica.\n",
    "# Criamos uma pontuação para cada pokemon, aonde os que possuem as melhores pontuações são os que mais atendem as nossas métricas.\n",
    "\n",
    "tipos = resultado['type_1']\n",
    "\n",
    "selecao_tipos = []\n",
    "\n",
    "for tipo in tipos:\n",
    "    pokemons_do_tipo = resultado[resultado['type_1'] == tipo].sample(n=1,random_state=1)\n",
    "    selecao_tipos.append(pokemons_do_tipo)\n",
    "\n",
    "resultado['score'] = (\n",
    "    resultado['attack'] * pesos['attack'] +\n",
    "    resultado['defense'] * pesos['defense'] +\n",
    "    resultado['speed'] * pesos['speed'] +\n",
    "    resultado['against'] * pesos['against'] * 100)\n",
    "\n",
    "selecao = resultado.sort_values('score',ascending=False)\n",
    "selecao"
   ]
  },
  {
   "cell_type": "code",
   "execution_count": 13,
   "id": "88cbacd2",
   "metadata": {},
   "outputs": [
    {
     "data": {
      "text/plain": [
       "[Unnamed: 0                        528\n",
       " pokedex_number                    447\n",
       " name                            Riolu\n",
       " generation                          4\n",
       " status                         Normal\n",
       " species             Emanation Pokémon\n",
       " type_number                         1\n",
       " type_1                       Fighting\n",
       " hp                               40.0\n",
       " attack                       0.413333\n",
       " defense                         0.125\n",
       " speed                        0.316667\n",
       " against_normal                    1.0\n",
       " against_fire                      1.0\n",
       " against_water                     1.0\n",
       " against_electric                  1.0\n",
       " against_grass                     1.0\n",
       " against_ice                       1.0\n",
       " against_fight                     1.0\n",
       " against_poison                    1.0\n",
       " against_ground                    1.0\n",
       " against_flying                    2.0\n",
       " against_psychic                   2.0\n",
       " against_bug                       0.5\n",
       " against_rock                      0.5\n",
       " against_ghost                     1.0\n",
       " against_dragon                    1.0\n",
       " against_dark                      0.5\n",
       " against_steel                     1.0\n",
       " against_fairy                     2.0\n",
       " against                      0.581395\n",
       " score                       17.649277\n",
       " Name: 458, dtype: object,\n",
       " Unnamed: 0                     122\n",
       " pokedex_number                  94\n",
       " name                        Gengar\n",
       " generation                       1\n",
       " status                      Normal\n",
       " species             Shadow Pokémon\n",
       " type_number                      2\n",
       " type_1                       Ghost\n",
       " hp                            60.0\n",
       " attack                    0.373333\n",
       " defense                   0.285714\n",
       " speed                         0.85\n",
       " against_normal                 0.0\n",
       " against_fire                   1.0\n",
       " against_water                  1.0\n",
       " against_electric               1.0\n",
       " against_grass                  0.5\n",
       " against_ice                    1.0\n",
       " against_fight                  0.0\n",
       " against_poison                0.25\n",
       " against_ground                 2.0\n",
       " against_flying                 1.0\n",
       " against_psychic                2.0\n",
       " against_bug                   0.25\n",
       " against_rock                   1.0\n",
       " against_ghost                  2.0\n",
       " against_dragon                 1.0\n",
       " against_dark                   2.0\n",
       " against_steel                  1.0\n",
       " against_fairy                  0.5\n",
       " against                   0.395349\n",
       " score                    12.299322\n",
       " Name: 114, dtype: object,\n",
       " Unnamed: 0                     254\n",
       " pokedex_number                 212\n",
       " name                        Scizor\n",
       " generation                       2\n",
       " status                      Normal\n",
       " species             Pincer Pokémon\n",
       " type_number                      2\n",
       " type_1                         Bug\n",
       " hp                            70.0\n",
       " attack                        0.92\n",
       " defense                   0.607143\n",
       " speed                     0.366667\n",
       " against_normal                 0.5\n",
       " against_fire                   4.0\n",
       " against_water                  1.0\n",
       " against_electric               1.0\n",
       " against_grass                 0.25\n",
       " against_ice                    0.5\n",
       " against_fight                  1.0\n",
       " against_poison                 0.0\n",
       " against_ground                 1.0\n",
       " against_flying                 1.0\n",
       " against_psychic                0.5\n",
       " against_bug                    0.5\n",
       " against_rock                   1.0\n",
       " against_ghost                  1.0\n",
       " against_dragon                 0.5\n",
       " against_dark                   1.0\n",
       " against_steel                  0.5\n",
       " against_fairy                  0.5\n",
       " against                   0.232558\n",
       " score                     7.352482\n",
       " Name: 231, dtype: object,\n",
       " Unnamed: 0                      132\n",
       " pokedex_number                  103\n",
       " name                      Exeggutor\n",
       " generation                        1\n",
       " status                       Normal\n",
       " species             Coconut Pokémon\n",
       " type_number                       2\n",
       " type_1                        Grass\n",
       " hp                             95.0\n",
       " attack                     0.626667\n",
       " defense                    0.482143\n",
       " speed                      0.266667\n",
       " against_normal                  1.0\n",
       " against_fire                    2.0\n",
       " against_water                   0.5\n",
       " against_electric                0.5\n",
       " against_grass                   0.5\n",
       " against_ice                     2.0\n",
       " against_fight                   0.5\n",
       " against_poison                  2.0\n",
       " against_ground                  0.5\n",
       " against_flying                  2.0\n",
       " against_psychic                 0.5\n",
       " against_bug                     4.0\n",
       " against_rock                    1.0\n",
       " against_ghost                   2.0\n",
       " against_dragon                  1.0\n",
       " against_dark                    2.0\n",
       " against_steel                   1.0\n",
       " against_fairy                   1.0\n",
       " against                         1.0\n",
       " score                     30.272988\n",
       " Name: 123, dtype: object,\n",
       " Unnamed: 0                        512\n",
       " pokedex_number                    432\n",
       " name                          Purugly\n",
       " generation                          4\n",
       " status                         Normal\n",
       " species             Tiger Cat Pokémon\n",
       " type_number                         1\n",
       " type_1                         Normal\n",
       " hp                               71.0\n",
       " attack                           0.52\n",
       " defense                      0.321429\n",
       " speed                        0.883333\n",
       " against_normal                    1.0\n",
       " against_fire                      0.5\n",
       " against_water                     1.0\n",
       " against_electric                  1.0\n",
       " against_grass                     1.0\n",
       " against_ice                       0.5\n",
       " against_fight                     2.0\n",
       " against_poison                    1.0\n",
       " against_ground                    1.0\n",
       " against_flying                    1.0\n",
       " against_psychic                   1.0\n",
       " against_bug                       1.0\n",
       " against_rock                      1.0\n",
       " against_ghost                     0.0\n",
       " against_dragon                    1.0\n",
       " against_dark                      1.0\n",
       " against_steel                     1.0\n",
       " against_fairy                     1.0\n",
       " against                      0.348837\n",
       " score                       10.944664\n",
       " Name: 443, dtype: object,\n",
       " Unnamed: 0                        951\n",
       " pokedex_number                    821\n",
       " name                         Rookidee\n",
       " generation                          8\n",
       " status                         Normal\n",
       " species             Tiny Bird Pokémon\n",
       " type_number                         1\n",
       " type_1                         Flying\n",
       " hp                               38.0\n",
       " attack                       0.226667\n",
       " defense                      0.089286\n",
       " speed                        0.283333\n",
       " against_normal                    1.0\n",
       " against_fire                      1.0\n",
       " against_water                     1.0\n",
       " against_electric                  2.0\n",
       " against_grass                     0.5\n",
       " against_ice                       2.0\n",
       " against_fight                     0.5\n",
       " against_poison                    1.0\n",
       " against_ground                    0.0\n",
       " against_flying                    1.0\n",
       " against_psychic                   1.0\n",
       " against_bug                       0.5\n",
       " against_rock                      2.0\n",
       " against_ghost                     1.0\n",
       " against_dragon                    1.0\n",
       " against_dark                      1.0\n",
       " against_steel                     1.0\n",
       " against_fairy                     1.0\n",
       " against                      0.488372\n",
       " score                       14.811889\n",
       " Name: 801, dtype: object]"
      ]
     },
     "execution_count": 13,
     "metadata": {},
     "output_type": "execute_result"
    }
   ],
   "source": [
    "# Em seguida selecionamos a nossa equipe com 6 pokemons, de forma que os tipos não se repitam\n",
    "\n",
    "tipos_unicos = set()\n",
    "selecao_unica = []\n",
    "\n",
    "for _, pokemon in resultado.iterrows():   \n",
    "    tipos = [pokemon['type_1']]    \n",
    "    for tipo in tipos:\n",
    "        if tipo not in tipos_unicos and len(selecao_unica) < 6:\n",
    "            tipos_unicos.add(tipo)\n",
    "            selecao_unica.append(pokemon)\n",
    "            break\n",
    "\n",
    "selecao_unica"
   ]
  },
  {
   "cell_type": "markdown",
   "id": "0429a82b",
   "metadata": {},
   "source": [
    "#### Ao observar o gráfico em 3D, podemos notar que conseguimos uma equipe bem equilibrada, por conta das características de against e também os pokemons mais rapidos possíveis"
   ]
  },
  {
   "cell_type": "code",
   "execution_count": 14,
   "id": "53101dcf",
   "metadata": {},
   "outputs": [
    {
     "data": {
      "application/vnd.plotly.v1+json": {
       "config": {
        "plotlyServerURL": "https://plot.ly"
       },
       "data": [
        {
         "hovertemplate": "Tipo de Pokémon=Fighting<br>Ataque=%{x}<br>Velocidade=%{y}<br>Defesa=%{z}<extra></extra>",
         "legendgroup": "Fighting",
         "marker": {
          "color": "#636efa",
          "symbol": "circle"
         },
         "mode": "markers",
         "name": "Fighting",
         "scene": "scene",
         "showlegend": true,
         "type": "scatter3d",
         "x": [
          0.41333333333333333
         ],
         "y": [
          0.3166666666666667
         ],
         "z": [
          0.125
         ]
        },
        {
         "hovertemplate": "Tipo de Pokémon=Ghost<br>Ataque=%{x}<br>Velocidade=%{y}<br>Defesa=%{z}<extra></extra>",
         "legendgroup": "Ghost",
         "marker": {
          "color": "#EF553B",
          "symbol": "circle"
         },
         "mode": "markers",
         "name": "Ghost",
         "scene": "scene",
         "showlegend": true,
         "type": "scatter3d",
         "x": [
          0.37333333333333335
         ],
         "y": [
          0.8500000000000001
         ],
         "z": [
          0.2857142857142857
         ]
        },
        {
         "hovertemplate": "Tipo de Pokémon=Bug<br>Ataque=%{x}<br>Velocidade=%{y}<br>Defesa=%{z}<extra></extra>",
         "legendgroup": "Bug",
         "marker": {
          "color": "#00cc96",
          "symbol": "circle"
         },
         "mode": "markers",
         "name": "Bug",
         "scene": "scene",
         "showlegend": true,
         "type": "scatter3d",
         "x": [
          0.92
         ],
         "y": [
          0.36666666666666664
         ],
         "z": [
          0.6071428571428572
         ]
        },
        {
         "hovertemplate": "Tipo de Pokémon=Grass<br>Ataque=%{x}<br>Velocidade=%{y}<br>Defesa=%{z}<extra></extra>",
         "legendgroup": "Grass",
         "marker": {
          "color": "#ab63fa",
          "symbol": "circle"
         },
         "mode": "markers",
         "name": "Grass",
         "scene": "scene",
         "showlegend": true,
         "type": "scatter3d",
         "x": [
          0.6266666666666667
         ],
         "y": [
          0.26666666666666666
         ],
         "z": [
          0.48214285714285715
         ]
        },
        {
         "hovertemplate": "Tipo de Pokémon=Normal<br>Ataque=%{x}<br>Velocidade=%{y}<br>Defesa=%{z}<extra></extra>",
         "legendgroup": "Normal",
         "marker": {
          "color": "#FFA15A",
          "symbol": "circle"
         },
         "mode": "markers",
         "name": "Normal",
         "scene": "scene",
         "showlegend": true,
         "type": "scatter3d",
         "x": [
          0.52
         ],
         "y": [
          0.8833333333333333
         ],
         "z": [
          0.3214285714285714
         ]
        },
        {
         "hovertemplate": "Tipo de Pokémon=Flying<br>Ataque=%{x}<br>Velocidade=%{y}<br>Defesa=%{z}<extra></extra>",
         "legendgroup": "Flying",
         "marker": {
          "color": "#19d3f3",
          "symbol": "circle"
         },
         "mode": "markers",
         "name": "Flying",
         "scene": "scene",
         "showlegend": true,
         "type": "scatter3d",
         "x": [
          0.22666666666666668
         ],
         "y": [
          0.2833333333333334
         ],
         "z": [
          0.08928571428571427
         ]
        }
       ],
       "layout": {
        "legend": {
         "font": {
          "size": 15,
          "weight": "bold"
         },
         "title": {
          "text": "Tipo de Pokémon"
         },
         "tracegroupgap": 0
        },
        "scene": {
         "domain": {
          "x": [
           0,
           1
          ],
          "y": [
           0,
           1
          ]
         },
         "xaxis": {
          "title": {
           "text": "Ataque"
          }
         },
         "yaxis": {
          "title": {
           "text": "Velocidade"
          }
         },
         "zaxis": {
          "title": {
           "text": "Defesa"
          }
         }
        },
        "template": {
         "data": {
          "bar": [
           {
            "error_x": {
             "color": "#2a3f5f"
            },
            "error_y": {
             "color": "#2a3f5f"
            },
            "marker": {
             "line": {
              "color": "#E5ECF6",
              "width": 0.5
             },
             "pattern": {
              "fillmode": "overlay",
              "size": 10,
              "solidity": 0.2
             }
            },
            "type": "bar"
           }
          ],
          "barpolar": [
           {
            "marker": {
             "line": {
              "color": "#E5ECF6",
              "width": 0.5
             },
             "pattern": {
              "fillmode": "overlay",
              "size": 10,
              "solidity": 0.2
             }
            },
            "type": "barpolar"
           }
          ],
          "carpet": [
           {
            "aaxis": {
             "endlinecolor": "#2a3f5f",
             "gridcolor": "white",
             "linecolor": "white",
             "minorgridcolor": "white",
             "startlinecolor": "#2a3f5f"
            },
            "baxis": {
             "endlinecolor": "#2a3f5f",
             "gridcolor": "white",
             "linecolor": "white",
             "minorgridcolor": "white",
             "startlinecolor": "#2a3f5f"
            },
            "type": "carpet"
           }
          ],
          "choropleth": [
           {
            "colorbar": {
             "outlinewidth": 0,
             "ticks": ""
            },
            "type": "choropleth"
           }
          ],
          "contour": [
           {
            "colorbar": {
             "outlinewidth": 0,
             "ticks": ""
            },
            "colorscale": [
             [
              0,
              "#0d0887"
             ],
             [
              0.1111111111111111,
              "#46039f"
             ],
             [
              0.2222222222222222,
              "#7201a8"
             ],
             [
              0.3333333333333333,
              "#9c179e"
             ],
             [
              0.4444444444444444,
              "#bd3786"
             ],
             [
              0.5555555555555556,
              "#d8576b"
             ],
             [
              0.6666666666666666,
              "#ed7953"
             ],
             [
              0.7777777777777778,
              "#fb9f3a"
             ],
             [
              0.8888888888888888,
              "#fdca26"
             ],
             [
              1,
              "#f0f921"
             ]
            ],
            "type": "contour"
           }
          ],
          "contourcarpet": [
           {
            "colorbar": {
             "outlinewidth": 0,
             "ticks": ""
            },
            "type": "contourcarpet"
           }
          ],
          "heatmap": [
           {
            "colorbar": {
             "outlinewidth": 0,
             "ticks": ""
            },
            "colorscale": [
             [
              0,
              "#0d0887"
             ],
             [
              0.1111111111111111,
              "#46039f"
             ],
             [
              0.2222222222222222,
              "#7201a8"
             ],
             [
              0.3333333333333333,
              "#9c179e"
             ],
             [
              0.4444444444444444,
              "#bd3786"
             ],
             [
              0.5555555555555556,
              "#d8576b"
             ],
             [
              0.6666666666666666,
              "#ed7953"
             ],
             [
              0.7777777777777778,
              "#fb9f3a"
             ],
             [
              0.8888888888888888,
              "#fdca26"
             ],
             [
              1,
              "#f0f921"
             ]
            ],
            "type": "heatmap"
           }
          ],
          "heatmapgl": [
           {
            "colorbar": {
             "outlinewidth": 0,
             "ticks": ""
            },
            "colorscale": [
             [
              0,
              "#0d0887"
             ],
             [
              0.1111111111111111,
              "#46039f"
             ],
             [
              0.2222222222222222,
              "#7201a8"
             ],
             [
              0.3333333333333333,
              "#9c179e"
             ],
             [
              0.4444444444444444,
              "#bd3786"
             ],
             [
              0.5555555555555556,
              "#d8576b"
             ],
             [
              0.6666666666666666,
              "#ed7953"
             ],
             [
              0.7777777777777778,
              "#fb9f3a"
             ],
             [
              0.8888888888888888,
              "#fdca26"
             ],
             [
              1,
              "#f0f921"
             ]
            ],
            "type": "heatmapgl"
           }
          ],
          "histogram": [
           {
            "marker": {
             "pattern": {
              "fillmode": "overlay",
              "size": 10,
              "solidity": 0.2
             }
            },
            "type": "histogram"
           }
          ],
          "histogram2d": [
           {
            "colorbar": {
             "outlinewidth": 0,
             "ticks": ""
            },
            "colorscale": [
             [
              0,
              "#0d0887"
             ],
             [
              0.1111111111111111,
              "#46039f"
             ],
             [
              0.2222222222222222,
              "#7201a8"
             ],
             [
              0.3333333333333333,
              "#9c179e"
             ],
             [
              0.4444444444444444,
              "#bd3786"
             ],
             [
              0.5555555555555556,
              "#d8576b"
             ],
             [
              0.6666666666666666,
              "#ed7953"
             ],
             [
              0.7777777777777778,
              "#fb9f3a"
             ],
             [
              0.8888888888888888,
              "#fdca26"
             ],
             [
              1,
              "#f0f921"
             ]
            ],
            "type": "histogram2d"
           }
          ],
          "histogram2dcontour": [
           {
            "colorbar": {
             "outlinewidth": 0,
             "ticks": ""
            },
            "colorscale": [
             [
              0,
              "#0d0887"
             ],
             [
              0.1111111111111111,
              "#46039f"
             ],
             [
              0.2222222222222222,
              "#7201a8"
             ],
             [
              0.3333333333333333,
              "#9c179e"
             ],
             [
              0.4444444444444444,
              "#bd3786"
             ],
             [
              0.5555555555555556,
              "#d8576b"
             ],
             [
              0.6666666666666666,
              "#ed7953"
             ],
             [
              0.7777777777777778,
              "#fb9f3a"
             ],
             [
              0.8888888888888888,
              "#fdca26"
             ],
             [
              1,
              "#f0f921"
             ]
            ],
            "type": "histogram2dcontour"
           }
          ],
          "mesh3d": [
           {
            "colorbar": {
             "outlinewidth": 0,
             "ticks": ""
            },
            "type": "mesh3d"
           }
          ],
          "parcoords": [
           {
            "line": {
             "colorbar": {
              "outlinewidth": 0,
              "ticks": ""
             }
            },
            "type": "parcoords"
           }
          ],
          "pie": [
           {
            "automargin": true,
            "type": "pie"
           }
          ],
          "scatter": [
           {
            "fillpattern": {
             "fillmode": "overlay",
             "size": 10,
             "solidity": 0.2
            },
            "type": "scatter"
           }
          ],
          "scatter3d": [
           {
            "line": {
             "colorbar": {
              "outlinewidth": 0,
              "ticks": ""
             }
            },
            "marker": {
             "colorbar": {
              "outlinewidth": 0,
              "ticks": ""
             }
            },
            "type": "scatter3d"
           }
          ],
          "scattercarpet": [
           {
            "marker": {
             "colorbar": {
              "outlinewidth": 0,
              "ticks": ""
             }
            },
            "type": "scattercarpet"
           }
          ],
          "scattergeo": [
           {
            "marker": {
             "colorbar": {
              "outlinewidth": 0,
              "ticks": ""
             }
            },
            "type": "scattergeo"
           }
          ],
          "scattergl": [
           {
            "marker": {
             "colorbar": {
              "outlinewidth": 0,
              "ticks": ""
             }
            },
            "type": "scattergl"
           }
          ],
          "scattermapbox": [
           {
            "marker": {
             "colorbar": {
              "outlinewidth": 0,
              "ticks": ""
             }
            },
            "type": "scattermapbox"
           }
          ],
          "scatterpolar": [
           {
            "marker": {
             "colorbar": {
              "outlinewidth": 0,
              "ticks": ""
             }
            },
            "type": "scatterpolar"
           }
          ],
          "scatterpolargl": [
           {
            "marker": {
             "colorbar": {
              "outlinewidth": 0,
              "ticks": ""
             }
            },
            "type": "scatterpolargl"
           }
          ],
          "scatterternary": [
           {
            "marker": {
             "colorbar": {
              "outlinewidth": 0,
              "ticks": ""
             }
            },
            "type": "scatterternary"
           }
          ],
          "surface": [
           {
            "colorbar": {
             "outlinewidth": 0,
             "ticks": ""
            },
            "colorscale": [
             [
              0,
              "#0d0887"
             ],
             [
              0.1111111111111111,
              "#46039f"
             ],
             [
              0.2222222222222222,
              "#7201a8"
             ],
             [
              0.3333333333333333,
              "#9c179e"
             ],
             [
              0.4444444444444444,
              "#bd3786"
             ],
             [
              0.5555555555555556,
              "#d8576b"
             ],
             [
              0.6666666666666666,
              "#ed7953"
             ],
             [
              0.7777777777777778,
              "#fb9f3a"
             ],
             [
              0.8888888888888888,
              "#fdca26"
             ],
             [
              1,
              "#f0f921"
             ]
            ],
            "type": "surface"
           }
          ],
          "table": [
           {
            "cells": {
             "fill": {
              "color": "#EBF0F8"
             },
             "line": {
              "color": "white"
             }
            },
            "header": {
             "fill": {
              "color": "#C8D4E3"
             },
             "line": {
              "color": "white"
             }
            },
            "type": "table"
           }
          ]
         },
         "layout": {
          "annotationdefaults": {
           "arrowcolor": "#2a3f5f",
           "arrowhead": 0,
           "arrowwidth": 1
          },
          "autotypenumbers": "strict",
          "coloraxis": {
           "colorbar": {
            "outlinewidth": 0,
            "ticks": ""
           }
          },
          "colorscale": {
           "diverging": [
            [
             0,
             "#8e0152"
            ],
            [
             0.1,
             "#c51b7d"
            ],
            [
             0.2,
             "#de77ae"
            ],
            [
             0.3,
             "#f1b6da"
            ],
            [
             0.4,
             "#fde0ef"
            ],
            [
             0.5,
             "#f7f7f7"
            ],
            [
             0.6,
             "#e6f5d0"
            ],
            [
             0.7,
             "#b8e186"
            ],
            [
             0.8,
             "#7fbc41"
            ],
            [
             0.9,
             "#4d9221"
            ],
            [
             1,
             "#276419"
            ]
           ],
           "sequential": [
            [
             0,
             "#0d0887"
            ],
            [
             0.1111111111111111,
             "#46039f"
            ],
            [
             0.2222222222222222,
             "#7201a8"
            ],
            [
             0.3333333333333333,
             "#9c179e"
            ],
            [
             0.4444444444444444,
             "#bd3786"
            ],
            [
             0.5555555555555556,
             "#d8576b"
            ],
            [
             0.6666666666666666,
             "#ed7953"
            ],
            [
             0.7777777777777778,
             "#fb9f3a"
            ],
            [
             0.8888888888888888,
             "#fdca26"
            ],
            [
             1,
             "#f0f921"
            ]
           ],
           "sequentialminus": [
            [
             0,
             "#0d0887"
            ],
            [
             0.1111111111111111,
             "#46039f"
            ],
            [
             0.2222222222222222,
             "#7201a8"
            ],
            [
             0.3333333333333333,
             "#9c179e"
            ],
            [
             0.4444444444444444,
             "#bd3786"
            ],
            [
             0.5555555555555556,
             "#d8576b"
            ],
            [
             0.6666666666666666,
             "#ed7953"
            ],
            [
             0.7777777777777778,
             "#fb9f3a"
            ],
            [
             0.8888888888888888,
             "#fdca26"
            ],
            [
             1,
             "#f0f921"
            ]
           ]
          },
          "colorway": [
           "#636efa",
           "#EF553B",
           "#00cc96",
           "#ab63fa",
           "#FFA15A",
           "#19d3f3",
           "#FF6692",
           "#B6E880",
           "#FF97FF",
           "#FECB52"
          ],
          "font": {
           "color": "#2a3f5f"
          },
          "geo": {
           "bgcolor": "white",
           "lakecolor": "white",
           "landcolor": "#E5ECF6",
           "showlakes": true,
           "showland": true,
           "subunitcolor": "white"
          },
          "hoverlabel": {
           "align": "left"
          },
          "hovermode": "closest",
          "mapbox": {
           "style": "light"
          },
          "paper_bgcolor": "white",
          "plot_bgcolor": "#E5ECF6",
          "polar": {
           "angularaxis": {
            "gridcolor": "white",
            "linecolor": "white",
            "ticks": ""
           },
           "bgcolor": "#E5ECF6",
           "radialaxis": {
            "gridcolor": "white",
            "linecolor": "white",
            "ticks": ""
           }
          },
          "scene": {
           "xaxis": {
            "backgroundcolor": "#E5ECF6",
            "gridcolor": "white",
            "gridwidth": 2,
            "linecolor": "white",
            "showbackground": true,
            "ticks": "",
            "zerolinecolor": "white"
           },
           "yaxis": {
            "backgroundcolor": "#E5ECF6",
            "gridcolor": "white",
            "gridwidth": 2,
            "linecolor": "white",
            "showbackground": true,
            "ticks": "",
            "zerolinecolor": "white"
           },
           "zaxis": {
            "backgroundcolor": "#E5ECF6",
            "gridcolor": "white",
            "gridwidth": 2,
            "linecolor": "white",
            "showbackground": true,
            "ticks": "",
            "zerolinecolor": "white"
           }
          },
          "shapedefaults": {
           "line": {
            "color": "#2a3f5f"
           }
          },
          "ternary": {
           "aaxis": {
            "gridcolor": "white",
            "linecolor": "white",
            "ticks": ""
           },
           "baxis": {
            "gridcolor": "white",
            "linecolor": "white",
            "ticks": ""
           },
           "bgcolor": "#E5ECF6",
           "caxis": {
            "gridcolor": "white",
            "linecolor": "white",
            "ticks": ""
           }
          },
          "title": {
           "x": 0.05
          },
          "xaxis": {
           "automargin": true,
           "gridcolor": "white",
           "linecolor": "white",
           "ticks": "",
           "title": {
            "standoff": 15
           },
           "zerolinecolor": "white",
           "zerolinewidth": 2
          },
          "yaxis": {
           "automargin": true,
           "gridcolor": "white",
           "linecolor": "white",
           "ticks": "",
           "title": {
            "standoff": 15
           },
           "zerolinecolor": "white",
           "zerolinewidth": 2
          }
         }
        },
        "title": {
         "font": {
          "color": "black",
          "family": "Arial",
          "size": 30
         },
         "text": "Distribuição dos Pokémon Selecioados (Attack, Speed, Defense)"
        },
        "xaxis": {
         "tickfont": {
          "size": 15
         },
         "title": {
          "font": {
           "color": "black",
           "family": "Arial",
           "size": 26
          },
          "text": "attack"
         }
        },
        "yaxis": {
         "tickfont": {
          "size": 15
         },
         "title": {
          "font": {
           "color": "black",
           "family": "Arial",
           "size": 26
          },
          "text": "speed"
         }
        }
       }
      }
     },
     "metadata": {},
     "output_type": "display_data"
    }
   ],
   "source": [
    "fig_3d =px.scatter_3d(selecao_unica, \n",
    "            x='attack', \n",
    "            y='speed', \n",
    "            z='defense', \n",
    "            color='type_1', \n",
    "            title=\"Distribuição dos Pokémon Selecionados (Attack, Speed, Defense)\",\n",
    "            labels={ \n",
    "            'attack': 'Ataque', \n",
    "        'defense': 'Defesa', \n",
    "            'speed': 'Velocidade', \n",
    "            'type_1': 'Tipo de Pokémon'  \n",
    "              })\n",
    "fig_3d.update_layout( \n",
    "    title={\n",
    "        'text': 'Distribuição dos Pokémon Selecioados (Attack, Speed, Defense)',\n",
    "        'font': {'size': 30, 'family': 'Arial', 'color': 'black'}\n",
    "    },\n",
    "    xaxis_title={\n",
    "        'text': 'attack',\n",
    "        'font': {'size': 26, 'family': 'Arial', 'color': 'black'}\n",
    "    },\n",
    "    yaxis_title={\n",
    "        'text': 'speed',\n",
    "        'font': {'size': 26, 'family': 'Arial', 'color': 'black'}\n",
    "    },\n",
    "    legend=dict(font={'size': 15, 'weight': 'bold'})\n",
    ")\n",
    "\n",
    "fig_3d.update_xaxes(tickfont=dict(size=15))\n",
    "fig_3d.update_yaxes(tickfont=dict(size=15))\n"
   ]
  },
  {
   "cell_type": "code",
   "execution_count": 15,
   "id": "2ceeb0d7",
   "metadata": {},
   "outputs": [],
   "source": [
    "# Aqui atribuimos uma variável para cada pokémon selecionado, para criar um gráfico com seus atributos against\n",
    "\n",
    "selecao_unica = pd.DataFrame(selecao_unica)\n",
    "poke_1 = pd.DataFrame(selecao_unica.iloc[0][colunas_against]).reset_index()\n",
    "poke_1.columns = ['atributo', 'valor']\n",
    "\n",
    "poke_2 = pd.DataFrame(selecao_unica.iloc[1][colunas_against]).reset_index()\n",
    "poke_2.columns = ['atributo', 'valor']\n",
    "\n",
    "poke_3 = pd.DataFrame(selecao_unica.iloc[2][colunas_against]).reset_index()\n",
    "poke_3.columns = ['atributo', 'valor']\n",
    "\n",
    "poke_4 = pd.DataFrame(selecao_unica.iloc[3][colunas_against]).reset_index()\n",
    "poke_4.columns = ['atributo', 'valor']\n",
    "\n",
    "poke_5 = pd.DataFrame(selecao_unica.iloc[4][colunas_against]).reset_index()\n",
    "poke_5.columns = ['atributo', 'valor']\n",
    "\n",
    "poke_6 = pd.DataFrame(selecao_unica.iloc[5][colunas_against]).reset_index()\n",
    "poke_6.columns = ['atributo', 'valor']"
   ]
  },
  {
   "cell_type": "code",
   "execution_count": 16,
   "id": "9872f41d",
   "metadata": {},
   "outputs": [
    {
     "data": {
      "application/vnd.plotly.v1+json": {
       "config": {
        "plotlyServerURL": "https://plot.ly"
       },
       "data": [
        {
         "fill": "toself",
         "hovertemplate": "valor=%{r}<br>atributo=%{theta}<extra></extra>",
         "legendgroup": "",
         "line": {
          "color": "#636efa",
          "dash": "solid"
         },
         "marker": {
          "symbol": "circle"
         },
         "mode": "lines",
         "name": "",
         "r": [
          1,
          1,
          1,
          1,
          1,
          1,
          1,
          1,
          1,
          2,
          2,
          0.5,
          0.5,
          1,
          1,
          0.5,
          1,
          2,
          1
         ],
         "showlegend": false,
         "subplot": "polar",
         "theta": [
          "against_normal",
          "against_fire",
          "against_water",
          "against_electric",
          "against_grass",
          "against_ice",
          "against_fight",
          "against_poison",
          "against_ground",
          "against_flying",
          "against_psychic",
          "against_bug",
          "against_rock",
          "against_ghost",
          "against_dragon",
          "against_dark",
          "against_steel",
          "against_fairy",
          "against_normal"
         ],
         "type": "scatterpolar"
        }
       ],
       "layout": {
        "legend": {
         "tracegroupgap": 0
        },
        "polar": {
         "angularaxis": {
          "direction": "clockwise",
          "rotation": 90
         },
         "domain": {
          "x": [
           0,
           1
          ],
          "y": [
           0,
           1
          ]
         }
        },
        "template": {
         "data": {
          "bar": [
           {
            "error_x": {
             "color": "#f2f5fa"
            },
            "error_y": {
             "color": "#f2f5fa"
            },
            "marker": {
             "line": {
              "color": "rgb(17,17,17)",
              "width": 0.5
             },
             "pattern": {
              "fillmode": "overlay",
              "size": 10,
              "solidity": 0.2
             }
            },
            "type": "bar"
           }
          ],
          "barpolar": [
           {
            "marker": {
             "line": {
              "color": "rgb(17,17,17)",
              "width": 0.5
             },
             "pattern": {
              "fillmode": "overlay",
              "size": 10,
              "solidity": 0.2
             }
            },
            "type": "barpolar"
           }
          ],
          "carpet": [
           {
            "aaxis": {
             "endlinecolor": "#A2B1C6",
             "gridcolor": "#506784",
             "linecolor": "#506784",
             "minorgridcolor": "#506784",
             "startlinecolor": "#A2B1C6"
            },
            "baxis": {
             "endlinecolor": "#A2B1C6",
             "gridcolor": "#506784",
             "linecolor": "#506784",
             "minorgridcolor": "#506784",
             "startlinecolor": "#A2B1C6"
            },
            "type": "carpet"
           }
          ],
          "choropleth": [
           {
            "colorbar": {
             "outlinewidth": 0,
             "ticks": ""
            },
            "type": "choropleth"
           }
          ],
          "contour": [
           {
            "colorbar": {
             "outlinewidth": 0,
             "ticks": ""
            },
            "colorscale": [
             [
              0,
              "#0d0887"
             ],
             [
              0.1111111111111111,
              "#46039f"
             ],
             [
              0.2222222222222222,
              "#7201a8"
             ],
             [
              0.3333333333333333,
              "#9c179e"
             ],
             [
              0.4444444444444444,
              "#bd3786"
             ],
             [
              0.5555555555555556,
              "#d8576b"
             ],
             [
              0.6666666666666666,
              "#ed7953"
             ],
             [
              0.7777777777777778,
              "#fb9f3a"
             ],
             [
              0.8888888888888888,
              "#fdca26"
             ],
             [
              1,
              "#f0f921"
             ]
            ],
            "type": "contour"
           }
          ],
          "contourcarpet": [
           {
            "colorbar": {
             "outlinewidth": 0,
             "ticks": ""
            },
            "type": "contourcarpet"
           }
          ],
          "heatmap": [
           {
            "colorbar": {
             "outlinewidth": 0,
             "ticks": ""
            },
            "colorscale": [
             [
              0,
              "#0d0887"
             ],
             [
              0.1111111111111111,
              "#46039f"
             ],
             [
              0.2222222222222222,
              "#7201a8"
             ],
             [
              0.3333333333333333,
              "#9c179e"
             ],
             [
              0.4444444444444444,
              "#bd3786"
             ],
             [
              0.5555555555555556,
              "#d8576b"
             ],
             [
              0.6666666666666666,
              "#ed7953"
             ],
             [
              0.7777777777777778,
              "#fb9f3a"
             ],
             [
              0.8888888888888888,
              "#fdca26"
             ],
             [
              1,
              "#f0f921"
             ]
            ],
            "type": "heatmap"
           }
          ],
          "heatmapgl": [
           {
            "colorbar": {
             "outlinewidth": 0,
             "ticks": ""
            },
            "colorscale": [
             [
              0,
              "#0d0887"
             ],
             [
              0.1111111111111111,
              "#46039f"
             ],
             [
              0.2222222222222222,
              "#7201a8"
             ],
             [
              0.3333333333333333,
              "#9c179e"
             ],
             [
              0.4444444444444444,
              "#bd3786"
             ],
             [
              0.5555555555555556,
              "#d8576b"
             ],
             [
              0.6666666666666666,
              "#ed7953"
             ],
             [
              0.7777777777777778,
              "#fb9f3a"
             ],
             [
              0.8888888888888888,
              "#fdca26"
             ],
             [
              1,
              "#f0f921"
             ]
            ],
            "type": "heatmapgl"
           }
          ],
          "histogram": [
           {
            "marker": {
             "pattern": {
              "fillmode": "overlay",
              "size": 10,
              "solidity": 0.2
             }
            },
            "type": "histogram"
           }
          ],
          "histogram2d": [
           {
            "colorbar": {
             "outlinewidth": 0,
             "ticks": ""
            },
            "colorscale": [
             [
              0,
              "#0d0887"
             ],
             [
              0.1111111111111111,
              "#46039f"
             ],
             [
              0.2222222222222222,
              "#7201a8"
             ],
             [
              0.3333333333333333,
              "#9c179e"
             ],
             [
              0.4444444444444444,
              "#bd3786"
             ],
             [
              0.5555555555555556,
              "#d8576b"
             ],
             [
              0.6666666666666666,
              "#ed7953"
             ],
             [
              0.7777777777777778,
              "#fb9f3a"
             ],
             [
              0.8888888888888888,
              "#fdca26"
             ],
             [
              1,
              "#f0f921"
             ]
            ],
            "type": "histogram2d"
           }
          ],
          "histogram2dcontour": [
           {
            "colorbar": {
             "outlinewidth": 0,
             "ticks": ""
            },
            "colorscale": [
             [
              0,
              "#0d0887"
             ],
             [
              0.1111111111111111,
              "#46039f"
             ],
             [
              0.2222222222222222,
              "#7201a8"
             ],
             [
              0.3333333333333333,
              "#9c179e"
             ],
             [
              0.4444444444444444,
              "#bd3786"
             ],
             [
              0.5555555555555556,
              "#d8576b"
             ],
             [
              0.6666666666666666,
              "#ed7953"
             ],
             [
              0.7777777777777778,
              "#fb9f3a"
             ],
             [
              0.8888888888888888,
              "#fdca26"
             ],
             [
              1,
              "#f0f921"
             ]
            ],
            "type": "histogram2dcontour"
           }
          ],
          "mesh3d": [
           {
            "colorbar": {
             "outlinewidth": 0,
             "ticks": ""
            },
            "type": "mesh3d"
           }
          ],
          "parcoords": [
           {
            "line": {
             "colorbar": {
              "outlinewidth": 0,
              "ticks": ""
             }
            },
            "type": "parcoords"
           }
          ],
          "pie": [
           {
            "automargin": true,
            "type": "pie"
           }
          ],
          "scatter": [
           {
            "marker": {
             "line": {
              "color": "#283442"
             }
            },
            "type": "scatter"
           }
          ],
          "scatter3d": [
           {
            "line": {
             "colorbar": {
              "outlinewidth": 0,
              "ticks": ""
             }
            },
            "marker": {
             "colorbar": {
              "outlinewidth": 0,
              "ticks": ""
             }
            },
            "type": "scatter3d"
           }
          ],
          "scattercarpet": [
           {
            "marker": {
             "colorbar": {
              "outlinewidth": 0,
              "ticks": ""
             }
            },
            "type": "scattercarpet"
           }
          ],
          "scattergeo": [
           {
            "marker": {
             "colorbar": {
              "outlinewidth": 0,
              "ticks": ""
             }
            },
            "type": "scattergeo"
           }
          ],
          "scattergl": [
           {
            "marker": {
             "line": {
              "color": "#283442"
             }
            },
            "type": "scattergl"
           }
          ],
          "scattermapbox": [
           {
            "marker": {
             "colorbar": {
              "outlinewidth": 0,
              "ticks": ""
             }
            },
            "type": "scattermapbox"
           }
          ],
          "scatterpolar": [
           {
            "marker": {
             "colorbar": {
              "outlinewidth": 0,
              "ticks": ""
             }
            },
            "type": "scatterpolar"
           }
          ],
          "scatterpolargl": [
           {
            "marker": {
             "colorbar": {
              "outlinewidth": 0,
              "ticks": ""
             }
            },
            "type": "scatterpolargl"
           }
          ],
          "scatterternary": [
           {
            "marker": {
             "colorbar": {
              "outlinewidth": 0,
              "ticks": ""
             }
            },
            "type": "scatterternary"
           }
          ],
          "surface": [
           {
            "colorbar": {
             "outlinewidth": 0,
             "ticks": ""
            },
            "colorscale": [
             [
              0,
              "#0d0887"
             ],
             [
              0.1111111111111111,
              "#46039f"
             ],
             [
              0.2222222222222222,
              "#7201a8"
             ],
             [
              0.3333333333333333,
              "#9c179e"
             ],
             [
              0.4444444444444444,
              "#bd3786"
             ],
             [
              0.5555555555555556,
              "#d8576b"
             ],
             [
              0.6666666666666666,
              "#ed7953"
             ],
             [
              0.7777777777777778,
              "#fb9f3a"
             ],
             [
              0.8888888888888888,
              "#fdca26"
             ],
             [
              1,
              "#f0f921"
             ]
            ],
            "type": "surface"
           }
          ],
          "table": [
           {
            "cells": {
             "fill": {
              "color": "#506784"
             },
             "line": {
              "color": "rgb(17,17,17)"
             }
            },
            "header": {
             "fill": {
              "color": "#2a3f5f"
             },
             "line": {
              "color": "rgb(17,17,17)"
             }
            },
            "type": "table"
           }
          ]
         },
         "layout": {
          "annotationdefaults": {
           "arrowcolor": "#f2f5fa",
           "arrowhead": 0,
           "arrowwidth": 1
          },
          "autotypenumbers": "strict",
          "coloraxis": {
           "colorbar": {
            "outlinewidth": 0,
            "ticks": ""
           }
          },
          "colorscale": {
           "diverging": [
            [
             0,
             "#8e0152"
            ],
            [
             0.1,
             "#c51b7d"
            ],
            [
             0.2,
             "#de77ae"
            ],
            [
             0.3,
             "#f1b6da"
            ],
            [
             0.4,
             "#fde0ef"
            ],
            [
             0.5,
             "#f7f7f7"
            ],
            [
             0.6,
             "#e6f5d0"
            ],
            [
             0.7,
             "#b8e186"
            ],
            [
             0.8,
             "#7fbc41"
            ],
            [
             0.9,
             "#4d9221"
            ],
            [
             1,
             "#276419"
            ]
           ],
           "sequential": [
            [
             0,
             "#0d0887"
            ],
            [
             0.1111111111111111,
             "#46039f"
            ],
            [
             0.2222222222222222,
             "#7201a8"
            ],
            [
             0.3333333333333333,
             "#9c179e"
            ],
            [
             0.4444444444444444,
             "#bd3786"
            ],
            [
             0.5555555555555556,
             "#d8576b"
            ],
            [
             0.6666666666666666,
             "#ed7953"
            ],
            [
             0.7777777777777778,
             "#fb9f3a"
            ],
            [
             0.8888888888888888,
             "#fdca26"
            ],
            [
             1,
             "#f0f921"
            ]
           ],
           "sequentialminus": [
            [
             0,
             "#0d0887"
            ],
            [
             0.1111111111111111,
             "#46039f"
            ],
            [
             0.2222222222222222,
             "#7201a8"
            ],
            [
             0.3333333333333333,
             "#9c179e"
            ],
            [
             0.4444444444444444,
             "#bd3786"
            ],
            [
             0.5555555555555556,
             "#d8576b"
            ],
            [
             0.6666666666666666,
             "#ed7953"
            ],
            [
             0.7777777777777778,
             "#fb9f3a"
            ],
            [
             0.8888888888888888,
             "#fdca26"
            ],
            [
             1,
             "#f0f921"
            ]
           ]
          },
          "colorway": [
           "#636efa",
           "#EF553B",
           "#00cc96",
           "#ab63fa",
           "#FFA15A",
           "#19d3f3",
           "#FF6692",
           "#B6E880",
           "#FF97FF",
           "#FECB52"
          ],
          "font": {
           "color": "#f2f5fa"
          },
          "geo": {
           "bgcolor": "rgb(17,17,17)",
           "lakecolor": "rgb(17,17,17)",
           "landcolor": "rgb(17,17,17)",
           "showlakes": true,
           "showland": true,
           "subunitcolor": "#506784"
          },
          "hoverlabel": {
           "align": "left"
          },
          "hovermode": "closest",
          "mapbox": {
           "style": "dark"
          },
          "paper_bgcolor": "rgb(17,17,17)",
          "plot_bgcolor": "rgb(17,17,17)",
          "polar": {
           "angularaxis": {
            "gridcolor": "#506784",
            "linecolor": "#506784",
            "ticks": ""
           },
           "bgcolor": "rgb(17,17,17)",
           "radialaxis": {
            "gridcolor": "#506784",
            "linecolor": "#506784",
            "ticks": ""
           }
          },
          "scene": {
           "xaxis": {
            "backgroundcolor": "rgb(17,17,17)",
            "gridcolor": "#506784",
            "gridwidth": 2,
            "linecolor": "#506784",
            "showbackground": true,
            "ticks": "",
            "zerolinecolor": "#C8D4E3"
           },
           "yaxis": {
            "backgroundcolor": "rgb(17,17,17)",
            "gridcolor": "#506784",
            "gridwidth": 2,
            "linecolor": "#506784",
            "showbackground": true,
            "ticks": "",
            "zerolinecolor": "#C8D4E3"
           },
           "zaxis": {
            "backgroundcolor": "rgb(17,17,17)",
            "gridcolor": "#506784",
            "gridwidth": 2,
            "linecolor": "#506784",
            "showbackground": true,
            "ticks": "",
            "zerolinecolor": "#C8D4E3"
           }
          },
          "shapedefaults": {
           "line": {
            "color": "#f2f5fa"
           }
          },
          "sliderdefaults": {
           "bgcolor": "#C8D4E3",
           "bordercolor": "rgb(17,17,17)",
           "borderwidth": 1,
           "tickwidth": 0
          },
          "ternary": {
           "aaxis": {
            "gridcolor": "#506784",
            "linecolor": "#506784",
            "ticks": ""
           },
           "baxis": {
            "gridcolor": "#506784",
            "linecolor": "#506784",
            "ticks": ""
           },
           "bgcolor": "rgb(17,17,17)",
           "caxis": {
            "gridcolor": "#506784",
            "linecolor": "#506784",
            "ticks": ""
           }
          },
          "title": {
           "x": 0.05
          },
          "updatemenudefaults": {
           "bgcolor": "#506784",
           "borderwidth": 0
          },
          "xaxis": {
           "automargin": true,
           "gridcolor": "#283442",
           "linecolor": "#506784",
           "ticks": "",
           "title": {
            "standoff": 15
           },
           "zerolinecolor": "#283442",
           "zerolinewidth": 2
          },
          "yaxis": {
           "automargin": true,
           "gridcolor": "#283442",
           "linecolor": "#506784",
           "ticks": "",
           "title": {
            "standoff": 15
           },
           "zerolinecolor": "#283442",
           "zerolinewidth": 2
          }
         }
        },
        "title": {
         "text": "Pokemon 1"
        }
       }
      }
     },
     "metadata": {},
     "output_type": "display_data"
    }
   ],
   "source": [
    "px.line_polar(poke_1, r= 'valor', theta= 'atributo', line_close=True, title='Pokemon 1', template='plotly_dark').update_traces(fill='toself')"
   ]
  },
  {
   "cell_type": "code",
   "execution_count": 17,
   "id": "2ac8536a",
   "metadata": {},
   "outputs": [
    {
     "data": {
      "application/vnd.plotly.v1+json": {
       "config": {
        "plotlyServerURL": "https://plot.ly"
       },
       "data": [
        {
         "fill": "toself",
         "hovertemplate": "valor=%{r}<br>atributo=%{theta}<extra></extra>",
         "legendgroup": "",
         "line": {
          "color": "#636efa",
          "dash": "solid"
         },
         "marker": {
          "symbol": "circle"
         },
         "mode": "lines",
         "name": "",
         "r": [
          0,
          1,
          1,
          1,
          0.5,
          1,
          0,
          0.25,
          2,
          1,
          2,
          0.25,
          1,
          2,
          1,
          2,
          1,
          0.5,
          0
         ],
         "showlegend": false,
         "subplot": "polar",
         "theta": [
          "against_normal",
          "against_fire",
          "against_water",
          "against_electric",
          "against_grass",
          "against_ice",
          "against_fight",
          "against_poison",
          "against_ground",
          "against_flying",
          "against_psychic",
          "against_bug",
          "against_rock",
          "against_ghost",
          "against_dragon",
          "against_dark",
          "against_steel",
          "against_fairy",
          "against_normal"
         ],
         "type": "scatterpolar"
        }
       ],
       "layout": {
        "legend": {
         "tracegroupgap": 0
        },
        "polar": {
         "angularaxis": {
          "direction": "clockwise",
          "rotation": 90
         },
         "domain": {
          "x": [
           0,
           1
          ],
          "y": [
           0,
           1
          ]
         }
        },
        "template": {
         "data": {
          "bar": [
           {
            "error_x": {
             "color": "#f2f5fa"
            },
            "error_y": {
             "color": "#f2f5fa"
            },
            "marker": {
             "line": {
              "color": "rgb(17,17,17)",
              "width": 0.5
             },
             "pattern": {
              "fillmode": "overlay",
              "size": 10,
              "solidity": 0.2
             }
            },
            "type": "bar"
           }
          ],
          "barpolar": [
           {
            "marker": {
             "line": {
              "color": "rgb(17,17,17)",
              "width": 0.5
             },
             "pattern": {
              "fillmode": "overlay",
              "size": 10,
              "solidity": 0.2
             }
            },
            "type": "barpolar"
           }
          ],
          "carpet": [
           {
            "aaxis": {
             "endlinecolor": "#A2B1C6",
             "gridcolor": "#506784",
             "linecolor": "#506784",
             "minorgridcolor": "#506784",
             "startlinecolor": "#A2B1C6"
            },
            "baxis": {
             "endlinecolor": "#A2B1C6",
             "gridcolor": "#506784",
             "linecolor": "#506784",
             "minorgridcolor": "#506784",
             "startlinecolor": "#A2B1C6"
            },
            "type": "carpet"
           }
          ],
          "choropleth": [
           {
            "colorbar": {
             "outlinewidth": 0,
             "ticks": ""
            },
            "type": "choropleth"
           }
          ],
          "contour": [
           {
            "colorbar": {
             "outlinewidth": 0,
             "ticks": ""
            },
            "colorscale": [
             [
              0,
              "#0d0887"
             ],
             [
              0.1111111111111111,
              "#46039f"
             ],
             [
              0.2222222222222222,
              "#7201a8"
             ],
             [
              0.3333333333333333,
              "#9c179e"
             ],
             [
              0.4444444444444444,
              "#bd3786"
             ],
             [
              0.5555555555555556,
              "#d8576b"
             ],
             [
              0.6666666666666666,
              "#ed7953"
             ],
             [
              0.7777777777777778,
              "#fb9f3a"
             ],
             [
              0.8888888888888888,
              "#fdca26"
             ],
             [
              1,
              "#f0f921"
             ]
            ],
            "type": "contour"
           }
          ],
          "contourcarpet": [
           {
            "colorbar": {
             "outlinewidth": 0,
             "ticks": ""
            },
            "type": "contourcarpet"
           }
          ],
          "heatmap": [
           {
            "colorbar": {
             "outlinewidth": 0,
             "ticks": ""
            },
            "colorscale": [
             [
              0,
              "#0d0887"
             ],
             [
              0.1111111111111111,
              "#46039f"
             ],
             [
              0.2222222222222222,
              "#7201a8"
             ],
             [
              0.3333333333333333,
              "#9c179e"
             ],
             [
              0.4444444444444444,
              "#bd3786"
             ],
             [
              0.5555555555555556,
              "#d8576b"
             ],
             [
              0.6666666666666666,
              "#ed7953"
             ],
             [
              0.7777777777777778,
              "#fb9f3a"
             ],
             [
              0.8888888888888888,
              "#fdca26"
             ],
             [
              1,
              "#f0f921"
             ]
            ],
            "type": "heatmap"
           }
          ],
          "heatmapgl": [
           {
            "colorbar": {
             "outlinewidth": 0,
             "ticks": ""
            },
            "colorscale": [
             [
              0,
              "#0d0887"
             ],
             [
              0.1111111111111111,
              "#46039f"
             ],
             [
              0.2222222222222222,
              "#7201a8"
             ],
             [
              0.3333333333333333,
              "#9c179e"
             ],
             [
              0.4444444444444444,
              "#bd3786"
             ],
             [
              0.5555555555555556,
              "#d8576b"
             ],
             [
              0.6666666666666666,
              "#ed7953"
             ],
             [
              0.7777777777777778,
              "#fb9f3a"
             ],
             [
              0.8888888888888888,
              "#fdca26"
             ],
             [
              1,
              "#f0f921"
             ]
            ],
            "type": "heatmapgl"
           }
          ],
          "histogram": [
           {
            "marker": {
             "pattern": {
              "fillmode": "overlay",
              "size": 10,
              "solidity": 0.2
             }
            },
            "type": "histogram"
           }
          ],
          "histogram2d": [
           {
            "colorbar": {
             "outlinewidth": 0,
             "ticks": ""
            },
            "colorscale": [
             [
              0,
              "#0d0887"
             ],
             [
              0.1111111111111111,
              "#46039f"
             ],
             [
              0.2222222222222222,
              "#7201a8"
             ],
             [
              0.3333333333333333,
              "#9c179e"
             ],
             [
              0.4444444444444444,
              "#bd3786"
             ],
             [
              0.5555555555555556,
              "#d8576b"
             ],
             [
              0.6666666666666666,
              "#ed7953"
             ],
             [
              0.7777777777777778,
              "#fb9f3a"
             ],
             [
              0.8888888888888888,
              "#fdca26"
             ],
             [
              1,
              "#f0f921"
             ]
            ],
            "type": "histogram2d"
           }
          ],
          "histogram2dcontour": [
           {
            "colorbar": {
             "outlinewidth": 0,
             "ticks": ""
            },
            "colorscale": [
             [
              0,
              "#0d0887"
             ],
             [
              0.1111111111111111,
              "#46039f"
             ],
             [
              0.2222222222222222,
              "#7201a8"
             ],
             [
              0.3333333333333333,
              "#9c179e"
             ],
             [
              0.4444444444444444,
              "#bd3786"
             ],
             [
              0.5555555555555556,
              "#d8576b"
             ],
             [
              0.6666666666666666,
              "#ed7953"
             ],
             [
              0.7777777777777778,
              "#fb9f3a"
             ],
             [
              0.8888888888888888,
              "#fdca26"
             ],
             [
              1,
              "#f0f921"
             ]
            ],
            "type": "histogram2dcontour"
           }
          ],
          "mesh3d": [
           {
            "colorbar": {
             "outlinewidth": 0,
             "ticks": ""
            },
            "type": "mesh3d"
           }
          ],
          "parcoords": [
           {
            "line": {
             "colorbar": {
              "outlinewidth": 0,
              "ticks": ""
             }
            },
            "type": "parcoords"
           }
          ],
          "pie": [
           {
            "automargin": true,
            "type": "pie"
           }
          ],
          "scatter": [
           {
            "marker": {
             "line": {
              "color": "#283442"
             }
            },
            "type": "scatter"
           }
          ],
          "scatter3d": [
           {
            "line": {
             "colorbar": {
              "outlinewidth": 0,
              "ticks": ""
             }
            },
            "marker": {
             "colorbar": {
              "outlinewidth": 0,
              "ticks": ""
             }
            },
            "type": "scatter3d"
           }
          ],
          "scattercarpet": [
           {
            "marker": {
             "colorbar": {
              "outlinewidth": 0,
              "ticks": ""
             }
            },
            "type": "scattercarpet"
           }
          ],
          "scattergeo": [
           {
            "marker": {
             "colorbar": {
              "outlinewidth": 0,
              "ticks": ""
             }
            },
            "type": "scattergeo"
           }
          ],
          "scattergl": [
           {
            "marker": {
             "line": {
              "color": "#283442"
             }
            },
            "type": "scattergl"
           }
          ],
          "scattermapbox": [
           {
            "marker": {
             "colorbar": {
              "outlinewidth": 0,
              "ticks": ""
             }
            },
            "type": "scattermapbox"
           }
          ],
          "scatterpolar": [
           {
            "marker": {
             "colorbar": {
              "outlinewidth": 0,
              "ticks": ""
             }
            },
            "type": "scatterpolar"
           }
          ],
          "scatterpolargl": [
           {
            "marker": {
             "colorbar": {
              "outlinewidth": 0,
              "ticks": ""
             }
            },
            "type": "scatterpolargl"
           }
          ],
          "scatterternary": [
           {
            "marker": {
             "colorbar": {
              "outlinewidth": 0,
              "ticks": ""
             }
            },
            "type": "scatterternary"
           }
          ],
          "surface": [
           {
            "colorbar": {
             "outlinewidth": 0,
             "ticks": ""
            },
            "colorscale": [
             [
              0,
              "#0d0887"
             ],
             [
              0.1111111111111111,
              "#46039f"
             ],
             [
              0.2222222222222222,
              "#7201a8"
             ],
             [
              0.3333333333333333,
              "#9c179e"
             ],
             [
              0.4444444444444444,
              "#bd3786"
             ],
             [
              0.5555555555555556,
              "#d8576b"
             ],
             [
              0.6666666666666666,
              "#ed7953"
             ],
             [
              0.7777777777777778,
              "#fb9f3a"
             ],
             [
              0.8888888888888888,
              "#fdca26"
             ],
             [
              1,
              "#f0f921"
             ]
            ],
            "type": "surface"
           }
          ],
          "table": [
           {
            "cells": {
             "fill": {
              "color": "#506784"
             },
             "line": {
              "color": "rgb(17,17,17)"
             }
            },
            "header": {
             "fill": {
              "color": "#2a3f5f"
             },
             "line": {
              "color": "rgb(17,17,17)"
             }
            },
            "type": "table"
           }
          ]
         },
         "layout": {
          "annotationdefaults": {
           "arrowcolor": "#f2f5fa",
           "arrowhead": 0,
           "arrowwidth": 1
          },
          "autotypenumbers": "strict",
          "coloraxis": {
           "colorbar": {
            "outlinewidth": 0,
            "ticks": ""
           }
          },
          "colorscale": {
           "diverging": [
            [
             0,
             "#8e0152"
            ],
            [
             0.1,
             "#c51b7d"
            ],
            [
             0.2,
             "#de77ae"
            ],
            [
             0.3,
             "#f1b6da"
            ],
            [
             0.4,
             "#fde0ef"
            ],
            [
             0.5,
             "#f7f7f7"
            ],
            [
             0.6,
             "#e6f5d0"
            ],
            [
             0.7,
             "#b8e186"
            ],
            [
             0.8,
             "#7fbc41"
            ],
            [
             0.9,
             "#4d9221"
            ],
            [
             1,
             "#276419"
            ]
           ],
           "sequential": [
            [
             0,
             "#0d0887"
            ],
            [
             0.1111111111111111,
             "#46039f"
            ],
            [
             0.2222222222222222,
             "#7201a8"
            ],
            [
             0.3333333333333333,
             "#9c179e"
            ],
            [
             0.4444444444444444,
             "#bd3786"
            ],
            [
             0.5555555555555556,
             "#d8576b"
            ],
            [
             0.6666666666666666,
             "#ed7953"
            ],
            [
             0.7777777777777778,
             "#fb9f3a"
            ],
            [
             0.8888888888888888,
             "#fdca26"
            ],
            [
             1,
             "#f0f921"
            ]
           ],
           "sequentialminus": [
            [
             0,
             "#0d0887"
            ],
            [
             0.1111111111111111,
             "#46039f"
            ],
            [
             0.2222222222222222,
             "#7201a8"
            ],
            [
             0.3333333333333333,
             "#9c179e"
            ],
            [
             0.4444444444444444,
             "#bd3786"
            ],
            [
             0.5555555555555556,
             "#d8576b"
            ],
            [
             0.6666666666666666,
             "#ed7953"
            ],
            [
             0.7777777777777778,
             "#fb9f3a"
            ],
            [
             0.8888888888888888,
             "#fdca26"
            ],
            [
             1,
             "#f0f921"
            ]
           ]
          },
          "colorway": [
           "#636efa",
           "#EF553B",
           "#00cc96",
           "#ab63fa",
           "#FFA15A",
           "#19d3f3",
           "#FF6692",
           "#B6E880",
           "#FF97FF",
           "#FECB52"
          ],
          "font": {
           "color": "#f2f5fa"
          },
          "geo": {
           "bgcolor": "rgb(17,17,17)",
           "lakecolor": "rgb(17,17,17)",
           "landcolor": "rgb(17,17,17)",
           "showlakes": true,
           "showland": true,
           "subunitcolor": "#506784"
          },
          "hoverlabel": {
           "align": "left"
          },
          "hovermode": "closest",
          "mapbox": {
           "style": "dark"
          },
          "paper_bgcolor": "rgb(17,17,17)",
          "plot_bgcolor": "rgb(17,17,17)",
          "polar": {
           "angularaxis": {
            "gridcolor": "#506784",
            "linecolor": "#506784",
            "ticks": ""
           },
           "bgcolor": "rgb(17,17,17)",
           "radialaxis": {
            "gridcolor": "#506784",
            "linecolor": "#506784",
            "ticks": ""
           }
          },
          "scene": {
           "xaxis": {
            "backgroundcolor": "rgb(17,17,17)",
            "gridcolor": "#506784",
            "gridwidth": 2,
            "linecolor": "#506784",
            "showbackground": true,
            "ticks": "",
            "zerolinecolor": "#C8D4E3"
           },
           "yaxis": {
            "backgroundcolor": "rgb(17,17,17)",
            "gridcolor": "#506784",
            "gridwidth": 2,
            "linecolor": "#506784",
            "showbackground": true,
            "ticks": "",
            "zerolinecolor": "#C8D4E3"
           },
           "zaxis": {
            "backgroundcolor": "rgb(17,17,17)",
            "gridcolor": "#506784",
            "gridwidth": 2,
            "linecolor": "#506784",
            "showbackground": true,
            "ticks": "",
            "zerolinecolor": "#C8D4E3"
           }
          },
          "shapedefaults": {
           "line": {
            "color": "#f2f5fa"
           }
          },
          "sliderdefaults": {
           "bgcolor": "#C8D4E3",
           "bordercolor": "rgb(17,17,17)",
           "borderwidth": 1,
           "tickwidth": 0
          },
          "ternary": {
           "aaxis": {
            "gridcolor": "#506784",
            "linecolor": "#506784",
            "ticks": ""
           },
           "baxis": {
            "gridcolor": "#506784",
            "linecolor": "#506784",
            "ticks": ""
           },
           "bgcolor": "rgb(17,17,17)",
           "caxis": {
            "gridcolor": "#506784",
            "linecolor": "#506784",
            "ticks": ""
           }
          },
          "title": {
           "x": 0.05
          },
          "updatemenudefaults": {
           "bgcolor": "#506784",
           "borderwidth": 0
          },
          "xaxis": {
           "automargin": true,
           "gridcolor": "#283442",
           "linecolor": "#506784",
           "ticks": "",
           "title": {
            "standoff": 15
           },
           "zerolinecolor": "#283442",
           "zerolinewidth": 2
          },
          "yaxis": {
           "automargin": true,
           "gridcolor": "#283442",
           "linecolor": "#506784",
           "ticks": "",
           "title": {
            "standoff": 15
           },
           "zerolinecolor": "#283442",
           "zerolinewidth": 2
          }
         }
        },
        "title": {
         "text": "Pokemon 2"
        }
       }
      }
     },
     "metadata": {},
     "output_type": "display_data"
    }
   ],
   "source": [
    "px.line_polar(poke_2, r= 'valor', theta= 'atributo', line_close=True, title='Pokemon 2', template='plotly_dark').update_traces(fill='toself')"
   ]
  },
  {
   "cell_type": "code",
   "execution_count": 18,
   "id": "3403c4b4",
   "metadata": {},
   "outputs": [
    {
     "data": {
      "application/vnd.plotly.v1+json": {
       "config": {
        "plotlyServerURL": "https://plot.ly"
       },
       "data": [
        {
         "fill": "toself",
         "hovertemplate": "valor=%{r}<br>atributo=%{theta}<extra></extra>",
         "legendgroup": "",
         "line": {
          "color": "#636efa",
          "dash": "solid"
         },
         "marker": {
          "symbol": "circle"
         },
         "mode": "lines",
         "name": "",
         "r": [
          0.5,
          4,
          1,
          1,
          0.25,
          0.5,
          1,
          0,
          1,
          1,
          0.5,
          0.5,
          1,
          1,
          0.5,
          1,
          0.5,
          0.5,
          0.5
         ],
         "showlegend": false,
         "subplot": "polar",
         "theta": [
          "against_normal",
          "against_fire",
          "against_water",
          "against_electric",
          "against_grass",
          "against_ice",
          "against_fight",
          "against_poison",
          "against_ground",
          "against_flying",
          "against_psychic",
          "against_bug",
          "against_rock",
          "against_ghost",
          "against_dragon",
          "against_dark",
          "against_steel",
          "against_fairy",
          "against_normal"
         ],
         "type": "scatterpolar"
        }
       ],
       "layout": {
        "legend": {
         "tracegroupgap": 0
        },
        "polar": {
         "angularaxis": {
          "direction": "clockwise",
          "rotation": 90
         },
         "domain": {
          "x": [
           0,
           1
          ],
          "y": [
           0,
           1
          ]
         }
        },
        "template": {
         "data": {
          "bar": [
           {
            "error_x": {
             "color": "#f2f5fa"
            },
            "error_y": {
             "color": "#f2f5fa"
            },
            "marker": {
             "line": {
              "color": "rgb(17,17,17)",
              "width": 0.5
             },
             "pattern": {
              "fillmode": "overlay",
              "size": 10,
              "solidity": 0.2
             }
            },
            "type": "bar"
           }
          ],
          "barpolar": [
           {
            "marker": {
             "line": {
              "color": "rgb(17,17,17)",
              "width": 0.5
             },
             "pattern": {
              "fillmode": "overlay",
              "size": 10,
              "solidity": 0.2
             }
            },
            "type": "barpolar"
           }
          ],
          "carpet": [
           {
            "aaxis": {
             "endlinecolor": "#A2B1C6",
             "gridcolor": "#506784",
             "linecolor": "#506784",
             "minorgridcolor": "#506784",
             "startlinecolor": "#A2B1C6"
            },
            "baxis": {
             "endlinecolor": "#A2B1C6",
             "gridcolor": "#506784",
             "linecolor": "#506784",
             "minorgridcolor": "#506784",
             "startlinecolor": "#A2B1C6"
            },
            "type": "carpet"
           }
          ],
          "choropleth": [
           {
            "colorbar": {
             "outlinewidth": 0,
             "ticks": ""
            },
            "type": "choropleth"
           }
          ],
          "contour": [
           {
            "colorbar": {
             "outlinewidth": 0,
             "ticks": ""
            },
            "colorscale": [
             [
              0,
              "#0d0887"
             ],
             [
              0.1111111111111111,
              "#46039f"
             ],
             [
              0.2222222222222222,
              "#7201a8"
             ],
             [
              0.3333333333333333,
              "#9c179e"
             ],
             [
              0.4444444444444444,
              "#bd3786"
             ],
             [
              0.5555555555555556,
              "#d8576b"
             ],
             [
              0.6666666666666666,
              "#ed7953"
             ],
             [
              0.7777777777777778,
              "#fb9f3a"
             ],
             [
              0.8888888888888888,
              "#fdca26"
             ],
             [
              1,
              "#f0f921"
             ]
            ],
            "type": "contour"
           }
          ],
          "contourcarpet": [
           {
            "colorbar": {
             "outlinewidth": 0,
             "ticks": ""
            },
            "type": "contourcarpet"
           }
          ],
          "heatmap": [
           {
            "colorbar": {
             "outlinewidth": 0,
             "ticks": ""
            },
            "colorscale": [
             [
              0,
              "#0d0887"
             ],
             [
              0.1111111111111111,
              "#46039f"
             ],
             [
              0.2222222222222222,
              "#7201a8"
             ],
             [
              0.3333333333333333,
              "#9c179e"
             ],
             [
              0.4444444444444444,
              "#bd3786"
             ],
             [
              0.5555555555555556,
              "#d8576b"
             ],
             [
              0.6666666666666666,
              "#ed7953"
             ],
             [
              0.7777777777777778,
              "#fb9f3a"
             ],
             [
              0.8888888888888888,
              "#fdca26"
             ],
             [
              1,
              "#f0f921"
             ]
            ],
            "type": "heatmap"
           }
          ],
          "heatmapgl": [
           {
            "colorbar": {
             "outlinewidth": 0,
             "ticks": ""
            },
            "colorscale": [
             [
              0,
              "#0d0887"
             ],
             [
              0.1111111111111111,
              "#46039f"
             ],
             [
              0.2222222222222222,
              "#7201a8"
             ],
             [
              0.3333333333333333,
              "#9c179e"
             ],
             [
              0.4444444444444444,
              "#bd3786"
             ],
             [
              0.5555555555555556,
              "#d8576b"
             ],
             [
              0.6666666666666666,
              "#ed7953"
             ],
             [
              0.7777777777777778,
              "#fb9f3a"
             ],
             [
              0.8888888888888888,
              "#fdca26"
             ],
             [
              1,
              "#f0f921"
             ]
            ],
            "type": "heatmapgl"
           }
          ],
          "histogram": [
           {
            "marker": {
             "pattern": {
              "fillmode": "overlay",
              "size": 10,
              "solidity": 0.2
             }
            },
            "type": "histogram"
           }
          ],
          "histogram2d": [
           {
            "colorbar": {
             "outlinewidth": 0,
             "ticks": ""
            },
            "colorscale": [
             [
              0,
              "#0d0887"
             ],
             [
              0.1111111111111111,
              "#46039f"
             ],
             [
              0.2222222222222222,
              "#7201a8"
             ],
             [
              0.3333333333333333,
              "#9c179e"
             ],
             [
              0.4444444444444444,
              "#bd3786"
             ],
             [
              0.5555555555555556,
              "#d8576b"
             ],
             [
              0.6666666666666666,
              "#ed7953"
             ],
             [
              0.7777777777777778,
              "#fb9f3a"
             ],
             [
              0.8888888888888888,
              "#fdca26"
             ],
             [
              1,
              "#f0f921"
             ]
            ],
            "type": "histogram2d"
           }
          ],
          "histogram2dcontour": [
           {
            "colorbar": {
             "outlinewidth": 0,
             "ticks": ""
            },
            "colorscale": [
             [
              0,
              "#0d0887"
             ],
             [
              0.1111111111111111,
              "#46039f"
             ],
             [
              0.2222222222222222,
              "#7201a8"
             ],
             [
              0.3333333333333333,
              "#9c179e"
             ],
             [
              0.4444444444444444,
              "#bd3786"
             ],
             [
              0.5555555555555556,
              "#d8576b"
             ],
             [
              0.6666666666666666,
              "#ed7953"
             ],
             [
              0.7777777777777778,
              "#fb9f3a"
             ],
             [
              0.8888888888888888,
              "#fdca26"
             ],
             [
              1,
              "#f0f921"
             ]
            ],
            "type": "histogram2dcontour"
           }
          ],
          "mesh3d": [
           {
            "colorbar": {
             "outlinewidth": 0,
             "ticks": ""
            },
            "type": "mesh3d"
           }
          ],
          "parcoords": [
           {
            "line": {
             "colorbar": {
              "outlinewidth": 0,
              "ticks": ""
             }
            },
            "type": "parcoords"
           }
          ],
          "pie": [
           {
            "automargin": true,
            "type": "pie"
           }
          ],
          "scatter": [
           {
            "marker": {
             "line": {
              "color": "#283442"
             }
            },
            "type": "scatter"
           }
          ],
          "scatter3d": [
           {
            "line": {
             "colorbar": {
              "outlinewidth": 0,
              "ticks": ""
             }
            },
            "marker": {
             "colorbar": {
              "outlinewidth": 0,
              "ticks": ""
             }
            },
            "type": "scatter3d"
           }
          ],
          "scattercarpet": [
           {
            "marker": {
             "colorbar": {
              "outlinewidth": 0,
              "ticks": ""
             }
            },
            "type": "scattercarpet"
           }
          ],
          "scattergeo": [
           {
            "marker": {
             "colorbar": {
              "outlinewidth": 0,
              "ticks": ""
             }
            },
            "type": "scattergeo"
           }
          ],
          "scattergl": [
           {
            "marker": {
             "line": {
              "color": "#283442"
             }
            },
            "type": "scattergl"
           }
          ],
          "scattermapbox": [
           {
            "marker": {
             "colorbar": {
              "outlinewidth": 0,
              "ticks": ""
             }
            },
            "type": "scattermapbox"
           }
          ],
          "scatterpolar": [
           {
            "marker": {
             "colorbar": {
              "outlinewidth": 0,
              "ticks": ""
             }
            },
            "type": "scatterpolar"
           }
          ],
          "scatterpolargl": [
           {
            "marker": {
             "colorbar": {
              "outlinewidth": 0,
              "ticks": ""
             }
            },
            "type": "scatterpolargl"
           }
          ],
          "scatterternary": [
           {
            "marker": {
             "colorbar": {
              "outlinewidth": 0,
              "ticks": ""
             }
            },
            "type": "scatterternary"
           }
          ],
          "surface": [
           {
            "colorbar": {
             "outlinewidth": 0,
             "ticks": ""
            },
            "colorscale": [
             [
              0,
              "#0d0887"
             ],
             [
              0.1111111111111111,
              "#46039f"
             ],
             [
              0.2222222222222222,
              "#7201a8"
             ],
             [
              0.3333333333333333,
              "#9c179e"
             ],
             [
              0.4444444444444444,
              "#bd3786"
             ],
             [
              0.5555555555555556,
              "#d8576b"
             ],
             [
              0.6666666666666666,
              "#ed7953"
             ],
             [
              0.7777777777777778,
              "#fb9f3a"
             ],
             [
              0.8888888888888888,
              "#fdca26"
             ],
             [
              1,
              "#f0f921"
             ]
            ],
            "type": "surface"
           }
          ],
          "table": [
           {
            "cells": {
             "fill": {
              "color": "#506784"
             },
             "line": {
              "color": "rgb(17,17,17)"
             }
            },
            "header": {
             "fill": {
              "color": "#2a3f5f"
             },
             "line": {
              "color": "rgb(17,17,17)"
             }
            },
            "type": "table"
           }
          ]
         },
         "layout": {
          "annotationdefaults": {
           "arrowcolor": "#f2f5fa",
           "arrowhead": 0,
           "arrowwidth": 1
          },
          "autotypenumbers": "strict",
          "coloraxis": {
           "colorbar": {
            "outlinewidth": 0,
            "ticks": ""
           }
          },
          "colorscale": {
           "diverging": [
            [
             0,
             "#8e0152"
            ],
            [
             0.1,
             "#c51b7d"
            ],
            [
             0.2,
             "#de77ae"
            ],
            [
             0.3,
             "#f1b6da"
            ],
            [
             0.4,
             "#fde0ef"
            ],
            [
             0.5,
             "#f7f7f7"
            ],
            [
             0.6,
             "#e6f5d0"
            ],
            [
             0.7,
             "#b8e186"
            ],
            [
             0.8,
             "#7fbc41"
            ],
            [
             0.9,
             "#4d9221"
            ],
            [
             1,
             "#276419"
            ]
           ],
           "sequential": [
            [
             0,
             "#0d0887"
            ],
            [
             0.1111111111111111,
             "#46039f"
            ],
            [
             0.2222222222222222,
             "#7201a8"
            ],
            [
             0.3333333333333333,
             "#9c179e"
            ],
            [
             0.4444444444444444,
             "#bd3786"
            ],
            [
             0.5555555555555556,
             "#d8576b"
            ],
            [
             0.6666666666666666,
             "#ed7953"
            ],
            [
             0.7777777777777778,
             "#fb9f3a"
            ],
            [
             0.8888888888888888,
             "#fdca26"
            ],
            [
             1,
             "#f0f921"
            ]
           ],
           "sequentialminus": [
            [
             0,
             "#0d0887"
            ],
            [
             0.1111111111111111,
             "#46039f"
            ],
            [
             0.2222222222222222,
             "#7201a8"
            ],
            [
             0.3333333333333333,
             "#9c179e"
            ],
            [
             0.4444444444444444,
             "#bd3786"
            ],
            [
             0.5555555555555556,
             "#d8576b"
            ],
            [
             0.6666666666666666,
             "#ed7953"
            ],
            [
             0.7777777777777778,
             "#fb9f3a"
            ],
            [
             0.8888888888888888,
             "#fdca26"
            ],
            [
             1,
             "#f0f921"
            ]
           ]
          },
          "colorway": [
           "#636efa",
           "#EF553B",
           "#00cc96",
           "#ab63fa",
           "#FFA15A",
           "#19d3f3",
           "#FF6692",
           "#B6E880",
           "#FF97FF",
           "#FECB52"
          ],
          "font": {
           "color": "#f2f5fa"
          },
          "geo": {
           "bgcolor": "rgb(17,17,17)",
           "lakecolor": "rgb(17,17,17)",
           "landcolor": "rgb(17,17,17)",
           "showlakes": true,
           "showland": true,
           "subunitcolor": "#506784"
          },
          "hoverlabel": {
           "align": "left"
          },
          "hovermode": "closest",
          "mapbox": {
           "style": "dark"
          },
          "paper_bgcolor": "rgb(17,17,17)",
          "plot_bgcolor": "rgb(17,17,17)",
          "polar": {
           "angularaxis": {
            "gridcolor": "#506784",
            "linecolor": "#506784",
            "ticks": ""
           },
           "bgcolor": "rgb(17,17,17)",
           "radialaxis": {
            "gridcolor": "#506784",
            "linecolor": "#506784",
            "ticks": ""
           }
          },
          "scene": {
           "xaxis": {
            "backgroundcolor": "rgb(17,17,17)",
            "gridcolor": "#506784",
            "gridwidth": 2,
            "linecolor": "#506784",
            "showbackground": true,
            "ticks": "",
            "zerolinecolor": "#C8D4E3"
           },
           "yaxis": {
            "backgroundcolor": "rgb(17,17,17)",
            "gridcolor": "#506784",
            "gridwidth": 2,
            "linecolor": "#506784",
            "showbackground": true,
            "ticks": "",
            "zerolinecolor": "#C8D4E3"
           },
           "zaxis": {
            "backgroundcolor": "rgb(17,17,17)",
            "gridcolor": "#506784",
            "gridwidth": 2,
            "linecolor": "#506784",
            "showbackground": true,
            "ticks": "",
            "zerolinecolor": "#C8D4E3"
           }
          },
          "shapedefaults": {
           "line": {
            "color": "#f2f5fa"
           }
          },
          "sliderdefaults": {
           "bgcolor": "#C8D4E3",
           "bordercolor": "rgb(17,17,17)",
           "borderwidth": 1,
           "tickwidth": 0
          },
          "ternary": {
           "aaxis": {
            "gridcolor": "#506784",
            "linecolor": "#506784",
            "ticks": ""
           },
           "baxis": {
            "gridcolor": "#506784",
            "linecolor": "#506784",
            "ticks": ""
           },
           "bgcolor": "rgb(17,17,17)",
           "caxis": {
            "gridcolor": "#506784",
            "linecolor": "#506784",
            "ticks": ""
           }
          },
          "title": {
           "x": 0.05
          },
          "updatemenudefaults": {
           "bgcolor": "#506784",
           "borderwidth": 0
          },
          "xaxis": {
           "automargin": true,
           "gridcolor": "#283442",
           "linecolor": "#506784",
           "ticks": "",
           "title": {
            "standoff": 15
           },
           "zerolinecolor": "#283442",
           "zerolinewidth": 2
          },
          "yaxis": {
           "automargin": true,
           "gridcolor": "#283442",
           "linecolor": "#506784",
           "ticks": "",
           "title": {
            "standoff": 15
           },
           "zerolinecolor": "#283442",
           "zerolinewidth": 2
          }
         }
        },
        "title": {
         "text": "Pokemon 3"
        }
       }
      }
     },
     "metadata": {},
     "output_type": "display_data"
    }
   ],
   "source": [
    "px.line_polar(poke_3, r= 'valor', theta= 'atributo', line_close=True, title='Pokemon 3', template='plotly_dark').update_traces(fill='toself')"
   ]
  },
  {
   "cell_type": "code",
   "execution_count": 19,
   "id": "7c1e23f8",
   "metadata": {},
   "outputs": [
    {
     "data": {
      "application/vnd.plotly.v1+json": {
       "config": {
        "plotlyServerURL": "https://plot.ly"
       },
       "data": [
        {
         "fill": "toself",
         "hovertemplate": "valor=%{r}<br>atributo=%{theta}<extra></extra>",
         "legendgroup": "",
         "line": {
          "color": "#636efa",
          "dash": "solid"
         },
         "marker": {
          "symbol": "circle"
         },
         "mode": "lines",
         "name": "",
         "r": [
          1,
          2,
          0.5,
          0.5,
          0.5,
          2,
          0.5,
          2,
          0.5,
          2,
          0.5,
          4,
          1,
          2,
          1,
          2,
          1,
          1,
          1
         ],
         "showlegend": false,
         "subplot": "polar",
         "theta": [
          "against_normal",
          "against_fire",
          "against_water",
          "against_electric",
          "against_grass",
          "against_ice",
          "against_fight",
          "against_poison",
          "against_ground",
          "against_flying",
          "against_psychic",
          "against_bug",
          "against_rock",
          "against_ghost",
          "against_dragon",
          "against_dark",
          "against_steel",
          "against_fairy",
          "against_normal"
         ],
         "type": "scatterpolar"
        }
       ],
       "layout": {
        "legend": {
         "tracegroupgap": 0
        },
        "polar": {
         "angularaxis": {
          "direction": "clockwise",
          "rotation": 90
         },
         "domain": {
          "x": [
           0,
           1
          ],
          "y": [
           0,
           1
          ]
         }
        },
        "template": {
         "data": {
          "bar": [
           {
            "error_x": {
             "color": "#f2f5fa"
            },
            "error_y": {
             "color": "#f2f5fa"
            },
            "marker": {
             "line": {
              "color": "rgb(17,17,17)",
              "width": 0.5
             },
             "pattern": {
              "fillmode": "overlay",
              "size": 10,
              "solidity": 0.2
             }
            },
            "type": "bar"
           }
          ],
          "barpolar": [
           {
            "marker": {
             "line": {
              "color": "rgb(17,17,17)",
              "width": 0.5
             },
             "pattern": {
              "fillmode": "overlay",
              "size": 10,
              "solidity": 0.2
             }
            },
            "type": "barpolar"
           }
          ],
          "carpet": [
           {
            "aaxis": {
             "endlinecolor": "#A2B1C6",
             "gridcolor": "#506784",
             "linecolor": "#506784",
             "minorgridcolor": "#506784",
             "startlinecolor": "#A2B1C6"
            },
            "baxis": {
             "endlinecolor": "#A2B1C6",
             "gridcolor": "#506784",
             "linecolor": "#506784",
             "minorgridcolor": "#506784",
             "startlinecolor": "#A2B1C6"
            },
            "type": "carpet"
           }
          ],
          "choropleth": [
           {
            "colorbar": {
             "outlinewidth": 0,
             "ticks": ""
            },
            "type": "choropleth"
           }
          ],
          "contour": [
           {
            "colorbar": {
             "outlinewidth": 0,
             "ticks": ""
            },
            "colorscale": [
             [
              0,
              "#0d0887"
             ],
             [
              0.1111111111111111,
              "#46039f"
             ],
             [
              0.2222222222222222,
              "#7201a8"
             ],
             [
              0.3333333333333333,
              "#9c179e"
             ],
             [
              0.4444444444444444,
              "#bd3786"
             ],
             [
              0.5555555555555556,
              "#d8576b"
             ],
             [
              0.6666666666666666,
              "#ed7953"
             ],
             [
              0.7777777777777778,
              "#fb9f3a"
             ],
             [
              0.8888888888888888,
              "#fdca26"
             ],
             [
              1,
              "#f0f921"
             ]
            ],
            "type": "contour"
           }
          ],
          "contourcarpet": [
           {
            "colorbar": {
             "outlinewidth": 0,
             "ticks": ""
            },
            "type": "contourcarpet"
           }
          ],
          "heatmap": [
           {
            "colorbar": {
             "outlinewidth": 0,
             "ticks": ""
            },
            "colorscale": [
             [
              0,
              "#0d0887"
             ],
             [
              0.1111111111111111,
              "#46039f"
             ],
             [
              0.2222222222222222,
              "#7201a8"
             ],
             [
              0.3333333333333333,
              "#9c179e"
             ],
             [
              0.4444444444444444,
              "#bd3786"
             ],
             [
              0.5555555555555556,
              "#d8576b"
             ],
             [
              0.6666666666666666,
              "#ed7953"
             ],
             [
              0.7777777777777778,
              "#fb9f3a"
             ],
             [
              0.8888888888888888,
              "#fdca26"
             ],
             [
              1,
              "#f0f921"
             ]
            ],
            "type": "heatmap"
           }
          ],
          "heatmapgl": [
           {
            "colorbar": {
             "outlinewidth": 0,
             "ticks": ""
            },
            "colorscale": [
             [
              0,
              "#0d0887"
             ],
             [
              0.1111111111111111,
              "#46039f"
             ],
             [
              0.2222222222222222,
              "#7201a8"
             ],
             [
              0.3333333333333333,
              "#9c179e"
             ],
             [
              0.4444444444444444,
              "#bd3786"
             ],
             [
              0.5555555555555556,
              "#d8576b"
             ],
             [
              0.6666666666666666,
              "#ed7953"
             ],
             [
              0.7777777777777778,
              "#fb9f3a"
             ],
             [
              0.8888888888888888,
              "#fdca26"
             ],
             [
              1,
              "#f0f921"
             ]
            ],
            "type": "heatmapgl"
           }
          ],
          "histogram": [
           {
            "marker": {
             "pattern": {
              "fillmode": "overlay",
              "size": 10,
              "solidity": 0.2
             }
            },
            "type": "histogram"
           }
          ],
          "histogram2d": [
           {
            "colorbar": {
             "outlinewidth": 0,
             "ticks": ""
            },
            "colorscale": [
             [
              0,
              "#0d0887"
             ],
             [
              0.1111111111111111,
              "#46039f"
             ],
             [
              0.2222222222222222,
              "#7201a8"
             ],
             [
              0.3333333333333333,
              "#9c179e"
             ],
             [
              0.4444444444444444,
              "#bd3786"
             ],
             [
              0.5555555555555556,
              "#d8576b"
             ],
             [
              0.6666666666666666,
              "#ed7953"
             ],
             [
              0.7777777777777778,
              "#fb9f3a"
             ],
             [
              0.8888888888888888,
              "#fdca26"
             ],
             [
              1,
              "#f0f921"
             ]
            ],
            "type": "histogram2d"
           }
          ],
          "histogram2dcontour": [
           {
            "colorbar": {
             "outlinewidth": 0,
             "ticks": ""
            },
            "colorscale": [
             [
              0,
              "#0d0887"
             ],
             [
              0.1111111111111111,
              "#46039f"
             ],
             [
              0.2222222222222222,
              "#7201a8"
             ],
             [
              0.3333333333333333,
              "#9c179e"
             ],
             [
              0.4444444444444444,
              "#bd3786"
             ],
             [
              0.5555555555555556,
              "#d8576b"
             ],
             [
              0.6666666666666666,
              "#ed7953"
             ],
             [
              0.7777777777777778,
              "#fb9f3a"
             ],
             [
              0.8888888888888888,
              "#fdca26"
             ],
             [
              1,
              "#f0f921"
             ]
            ],
            "type": "histogram2dcontour"
           }
          ],
          "mesh3d": [
           {
            "colorbar": {
             "outlinewidth": 0,
             "ticks": ""
            },
            "type": "mesh3d"
           }
          ],
          "parcoords": [
           {
            "line": {
             "colorbar": {
              "outlinewidth": 0,
              "ticks": ""
             }
            },
            "type": "parcoords"
           }
          ],
          "pie": [
           {
            "automargin": true,
            "type": "pie"
           }
          ],
          "scatter": [
           {
            "marker": {
             "line": {
              "color": "#283442"
             }
            },
            "type": "scatter"
           }
          ],
          "scatter3d": [
           {
            "line": {
             "colorbar": {
              "outlinewidth": 0,
              "ticks": ""
             }
            },
            "marker": {
             "colorbar": {
              "outlinewidth": 0,
              "ticks": ""
             }
            },
            "type": "scatter3d"
           }
          ],
          "scattercarpet": [
           {
            "marker": {
             "colorbar": {
              "outlinewidth": 0,
              "ticks": ""
             }
            },
            "type": "scattercarpet"
           }
          ],
          "scattergeo": [
           {
            "marker": {
             "colorbar": {
              "outlinewidth": 0,
              "ticks": ""
             }
            },
            "type": "scattergeo"
           }
          ],
          "scattergl": [
           {
            "marker": {
             "line": {
              "color": "#283442"
             }
            },
            "type": "scattergl"
           }
          ],
          "scattermapbox": [
           {
            "marker": {
             "colorbar": {
              "outlinewidth": 0,
              "ticks": ""
             }
            },
            "type": "scattermapbox"
           }
          ],
          "scatterpolar": [
           {
            "marker": {
             "colorbar": {
              "outlinewidth": 0,
              "ticks": ""
             }
            },
            "type": "scatterpolar"
           }
          ],
          "scatterpolargl": [
           {
            "marker": {
             "colorbar": {
              "outlinewidth": 0,
              "ticks": ""
             }
            },
            "type": "scatterpolargl"
           }
          ],
          "scatterternary": [
           {
            "marker": {
             "colorbar": {
              "outlinewidth": 0,
              "ticks": ""
             }
            },
            "type": "scatterternary"
           }
          ],
          "surface": [
           {
            "colorbar": {
             "outlinewidth": 0,
             "ticks": ""
            },
            "colorscale": [
             [
              0,
              "#0d0887"
             ],
             [
              0.1111111111111111,
              "#46039f"
             ],
             [
              0.2222222222222222,
              "#7201a8"
             ],
             [
              0.3333333333333333,
              "#9c179e"
             ],
             [
              0.4444444444444444,
              "#bd3786"
             ],
             [
              0.5555555555555556,
              "#d8576b"
             ],
             [
              0.6666666666666666,
              "#ed7953"
             ],
             [
              0.7777777777777778,
              "#fb9f3a"
             ],
             [
              0.8888888888888888,
              "#fdca26"
             ],
             [
              1,
              "#f0f921"
             ]
            ],
            "type": "surface"
           }
          ],
          "table": [
           {
            "cells": {
             "fill": {
              "color": "#506784"
             },
             "line": {
              "color": "rgb(17,17,17)"
             }
            },
            "header": {
             "fill": {
              "color": "#2a3f5f"
             },
             "line": {
              "color": "rgb(17,17,17)"
             }
            },
            "type": "table"
           }
          ]
         },
         "layout": {
          "annotationdefaults": {
           "arrowcolor": "#f2f5fa",
           "arrowhead": 0,
           "arrowwidth": 1
          },
          "autotypenumbers": "strict",
          "coloraxis": {
           "colorbar": {
            "outlinewidth": 0,
            "ticks": ""
           }
          },
          "colorscale": {
           "diverging": [
            [
             0,
             "#8e0152"
            ],
            [
             0.1,
             "#c51b7d"
            ],
            [
             0.2,
             "#de77ae"
            ],
            [
             0.3,
             "#f1b6da"
            ],
            [
             0.4,
             "#fde0ef"
            ],
            [
             0.5,
             "#f7f7f7"
            ],
            [
             0.6,
             "#e6f5d0"
            ],
            [
             0.7,
             "#b8e186"
            ],
            [
             0.8,
             "#7fbc41"
            ],
            [
             0.9,
             "#4d9221"
            ],
            [
             1,
             "#276419"
            ]
           ],
           "sequential": [
            [
             0,
             "#0d0887"
            ],
            [
             0.1111111111111111,
             "#46039f"
            ],
            [
             0.2222222222222222,
             "#7201a8"
            ],
            [
             0.3333333333333333,
             "#9c179e"
            ],
            [
             0.4444444444444444,
             "#bd3786"
            ],
            [
             0.5555555555555556,
             "#d8576b"
            ],
            [
             0.6666666666666666,
             "#ed7953"
            ],
            [
             0.7777777777777778,
             "#fb9f3a"
            ],
            [
             0.8888888888888888,
             "#fdca26"
            ],
            [
             1,
             "#f0f921"
            ]
           ],
           "sequentialminus": [
            [
             0,
             "#0d0887"
            ],
            [
             0.1111111111111111,
             "#46039f"
            ],
            [
             0.2222222222222222,
             "#7201a8"
            ],
            [
             0.3333333333333333,
             "#9c179e"
            ],
            [
             0.4444444444444444,
             "#bd3786"
            ],
            [
             0.5555555555555556,
             "#d8576b"
            ],
            [
             0.6666666666666666,
             "#ed7953"
            ],
            [
             0.7777777777777778,
             "#fb9f3a"
            ],
            [
             0.8888888888888888,
             "#fdca26"
            ],
            [
             1,
             "#f0f921"
            ]
           ]
          },
          "colorway": [
           "#636efa",
           "#EF553B",
           "#00cc96",
           "#ab63fa",
           "#FFA15A",
           "#19d3f3",
           "#FF6692",
           "#B6E880",
           "#FF97FF",
           "#FECB52"
          ],
          "font": {
           "color": "#f2f5fa"
          },
          "geo": {
           "bgcolor": "rgb(17,17,17)",
           "lakecolor": "rgb(17,17,17)",
           "landcolor": "rgb(17,17,17)",
           "showlakes": true,
           "showland": true,
           "subunitcolor": "#506784"
          },
          "hoverlabel": {
           "align": "left"
          },
          "hovermode": "closest",
          "mapbox": {
           "style": "dark"
          },
          "paper_bgcolor": "rgb(17,17,17)",
          "plot_bgcolor": "rgb(17,17,17)",
          "polar": {
           "angularaxis": {
            "gridcolor": "#506784",
            "linecolor": "#506784",
            "ticks": ""
           },
           "bgcolor": "rgb(17,17,17)",
           "radialaxis": {
            "gridcolor": "#506784",
            "linecolor": "#506784",
            "ticks": ""
           }
          },
          "scene": {
           "xaxis": {
            "backgroundcolor": "rgb(17,17,17)",
            "gridcolor": "#506784",
            "gridwidth": 2,
            "linecolor": "#506784",
            "showbackground": true,
            "ticks": "",
            "zerolinecolor": "#C8D4E3"
           },
           "yaxis": {
            "backgroundcolor": "rgb(17,17,17)",
            "gridcolor": "#506784",
            "gridwidth": 2,
            "linecolor": "#506784",
            "showbackground": true,
            "ticks": "",
            "zerolinecolor": "#C8D4E3"
           },
           "zaxis": {
            "backgroundcolor": "rgb(17,17,17)",
            "gridcolor": "#506784",
            "gridwidth": 2,
            "linecolor": "#506784",
            "showbackground": true,
            "ticks": "",
            "zerolinecolor": "#C8D4E3"
           }
          },
          "shapedefaults": {
           "line": {
            "color": "#f2f5fa"
           }
          },
          "sliderdefaults": {
           "bgcolor": "#C8D4E3",
           "bordercolor": "rgb(17,17,17)",
           "borderwidth": 1,
           "tickwidth": 0
          },
          "ternary": {
           "aaxis": {
            "gridcolor": "#506784",
            "linecolor": "#506784",
            "ticks": ""
           },
           "baxis": {
            "gridcolor": "#506784",
            "linecolor": "#506784",
            "ticks": ""
           },
           "bgcolor": "rgb(17,17,17)",
           "caxis": {
            "gridcolor": "#506784",
            "linecolor": "#506784",
            "ticks": ""
           }
          },
          "title": {
           "x": 0.05
          },
          "updatemenudefaults": {
           "bgcolor": "#506784",
           "borderwidth": 0
          },
          "xaxis": {
           "automargin": true,
           "gridcolor": "#283442",
           "linecolor": "#506784",
           "ticks": "",
           "title": {
            "standoff": 15
           },
           "zerolinecolor": "#283442",
           "zerolinewidth": 2
          },
          "yaxis": {
           "automargin": true,
           "gridcolor": "#283442",
           "linecolor": "#506784",
           "ticks": "",
           "title": {
            "standoff": 15
           },
           "zerolinecolor": "#283442",
           "zerolinewidth": 2
          }
         }
        },
        "title": {
         "text": "Pokemon 4"
        }
       }
      }
     },
     "metadata": {},
     "output_type": "display_data"
    }
   ],
   "source": [
    "px.line_polar(poke_4, r= 'valor', theta= 'atributo', line_close=True, title='Pokemon 4', template='plotly_dark').update_traces(fill='toself')"
   ]
  },
  {
   "cell_type": "code",
   "execution_count": 20,
   "id": "9e3c748f",
   "metadata": {},
   "outputs": [
    {
     "data": {
      "application/vnd.plotly.v1+json": {
       "config": {
        "plotlyServerURL": "https://plot.ly"
       },
       "data": [
        {
         "fill": "toself",
         "hovertemplate": "valor=%{r}<br>atributo=%{theta}<extra></extra>",
         "legendgroup": "",
         "line": {
          "color": "#636efa",
          "dash": "solid"
         },
         "marker": {
          "symbol": "circle"
         },
         "mode": "lines",
         "name": "",
         "r": [
          1,
          0.5,
          1,
          1,
          1,
          0.5,
          2,
          1,
          1,
          1,
          1,
          1,
          1,
          0,
          1,
          1,
          1,
          1,
          1
         ],
         "showlegend": false,
         "subplot": "polar",
         "theta": [
          "against_normal",
          "against_fire",
          "against_water",
          "against_electric",
          "against_grass",
          "against_ice",
          "against_fight",
          "against_poison",
          "against_ground",
          "against_flying",
          "against_psychic",
          "against_bug",
          "against_rock",
          "against_ghost",
          "against_dragon",
          "against_dark",
          "against_steel",
          "against_fairy",
          "against_normal"
         ],
         "type": "scatterpolar"
        }
       ],
       "layout": {
        "legend": {
         "tracegroupgap": 0
        },
        "polar": {
         "angularaxis": {
          "direction": "clockwise",
          "rotation": 90
         },
         "domain": {
          "x": [
           0,
           1
          ],
          "y": [
           0,
           1
          ]
         }
        },
        "template": {
         "data": {
          "bar": [
           {
            "error_x": {
             "color": "#f2f5fa"
            },
            "error_y": {
             "color": "#f2f5fa"
            },
            "marker": {
             "line": {
              "color": "rgb(17,17,17)",
              "width": 0.5
             },
             "pattern": {
              "fillmode": "overlay",
              "size": 10,
              "solidity": 0.2
             }
            },
            "type": "bar"
           }
          ],
          "barpolar": [
           {
            "marker": {
             "line": {
              "color": "rgb(17,17,17)",
              "width": 0.5
             },
             "pattern": {
              "fillmode": "overlay",
              "size": 10,
              "solidity": 0.2
             }
            },
            "type": "barpolar"
           }
          ],
          "carpet": [
           {
            "aaxis": {
             "endlinecolor": "#A2B1C6",
             "gridcolor": "#506784",
             "linecolor": "#506784",
             "minorgridcolor": "#506784",
             "startlinecolor": "#A2B1C6"
            },
            "baxis": {
             "endlinecolor": "#A2B1C6",
             "gridcolor": "#506784",
             "linecolor": "#506784",
             "minorgridcolor": "#506784",
             "startlinecolor": "#A2B1C6"
            },
            "type": "carpet"
           }
          ],
          "choropleth": [
           {
            "colorbar": {
             "outlinewidth": 0,
             "ticks": ""
            },
            "type": "choropleth"
           }
          ],
          "contour": [
           {
            "colorbar": {
             "outlinewidth": 0,
             "ticks": ""
            },
            "colorscale": [
             [
              0,
              "#0d0887"
             ],
             [
              0.1111111111111111,
              "#46039f"
             ],
             [
              0.2222222222222222,
              "#7201a8"
             ],
             [
              0.3333333333333333,
              "#9c179e"
             ],
             [
              0.4444444444444444,
              "#bd3786"
             ],
             [
              0.5555555555555556,
              "#d8576b"
             ],
             [
              0.6666666666666666,
              "#ed7953"
             ],
             [
              0.7777777777777778,
              "#fb9f3a"
             ],
             [
              0.8888888888888888,
              "#fdca26"
             ],
             [
              1,
              "#f0f921"
             ]
            ],
            "type": "contour"
           }
          ],
          "contourcarpet": [
           {
            "colorbar": {
             "outlinewidth": 0,
             "ticks": ""
            },
            "type": "contourcarpet"
           }
          ],
          "heatmap": [
           {
            "colorbar": {
             "outlinewidth": 0,
             "ticks": ""
            },
            "colorscale": [
             [
              0,
              "#0d0887"
             ],
             [
              0.1111111111111111,
              "#46039f"
             ],
             [
              0.2222222222222222,
              "#7201a8"
             ],
             [
              0.3333333333333333,
              "#9c179e"
             ],
             [
              0.4444444444444444,
              "#bd3786"
             ],
             [
              0.5555555555555556,
              "#d8576b"
             ],
             [
              0.6666666666666666,
              "#ed7953"
             ],
             [
              0.7777777777777778,
              "#fb9f3a"
             ],
             [
              0.8888888888888888,
              "#fdca26"
             ],
             [
              1,
              "#f0f921"
             ]
            ],
            "type": "heatmap"
           }
          ],
          "heatmapgl": [
           {
            "colorbar": {
             "outlinewidth": 0,
             "ticks": ""
            },
            "colorscale": [
             [
              0,
              "#0d0887"
             ],
             [
              0.1111111111111111,
              "#46039f"
             ],
             [
              0.2222222222222222,
              "#7201a8"
             ],
             [
              0.3333333333333333,
              "#9c179e"
             ],
             [
              0.4444444444444444,
              "#bd3786"
             ],
             [
              0.5555555555555556,
              "#d8576b"
             ],
             [
              0.6666666666666666,
              "#ed7953"
             ],
             [
              0.7777777777777778,
              "#fb9f3a"
             ],
             [
              0.8888888888888888,
              "#fdca26"
             ],
             [
              1,
              "#f0f921"
             ]
            ],
            "type": "heatmapgl"
           }
          ],
          "histogram": [
           {
            "marker": {
             "pattern": {
              "fillmode": "overlay",
              "size": 10,
              "solidity": 0.2
             }
            },
            "type": "histogram"
           }
          ],
          "histogram2d": [
           {
            "colorbar": {
             "outlinewidth": 0,
             "ticks": ""
            },
            "colorscale": [
             [
              0,
              "#0d0887"
             ],
             [
              0.1111111111111111,
              "#46039f"
             ],
             [
              0.2222222222222222,
              "#7201a8"
             ],
             [
              0.3333333333333333,
              "#9c179e"
             ],
             [
              0.4444444444444444,
              "#bd3786"
             ],
             [
              0.5555555555555556,
              "#d8576b"
             ],
             [
              0.6666666666666666,
              "#ed7953"
             ],
             [
              0.7777777777777778,
              "#fb9f3a"
             ],
             [
              0.8888888888888888,
              "#fdca26"
             ],
             [
              1,
              "#f0f921"
             ]
            ],
            "type": "histogram2d"
           }
          ],
          "histogram2dcontour": [
           {
            "colorbar": {
             "outlinewidth": 0,
             "ticks": ""
            },
            "colorscale": [
             [
              0,
              "#0d0887"
             ],
             [
              0.1111111111111111,
              "#46039f"
             ],
             [
              0.2222222222222222,
              "#7201a8"
             ],
             [
              0.3333333333333333,
              "#9c179e"
             ],
             [
              0.4444444444444444,
              "#bd3786"
             ],
             [
              0.5555555555555556,
              "#d8576b"
             ],
             [
              0.6666666666666666,
              "#ed7953"
             ],
             [
              0.7777777777777778,
              "#fb9f3a"
             ],
             [
              0.8888888888888888,
              "#fdca26"
             ],
             [
              1,
              "#f0f921"
             ]
            ],
            "type": "histogram2dcontour"
           }
          ],
          "mesh3d": [
           {
            "colorbar": {
             "outlinewidth": 0,
             "ticks": ""
            },
            "type": "mesh3d"
           }
          ],
          "parcoords": [
           {
            "line": {
             "colorbar": {
              "outlinewidth": 0,
              "ticks": ""
             }
            },
            "type": "parcoords"
           }
          ],
          "pie": [
           {
            "automargin": true,
            "type": "pie"
           }
          ],
          "scatter": [
           {
            "marker": {
             "line": {
              "color": "#283442"
             }
            },
            "type": "scatter"
           }
          ],
          "scatter3d": [
           {
            "line": {
             "colorbar": {
              "outlinewidth": 0,
              "ticks": ""
             }
            },
            "marker": {
             "colorbar": {
              "outlinewidth": 0,
              "ticks": ""
             }
            },
            "type": "scatter3d"
           }
          ],
          "scattercarpet": [
           {
            "marker": {
             "colorbar": {
              "outlinewidth": 0,
              "ticks": ""
             }
            },
            "type": "scattercarpet"
           }
          ],
          "scattergeo": [
           {
            "marker": {
             "colorbar": {
              "outlinewidth": 0,
              "ticks": ""
             }
            },
            "type": "scattergeo"
           }
          ],
          "scattergl": [
           {
            "marker": {
             "line": {
              "color": "#283442"
             }
            },
            "type": "scattergl"
           }
          ],
          "scattermapbox": [
           {
            "marker": {
             "colorbar": {
              "outlinewidth": 0,
              "ticks": ""
             }
            },
            "type": "scattermapbox"
           }
          ],
          "scatterpolar": [
           {
            "marker": {
             "colorbar": {
              "outlinewidth": 0,
              "ticks": ""
             }
            },
            "type": "scatterpolar"
           }
          ],
          "scatterpolargl": [
           {
            "marker": {
             "colorbar": {
              "outlinewidth": 0,
              "ticks": ""
             }
            },
            "type": "scatterpolargl"
           }
          ],
          "scatterternary": [
           {
            "marker": {
             "colorbar": {
              "outlinewidth": 0,
              "ticks": ""
             }
            },
            "type": "scatterternary"
           }
          ],
          "surface": [
           {
            "colorbar": {
             "outlinewidth": 0,
             "ticks": ""
            },
            "colorscale": [
             [
              0,
              "#0d0887"
             ],
             [
              0.1111111111111111,
              "#46039f"
             ],
             [
              0.2222222222222222,
              "#7201a8"
             ],
             [
              0.3333333333333333,
              "#9c179e"
             ],
             [
              0.4444444444444444,
              "#bd3786"
             ],
             [
              0.5555555555555556,
              "#d8576b"
             ],
             [
              0.6666666666666666,
              "#ed7953"
             ],
             [
              0.7777777777777778,
              "#fb9f3a"
             ],
             [
              0.8888888888888888,
              "#fdca26"
             ],
             [
              1,
              "#f0f921"
             ]
            ],
            "type": "surface"
           }
          ],
          "table": [
           {
            "cells": {
             "fill": {
              "color": "#506784"
             },
             "line": {
              "color": "rgb(17,17,17)"
             }
            },
            "header": {
             "fill": {
              "color": "#2a3f5f"
             },
             "line": {
              "color": "rgb(17,17,17)"
             }
            },
            "type": "table"
           }
          ]
         },
         "layout": {
          "annotationdefaults": {
           "arrowcolor": "#f2f5fa",
           "arrowhead": 0,
           "arrowwidth": 1
          },
          "autotypenumbers": "strict",
          "coloraxis": {
           "colorbar": {
            "outlinewidth": 0,
            "ticks": ""
           }
          },
          "colorscale": {
           "diverging": [
            [
             0,
             "#8e0152"
            ],
            [
             0.1,
             "#c51b7d"
            ],
            [
             0.2,
             "#de77ae"
            ],
            [
             0.3,
             "#f1b6da"
            ],
            [
             0.4,
             "#fde0ef"
            ],
            [
             0.5,
             "#f7f7f7"
            ],
            [
             0.6,
             "#e6f5d0"
            ],
            [
             0.7,
             "#b8e186"
            ],
            [
             0.8,
             "#7fbc41"
            ],
            [
             0.9,
             "#4d9221"
            ],
            [
             1,
             "#276419"
            ]
           ],
           "sequential": [
            [
             0,
             "#0d0887"
            ],
            [
             0.1111111111111111,
             "#46039f"
            ],
            [
             0.2222222222222222,
             "#7201a8"
            ],
            [
             0.3333333333333333,
             "#9c179e"
            ],
            [
             0.4444444444444444,
             "#bd3786"
            ],
            [
             0.5555555555555556,
             "#d8576b"
            ],
            [
             0.6666666666666666,
             "#ed7953"
            ],
            [
             0.7777777777777778,
             "#fb9f3a"
            ],
            [
             0.8888888888888888,
             "#fdca26"
            ],
            [
             1,
             "#f0f921"
            ]
           ],
           "sequentialminus": [
            [
             0,
             "#0d0887"
            ],
            [
             0.1111111111111111,
             "#46039f"
            ],
            [
             0.2222222222222222,
             "#7201a8"
            ],
            [
             0.3333333333333333,
             "#9c179e"
            ],
            [
             0.4444444444444444,
             "#bd3786"
            ],
            [
             0.5555555555555556,
             "#d8576b"
            ],
            [
             0.6666666666666666,
             "#ed7953"
            ],
            [
             0.7777777777777778,
             "#fb9f3a"
            ],
            [
             0.8888888888888888,
             "#fdca26"
            ],
            [
             1,
             "#f0f921"
            ]
           ]
          },
          "colorway": [
           "#636efa",
           "#EF553B",
           "#00cc96",
           "#ab63fa",
           "#FFA15A",
           "#19d3f3",
           "#FF6692",
           "#B6E880",
           "#FF97FF",
           "#FECB52"
          ],
          "font": {
           "color": "#f2f5fa"
          },
          "geo": {
           "bgcolor": "rgb(17,17,17)",
           "lakecolor": "rgb(17,17,17)",
           "landcolor": "rgb(17,17,17)",
           "showlakes": true,
           "showland": true,
           "subunitcolor": "#506784"
          },
          "hoverlabel": {
           "align": "left"
          },
          "hovermode": "closest",
          "mapbox": {
           "style": "dark"
          },
          "paper_bgcolor": "rgb(17,17,17)",
          "plot_bgcolor": "rgb(17,17,17)",
          "polar": {
           "angularaxis": {
            "gridcolor": "#506784",
            "linecolor": "#506784",
            "ticks": ""
           },
           "bgcolor": "rgb(17,17,17)",
           "radialaxis": {
            "gridcolor": "#506784",
            "linecolor": "#506784",
            "ticks": ""
           }
          },
          "scene": {
           "xaxis": {
            "backgroundcolor": "rgb(17,17,17)",
            "gridcolor": "#506784",
            "gridwidth": 2,
            "linecolor": "#506784",
            "showbackground": true,
            "ticks": "",
            "zerolinecolor": "#C8D4E3"
           },
           "yaxis": {
            "backgroundcolor": "rgb(17,17,17)",
            "gridcolor": "#506784",
            "gridwidth": 2,
            "linecolor": "#506784",
            "showbackground": true,
            "ticks": "",
            "zerolinecolor": "#C8D4E3"
           },
           "zaxis": {
            "backgroundcolor": "rgb(17,17,17)",
            "gridcolor": "#506784",
            "gridwidth": 2,
            "linecolor": "#506784",
            "showbackground": true,
            "ticks": "",
            "zerolinecolor": "#C8D4E3"
           }
          },
          "shapedefaults": {
           "line": {
            "color": "#f2f5fa"
           }
          },
          "sliderdefaults": {
           "bgcolor": "#C8D4E3",
           "bordercolor": "rgb(17,17,17)",
           "borderwidth": 1,
           "tickwidth": 0
          },
          "ternary": {
           "aaxis": {
            "gridcolor": "#506784",
            "linecolor": "#506784",
            "ticks": ""
           },
           "baxis": {
            "gridcolor": "#506784",
            "linecolor": "#506784",
            "ticks": ""
           },
           "bgcolor": "rgb(17,17,17)",
           "caxis": {
            "gridcolor": "#506784",
            "linecolor": "#506784",
            "ticks": ""
           }
          },
          "title": {
           "x": 0.05
          },
          "updatemenudefaults": {
           "bgcolor": "#506784",
           "borderwidth": 0
          },
          "xaxis": {
           "automargin": true,
           "gridcolor": "#283442",
           "linecolor": "#506784",
           "ticks": "",
           "title": {
            "standoff": 15
           },
           "zerolinecolor": "#283442",
           "zerolinewidth": 2
          },
          "yaxis": {
           "automargin": true,
           "gridcolor": "#283442",
           "linecolor": "#506784",
           "ticks": "",
           "title": {
            "standoff": 15
           },
           "zerolinecolor": "#283442",
           "zerolinewidth": 2
          }
         }
        },
        "title": {
         "text": "Pokemon 5"
        }
       }
      }
     },
     "metadata": {},
     "output_type": "display_data"
    }
   ],
   "source": [
    "px.line_polar(poke_5, r= 'valor', theta= 'atributo', line_close=True, title='Pokemon 5', template='plotly_dark').update_traces(fill='toself')"
   ]
  },
  {
   "cell_type": "code",
   "execution_count": 21,
   "id": "ef552ac9",
   "metadata": {},
   "outputs": [
    {
     "data": {
      "application/vnd.plotly.v1+json": {
       "config": {
        "plotlyServerURL": "https://plot.ly"
       },
       "data": [
        {
         "fill": "toself",
         "hovertemplate": "valor=%{r}<br>atributo=%{theta}<extra></extra>",
         "legendgroup": "",
         "line": {
          "color": "#636efa",
          "dash": "solid"
         },
         "marker": {
          "symbol": "circle"
         },
         "mode": "lines",
         "name": "",
         "r": [
          1,
          1,
          1,
          2,
          0.5,
          2,
          0.5,
          1,
          0,
          1,
          1,
          0.5,
          2,
          1,
          1,
          1,
          1,
          1,
          1
         ],
         "showlegend": false,
         "subplot": "polar",
         "theta": [
          "against_normal",
          "against_fire",
          "against_water",
          "against_electric",
          "against_grass",
          "against_ice",
          "against_fight",
          "against_poison",
          "against_ground",
          "against_flying",
          "against_psychic",
          "against_bug",
          "against_rock",
          "against_ghost",
          "against_dragon",
          "against_dark",
          "against_steel",
          "against_fairy",
          "against_normal"
         ],
         "type": "scatterpolar"
        }
       ],
       "layout": {
        "legend": {
         "tracegroupgap": 0
        },
        "polar": {
         "angularaxis": {
          "direction": "clockwise",
          "rotation": 90
         },
         "domain": {
          "x": [
           0,
           1
          ],
          "y": [
           0,
           1
          ]
         }
        },
        "template": {
         "data": {
          "bar": [
           {
            "error_x": {
             "color": "#f2f5fa"
            },
            "error_y": {
             "color": "#f2f5fa"
            },
            "marker": {
             "line": {
              "color": "rgb(17,17,17)",
              "width": 0.5
             },
             "pattern": {
              "fillmode": "overlay",
              "size": 10,
              "solidity": 0.2
             }
            },
            "type": "bar"
           }
          ],
          "barpolar": [
           {
            "marker": {
             "line": {
              "color": "rgb(17,17,17)",
              "width": 0.5
             },
             "pattern": {
              "fillmode": "overlay",
              "size": 10,
              "solidity": 0.2
             }
            },
            "type": "barpolar"
           }
          ],
          "carpet": [
           {
            "aaxis": {
             "endlinecolor": "#A2B1C6",
             "gridcolor": "#506784",
             "linecolor": "#506784",
             "minorgridcolor": "#506784",
             "startlinecolor": "#A2B1C6"
            },
            "baxis": {
             "endlinecolor": "#A2B1C6",
             "gridcolor": "#506784",
             "linecolor": "#506784",
             "minorgridcolor": "#506784",
             "startlinecolor": "#A2B1C6"
            },
            "type": "carpet"
           }
          ],
          "choropleth": [
           {
            "colorbar": {
             "outlinewidth": 0,
             "ticks": ""
            },
            "type": "choropleth"
           }
          ],
          "contour": [
           {
            "colorbar": {
             "outlinewidth": 0,
             "ticks": ""
            },
            "colorscale": [
             [
              0,
              "#0d0887"
             ],
             [
              0.1111111111111111,
              "#46039f"
             ],
             [
              0.2222222222222222,
              "#7201a8"
             ],
             [
              0.3333333333333333,
              "#9c179e"
             ],
             [
              0.4444444444444444,
              "#bd3786"
             ],
             [
              0.5555555555555556,
              "#d8576b"
             ],
             [
              0.6666666666666666,
              "#ed7953"
             ],
             [
              0.7777777777777778,
              "#fb9f3a"
             ],
             [
              0.8888888888888888,
              "#fdca26"
             ],
             [
              1,
              "#f0f921"
             ]
            ],
            "type": "contour"
           }
          ],
          "contourcarpet": [
           {
            "colorbar": {
             "outlinewidth": 0,
             "ticks": ""
            },
            "type": "contourcarpet"
           }
          ],
          "heatmap": [
           {
            "colorbar": {
             "outlinewidth": 0,
             "ticks": ""
            },
            "colorscale": [
             [
              0,
              "#0d0887"
             ],
             [
              0.1111111111111111,
              "#46039f"
             ],
             [
              0.2222222222222222,
              "#7201a8"
             ],
             [
              0.3333333333333333,
              "#9c179e"
             ],
             [
              0.4444444444444444,
              "#bd3786"
             ],
             [
              0.5555555555555556,
              "#d8576b"
             ],
             [
              0.6666666666666666,
              "#ed7953"
             ],
             [
              0.7777777777777778,
              "#fb9f3a"
             ],
             [
              0.8888888888888888,
              "#fdca26"
             ],
             [
              1,
              "#f0f921"
             ]
            ],
            "type": "heatmap"
           }
          ],
          "heatmapgl": [
           {
            "colorbar": {
             "outlinewidth": 0,
             "ticks": ""
            },
            "colorscale": [
             [
              0,
              "#0d0887"
             ],
             [
              0.1111111111111111,
              "#46039f"
             ],
             [
              0.2222222222222222,
              "#7201a8"
             ],
             [
              0.3333333333333333,
              "#9c179e"
             ],
             [
              0.4444444444444444,
              "#bd3786"
             ],
             [
              0.5555555555555556,
              "#d8576b"
             ],
             [
              0.6666666666666666,
              "#ed7953"
             ],
             [
              0.7777777777777778,
              "#fb9f3a"
             ],
             [
              0.8888888888888888,
              "#fdca26"
             ],
             [
              1,
              "#f0f921"
             ]
            ],
            "type": "heatmapgl"
           }
          ],
          "histogram": [
           {
            "marker": {
             "pattern": {
              "fillmode": "overlay",
              "size": 10,
              "solidity": 0.2
             }
            },
            "type": "histogram"
           }
          ],
          "histogram2d": [
           {
            "colorbar": {
             "outlinewidth": 0,
             "ticks": ""
            },
            "colorscale": [
             [
              0,
              "#0d0887"
             ],
             [
              0.1111111111111111,
              "#46039f"
             ],
             [
              0.2222222222222222,
              "#7201a8"
             ],
             [
              0.3333333333333333,
              "#9c179e"
             ],
             [
              0.4444444444444444,
              "#bd3786"
             ],
             [
              0.5555555555555556,
              "#d8576b"
             ],
             [
              0.6666666666666666,
              "#ed7953"
             ],
             [
              0.7777777777777778,
              "#fb9f3a"
             ],
             [
              0.8888888888888888,
              "#fdca26"
             ],
             [
              1,
              "#f0f921"
             ]
            ],
            "type": "histogram2d"
           }
          ],
          "histogram2dcontour": [
           {
            "colorbar": {
             "outlinewidth": 0,
             "ticks": ""
            },
            "colorscale": [
             [
              0,
              "#0d0887"
             ],
             [
              0.1111111111111111,
              "#46039f"
             ],
             [
              0.2222222222222222,
              "#7201a8"
             ],
             [
              0.3333333333333333,
              "#9c179e"
             ],
             [
              0.4444444444444444,
              "#bd3786"
             ],
             [
              0.5555555555555556,
              "#d8576b"
             ],
             [
              0.6666666666666666,
              "#ed7953"
             ],
             [
              0.7777777777777778,
              "#fb9f3a"
             ],
             [
              0.8888888888888888,
              "#fdca26"
             ],
             [
              1,
              "#f0f921"
             ]
            ],
            "type": "histogram2dcontour"
           }
          ],
          "mesh3d": [
           {
            "colorbar": {
             "outlinewidth": 0,
             "ticks": ""
            },
            "type": "mesh3d"
           }
          ],
          "parcoords": [
           {
            "line": {
             "colorbar": {
              "outlinewidth": 0,
              "ticks": ""
             }
            },
            "type": "parcoords"
           }
          ],
          "pie": [
           {
            "automargin": true,
            "type": "pie"
           }
          ],
          "scatter": [
           {
            "marker": {
             "line": {
              "color": "#283442"
             }
            },
            "type": "scatter"
           }
          ],
          "scatter3d": [
           {
            "line": {
             "colorbar": {
              "outlinewidth": 0,
              "ticks": ""
             }
            },
            "marker": {
             "colorbar": {
              "outlinewidth": 0,
              "ticks": ""
             }
            },
            "type": "scatter3d"
           }
          ],
          "scattercarpet": [
           {
            "marker": {
             "colorbar": {
              "outlinewidth": 0,
              "ticks": ""
             }
            },
            "type": "scattercarpet"
           }
          ],
          "scattergeo": [
           {
            "marker": {
             "colorbar": {
              "outlinewidth": 0,
              "ticks": ""
             }
            },
            "type": "scattergeo"
           }
          ],
          "scattergl": [
           {
            "marker": {
             "line": {
              "color": "#283442"
             }
            },
            "type": "scattergl"
           }
          ],
          "scattermapbox": [
           {
            "marker": {
             "colorbar": {
              "outlinewidth": 0,
              "ticks": ""
             }
            },
            "type": "scattermapbox"
           }
          ],
          "scatterpolar": [
           {
            "marker": {
             "colorbar": {
              "outlinewidth": 0,
              "ticks": ""
             }
            },
            "type": "scatterpolar"
           }
          ],
          "scatterpolargl": [
           {
            "marker": {
             "colorbar": {
              "outlinewidth": 0,
              "ticks": ""
             }
            },
            "type": "scatterpolargl"
           }
          ],
          "scatterternary": [
           {
            "marker": {
             "colorbar": {
              "outlinewidth": 0,
              "ticks": ""
             }
            },
            "type": "scatterternary"
           }
          ],
          "surface": [
           {
            "colorbar": {
             "outlinewidth": 0,
             "ticks": ""
            },
            "colorscale": [
             [
              0,
              "#0d0887"
             ],
             [
              0.1111111111111111,
              "#46039f"
             ],
             [
              0.2222222222222222,
              "#7201a8"
             ],
             [
              0.3333333333333333,
              "#9c179e"
             ],
             [
              0.4444444444444444,
              "#bd3786"
             ],
             [
              0.5555555555555556,
              "#d8576b"
             ],
             [
              0.6666666666666666,
              "#ed7953"
             ],
             [
              0.7777777777777778,
              "#fb9f3a"
             ],
             [
              0.8888888888888888,
              "#fdca26"
             ],
             [
              1,
              "#f0f921"
             ]
            ],
            "type": "surface"
           }
          ],
          "table": [
           {
            "cells": {
             "fill": {
              "color": "#506784"
             },
             "line": {
              "color": "rgb(17,17,17)"
             }
            },
            "header": {
             "fill": {
              "color": "#2a3f5f"
             },
             "line": {
              "color": "rgb(17,17,17)"
             }
            },
            "type": "table"
           }
          ]
         },
         "layout": {
          "annotationdefaults": {
           "arrowcolor": "#f2f5fa",
           "arrowhead": 0,
           "arrowwidth": 1
          },
          "autotypenumbers": "strict",
          "coloraxis": {
           "colorbar": {
            "outlinewidth": 0,
            "ticks": ""
           }
          },
          "colorscale": {
           "diverging": [
            [
             0,
             "#8e0152"
            ],
            [
             0.1,
             "#c51b7d"
            ],
            [
             0.2,
             "#de77ae"
            ],
            [
             0.3,
             "#f1b6da"
            ],
            [
             0.4,
             "#fde0ef"
            ],
            [
             0.5,
             "#f7f7f7"
            ],
            [
             0.6,
             "#e6f5d0"
            ],
            [
             0.7,
             "#b8e186"
            ],
            [
             0.8,
             "#7fbc41"
            ],
            [
             0.9,
             "#4d9221"
            ],
            [
             1,
             "#276419"
            ]
           ],
           "sequential": [
            [
             0,
             "#0d0887"
            ],
            [
             0.1111111111111111,
             "#46039f"
            ],
            [
             0.2222222222222222,
             "#7201a8"
            ],
            [
             0.3333333333333333,
             "#9c179e"
            ],
            [
             0.4444444444444444,
             "#bd3786"
            ],
            [
             0.5555555555555556,
             "#d8576b"
            ],
            [
             0.6666666666666666,
             "#ed7953"
            ],
            [
             0.7777777777777778,
             "#fb9f3a"
            ],
            [
             0.8888888888888888,
             "#fdca26"
            ],
            [
             1,
             "#f0f921"
            ]
           ],
           "sequentialminus": [
            [
             0,
             "#0d0887"
            ],
            [
             0.1111111111111111,
             "#46039f"
            ],
            [
             0.2222222222222222,
             "#7201a8"
            ],
            [
             0.3333333333333333,
             "#9c179e"
            ],
            [
             0.4444444444444444,
             "#bd3786"
            ],
            [
             0.5555555555555556,
             "#d8576b"
            ],
            [
             0.6666666666666666,
             "#ed7953"
            ],
            [
             0.7777777777777778,
             "#fb9f3a"
            ],
            [
             0.8888888888888888,
             "#fdca26"
            ],
            [
             1,
             "#f0f921"
            ]
           ]
          },
          "colorway": [
           "#636efa",
           "#EF553B",
           "#00cc96",
           "#ab63fa",
           "#FFA15A",
           "#19d3f3",
           "#FF6692",
           "#B6E880",
           "#FF97FF",
           "#FECB52"
          ],
          "font": {
           "color": "#f2f5fa"
          },
          "geo": {
           "bgcolor": "rgb(17,17,17)",
           "lakecolor": "rgb(17,17,17)",
           "landcolor": "rgb(17,17,17)",
           "showlakes": true,
           "showland": true,
           "subunitcolor": "#506784"
          },
          "hoverlabel": {
           "align": "left"
          },
          "hovermode": "closest",
          "mapbox": {
           "style": "dark"
          },
          "paper_bgcolor": "rgb(17,17,17)",
          "plot_bgcolor": "rgb(17,17,17)",
          "polar": {
           "angularaxis": {
            "gridcolor": "#506784",
            "linecolor": "#506784",
            "ticks": ""
           },
           "bgcolor": "rgb(17,17,17)",
           "radialaxis": {
            "gridcolor": "#506784",
            "linecolor": "#506784",
            "ticks": ""
           }
          },
          "scene": {
           "xaxis": {
            "backgroundcolor": "rgb(17,17,17)",
            "gridcolor": "#506784",
            "gridwidth": 2,
            "linecolor": "#506784",
            "showbackground": true,
            "ticks": "",
            "zerolinecolor": "#C8D4E3"
           },
           "yaxis": {
            "backgroundcolor": "rgb(17,17,17)",
            "gridcolor": "#506784",
            "gridwidth": 2,
            "linecolor": "#506784",
            "showbackground": true,
            "ticks": "",
            "zerolinecolor": "#C8D4E3"
           },
           "zaxis": {
            "backgroundcolor": "rgb(17,17,17)",
            "gridcolor": "#506784",
            "gridwidth": 2,
            "linecolor": "#506784",
            "showbackground": true,
            "ticks": "",
            "zerolinecolor": "#C8D4E3"
           }
          },
          "shapedefaults": {
           "line": {
            "color": "#f2f5fa"
           }
          },
          "sliderdefaults": {
           "bgcolor": "#C8D4E3",
           "bordercolor": "rgb(17,17,17)",
           "borderwidth": 1,
           "tickwidth": 0
          },
          "ternary": {
           "aaxis": {
            "gridcolor": "#506784",
            "linecolor": "#506784",
            "ticks": ""
           },
           "baxis": {
            "gridcolor": "#506784",
            "linecolor": "#506784",
            "ticks": ""
           },
           "bgcolor": "rgb(17,17,17)",
           "caxis": {
            "gridcolor": "#506784",
            "linecolor": "#506784",
            "ticks": ""
           }
          },
          "title": {
           "x": 0.05
          },
          "updatemenudefaults": {
           "bgcolor": "#506784",
           "borderwidth": 0
          },
          "xaxis": {
           "automargin": true,
           "gridcolor": "#283442",
           "linecolor": "#506784",
           "ticks": "",
           "title": {
            "standoff": 15
           },
           "zerolinecolor": "#283442",
           "zerolinewidth": 2
          },
          "yaxis": {
           "automargin": true,
           "gridcolor": "#283442",
           "linecolor": "#506784",
           "ticks": "",
           "title": {
            "standoff": 15
           },
           "zerolinecolor": "#283442",
           "zerolinewidth": 2
          }
         }
        },
        "title": {
         "text": "Pokemon 6"
        }
       }
      }
     },
     "metadata": {},
     "output_type": "display_data"
    }
   ],
   "source": [
    "px.line_polar(poke_6, r= 'valor', theta= 'atributo', line_close=True, title='Pokemon 6', template='plotly_dark').update_traces(fill='toself')"
   ]
  },
  {
   "cell_type": "code",
   "execution_count": 22,
   "id": "32efaa0d",
   "metadata": {},
   "outputs": [
    {
     "data": {
      "text/plain": [
       "458        Riolu\n",
       "114       Gengar\n",
       "231       Scizor\n",
       "123    Exeggutor\n",
       "443      Purugly\n",
       "801     Rookidee\n",
       "Name: name, dtype: object"
      ]
     },
     "execution_count": 22,
     "metadata": {},
     "output_type": "execute_result"
    }
   ],
   "source": [
    "selecao_unica['name']"
   ]
  },
  {
   "cell_type": "code",
   "execution_count": 25,
   "id": "2c6e56a5",
   "metadata": {},
   "outputs": [
    {
     "data": {
      "text/plain": [
       "Text(245.72222222222223, 0.5, 'Pokémons')"
      ]
     },
     "execution_count": 25,
     "metadata": {},
     "output_type": "execute_result"
    },
    {
     "data": {
      "image/png": "[encoded data removed]",
      "text/plain": [
       "<Figure size 2200x800 with 2 Axes>"
      ]
     },
     "metadata": {},
     "output_type": "display_data"
    }
   ],
   "source": [
    "# Gráfico de todos os pokémons selecionados e suas características against\n",
    "\n",
    "poke_labels = ['Purugly', 'Gigalith', 'Klang', 'Alolan Meowth', 'Dreepy', 'Togepi']\n",
    "\n",
    "colunas_fraquezas = [\n",
    "    'against_psychic', 'against_bug', 'against_rock', 'against_ghost', \n",
    "    'against_dragon', 'against_dark', 'against_steel', 'against_fairy'\n",
    "\n",
    "    # 'Contra Psíquico', 'Contra Inseto', 'Contra Pedra', 'Contra Fantasma', \n",
    "    # 'Contra Dragão', 'Contra Sombrio', 'Contra Aço', 'Contra Fada'\n",
    "]\n",
    "colunas_fraquezas_pt = [\n",
    "    'Contra Psíquico', 'Contra Inseto', 'Contra Pedra', 'Contra Fantasma', \n",
    "    'Contra Dragão', 'Contra Sombrio', 'Contra Aço', 'Contra Fada'\n",
    "]\n",
    "\n",
    "plt.figure(figsize=(22, 8))\n",
    "\n",
    "sns.heatmap(selecao_unica[colunas_fraquezas], \n",
    "            annot=True,\n",
    "            cmap='RdYlBu',\n",
    "            cbar=True,\n",
    "            linewidths=0.5,\n",
    "            vmin=0, vmax=4,\n",
    "            yticklabels=poke_labels, \n",
    "            xticklabels=colunas_fraquezas_pt) \n",
    "\n",
    "plt.title('Heatmap de Fraquezas Críticas Contra Tipos de Pokémon', fontsize=16)\n",
    "plt.xlabel('Tipos de Fraqueza', fontsize=12)\n",
    "plt.ylabel('Pokémons')"
   ]
  }
 ],
 "metadata": {
  "kernelspec": {
   "display_name": "Python 3",
   "language": "python",
   "name": "python3"
  },
  "language_info": {
   "codemirror_mode": {
    "name": "ipython",
    "version": 3
   },
   "file_extension": ".py",
   "mimetype": "text/x-python",
   "name": "python",
   "nbconvert_exporter": "python",
   "pygments_lexer": "ipython3",
   "version": "3.13.0"
  }
 },
 "nbformat": 4,
 "nbformat_minor": 5
}
